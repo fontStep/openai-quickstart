{
 "cells": [
  {
   "cell_type": "markdown",
   "id": "6072f8ed2122c0ac",
   "metadata": {
    "collapsed": false
   },
   "source": [
    "# Using GLM-4 and setting up multi role division of labor to complete complex tasks\n",
    "\n",
    "**This tutorial is Only in Chinese explanation**\n",
    "\n",
    "本代码建立了一个简单的客服提示词场景，通过不同的提示词，使得模型具备了不同子场景内进行专业回复的能力。\n",
    "本代码旨在展示如何使用 GLM-4 模型完成：\n",
    "1. 具体场景的子任务提示词调度思维。\n",
    "2. 不同场景之间大模型的意图识别和切换。\n",
    "3. 多角色分工的场景设计思维。\n",
    "4. 通过多个角色，使用完全相同的基座模型来完成更加复杂的任务。\n",
    "\n",
    "请注意，本仓库不涉及 Agent 中的 Function Call 环节和 Plan 环节，仅设计到简单的角色切换。"
   ]
  },
  {
   "cell_type": "markdown",
   "id": "fa37c1d363ca9082",
   "metadata": {
    "collapsed": false
   },
   "source": [
    "首先，将 API Key 信息填入系统环境中。"
   ]
  },
  {
   "cell_type": "code",
   "execution_count": 1,
   "id": "initial_id",
   "metadata": {
    "ExecuteTime": {
     "end_time": "2024-01-29T08:35:18.151132Z",
     "start_time": "2024-01-29T08:35:17.956957Z"
    },
    "collapsed": true
   },
   "outputs": [],
   "source": [
    "import os\n",
    "from zhipuai import ZhipuAI\n",
    "\n",
    "# os.environ[\"ZHIPUAI_API_KEY\"] = \"your api key\"\n",
    "client = ZhipuAI()"
   ]
  },
  {
   "cell_type": "markdown",
   "id": "3063d55736077b71",
   "metadata": {
    "collapsed": false
   },
   "source": [
    "我为当前场景设定了四个角色，分别是：\n",
    "1. 通用客服，这个客服将简单的识别用户的问题并分配给专业的工作人员来完成\n",
    "2. 注册工作人员，这个工作人员了解如何处理用户的注册问题，包括需要向用户获取什么信息，会给用户返回注册结果。\n",
    "3. 注销工作人员，这个工作人员了解如何处理用户的注销问题，包括需要向用户获取什么信息，并且告诉用户结果是如何提供的\n",
    "4. 查询工作人员，这个工作人员了解如何处理用户的查询问题，包括需要向用户获取正确的查询内容并返回查询结果。\n",
    "\n",
    "在这里，我们为场景设计好了提示词。\n",
    "\n",
    "由于 GLM-4 具有较强的指令跟随能力，我在意图识别中加入了特殊字段，通过特殊字段的匹配来切换不同的角色，在实际工程中，情况远远比这个复杂。"
   ]
  },
  {
   "cell_type": "code",
   "execution_count": 2,
   "id": "a116549a044e736f",
   "metadata": {
    "ExecuteTime": {
     "end_time": "2024-01-29T08:35:18.155448Z",
     "start_time": "2024-01-29T08:35:18.153196Z"
    },
    "collapsed": false
   },
   "outputs": [],
   "source": [
    "sys_prompt = \"\"\"你是一个聪明的客服。您将能够根据用户的问题将不同的任务分配给不同的人。您有以下业务线：\n",
    "1.用户注册。如果用户想要执行这样的操作，您应该发送一个带有\"registered workers\"的特殊令牌。并告诉用户您正在调用它。\n",
    "2.用户数据查询。如果用户想要执行这样的操作，您应该发送一个带有\"query workers\"的特殊令牌。并告诉用户您正在调用它。\n",
    "3.删除用户数据。如果用户想执行这种类型的操作，您应该发送一个带有\"delete workers\"的特殊令牌。并告诉用户您正在调用它。\n",
    "\"\"\"\n",
    "registered_prompt = \"\"\"\n",
    "您的任务是根据用户信息存储数据。您需要从用户那里获得以下信息：\n",
    "1.用户名、性别、年龄\n",
    "2.用户设置的密码\n",
    "3.用户的电子邮件地址\n",
    "如果用户没有提供此信息，您需要提示用户提供。如果用户提供了此信息，则需要将此信息存储在数据库中，并告诉用户注册成功。\n",
    "存储方法是使用SQL语句。您可以使用SQL编写插入语句，并且需要生成用户ID并将其返回给用户。\n",
    "如果用户没有新问题，您应该回复带有 \"customer service\" 的特殊令牌，以结束任务。\n",
    "\"\"\"\n",
    "query_prompt = \"\"\"\n",
    "您的任务是查询用户信息。您需要从用户那里获得以下信息：\n",
    "1.用户ID\n",
    "2.用户设置的密码\n",
    "如果用户没有提供此信息，则需要提示用户提供。如果用户提供了此信息，那么需要查询数据库。如果用户ID和密码匹配，则需要返回用户的信息。\n",
    "如果用户没有新问题，您应该回复带有 \"customer service\" 的特殊令牌，以结束任务。\n",
    "\"\"\"\n",
    "delete_prompt = \"\"\"\n",
    "您的任务是删除用户信息。您需要从用户那里获得以下信息：\n",
    "1.用户ID\n",
    "2.用户设置的密码\n",
    "3.用户的电子邮件地址\n",
    "如果用户没有提供此信息，则需要提示用户提供该信息。\n",
    "如果用户提供了这些信息，则需要查询数据库。如果用户ID和密码匹配，您需要通知用户验证码已发送到他们的电子邮件，需要进行验证。\n",
    "如果用户没有新问题，您应该回复带有 \"customer service\" 的特殊令牌，以结束任务。\n",
    "\"\"\""
   ]
  },
  {
   "cell_type": "code",
   "execution_count": 7,
   "id": "e5ef5bb4",
   "metadata": {},
   "outputs": [],
   "source": [
    "from openai import OpenAI"
   ]
  },
  {
   "cell_type": "markdown",
   "id": "3b7a3f07817d87b8",
   "metadata": {
    "collapsed": false
   },
   "source": [
    "接着，我们设计了一个简单的类，这个类有以下功能\n",
    "1. 我们将每个不同的角色历史分离，这些历史之间不会相互交互，但是会在需要的时候将用户的请求或者模型的回答传入到另一个历史中。\n",
    "2. 实现简单的连续对话，并在作为客服的时候加入意图识别（提示词设定），在专业工作人员的情况下进行简单的多轮对话。"
   ]
  },
  {
   "cell_type": "code",
   "execution_count": 8,
   "id": "99cff1913703268f",
   "metadata": {
    "ExecuteTime": {
     "end_time": "2024-01-29T08:35:18.161078Z",
     "start_time": "2024-01-29T08:35:18.159279Z"
    },
    "collapsed": false
   },
   "outputs": [],
   "source": [
    "class SmartAssistant:\n",
    "    def __init__(self):\n",
    "        # self.client = ZhipuAI()\n",
    "        self.client = OpenAI(api_key=os.getenv(\"OPENAI_API_KEY\"),base_url=os.getenv(\"OPENAI_BASE_URL\"))\n",
    "        self.system_prompt = sys_prompt\n",
    "        self.registered_prompt = registered_prompt\n",
    "        self.query_prompt = query_prompt\n",
    "        self.delete_prompt = delete_prompt\n",
    "\n",
    "        # Using a dictionary to store different sets of messages\n",
    "        self.messages = {\n",
    "            \"system\": [{\"role\": \"system\", \"content\": self.system_prompt}],\n",
    "            \"registered\": [{\"role\": \"system\", \"content\": self.registered_prompt}],\n",
    "            \"query\": [{\"role\": \"system\", \"content\": self.query_prompt}],\n",
    "            \"delete\": [{\"role\": \"system\", \"content\": self.delete_prompt}]\n",
    "        }\n",
    "\n",
    "        # Current assignment for handling messages\n",
    "        self.current_assignment = \"system\"\n",
    "\n",
    "    def get_response(self, user_input):\n",
    "        self.messages[self.current_assignment].append({\"role\": \"user\", \"content\": user_input})\n",
    "        while True:\n",
    "            response = self.client.chat.completions.create(\n",
    "                model=\"gpt-3.5-turbo\",\n",
    "                messages=self.messages[self.current_assignment],\n",
    "                temperature=0.9,\n",
    "                stream=False,\n",
    "                max_tokens=2000,\n",
    "            )\n",
    "\n",
    "            ai_response = response.choices[0].message.content\n",
    "            if \"registered workers\" in ai_response:\n",
    "                self.current_assignment = \"registered\"\n",
    "                print(\"意图识别:\",ai_response)\n",
    "                print(\"switch to <registered>\")\n",
    "                self.messages[self.current_assignment].append({\"role\": \"user\", \"content\": user_input})\n",
    "            elif \"query workers\" in ai_response:\n",
    "                self.current_assignment = \"query\"\n",
    "                print(\"意图识别:\",ai_response)\n",
    "                print(\"switch to <query>\")\n",
    "                self.messages[self.current_assignment].append({\"role\": \"user\", \"content\": user_input})\n",
    "            elif \"delete workers\" in ai_response:\n",
    "                self.current_assignment = \"delete\"\n",
    "                print(\"意图识别:\",ai_response)\n",
    "                print(\"switch to <delete>\")\n",
    "                self.messages[self.current_assignment].append({\"role\": \"user\", \"content\": user_input})\n",
    "            elif \"customer service\" in ai_response:\n",
    "                print(\"意图识别:\",ai_response)\n",
    "                print(\"switch to <customer service>\")\n",
    "                self.messages[\"system\"] += self.messages[self.current_assignment]\n",
    "                self.current_assignment = \"system\"\n",
    "                return ai_response\n",
    "            else:\n",
    "                self.messages[self.current_assignment].append({\"role\": \"assistant\", \"content\": ai_response})\n",
    "                return ai_response\n",
    "\n",
    "    def start_conversation(self):\n",
    "        while True:\n",
    "            user_input = input(\"User: \")\n",
    "            if user_input.lower() in ['exit', 'quit']:\n",
    "                print(\"Exiting conversation.\")\n",
    "                break\n",
    "            response = self.get_response(user_input)\n",
    "            print(\"Assistant:\", response)"
   ]
  },
  {
   "cell_type": "markdown",
   "id": "bdb6bcdb1002993e",
   "metadata": {
    "collapsed": false
   },
   "source": [
    "接着，我们就可以开始连续对话了，模型会打印模型的思考和回复过程，并且会打印出是否切换了角色。"
   ]
  },
  {
   "cell_type": "code",
   "execution_count": 9,
   "id": "80491bbd1c581679",
   "metadata": {
    "ExecuteTime": {
     "end_time": "2024-01-29T08:36:14.446970Z",
     "start_time": "2024-01-29T08:35:18.161455Z"
    },
    "collapsed": false
   },
   "outputs": [
    {
     "name": "stdout",
     "output_type": "stream",
     "text": [
      "意图识别: 好的，请稍等，我正在调用registered workers来处理您的请求。感谢您的耐心等待！\n",
      "switch to <registered>\n",
      "Assistant: 很高兴您想注册用户！请您提供以下信息：\n",
      "1. 您的用户名是什么？\n",
      "2. 您的性别是？\n",
      "3. 您的年龄是多少？\n",
      "4. 请设置您的密码。\n",
      "5. 请提供您的电子邮件地址。\n",
      "Assistant: 请提供一些信息进行注册。\n",
      "Assistant: 请提供您的性别和年龄。\n",
      "Assistant: 请设置您的密码。\n",
      "Assistant: 请提供您的电子邮件地址。\n",
      "Assistant: 请提供您的电子邮件地址。\n",
      "Assistant: 感谢您提供的信息。您的用户信息已成功注册。您的用户ID是12345。如果您有任何其他问题，请随时告诉我。 \n",
      "任务完成。\n",
      "Assistant: 请提供一个密码。\n",
      "Assistant: 请提供一个密码进行注册。\n",
      "Assistant: 请提供一个密码。\n",
      "Exiting conversation.\n"
     ]
    }
   ],
   "source": [
    "assistant = SmartAssistant()\n",
    "assistant.start_conversation()"
   ]
  },
  {
   "cell_type": "markdown",
   "id": "595d8b4ec63eb9d1",
   "metadata": {
    "collapsed": false
   },
   "source": [
    "## 提醒\n",
    "\n",
    "在这里，我只是使用了最简单的切换方式来切换角色，实际工程中，你应该关注这些问题：\n",
    "1. 切换角色中的工程构建\n",
    "2. 历史的管理\n",
    "3. 本代码没有设计到工具调用，否则，你还需要设计不同角色对应的工具和Function Call功能。"
   ]
  }
 ],
 "metadata": {
  "kernelspec": {
   "display_name": "Python 3",
   "language": "python",
   "name": "python3"
  },
  "language_info": {
   "codemirror_mode": {
    "name": "ipython",
    "version": 3
   },
   "file_extension": ".py",
   "mimetype": "text/x-python",
   "name": "python",
   "nbconvert_exporter": "python",
   "pygments_lexer": "ipython3",
   "version": "3.10.14"
  }
 },
 "nbformat": 4,
 "nbformat_minor": 5
}
