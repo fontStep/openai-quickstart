{
 "cells": [
  {
   "cell_type": "markdown",
   "id": "69032b4b-b031-4020-beb0-e8dfd22b660e",
   "metadata": {},
   "source": [
    "# LangChain 实战：房产销售聊天机器人"
   ]
  },
  {
   "cell_type": "markdown",
   "id": "0f3e2d5a-c2ff-4faf-b153-d1751c25fae0",
   "metadata": {},
   "source": [
    "## 使用 GPT-4 构造销售话术数据\n",
    "\n",
    "ChatGPT 分享链接：https://chat.openai.com/share/f3e4b9b0-95fb-4c6a-a3c7-f901dd194c91\n",
    "\n",
    "\n",
    "使用 ChatGPT 构造销售数据的 Prompt 示例：\n",
    "\n",
    "```\n",
    "你是中国顶级的房地产销售，现在培训职场新人，请给出100条实用的销售话术。\n",
    "\n",
    "每条销售话术以如下格式给出：\n",
    "[客户问题]\n",
    "[销售回答]\n",
    "\n",
    "```\n",
    "\n",
    "GPT-4 回复结果：\n",
    "\n",
    "```\n",
    "在房地产销售行业中，精心准备的销售话术可以极大地提高成交率。以下是一些适用于中国房地产销售的实用话术：\n",
    "\n",
    "1.  \n",
    "[客户问题] 这个小区交通便利吗？\n",
    "[销售回答] 当然了，这个小区距离地铁站只有几分钟的步行距离，而且附近有多条公交线路，非常方便。\n",
    "\n",
    "2.  \n",
    "[客户问题] 我担心楼下太吵。\n",
    "[销售回答] 这个小区特别注重居住体验，我们有良好的隔音设计，并且小区内部规划了绿化区域，可以有效降低噪音。\n",
    "\n",
    "3.  \n",
    "[客户问题] 我看房价还在涨，这个投资回报怎么样？\n",
    "[销售回答] 这个区域未来有大量的商业和基础设施建设，所以从长期来看，投资回报非常有保证。\n",
    "\n",
    "4.  \n",
    "[客户问题] 有没有学校？\n",
    "[销售回答] 附近有多所优质的学校，非常适合有孩子的家庭。\n",
    "\n",
    "5.  \n",
    "[客户问题] 物业管理怎么样？\n",
    "[销售回答] 我们的物业管理得到了业主一致好评，服务非常到位。\n",
    "\n",
    "6.  \n",
    "[客户问题] 我想要南向的房子。\n",
    "[销售回答] 很好，我们确实有一些朝南的单位，它们的采光特别好。\n",
    "\n",
    "7.  \n",
    "[客户问题] 这个小区安全吗？\n",
    "[销售回答] 当然，我们24小时安保巡逻，还有先进的监控系统。\n",
    "\n",
    "8.  \n",
    "[客户问题] 预计什么时候交房？\n",
    "[销售回答] 根据目前的进度，我们预计将在明年底交房。\n",
    "\n",
    "9.  \n",
    "[客户问题] 我不想要一楼的房子。\n",
    "[销售回答] 我理解您的顾虑，我们还有多个楼层的房源可以选择。\n",
    "\n",
    "10.  \n",
    "[客户问题] 有优惠吗？\n",
    "[销售回答] 当然，如果您现在下订，我们可以给您一些优惠。\n",
    "```\n",
    "\n",
    "\n",
    "## 使用 Document Transformers 模块来处理原始数据\n",
    "\n",
    "\n",
    "将 ChatGPT 生成的结果保存到 [real_estate_sales_data.txt](real_estate_sales_data.txt) 文件中"
   ]
  },
  {
   "cell_type": "code",
   "execution_count": 2,
   "id": "efcee928-b9f4-4e4a-b9fb-f6cbee21b642",
   "metadata": {},
   "outputs": [],
   "source": [
    "with open(\"real_estate_sales_data.txt\") as f:\n",
    "    real_estate_sales = f.read()"
   ]
  },
  {
   "cell_type": "code",
   "execution_count": 3,
   "id": "10b83953",
   "metadata": {},
   "outputs": [
    {
     "data": {
      "text/plain": [
       "'1.  \\n[客户问题] 这个小区交通便利吗？\\n[销售回答] 当然了，这个小区距离地铁站只有几分钟的步行距离，而且附近有多条公交线路，非常方便。\\n\\n2.  \\n[客户问题] 我担心楼下太吵。\\n[销售回答] 这个小区特别注重居住体验，我们有良好的隔音设计，并且小区内部规划了绿化区域，可以有效降低噪音。\\n\\n3.  \\n[客户问题] 我看房价还在涨，这个投资回报怎么样？\\n[销售回答] 这个区域未来有大量的商业和基础设施建设，所以从长期来看，投资回报非常有保证。\\n\\n4.  \\n[客户问题] 有没有学校？\\n[销售回答] 附近有多所优质的学校，非常适合有孩子的家庭。\\n\\n5.  \\n[客户问题] 物业管理怎么样？\\n[销售回答] 我们的物业管理得到了业主一致好评，服务非常到位。\\n\\n6.  \\n[客户问题] 我想要南向的房子。\\n[销售回答] 很好，我们确实有一些朝南的单位，它们的采光特别好。\\n\\n7.  \\n[客户问题] 这个小区安全吗？\\n[销售回答] 当然，我们24小时安保巡逻，还有先进的监控系统。\\n\\n8.  \\n[客户问题] 预计什么时候交房？\\n[销售回答] 根据目前的进度，我们预计将在明年底交房。\\n\\n9.  \\n[客户问题] 我不想要一楼的房子。\\n[销售回答] 我理解您的顾虑，我们还有多个楼层的房源可以选择。\\n\\n10.  \\n[客户问题] 有优惠吗？\\n[销售回答] 当然，如果您现在下订，我们可以给您一些优惠。\\n\\n11.  \\n[客户问题] 你们是否提供按揭服务？\\n[销售回答] 是的，我们与多家银行合作，可以帮助您快速办理按揭。\\n\\n12.  \\n[客户问题] 税费怎么算？\\n[销售回答] 我们可以提供详细的税费咨询服务，确保您清楚所有费用。\\n\\n13.  \\n[客户问题] 附近有医院吗？\\n[销售回答] 是的，附近有多家大型医院，医疗资源非常丰富。\\n\\n14.  \\n[客户问题] 我担心小区会很拥挤。\\n[销售回答] 这个小区总体规划非常合理，保证了每个单元之间有足够的空间。\\n\\n15.  \\n[客户问题] 这个小区有游泳池和健身房吗？\\n[销售回答] 当然，我们提供全方位的生活设施，包括游泳池和健身房。\\n\\n16.  \\n[客户问题] 我需要两个停车位，怎么办？\\n[销售回答] 我们的小区有充足的停车位，并且可以额外购买，确保您的停车需求得到满足。\\n\\n17.  \\n[客户问题] 小区里有公园吗？\\n[销售回答] 是的，我们有专门设计的绿化区和儿童游乐园，确保您和家人能享受到高质量的生活。\\n\\n18.  \\n[客户问题] 我看到附近有个建筑工地。\\n[销售回答] 那个工地预计很快就会完工，而且我们的窗户有很好的隔音效果。\\n\\n19.  \\n[客户问题] 房子是精装还是毛坯？\\n[销售回答] 我们提供多种选择，包括精装和毛坯，以满足不同客户的需求。\\n\\n20.  \\n[客户问题] 这里有商业区吗？\\n[销售回答] 是的，小区附近有大型购物中心和各种餐厅，非常方便。\\n\\n21.  \\n[客户问题] 我需要大阳台。\\n[销售回答] 我们有一些户型设计带有大阳台，您可以在那里种花、晒衣或者放一个小茶几，非常宜人。\\n\\n22.  \\n[客户问题] 我担心电梯不够用。\\n[销售回答] 每栋楼都配有多部高速电梯，基本上不用等待。\\n\\n23.  \\n[客户问题] 垃圾处理怎么样？\\n[销售回答] 我们有专门的垃圾分类和回收系统，非常环保。\\n\\n24.  \\n[客户问题] 我担心交房延期。\\n[销售回答] 我们是知名的房地产开发商，一直严格按照计划执行，您完全可以放心。\\n\\n25.  \\n[客户问题] 我看这里有很多空置房。\\n[销售回答] 这些房源都是新推出的，我们预计在近期内会有更多的家庭搬入。\\n\\n26.  \\n[客户问题] 楼下有便利店吗？\\n[销售回答] 当然，小区内就有便利店，满足您日常生活的基本需求。\\n\\n27.  \\n[客户问题] 我需要分期付款。\\n[销售回答] 我们有多种付款方案，包括分期付款，以减轻您的经济压力。\\n\\n28.  \\n[客户问题] 我家有宠物，可以养吗？\\n[销售回答] 当然，我们是一个宠物友好的社区，但需要遵守一些基本规则。\\n\\n29.  \\n[客户问题] 我想看下水电气等设施。\\n[销售回答] 没问题，我们使用的都是品牌供应商，质量非常可靠。\\n\\n30.  \\n[客户问题] 你们会提供家具吗？\\n[销售回答] 我们的精装房会提供基础家具和家电，让您拎包入住。\\n\\n31.  \\n[客户问题] 都有哪些户型？\\n[销售回答] 我们有从一室到四室不等的多种户型，定能满足您不同的居住需求。\\n\\n32.  \\n[客户问题] 我听说这个区域交通常常堵塞。\\n[销售回答] 我们小区的位置实际上是绕开了主要交通瓶颈区，所以相对来说会流畅很多。\\n\\n33.  \\n[客户问题] 我很关注环境保护，你们有做到吗？\\n[销售回答] 非常好的问题，我们的建筑采用环保材料，并且在小区规划中也有绿化区域和垃圾分类系统。\\n\\n34.  \\n[客户问题] 楼下会有商铺吗？\\n[销售回答] 是的，楼下将设有商铺，但都是服务性质的，不会影响您的居住体验。\\n\\n35.  \\n[客户问题] 社区活动丰富吗？\\n[销售回答] 我们有专门的社区活动中心，常常组织各种活动，非常丰富。\\n\\n36.  \\n[客户问题] 你们有提供家政服务吗？\\n[销售回答] 我们与多家家政服务公司有合作，可以方便您的日常生活。\\n\\n37.  \\n[客户问题] 我担心物业费会很高。\\n[销售回答] 我们的物业费是根据市场和服务水平来设定的，绝对物有所值。\\n\\n38.  \\n[客户问题] 附近有地铁站吗？\\n[销售回答] 附近就有地铁站，而且有多条公交线路经过，出行非常方便。\\n\\n39.  \\n[客户问题] 这里网络信号怎么样？\\n[销售回答] 我们有完善的网络基础设施，信号覆盖非常好。\\n\\n40.  \\n[客户问题] 我想先租赁，观察一下再买。\\n[销售回答] 这也是一个不错的选择，我们也提供租赁服务，您可以先体验一下。\\n\\n41.  \\n[客户问题] 有没有燃气管道？\\n[销售回答] 当然有，我们的所有单位都连接了燃气管道，非常安全和便利。\\n\\n42.  \\n[客户问题] 我是投资购房，租金回报如何？\\n[销售回答] 这个区域的租赁市场非常火爆，您投资购房后，租金回报率相当不错。\\n\\n43.  \\n[客户问题] 我喜欢安静，这里噪音大吗？\\n[销售回答] 我们特意进行了隔音设计，并且小区内部也有绿化带，整体非常安静。\\n\\n44.  \\n[客户问题] 我看这个小区还在建设中。\\n[销售回答] 是的，目前正在建设中，但已经接近尾声，很快就会完工。\\n\\n45.  \\n[客户问题] 有哪些休闲设施？\\n[销售回答] 我们有游泳池、健身房、图书馆以及儿童游乐场等多种休闲设施。\\n\\n46.  \\n[客户问题] 我担心暖气不足。\\n[销售回答] 我们使用的是中央供暖系统，温度可以保证。\\n\\n47.  \\n[客户问题] 需要交多少定金？\\n[销售回答] 定金金额取决于您选择的房型和付款方式，我们可以详细为您解释。\\n\\n48.  \\n[客户问题] 哪些银行可以贷款？\\n[销售回答] 我们与多家知名银行合作，贷款流程非常方便。\\n\\n49.  \\n[客户问题] 我可以改变房间的布局吗？\\n[销售回答] 对于毛坯房，您有更多的自由度来改变房间布局。\\n\\n50.  \\n[客户问题] 你们怎么解决停车问题？\\n[销售回答] 我们有地下车库和多个停车位，确保每个家庭都有地方停车。\\n\\n51.  \\n[客户问题] 这里安全吗？\\n[销售回答] 非常安全。我们有24小时的安保人员和先进的监控系统。\\n\\n52.  \\n[客户问题] 我需要比较大的储藏空间。\\n[销售回答] 我们的设计包括了充足的储藏空间，以满足您的需求。\\n\\n53.  \\n[客户问题] 这里的电梯需要等很久吗？\\n[销售回答] 不会的，我们的电梯系统高效可靠，响应速度很快。\\n\\n54.  \\n[客户问题] 你们接受定制吗？\\n[销售回答] 当然，对于特定的户型，我们提供一定程度的定制服务。\\n\\n55.  \\n[客户问题] 我看周围没有学校。\\n[销售回答] 其实附近就有几所知名的学校，并且我们也在考虑未来在社区内建立教育设施。\\n\\n56.  \\n[客户问题] 我有老人需要照顾，有便利吗？\\n[销售回答] 我们小区有无障碍通道和专门的老年活动中心，非常适合老年人。\\n\\n57.  \\n[客户问题] 这里会不会很吵？\\n[销售回答] 我们有良好的隔音设计和规划，内部环境非常宁静。\\n\\n58.  \\n[客户问题] 这个价位对我来说有点高。\\n[销售回答] 我们有不同户型和付款方案，一定有适合您预算的。\\n\\n59.  \\n[客户问题] 物业管理怎么样？\\n[销售回答] 我们的物业管理得到业主一致好评，服务周到且高效。\\n\\n60.  \\n[客户问题] 如果我想转卖这个房子呢？\\n[销售回答] 我们的房子位于黄金地段，升值潜力很大，转卖起来不会有问题。\\n\\n61.  \\n[客户问题] 这个小区规模太大了。\\n[销售回答] 实际上，大规模的社区能提供更多的设施和更完善的服务。\\n\\n62.  \\n[客户问题] 交通如何？\\n[销售回答] 交通非常便利，不仅靠近地铁站，还有多条公交线路。\\n\\n63.  \\n[客户问题] 附近有医院吗？\\n[销售回答] 有的，距离我们小区不远就有几家大型综合医院。\\n\\n64.  \\n[客户问题] 我担心窗户太小，采光不好。\\n[销售回答] 我们所有的户型都经过精心设计，以确保最佳的采光和通风。\\n\\n65.  \\n[客户问题] 这个房子看起来太小了。\\n[销售回答] 虽然面积可能不大，但我们的设计使得每一寸空间都得到了充分利用。\\n\\n66.  \\n[客户问题] 我看附近都是老房子。\\n[销售回答] 这个区域正在快速发展，未来的升值潜力非常大。\\n\\n67.  \\n[客户问题] 有没有健身房？\\n[销售回答] 当然，我们的小区内有设备齐全的健身房。\\n\\n68.  \\n[客户问题] 我需要考虑一下。\\n[销售回答] 当然，这是一个重要的决定。但我建议您不要等太久，毕竟好房不等人。\\n\\n69.  \\n[客户问题] 我担心楼下的商业活动会很吵。\\n[销售回答] 我们在规划时就已经考虑到这一点，商业区和居住区有一定的距离和隔音设计。\\n\\n70.  \\n[客户问题] 我担心新房会有甲醛。\\n[销售回答] 我们使用环保材料建造，并且所有的新房在交付前都会进行甲醛检测。'"
      ]
     },
     "execution_count": 3,
     "metadata": {},
     "output_type": "execute_result"
    }
   ],
   "source": [
    "real_estate_sales"
   ]
  },
  {
   "cell_type": "markdown",
   "id": "a9119556-d2e3-4edf-be16-15837da156f1",
   "metadata": {
    "jupyter": {
     "source_hidden": true
    }
   },
   "source": [
    "### 使用 CharacterTextSplitter 来进行文本分割\n",
    "\n",
    "- 基于单字符来进行文本分割（separator）\n",
    "- 基于字符数来决定文本块长度（chunk_size）\n",
    "\n",
    "参考示例：\n",
    "\n",
    "```python\n",
    "from langchain.text_splitter import CharacterTextSplitter\n",
    "text_splitter = CharacterTextSplitter(        \n",
    "    separator = \"\\n\\n\",\n",
    "    chunk_size = 1000,\n",
    "    chunk_overlap  = 200,\n",
    "    length_function = len,\n",
    "    is_separator_regex = False,\n",
    ")\n",
    "```\n"
   ]
  },
  {
   "cell_type": "code",
   "execution_count": 4,
   "id": "dbe535b8-2bd8-4c31-91d7-eba8aa61b3ef",
   "metadata": {},
   "outputs": [],
   "source": [
    "from langchain.text_splitter import CharacterTextSplitter"
   ]
  },
  {
   "cell_type": "code",
   "execution_count": 5,
   "id": "a4f30d9b-9fc6-4860-a497-0aa8220b9284",
   "metadata": {},
   "outputs": [],
   "source": [
    "text_splitter = CharacterTextSplitter(        \n",
    "    separator = r'\\d+\\.',\n",
    "    chunk_size = 100,\n",
    "    chunk_overlap  = 0,\n",
    "    length_function = len,\n",
    "    is_separator_regex = True,\n",
    ")"
   ]
  },
  {
   "cell_type": "code",
   "execution_count": 6,
   "id": "530f3172-17a5-4924-ad17-284fbca422ae",
   "metadata": {},
   "outputs": [],
   "source": [
    "docs = text_splitter.create_documents([real_estate_sales])"
   ]
  },
  {
   "cell_type": "code",
   "execution_count": 7,
   "id": "3956ec36-706e-4f43-88fc-d704f2984290",
   "metadata": {},
   "outputs": [
    {
     "data": {
      "text/plain": [
       "Document(page_content='[客户问题] 这个小区交通便利吗？\\n[销售回答] 当然了，这个小区距离地铁站只有几分钟的步行距离，而且附近有多条公交线路，非常方便。')"
      ]
     },
     "execution_count": 7,
     "metadata": {},
     "output_type": "execute_result"
    }
   ],
   "source": [
    "docs[0]"
   ]
  },
  {
   "cell_type": "code",
   "execution_count": 8,
   "id": "73b2d47a-27ae-4cd4-a72a-3809b4c22bff",
   "metadata": {},
   "outputs": [
    {
     "data": {
      "text/plain": [
       "70"
      ]
     },
     "execution_count": 8,
     "metadata": {},
     "output_type": "execute_result"
    }
   ],
   "source": [
    "len(docs)"
   ]
  },
  {
   "cell_type": "markdown",
   "id": "e4617858-ad9c-42eb-a4c3-6bfb7108cdd2",
   "metadata": {},
   "source": [
    "### 使用 Faiss 作为向量数据库，持久化存储房产销售 问答对（QA-Pair）"
   ]
  },
  {
   "cell_type": "code",
   "execution_count": 9,
   "id": "508c2ab2-e187-424f-a43c-ca3d3b1a0550",
   "metadata": {},
   "outputs": [
    {
     "name": "stderr",
     "output_type": "stream",
     "text": [
      "d:\\python_env\\py310\\lib\\site-packages\\langchain_core\\_api\\deprecation.py:117: LangChainDeprecationWarning: The class `langchain_community.embeddings.openai.OpenAIEmbeddings` was deprecated in langchain-community 0.0.9 and will be removed in 0.2.0. An updated version of the class exists in the langchain-openai package and should be used instead. To use it run `pip install -U langchain-openai` and import as `from langchain_openai import OpenAIEmbeddings`.\n",
      "  warn_deprecated(\n"
     ]
    }
   ],
   "source": [
    "from langchain.embeddings.openai import OpenAIEmbeddings\n",
    "from langchain.text_splitter import CharacterTextSplitter\n",
    "from langchain.vectorstores import FAISS\n",
    "\n",
    "db = FAISS.from_documents(docs, OpenAIEmbeddings())"
   ]
  },
  {
   "cell_type": "code",
   "execution_count": 10,
   "id": "250e0873-95e2-4372-98a5-68c0feb304bb",
   "metadata": {},
   "outputs": [],
   "source": [
    "query = \"小区吵不吵\""
   ]
  },
  {
   "cell_type": "code",
   "execution_count": 11,
   "id": "0d18fcc6-c2be-434b-b8de-9648ac6f83f4",
   "metadata": {},
   "outputs": [],
   "source": [
    "answer_list = db.similarity_search(query,k=1)"
   ]
  },
  {
   "cell_type": "code",
   "execution_count": 12,
   "id": "e689667e-7a45-40d6-9eae-4e52cbc7daab",
   "metadata": {},
   "outputs": [
    {
     "name": "stdout",
     "output_type": "stream",
     "text": [
      "[客户问题] 我担心楼下太吵。\n",
      "[销售回答] 这个小区特别注重居住体验，我们有良好的隔音设计，并且小区内部规划了绿化区域，可以有效降低噪音。\n",
      "\n"
     ]
    }
   ],
   "source": [
    "for ans in answer_list:\n",
    "    print(ans.page_content + \"\\n\")"
   ]
  },
  {
   "cell_type": "code",
   "execution_count": 13,
   "id": "a6cc47bf-1566-472f-84d2-a46bd634907c",
   "metadata": {},
   "outputs": [],
   "source": [
    "db.save_local(\"real_estates_sale\")"
   ]
  },
  {
   "cell_type": "markdown",
   "id": "0d5323e5-03fa-4c1c-b896-3ccc28af1857",
   "metadata": {},
   "source": [
    "### 使用 retriever 从向量数据库中获取结果\n",
    "\n",
    "#### 使用参数 `k` 指定返回结果数量\n"
   ]
  },
  {
   "cell_type": "code",
   "execution_count": 35,
   "id": "17f051c9-8676-48d1-a9a4-e69b52630faf",
   "metadata": {},
   "outputs": [],
   "source": [
    "# 实例化一个 TopK Retriever\n",
    "topK_retriever = db.as_retriever(search_kwargs={\"k\": 3})"
   ]
  },
  {
   "cell_type": "code",
   "execution_count": 36,
   "id": "e33024db-ca7b-4d68-9b0e-c31c15ded57d",
   "metadata": {},
   "outputs": [
    {
     "data": {
      "text/plain": [
       "VectorStoreRetriever(tags=['FAISS', 'OpenAIEmbeddings'], vectorstore=<langchain_community.vectorstores.faiss.FAISS object at 0x00000216B6A7CC70>, search_kwargs={'k': 3})"
      ]
     },
     "execution_count": 36,
     "metadata": {},
     "output_type": "execute_result"
    }
   ],
   "source": [
    "topK_retriever"
   ]
  },
  {
   "cell_type": "code",
   "execution_count": 37,
   "id": "7efb1414-859f-4818-bacd-e1e2edf34b95",
   "metadata": {},
   "outputs": [
    {
     "name": "stdout",
     "output_type": "stream",
     "text": [
      "[客户问题] 这个价位对我来说有点高。\n",
      "[销售回答] 我们有不同户型和付款方案，一定有适合您预算的。\n",
      "\n",
      "[客户问题] 如果我想转卖这个房子呢？\n",
      "[销售回答] 我们的房子位于黄金地段，升值潜力很大，转卖起来不会有问题。\n",
      "\n",
      "[客户问题] 需要交多少定金？\n",
      "[销售回答] 定金金额取决于您选择的房型和付款方式，我们可以详细为您解释。\n",
      "\n"
     ]
    }
   ],
   "source": [
    "docs = topK_retriever.get_relevant_documents(query)\n",
    "for doc in docs:\n",
    "    print(doc.page_content + \"\\n\")"
   ]
  },
  {
   "cell_type": "code",
   "execution_count": 38,
   "id": "a3c4b62d-6f8f-461b-a4fb-41c8a404b831",
   "metadata": {},
   "outputs": [],
   "source": [
    "docs = topK_retriever.get_relevant_documents(\"你们有没有1000万的豪宅啊？\")"
   ]
  },
  {
   "cell_type": "code",
   "execution_count": 39,
   "id": "04cca3d7-23d9-491f-8350-faeb19861dec",
   "metadata": {},
   "outputs": [
    {
     "name": "stdout",
     "output_type": "stream",
     "text": [
      "[客户问题] 你们会提供家具吗？\n",
      "[销售回答] 我们的精装房会提供基础家具和家电，让您拎包入住。\n",
      "\n",
      "[客户问题] 都有哪些户型？\n",
      "[销售回答] 我们有从一室到四室不等的多种户型，定能满足您不同的居住需求。\n",
      "\n",
      "[客户问题] 我不想要一楼的房子。\n",
      "[销售回答] 我理解您的顾虑，我们还有多个楼层的房源可以选择。\n",
      "\n"
     ]
    }
   ],
   "source": [
    "for doc in docs:\n",
    "    print(doc.page_content + \"\\n\")"
   ]
  },
  {
   "cell_type": "markdown",
   "id": "b335c9e5-bc01-4a47-916c-03bec0e7a839",
   "metadata": {},
   "source": [
    "#### 使用 similarity_score_threshold 设置阈值，提升结果的相关性质量"
   ]
  },
  {
   "cell_type": "code",
   "execution_count": 40,
   "id": "b1298956-6cf3-4a68-a3c2-a3149f64f156",
   "metadata": {},
   "outputs": [],
   "source": [
    "# 实例化一个 similarity_score_threshold Retriever\n",
    "retriever = db.as_retriever(\n",
    "    search_type=\"similarity_score_threshold\",\n",
    "    search_kwargs={\"score_threshold\": 0.8}\n",
    ")"
   ]
  },
  {
   "cell_type": "code",
   "execution_count": 41,
   "id": "d61167de-72ed-4618-a2e1-5df04784a3bc",
   "metadata": {},
   "outputs": [
    {
     "name": "stderr",
     "output_type": "stream",
     "text": [
      "d:\\python_env\\py310\\lib\\site-packages\\langchain_core\\vectorstores.py:342: UserWarning: No relevant docs were retrieved using the relevance score threshold 0.8\n",
      "  warnings.warn(\n"
     ]
    }
   ],
   "source": [
    "docs = retriever.get_relevant_documents(query)\n",
    "for doc in docs:\n",
    "    print(doc.page_content + \"\\n\")"
   ]
  },
  {
   "cell_type": "code",
   "execution_count": 46,
   "id": "548d1b52-6fa2-46d6-9218-908db572f380",
   "metadata": {},
   "outputs": [],
   "source": [
    "query='我担心楼下太吵'"
   ]
  },
  {
   "cell_type": "markdown",
   "id": "c31344ce-f952-4604-b700-fdbb34da1e28",
   "metadata": {},
   "source": [
    "### 提取向量数据库中的`销售回答`"
   ]
  },
  {
   "cell_type": "code",
   "execution_count": 47,
   "id": "25768463-da65-4762-978d-51c0c3a9c24b",
   "metadata": {},
   "outputs": [],
   "source": [
    "docs = retriever.get_relevant_documents(query)"
   ]
  },
  {
   "cell_type": "code",
   "execution_count": 48,
   "id": "4838d3da-dca3-4c31-80da-cec75760a833",
   "metadata": {},
   "outputs": [
    {
     "data": {
      "text/plain": [
       "'[客户问题] 我担心楼下太吵。\\n[销售回答] 这个小区特别注重居住体验，我们有良好的隔音设计，并且小区内部规划了绿化区域，可以有效降低噪音。'"
      ]
     },
     "execution_count": 48,
     "metadata": {},
     "output_type": "execute_result"
    }
   ],
   "source": [
    "docs[0].page_content"
   ]
  },
  {
   "cell_type": "code",
   "execution_count": 49,
   "id": "1ba30232-f468-4102-b70c-02c8b74da43d",
   "metadata": {},
   "outputs": [
    {
     "data": {
      "text/plain": [
       "['[客户问题] 我担心楼下太吵。\\n', '这个小区特别注重居住体验，我们有良好的隔音设计，并且小区内部规划了绿化区域，可以有效降低噪音。']"
      ]
     },
     "execution_count": 49,
     "metadata": {},
     "output_type": "execute_result"
    }
   ],
   "source": [
    "docs[0].page_content.split(\"[销售回答] \")"
   ]
  },
  {
   "cell_type": "code",
   "execution_count": 51,
   "id": "bda8eb0c-eb1f-47b2-91ab-4c94ff71c3db",
   "metadata": {},
   "outputs": [],
   "source": [
    "ans = docs[0].page_content.split(\"[销售回答] \")[-1]"
   ]
  },
  {
   "cell_type": "code",
   "execution_count": 52,
   "id": "917a3b6c-3149-42e2-b7b6-abebd94b7f72",
   "metadata": {},
   "outputs": [
    {
     "data": {
      "text/plain": [
       "'这个小区特别注重居住体验，我们有良好的隔音设计，并且小区内部规划了绿化区域，可以有效降低噪音。'"
      ]
     },
     "execution_count": 52,
     "metadata": {},
     "output_type": "execute_result"
    }
   ],
   "source": [
    "ans"
   ]
  },
  {
   "cell_type": "markdown",
   "id": "b36b61a5-156d-4546-bbd1-8a983e94676b",
   "metadata": {},
   "source": [
    "#### 尝试各种问题"
   ]
  },
  {
   "cell_type": "code",
   "execution_count": 53,
   "id": "c311a656-e571-45d6-8690-88e4be2c2a65",
   "metadata": {},
   "outputs": [],
   "source": [
    "from typing import List\n",
    "\n",
    "def sales(query: str, score_threshold: float=0.8) -> List[str]:\n",
    "    retriever = db.as_retriever(search_type=\"similarity_score_threshold\", search_kwargs={\"score_threshold\": score_threshold})    \n",
    "    docs = retriever.get_relevant_documents(query)\n",
    "    ans_list = [doc.page_content.split(\"[销售回答] \")[-1] for doc in docs]\n",
    "\n",
    "    return ans_list"
   ]
  },
  {
   "cell_type": "code",
   "execution_count": 54,
   "id": "2f4c6c08-b97c-4727-9aa1-a474d85a11e4",
   "metadata": {},
   "outputs": [
    {
     "name": "stdout",
     "output_type": "stream",
     "text": [
      "[]\n"
     ]
    },
    {
     "name": "stderr",
     "output_type": "stream",
     "text": [
      "d:\\python_env\\py310\\lib\\site-packages\\langchain_core\\vectorstores.py:342: UserWarning: No relevant docs were retrieved using the relevance score threshold 0.8\n",
      "  warnings.warn(\n"
     ]
    }
   ],
   "source": [
    "query = \"我想离医院近点\"\n",
    "\n",
    "print(sales(query))"
   ]
  },
  {
   "cell_type": "code",
   "execution_count": 55,
   "id": "11e3d8b6-839f-4b2f-b519-841e0271f95b",
   "metadata": {},
   "outputs": [
    {
     "name": "stdout",
     "output_type": "stream",
     "text": [
      "['有的，距离我们小区不远就有几家大型综合医院。', '是的，附近有多家大型医院，医疗资源非常丰富。']\n"
     ]
    }
   ],
   "source": [
    "print(sales(query, 0.75))"
   ]
  },
  {
   "cell_type": "code",
   "execution_count": 56,
   "id": "fc5b030a-ae6f-4d42-9577-1420c78aecb1",
   "metadata": {},
   "outputs": [
    {
     "name": "stderr",
     "output_type": "stream",
     "text": [
      "d:\\python_env\\py310\\lib\\site-packages\\langchain_core\\vectorstores.py:342: UserWarning: No relevant docs were retrieved using the relevance score threshold 0.8\n",
      "  warnings.warn(\n"
     ]
    },
    {
     "name": "stdout",
     "output_type": "stream",
     "text": [
      "score:0.8 ans: []\n",
      "\n"
     ]
    },
    {
     "name": "stderr",
     "output_type": "stream",
     "text": [
      "d:\\python_env\\py310\\lib\\site-packages\\langchain_core\\vectorstores.py:342: UserWarning: No relevant docs were retrieved using the relevance score threshold 0.75\n",
      "  warnings.warn(\n"
     ]
    },
    {
     "name": "stdout",
     "output_type": "stream",
     "text": [
      "score:0.75 ans: []\n",
      "\n",
      "score:0.5 ans: ['我们有不同户型和付款方案，一定有适合您预算的。', '我们的房子位于黄金地段，升值潜力很大，转卖起来不会有问题。', '定金金额取决于您选择的房型和付款方式，我们可以详细为您解释。', '这个区域正在快速发展，未来的升值潜力非常大。']\n",
      "\n"
     ]
    }
   ],
   "source": [
    "query = \"价格200万以内\"\n",
    "\n",
    "print(f\"score:0.8 ans: {sales(query)}\\n\")\n",
    "print(f\"score:0.75 ans: {sales(query, 0.75)}\\n\")\n",
    "print(f\"score:0.5 ans: {sales(query, 0.5)}\\n\")"
   ]
  },
  {
   "cell_type": "markdown",
   "id": "9e26e6d7-259b-4ecf-9c72-027befba4e3b",
   "metadata": {},
   "source": [
    "#### 当向量数据库中没有合适答案时，使用大语言模型能力"
   ]
  },
  {
   "cell_type": "code",
   "execution_count": 57,
   "id": "9142feb4-980a-4142-b367-1401021dceef",
   "metadata": {},
   "outputs": [],
   "source": [
    "from langchain.chains import RetrievalQA\n",
    "from langchain_openai import ChatOpenAI\n",
    "\n",
    "llm = ChatOpenAI(model_name=\"gpt-4-1106-preview\", temperature=0.5)\n",
    "qa_chain = RetrievalQA.from_chain_type(llm,\n",
    "                                       retriever=db.as_retriever(search_type=\"similarity_score_threshold\",\n",
    "                                                                 search_kwargs={\"score_threshold\": 0.8}))"
   ]
  },
  {
   "cell_type": "code",
   "execution_count": 59,
   "id": "f481d824",
   "metadata": {},
   "outputs": [],
   "source": [
    "qa_chain.verbose=True"
   ]
  },
  {
   "cell_type": "code",
   "execution_count": 61,
   "id": "ef9317d8",
   "metadata": {},
   "outputs": [],
   "source": [
    "qa_chain.return_source_documents = True"
   ]
  },
  {
   "cell_type": "code",
   "execution_count": 62,
   "id": "d281b560-54bb-4a25-a1dc-b23874361654",
   "metadata": {},
   "outputs": [
    {
     "name": "stdout",
     "output_type": "stream",
     "text": [
      "\n",
      "\n",
      "\u001b[1m> Entering new RetrievalQA chain...\u001b[0m\n"
     ]
    },
    {
     "name": "stderr",
     "output_type": "stream",
     "text": [
      "d:\\python_env\\py310\\lib\\site-packages\\langchain_core\\vectorstores.py:342: UserWarning: No relevant docs were retrieved using the relevance score threshold 0.8\n",
      "  warnings.warn(\n"
     ]
    },
    {
     "name": "stdout",
     "output_type": "stream",
     "text": [
      "\n",
      "\u001b[1m> Finished chain.\u001b[0m\n"
     ]
    },
    {
     "data": {
      "text/plain": [
       "{'query': '你们小区有200万的房子吗？',\n",
       " 'result': '对不起，我不是一个房地产服务，也没有关于具体小区房产信息的数据。如果您在寻找房产信息，建议您联系房地产经纪人或者查看在线房地产平台获取最新的房源和价格信息。',\n",
       " 'source_documents': []}"
      ]
     },
     "execution_count": 62,
     "metadata": {},
     "output_type": "execute_result"
    }
   ],
   "source": [
    "qa_chain({\"query\": \"你们小区有200万的房子吗？\"})"
   ]
  },
  {
   "cell_type": "code",
   "execution_count": 63,
   "id": "c6a30dcc-fa6b-4282-935c-b07902746e19",
   "metadata": {},
   "outputs": [
    {
     "name": "stdout",
     "output_type": "stream",
     "text": [
      "\n",
      "\n",
      "\u001b[1m> Entering new RetrievalQA chain...\u001b[0m\n",
      "\n",
      "\u001b[1m> Finished chain.\u001b[0m\n"
     ]
    },
    {
     "data": {
      "text/plain": [
       "{'query': '小区吵不吵',\n",
       " 'result': '根据销售回答，这个小区特别注重居住体验，有良好的隔音设计，并且规划了绿化区域以降低噪音，所以应该不会太吵。',\n",
       " 'source_documents': [Document(page_content='[客户问题] 我担心楼下太吵。\\n[销售回答] 这个小区特别注重居住体验，我们有良好的隔音设计，并且小区内部规划了绿化区域，可以有效降低噪音。')]}"
      ]
     },
     "execution_count": 63,
     "metadata": {},
     "output_type": "execute_result"
    }
   ],
   "source": [
    "qa_chain({\"query\": \"小区吵不吵\"})"
   ]
  },
  {
   "cell_type": "code",
   "execution_count": 64,
   "id": "9da44bd6-02ef-4fb6-8e9e-7c99aeba483a",
   "metadata": {},
   "outputs": [
    {
     "name": "stdout",
     "output_type": "stream",
     "text": [
      "['这个小区特别注重居住体验，我们有良好的隔音设计，并且小区内部规划了绿化区域，可以有效降低噪音。']\n"
     ]
    }
   ],
   "source": [
    "print(sales(\"小区吵不吵\"))"
   ]
  },
  {
   "cell_type": "code",
   "execution_count": null,
   "id": "9764bb10-44ed-47c9-a351-a68f4f7d4f44",
   "metadata": {},
   "outputs": [],
   "source": []
  },
  {
   "cell_type": "markdown",
   "id": "0a0647e8-5b41-4c93-87c2-3240ec558717",
   "metadata": {},
   "source": [
    "## 加载 FAISS 向量数据库已有结果"
   ]
  },
  {
   "cell_type": "code",
   "execution_count": 1,
   "id": "913edd04-37ea-4c3f-9346-086aeb0ab447",
   "metadata": {},
   "outputs": [],
   "source": [
    "from langchain_openai import OpenAIEmbeddings\n",
    "from langchain.vectorstores import FAISS\n",
    "\n",
    "db = FAISS.load_local(\"real_estates_sale\", OpenAIEmbeddings(),allow_dangerous_deserialization=True)"
   ]
  },
  {
   "cell_type": "code",
   "execution_count": 67,
   "id": "77d8eee4-6383-4b4a-9737-95ea9fc53b87",
   "metadata": {},
   "outputs": [
    {
     "name": "stderr",
     "output_type": "stream",
     "text": [
      "d:\\python_env\\py310\\lib\\site-packages\\langchain_core\\_api\\deprecation.py:117: LangChainDeprecationWarning: The class `langchain_community.chat_models.openai.ChatOpenAI` was deprecated in langchain-community 0.0.10 and will be removed in 0.2.0. An updated version of the class exists in the langchain-openai package and should be used instead. To use it run `pip install -U langchain-openai` and import as `from langchain_openai import ChatOpenAI`.\n",
      "  warn_deprecated(\n"
     ]
    }
   ],
   "source": [
    "from langchain.chains import RetrievalQA\n",
    "from langchain.chat_models import ChatOpenAI\n",
    "\n",
    "llm = ChatOpenAI(model_name=\"gpt-4\", temperature=0.5)\n",
    "qa_chain = RetrievalQA.from_chain_type(llm,\n",
    "                                       retriever=db.as_retriever(search_type=\"similarity_score_threshold\",\n",
    "                                                                 search_kwargs={\"score_threshold\": 0.8}))"
   ]
  },
  {
   "cell_type": "code",
   "execution_count": 68,
   "id": "5dfac197-cadb-47d7-8cbe-1b07a83fc8e1",
   "metadata": {},
   "outputs": [
    {
     "name": "stderr",
     "output_type": "stream",
     "text": [
      "d:\\python_env\\py310\\lib\\site-packages\\langchain_core\\vectorstores.py:342: UserWarning: No relevant docs were retrieved using the relevance score threshold 0.8\n",
      "  warnings.warn(\n"
     ]
    },
    {
     "data": {
      "text/plain": [
       "{'query': '我想买别墅，你们有么', 'result': '对不起，我不能帮助您购买别墅。我是一个人工智能，主要用来提供信息和回答问题。'}"
      ]
     },
     "execution_count": 68,
     "metadata": {},
     "output_type": "execute_result"
    }
   ],
   "source": [
    "qa_chain({\"query\": \"我想买别墅，你们有么\"})"
   ]
  },
  {
   "cell_type": "code",
   "execution_count": 69,
   "id": "fc393afc-06d3-4483-bd24-efe000ef5f2a",
   "metadata": {},
   "outputs": [],
   "source": [
    "# 输出内部 Chain 的日志\n",
    "qa_chain.combine_documents_chain.verbose = True"
   ]
  },
  {
   "cell_type": "code",
   "execution_count": 70,
   "id": "013c313a-5e7c-48d1-8ed4-eee96e50a99c",
   "metadata": {},
   "outputs": [
    {
     "name": "stderr",
     "output_type": "stream",
     "text": [
      "d:\\python_env\\py310\\lib\\site-packages\\langchain_core\\vectorstores.py:342: UserWarning: No relevant docs were retrieved using the relevance score threshold 0.8\n",
      "  warnings.warn(\n"
     ]
    },
    {
     "name": "stdout",
     "output_type": "stream",
     "text": [
      "\n",
      "\n",
      "\u001b[1m> Entering new StuffDocumentsChain chain...\u001b[0m\n",
      "\n",
      "\u001b[1m> Finished chain.\u001b[0m\n"
     ]
    },
    {
     "data": {
      "text/plain": [
       "{'query': '我想买别墅，你们有么',\n",
       " 'result': '对不起，我不能帮助你购买别墅。我是一个人工智能，我主要用于提供信息和回答问题，而不是销售商品或房地产。'}"
      ]
     },
     "execution_count": 70,
     "metadata": {},
     "output_type": "execute_result"
    }
   ],
   "source": [
    "qa_chain({\"query\": \"我想买别墅，你们有么\"})"
   ]
  },
  {
   "cell_type": "code",
   "execution_count": 71,
   "id": "e5fb0943-ffe9-4270-8dbe-f5f5314e6042",
   "metadata": {},
   "outputs": [],
   "source": [
    "# 返回向量数据库的检索结果\n",
    "qa_chain.return_source_documents = True"
   ]
  },
  {
   "cell_type": "code",
   "execution_count": 72,
   "id": "fbc1741e-d34f-4df5-874b-02b78e8cd67a",
   "metadata": {},
   "outputs": [
    {
     "name": "stderr",
     "output_type": "stream",
     "text": [
      "d:\\python_env\\py310\\lib\\site-packages\\langchain_core\\vectorstores.py:342: UserWarning: No relevant docs were retrieved using the relevance score threshold 0.8\n",
      "  warnings.warn(\n"
     ]
    },
    {
     "name": "stdout",
     "output_type": "stream",
     "text": [
      "\n",
      "\n",
      "\u001b[1m> Entering new StuffDocumentsChain chain...\u001b[0m\n",
      "\n",
      "\u001b[1m> Finished chain.\u001b[0m\n"
     ]
    }
   ],
   "source": [
    "result = qa_chain({\"query\": \"我想买别墅，你们有么\"})"
   ]
  },
  {
   "cell_type": "code",
   "execution_count": 73,
   "id": "fac8309c-033c-4144-ada0-08e74fa9bf2d",
   "metadata": {},
   "outputs": [
    {
     "data": {
      "text/plain": [
       "{'query': '我想买别墅，你们有么',\n",
       " 'result': '对不起，我是一个人工智能，无法提供购买别墅的服务。你可以联系相关的房地产公司或经纪人寻求帮助。',\n",
       " 'source_documents': []}"
      ]
     },
     "execution_count": 73,
     "metadata": {},
     "output_type": "execute_result"
    }
   ],
   "source": [
    "result"
   ]
  },
  {
   "cell_type": "code",
   "execution_count": null,
   "id": "37de84df-999f-4469-9bbe-de9c95c6f6b3",
   "metadata": {},
   "outputs": [],
   "source": []
  }
 ],
 "metadata": {
  "kernelspec": {
   "display_name": "Python 3 (ipykernel)",
   "language": "python",
   "name": "python3"
  },
  "language_info": {
   "codemirror_mode": {
    "name": "ipython",
    "version": 3
   },
   "file_extension": ".py",
   "mimetype": "text/x-python",
   "name": "python",
   "nbconvert_exporter": "python",
   "pygments_lexer": "ipython3",
   "version": "3.10.14"
  }
 },
 "nbformat": 4,
 "nbformat_minor": 5
}
