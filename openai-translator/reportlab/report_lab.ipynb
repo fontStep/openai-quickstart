{
 "cells": [
  {
   "cell_type": "code",
   "execution_count": 7,
   "metadata": {},
   "outputs": [
    {
     "name": "stdout",
     "output_type": "stream",
     "text": [
      "Markdown 文件已生成： table_example.md\n"
     ]
    }
   ],
   "source": [
    "from reportlab.platypus import SimpleDocTemplate, Table, TableStyle\n",
    "from reportlab.lib import colors\n",
    "\n",
    "# 定义表格数据\n",
    "data = [\n",
    "    [\"Name\", \"Age\", \"Gender\"],\n",
    "    [\"John Doe\", 30, \"Male\"],\n",
    "    [\"Jane Smith\", 25, \"Female\"],\n",
    "    [\"Bob Johnson\", 45, \"Male\"],\n",
    "]\n",
    "\n",
    "# 创建 Markdown 文件\n",
    "markdown_filename = \"table_example.md\"\n",
    "with open(markdown_filename, 'w') as markdown_file:\n",
    "    # 写入表头\n",
    "    markdown_file.write(\"| Name | Age | Gender |\\n\")\n",
    "    markdown_file.write(\"| ---- | ---- | ---------- |\\n\")\n",
    "    \n",
    "    # 写入表格数据\n",
    "    for row in data[1:]:\n",
    "        markdown_file.write(\"| {} | {} | {} |\\n\".format(*row))\n",
    "\n",
    "print(\"Markdown 文件已生成：\", markdown_filename)\n"
   ]
  },
  {
   "cell_type": "code",
   "execution_count": 8,
   "metadata": {},
   "outputs": [
    {
     "name": "stdout",
     "output_type": "stream",
     "text": [
      "| 水果 | 颜色 | 价格（美元） |\\n\n"
     ]
    }
   ],
   "source": [
    "import pandas as pd\n",
    "\n",
    "# 创建示例 DataFrame\n",
    "header = pd.DataFrame({'水果': ['苹果', '香蕉', '橙子'],\n",
    "                       '颜色': ['红色', '黄色', '橙色'],\n",
    "                       '价格（美元）': [1.20, 0.50, 0.80]})\n",
    "\n",
    "# 将列名转换为列表\n",
    "header_list = header.columns.tolist()\n",
    "\n",
    "# 将列表转换为所需的模式\n",
    "table_header = '| ' + ' | '.join(header_list) + ' |\\\\n'\n",
    "\n",
    "print(table_header)\n"
   ]
  },
  {
   "cell_type": "code",
   "execution_count": 9,
   "metadata": {},
   "outputs": [
    {
     "ename": "FileNotFoundError",
     "evalue": "[Errno 2] No such file or directory: 'pdf2htmlEX'",
     "output_type": "error",
     "traceback": [
      "\u001b[0;31m---------------------------------------------------------------------------\u001b[0m",
      "\u001b[0;31mFileNotFoundError\u001b[0m                         Traceback (most recent call last)",
      "Cell \u001b[0;32mIn[9], line 14\u001b[0m\n\u001b[1;32m     11\u001b[0m output_html \u001b[38;5;241m=\u001b[39m \u001b[38;5;124m\"\u001b[39m\u001b[38;5;124moutput.html\u001b[39m\u001b[38;5;124m\"\u001b[39m\n\u001b[1;32m     13\u001b[0m \u001b[38;5;66;03m# 调用函数进行转换\u001b[39;00m\n\u001b[0;32m---> 14\u001b[0m \u001b[43mpdf_to_html\u001b[49m\u001b[43m(\u001b[49m\u001b[43minput_pdf\u001b[49m\u001b[43m,\u001b[49m\u001b[43m \u001b[49m\u001b[43moutput_html\u001b[49m\u001b[43m)\u001b[49m\n",
      "Cell \u001b[0;32mIn[9], line 5\u001b[0m, in \u001b[0;36mpdf_to_html\u001b[0;34m(input_pdf, output_html)\u001b[0m\n\u001b[1;32m      3\u001b[0m \u001b[38;5;28;01mdef\u001b[39;00m \u001b[38;5;21mpdf_to_html\u001b[39m(input_pdf, output_html):\n\u001b[1;32m      4\u001b[0m     \u001b[38;5;66;03m# 使用 pdf2htmlEX 将 PDF 文件转换为 HTML\u001b[39;00m\n\u001b[0;32m----> 5\u001b[0m     \u001b[43msubprocess\u001b[49m\u001b[38;5;241;43m.\u001b[39;49m\u001b[43mrun\u001b[49m\u001b[43m(\u001b[49m\u001b[43m[\u001b[49m\u001b[38;5;124;43m'\u001b[39;49m\u001b[38;5;124;43mpdf2htmlEX\u001b[39;49m\u001b[38;5;124;43m'\u001b[39;49m\u001b[43m,\u001b[49m\u001b[43m \u001b[49m\u001b[43minput_pdf\u001b[49m\u001b[43m,\u001b[49m\u001b[43m \u001b[49m\u001b[43moutput_html\u001b[49m\u001b[43m]\u001b[49m\u001b[43m)\u001b[49m\n",
      "File \u001b[0;32m~/anaconda3/envs/py310/lib/python3.10/subprocess.py:503\u001b[0m, in \u001b[0;36mrun\u001b[0;34m(input, capture_output, timeout, check, *popenargs, **kwargs)\u001b[0m\n\u001b[1;32m    500\u001b[0m     kwargs[\u001b[38;5;124m'\u001b[39m\u001b[38;5;124mstdout\u001b[39m\u001b[38;5;124m'\u001b[39m] \u001b[38;5;241m=\u001b[39m PIPE\n\u001b[1;32m    501\u001b[0m     kwargs[\u001b[38;5;124m'\u001b[39m\u001b[38;5;124mstderr\u001b[39m\u001b[38;5;124m'\u001b[39m] \u001b[38;5;241m=\u001b[39m PIPE\n\u001b[0;32m--> 503\u001b[0m \u001b[38;5;28;01mwith\u001b[39;00m \u001b[43mPopen\u001b[49m\u001b[43m(\u001b[49m\u001b[38;5;241;43m*\u001b[39;49m\u001b[43mpopenargs\u001b[49m\u001b[43m,\u001b[49m\u001b[43m \u001b[49m\u001b[38;5;241;43m*\u001b[39;49m\u001b[38;5;241;43m*\u001b[39;49m\u001b[43mkwargs\u001b[49m\u001b[43m)\u001b[49m \u001b[38;5;28;01mas\u001b[39;00m process:\n\u001b[1;32m    504\u001b[0m     \u001b[38;5;28;01mtry\u001b[39;00m:\n\u001b[1;32m    505\u001b[0m         stdout, stderr \u001b[38;5;241m=\u001b[39m process\u001b[38;5;241m.\u001b[39mcommunicate(\u001b[38;5;28minput\u001b[39m, timeout\u001b[38;5;241m=\u001b[39mtimeout)\n",
      "File \u001b[0;32m~/anaconda3/envs/py310/lib/python3.10/subprocess.py:971\u001b[0m, in \u001b[0;36mPopen.__init__\u001b[0;34m(self, args, bufsize, executable, stdin, stdout, stderr, preexec_fn, close_fds, shell, cwd, env, universal_newlines, startupinfo, creationflags, restore_signals, start_new_session, pass_fds, user, group, extra_groups, encoding, errors, text, umask, pipesize)\u001b[0m\n\u001b[1;32m    967\u001b[0m         \u001b[38;5;28;01mif\u001b[39;00m \u001b[38;5;28mself\u001b[39m\u001b[38;5;241m.\u001b[39mtext_mode:\n\u001b[1;32m    968\u001b[0m             \u001b[38;5;28mself\u001b[39m\u001b[38;5;241m.\u001b[39mstderr \u001b[38;5;241m=\u001b[39m io\u001b[38;5;241m.\u001b[39mTextIOWrapper(\u001b[38;5;28mself\u001b[39m\u001b[38;5;241m.\u001b[39mstderr,\n\u001b[1;32m    969\u001b[0m                     encoding\u001b[38;5;241m=\u001b[39mencoding, errors\u001b[38;5;241m=\u001b[39merrors)\n\u001b[0;32m--> 971\u001b[0m     \u001b[38;5;28;43mself\u001b[39;49m\u001b[38;5;241;43m.\u001b[39;49m\u001b[43m_execute_child\u001b[49m\u001b[43m(\u001b[49m\u001b[43margs\u001b[49m\u001b[43m,\u001b[49m\u001b[43m \u001b[49m\u001b[43mexecutable\u001b[49m\u001b[43m,\u001b[49m\u001b[43m \u001b[49m\u001b[43mpreexec_fn\u001b[49m\u001b[43m,\u001b[49m\u001b[43m \u001b[49m\u001b[43mclose_fds\u001b[49m\u001b[43m,\u001b[49m\n\u001b[1;32m    972\u001b[0m \u001b[43m                        \u001b[49m\u001b[43mpass_fds\u001b[49m\u001b[43m,\u001b[49m\u001b[43m \u001b[49m\u001b[43mcwd\u001b[49m\u001b[43m,\u001b[49m\u001b[43m \u001b[49m\u001b[43menv\u001b[49m\u001b[43m,\u001b[49m\n\u001b[1;32m    973\u001b[0m \u001b[43m                        \u001b[49m\u001b[43mstartupinfo\u001b[49m\u001b[43m,\u001b[49m\u001b[43m \u001b[49m\u001b[43mcreationflags\u001b[49m\u001b[43m,\u001b[49m\u001b[43m \u001b[49m\u001b[43mshell\u001b[49m\u001b[43m,\u001b[49m\n\u001b[1;32m    974\u001b[0m \u001b[43m                        \u001b[49m\u001b[43mp2cread\u001b[49m\u001b[43m,\u001b[49m\u001b[43m \u001b[49m\u001b[43mp2cwrite\u001b[49m\u001b[43m,\u001b[49m\n\u001b[1;32m    975\u001b[0m \u001b[43m                        \u001b[49m\u001b[43mc2pread\u001b[49m\u001b[43m,\u001b[49m\u001b[43m \u001b[49m\u001b[43mc2pwrite\u001b[49m\u001b[43m,\u001b[49m\n\u001b[1;32m    976\u001b[0m \u001b[43m                        \u001b[49m\u001b[43merrread\u001b[49m\u001b[43m,\u001b[49m\u001b[43m \u001b[49m\u001b[43merrwrite\u001b[49m\u001b[43m,\u001b[49m\n\u001b[1;32m    977\u001b[0m \u001b[43m                        \u001b[49m\u001b[43mrestore_signals\u001b[49m\u001b[43m,\u001b[49m\n\u001b[1;32m    978\u001b[0m \u001b[43m                        \u001b[49m\u001b[43mgid\u001b[49m\u001b[43m,\u001b[49m\u001b[43m \u001b[49m\u001b[43mgids\u001b[49m\u001b[43m,\u001b[49m\u001b[43m \u001b[49m\u001b[43muid\u001b[49m\u001b[43m,\u001b[49m\u001b[43m \u001b[49m\u001b[43mumask\u001b[49m\u001b[43m,\u001b[49m\n\u001b[1;32m    979\u001b[0m \u001b[43m                        \u001b[49m\u001b[43mstart_new_session\u001b[49m\u001b[43m)\u001b[49m\n\u001b[1;32m    980\u001b[0m \u001b[38;5;28;01mexcept\u001b[39;00m:\n\u001b[1;32m    981\u001b[0m     \u001b[38;5;66;03m# Cleanup if the child failed starting.\u001b[39;00m\n\u001b[1;32m    982\u001b[0m     \u001b[38;5;28;01mfor\u001b[39;00m f \u001b[38;5;129;01min\u001b[39;00m \u001b[38;5;28mfilter\u001b[39m(\u001b[38;5;28;01mNone\u001b[39;00m, (\u001b[38;5;28mself\u001b[39m\u001b[38;5;241m.\u001b[39mstdin, \u001b[38;5;28mself\u001b[39m\u001b[38;5;241m.\u001b[39mstdout, \u001b[38;5;28mself\u001b[39m\u001b[38;5;241m.\u001b[39mstderr)):\n",
      "File \u001b[0;32m~/anaconda3/envs/py310/lib/python3.10/subprocess.py:1863\u001b[0m, in \u001b[0;36mPopen._execute_child\u001b[0;34m(self, args, executable, preexec_fn, close_fds, pass_fds, cwd, env, startupinfo, creationflags, shell, p2cread, p2cwrite, c2pread, c2pwrite, errread, errwrite, restore_signals, gid, gids, uid, umask, start_new_session)\u001b[0m\n\u001b[1;32m   1861\u001b[0m     \u001b[38;5;28;01mif\u001b[39;00m errno_num \u001b[38;5;241m!=\u001b[39m \u001b[38;5;241m0\u001b[39m:\n\u001b[1;32m   1862\u001b[0m         err_msg \u001b[38;5;241m=\u001b[39m os\u001b[38;5;241m.\u001b[39mstrerror(errno_num)\n\u001b[0;32m-> 1863\u001b[0m     \u001b[38;5;28;01mraise\u001b[39;00m child_exception_type(errno_num, err_msg, err_filename)\n\u001b[1;32m   1864\u001b[0m \u001b[38;5;28;01mraise\u001b[39;00m child_exception_type(err_msg)\n",
      "\u001b[0;31mFileNotFoundError\u001b[0m: [Errno 2] No such file or directory: 'pdf2htmlEX'"
     ]
    }
   ],
   "source": [
    "import subprocess\n",
    "\n",
    "def pdf_to_html(input_pdf, output_html):\n",
    "    # 使用 pdf2htmlEX 将 PDF 文件转换为 HTML\n",
    "    subprocess.run(['pdf2htmlEX', input_pdf, output_html])\n",
    "\n",
    "# 输入 PDF 文件路径\n",
    "input_pdf = \"table_example_report.pdf\"\n",
    "\n",
    "# 输出 HTML 文件路径\n",
    "output_html = \"output.html\"\n",
    "\n",
    "# 调用函数进行转换\n",
    "pdf_to_html(input_pdf, output_html)\n"
   ]
  },
  {
   "cell_type": "code",
   "execution_count": 4,
   "metadata": {},
   "outputs": [],
   "source": [
    "from reportlab.lib.pagesizes import letter\n",
    "from reportlab.platypus import SimpleDocTemplate, Table, TableStyle\n",
    "from reportlab.lib import colors\n",
    "\n",
    "# 创建一个简单的PDF文档\n",
    "pdf_filename = \"table_example_report.pdf\"\n",
    "pdf = SimpleDocTemplate(pdf_filename, pagesize=letter)\n",
    "\n",
    "# 定义表格数据\n",
    "data = [\n",
    "    [\"Name\", \"Age\", \"Gender\"],\n",
    "    [\"John Doe\", 30, \"Male\"],\n",
    "    [\"Jane Smith\", 25, \"Female\"],\n",
    "    [\"Bob Johnson\", 45, \"Male\"],\n",
    "]\n",
    "\n",
    "# 创建表格并添加数据\n",
    "table = Table(data)\n",
    "\n",
    "# 定义表格样式\n",
    "style = TableStyle([\n",
    "    ('BACKGROUND', (0, 0), (-1, 0), colors.grey),  # 设置第一行背景颜色为灰色\n",
    "    ('TEXTCOLOR', (0, 0), (-1, 0), colors.whitesmoke),  # 设置第一行文字颜色为白烟色\n",
    "    ('ALIGN', (0, 0), (-1, -1), 'CENTER'),  # 设置表格中所有内容居中\n",
    "    ('FONTNAME', (0, 0), (-1, 0), 'Helvetica-Bold'),  # 设置第一行字体为粗体\n",
    "    ('BOTTOMPADDING', (0, 0), (-1, 0), 12),  # 设置第一行底部填充\n",
    "    ('BACKGROUND', (0, 1), (-1, -1), colors.beige),  # 设置表格其他行背景颜色为米色\n",
    "])\n",
    "\n",
    "# 将样式应用于表格\n",
    "table.setStyle(style)\n",
    "\n",
    "# 构建并保存PDF文档\n",
    "pdf.build([table])\n"
   ]
  },
  {
   "cell_type": "code",
   "execution_count": 5,
   "metadata": {},
   "outputs": [
    {
     "name": "stdout",
     "output_type": "stream",
     "text": [
      "表头: ['水果', '颜色', '价格（美元）']\n",
      "数据列表: [['苹果', '红色', '1.20'], ['香蕉', '黄色', '0.50'], ['橙子', '橙色', '0.80'], ['草莓', '红色', '2.50'], ['蓝莓', '蓝色', '3.00'], ['猕猴桃', '绿色', '1.00'], ['芒果', '橙色', '1.50'], ['葡萄', '紫色', '2.00']]\n"
     ]
    }
   ],
   "source": [
    "data = \"\"\"水果,颜色,价格（美元）\n",
    "苹果,红色,1.20\n",
    "香蕉,黄色,0.50\n",
    "橙子,橙色,0.80\n",
    "草莓,红色,2.50\n",
    "蓝莓,蓝色,3.00\n",
    "猕猴桃,绿色,1.00\n",
    "芒果,橙色,1.50\n",
    "葡萄,紫色,2.00\"\"\"\n",
    "\n",
    "# 按行分割数据\n",
    "lines = data.split('\\n')\n",
    "\n",
    "# 将每行数据分割成列表\n",
    "header = lines[0].split(',')\n",
    "data_list = [line.split(',') for line in lines[1:]]\n",
    "\n",
    "print(\"表头:\", header)\n",
    "print(\"数据列表:\", data_list)\n"
   ]
  },
  {
   "cell_type": "code",
   "execution_count": 10,
   "metadata": {},
   "outputs": [
    {
     "name": "stdout",
     "output_type": "stream",
     "text": [
      "HTML 文件已生成：output.html\n"
     ]
    }
   ],
   "source": [
    "from reportlab.lib.pagesizes import letter\n",
    "from reportlab.platypus import SimpleDocTemplate, Paragraph\n",
    "\n",
    "def generate_html(output_filename):\n",
    "    # 创建 SimpleDocTemplate 对象，并指定输出文件名\n",
    "    doc = SimpleDocTemplate(output_filename, pagesize=letter)\n",
    "\n",
    "    # 定义要写入文件的 HTML 内容\n",
    "    html_content = \"\"\"\n",
    "    <html>\n",
    "    <head><title>ReportLab HTML 示例</title></head>\n",
    "    <body>\n",
    "    <h1>欢迎使用 ReportLab</h1>\n",
    "    <p>这是一个简单的示例，演示如何使用 ReportLab 生成 HTML 文件。</p>\n",
    "    </body>\n",
    "    </html>\n",
    "    \"\"\"\n",
    "\n",
    "    # 创建 Paragraph 对象，将 HTML 内容添加到文档中\n",
    "    paragraph = Paragraph(html_content, encoding='utf-8')\n",
    "    doc.build([paragraph])\n",
    "\n",
    "if __name__ == '__main__':\n",
    "    output_filename = 'output.html'\n",
    "    generate_html(output_filename)\n",
    "    print(f'HTML 文件已生成：{output_filename}')\n"
   ]
  },
  {
   "cell_type": "code",
   "execution_count": 12,
   "metadata": {},
   "outputs": [],
   "source": [
    "import markdown\n",
    "\n",
    "def md_to_html(md_file, html_file):\n",
    "    with open(md_file, 'r', encoding='utf-8') as f:\n",
    "        md_content = f.read()\n",
    "    \n",
    "    html_content = markdown.markdown(md_content)\n",
    "    \n",
    "    with open(html_file, 'w', encoding='utf-8') as f:\n",
    "        f.write(html_content)\n",
    "\n",
    "md_to_html('table_example.md', 'table_example_output.html')\n"
   ]
  },
  {
   "cell_type": "code",
   "execution_count": 134,
   "metadata": {},
   "outputs": [
    {
     "name": "stdout",
     "output_type": "stream",
     "text": [
      "Running on local URL:  http://127.0.0.1:7928\n",
      "\n",
      "To create a public link, set `share=True` in `launch()`.\n"
     ]
    },
    {
     "data": {
      "text/html": [
       "<div><iframe src=\"http://127.0.0.1:7928/\" width=\"100%\" height=\"500\" allow=\"autoplay; camera; microphone; clipboard-read; clipboard-write;\" frameborder=\"0\" allowfullscreen></iframe></div>"
      ],
      "text/plain": [
       "<IPython.core.display.HTML object>"
      ]
     },
     "metadata": {},
     "output_type": "display_data"
    },
    {
     "name": "stdout",
     "output_type": "stream",
     "text": [
      "pdf_file:  /private/var/folders/l3/38fsw4bd0h341pyn0lrptcz40000gn/T/gradio/c24075fbc33c801c4013fa47a6bb13f9a50c048f/1.北京市高等教育自学考试2023年4月笔试课程考试安排 1.pdf\n"
     ]
    }
   ],
   "source": [
    "import gradio as gr\n",
    "\n",
    "def translator(pdf_file,model_type,openAI_key,target_language,output_format):\n",
    "\n",
    "    print('pdf_file: ',pdf_file.name)\n",
    "    pass\n",
    "    # return file_paths\n",
    "    \n",
    "# output_format\n",
    "\n",
    "with gr.Blocks() as demo:\n",
    "    with gr.Row():\n",
    "        with gr.Column(scale=6):\n",
    "            pdf_file = gr.File(label=\"上传PDF文件\", file_types=[\".pdf\"])\n",
    "            out_file = gr.File(label=\"下载翻译文件\")\n",
    "        with gr.Column(scale=5):\n",
    "            with gr.Row():                                   \n",
    "                model_type = gr.Dropdown([\"OpenAIModel\", \"GLMModel\"], label=\"model type\", value=\"OpenAIModel\", info=\"Will select model_type as transformer\")\n",
    "                openAI_key = gr.Textbox(label=\"openai api key\", info=\" openAI API key\")\n",
    "            with gr.Row():\n",
    "                target_language = gr.Dropdown([\"中文\", \"英文\", \"日语\"], label=\"target language\")\n",
    "                output_format = gr.Dropdown([\"PDF\", \"markdown\"], label=\"Output file format\")   \n",
    "                # gr.Slider(0, 5000)\n",
    "            with gr.Row():\n",
    "                submit = gr.Button(\"Submit\")\n",
    "                submit.click(\n",
    "                    translator, \n",
    "                    inputs=[\n",
    "                        pdf_file,\n",
    "                        model_type,\n",
    "                        openAI_key,\n",
    "                        target_language,\n",
    "                        output_format\n",
    "                    ], \n",
    "                    outputs=[out_file]\n",
    "                )  \n",
    "\n",
    "\n",
    "\n",
    "if __name__ == \"__main__\":\n",
    "    demo.launch()\n",
    "\n",
    "\t"
   ]
  },
  {
   "cell_type": "markdown",
   "metadata": {},
   "source": []
  }
 ],
 "metadata": {
  "kernelspec": {
   "display_name": "py310",
   "language": "python",
   "name": "python3"
  },
  "language_info": {
   "codemirror_mode": {
    "name": "ipython",
    "version": 3
   },
   "file_extension": ".py",
   "mimetype": "text/x-python",
   "name": "python",
   "nbconvert_exporter": "python",
   "pygments_lexer": "ipython3",
   "version": "3.10.14"
  }
 },
 "nbformat": 4,
 "nbformat_minor": 2
}
