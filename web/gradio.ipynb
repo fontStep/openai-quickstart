{
 "cells": [
  {
   "cell_type": "code",
   "execution_count": 11,
   "metadata": {},
   "outputs": [
    {
     "name": "stdout",
     "output_type": "stream",
     "text": [
      "Running on local URL:  http://127.0.0.1:7864\n",
      "\n",
      "To create a public link, set `share=True` in `launch()`.\n"
     ]
    },
    {
     "data": {
      "text/html": [
       "<div><iframe src=\"http://127.0.0.1:7864/\" width=\"100%\" height=\"500\" allow=\"autoplay; camera; microphone; clipboard-read; clipboard-write;\" frameborder=\"0\" allowfullscreen></iframe></div>"
      ],
      "text/plain": [
       "<IPython.core.display.HTML object>"
      ]
     },
     "metadata": {},
     "output_type": "display_data"
    },
    {
     "data": {
      "text/plain": []
     },
     "execution_count": 11,
     "metadata": {},
     "output_type": "execute_result"
    },
    {
     "name": "stdout",
     "output_type": "stream",
     "text": [
      "Selected:   \n",
      "<select id=\"grouped-dropdown\" onchange=\"onChange(this.value)\">  \n",
      "    <optgroup label=\"Group 1\">  \n",
      "        <option value=\"option1\">Option 1</option>  \n",
      "        <option value=\"option2\">Option 2</option>  \n",
      "    </optgroup>  \n",
      "    <optgroup label=\"Group 2\">  \n",
      "        <option value=\"option3\">Option 3</option>  \n",
      "        <option value=\"option4\">Option 4</option>  \n",
      "    </optgroup>  \n",
      "</select>  \n",
      "  \n",
      "<script>  \n",
      "function onChange(value) {  \n",
      "    // 使用 Gradio 提供的 API 来将值传递给 Python 端  \n",
      "    if (window.gradio) {  \n",
      "        window.gradio.API.setInputs({ 'dropdown': value });  \n",
      "    }  \n",
      "}  \n",
      "</script>  \n",
      "\n",
      "Selected:   \n",
      "<select id=\"grouped-dropdown\" onchange=\"onChange(this.value)\">  \n",
      "    <optgroup label=\"Group 1\">  \n",
      "        <option value=\"option1\">Option 1</option>  \n",
      "        <option value=\"option2\">Option 2</option>  \n",
      "    </optgroup>  \n",
      "    <optgroup label=\"Group 2\">  \n",
      "        <option value=\"option3\">Option 3</option>  \n",
      "        <option value=\"option4\">Option 4</option>  \n",
      "    </optgroup>  \n",
      "</select>  \n",
      "  \n",
      "<script>  \n",
      "function onChange(value) {  \n",
      "    // 使用 Gradio 提供的 API 来将值传递给 Python 端  \n",
      "    if (window.gradio) {  \n",
      "        window.gradio.API.setInputs({ 'dropdown': value });  \n",
      "    }  \n",
      "}  \n",
      "</script>  \n",
      "\n"
     ]
    }
   ],
   "source": [
    "import gradio as gr  \n",
    "  \n",
    "def handle_dropdown(value):  \n",
    "    print(f\"Selected: {value}\")  \n",
    "    # 在这里你可以根据用户的选择执行其他操作  \n",
    "    return value\n",
    "  \n",
    "# 自定义的 HTML 字符串，包含下拉框分组  \n",
    "custom_html = \"\"\"  \n",
    "<select id=\"grouped-dropdown\" onchange=\"onChange(this.value)\">  \n",
    "    <optgroup label=\"Group 1\">  \n",
    "        <option value=\"option1\">Option 1</option>  \n",
    "        <option value=\"option2\">Option 2</option>  \n",
    "    </optgroup>  \n",
    "    <optgroup label=\"Group 2\">  \n",
    "        <option value=\"option3\">Option 3</option>  \n",
    "        <option value=\"option4\">Option 4</option>  \n",
    "    </optgroup>  \n",
    "</select>  \n",
    "  \n",
    "<script>  \n",
    "function onChange(value) {  \n",
    "    // 使用 Gradio 提供的 API 来将值传递给 Python 端  \n",
    "    if (window.gradio) {  \n",
    "        window.gradio.API.setInputs({ 'dropdown': value });  \n",
    "    }  \n",
    "}  \n",
    "</script>  \n",
    "\"\"\"  \n",
    "  \n",
    "# 创建 Gradio 接口，使用 gr.HTML 组件嵌入自定义 HTML  \n",
    "iface = gr.Interface(  \n",
    "    fn=handle_dropdown,  \n",
    "    inputs=gr.HTML(custom_html, label=\"Dropdown\"),  \n",
    "    outputs=\"text\",  \n",
    ")  \n",
    "  \n",
    "iface.launch()"
   ]
  }
 ],
 "metadata": {
  "kernelspec": {
   "display_name": "Python 3",
   "language": "python",
   "name": "python3"
  },
  "language_info": {
   "codemirror_mode": {
    "name": "ipython",
    "version": 3
   },
   "file_extension": ".py",
   "mimetype": "text/x-python",
   "name": "python",
   "nbconvert_exporter": "python",
   "pygments_lexer": "ipython3",
   "version": "3.10.14"
  }
 },
 "nbformat": 4,
 "nbformat_minor": 2
}
