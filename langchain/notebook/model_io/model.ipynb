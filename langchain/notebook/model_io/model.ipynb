{
 "cells": [
  {
   "cell_type": "code",
   "execution_count": 1,
   "metadata": {},
   "outputs": [],
   "source": [
    "from dotenv import load_dotenv  # 用于加载环境变量\n",
    "load_dotenv()  # 加载 .env 文件中的环境变量\n",
    "from langchain.prompts import (PromptTemplate,ChatPromptTemplate)\n",
    "from langchain_openai import (OpenAI,ChatOpenAI)\n",
    "from langchain.schema import (\n",
    "    AIMessage,\n",
    "    HumanMessage,\n",
    "    SystemMessage\n",
    ")\n",
    "import os\n"
   ]
  },
  {
   "cell_type": "code",
   "execution_count": 2,
   "metadata": {},
   "outputs": [],
   "source": [
    "MODEL_NAME = \"gpt-3.5-turbo\"\n",
    "\n",
    "llm = OpenAI(model='davinci-002',openai_proxy=os.getenv(\"OPENAI_BASE_URL\"),max_tokens=256)\n",
    "\n",
    "chat_model  = ChatOpenAI(model=MODEL_NAME,openai_proxy=os.getenv(\"OPENAI_BASE_URL\"),max_tokens=1000)\n"
   ]
  },
  {
   "cell_type": "code",
   "execution_count": 3,
   "metadata": {},
   "outputs": [
    {
     "name": "stdout",
     "output_type": "stream",
     "text": [
      "” by writing a joke to be read in the “Comedy Corner.” I also put together a bunch of funny stories from the children’s books I have brought to school and a couple of jokes sent in by students. We read the stories and jokes that were submitted, and I told the stories from my books to the class. We had a great time laughing out loud, and I hope that we will have an even better time laughing out loud on Friday, when we go to see the show “Comedy Kids” at the Westport Country Playhouse.\n",
      "\n",
      "I’d also like to give a big shout-out to the wonderful students at MMS who put together delicious snacks for the cast of “Comedy Kids.” They arrived at 9:30 am this morning and set up a table full of beautiful, delicious, and very healthy snacks. I know that the cast members really appreciated the snacks and the thoughtfulness of the students.\n",
      "\n",
      "I am thrilled to report that the Middle School Production Team is hard at work putting the finishing touches on The Best Christmas Pageant Ever, which opens on Friday, November 30, and runs through Sunday, December 2. The pageant is based on the book by Barbara Robinson, and is about a church Christmas pageant gone awry.\n"
     ]
    }
   ],
   "source": [
    "print(llm.invoke(\"Tell me a Joke\"))"
   ]
  },
  {
   "cell_type": "code",
   "execution_count": 4,
   "metadata": {},
   "outputs": [
    {
     "name": "stdout",
     "output_type": "stream",
     "text": [
      "看完了以后你会发现，自己生活中这些场景是多么地熟悉，多么地逗比！ 建议不要一次看全部，可以分两三天看好几个，反复看一遍，当时如果有同学在场的话就直接开个大笑声哈哈哈哈 … \n",
      "\n",
      "  \n",
      "\n",
      "\n",
      "[Image] [程序员必看的 10 个笑话](//goswift.club/t/topic/2339) 编程语言\n",
      "\n",
      "> 这个是我在微信群里看到的，里面有一些我认为很好的笑话，如果你是个程序员的话，应该可以很快的听懂。这个是可以当作一个起床的导语，让你刚刚起来的时候心情就更好了。 建议不要一次看全部，可以分两三天看好几个，反复看一遍，当时如果有同学在场的话就直接开个\n"
     ]
    }
   ],
   "source": [
    "print(llm.invoke(\"讲10个给程序员听的笑话，每个笑话之间用换行符分隔。\"))"
   ]
  },
  {
   "cell_type": "code",
   "execution_count": null,
   "metadata": {},
   "outputs": [],
   "source": [
    "llm.max_tokens"
   ]
  },
  {
   "cell_type": "code",
   "execution_count": null,
   "metadata": {},
   "outputs": [],
   "source": [
    "llm.max_tokens = 1024"
   ]
  },
  {
   "cell_type": "code",
   "execution_count": null,
   "metadata": {},
   "outputs": [],
   "source": [
    "messages = [\n",
    " SystemMessage(content=\"You are a helpful assistant.\"),\n",
    " HumanMessage(content=\"Who won the world series in 2020?\"),\n",
    " AIMessage(content=\"The Los Angeles Dodgers won the World Series in 2020.\"), \n",
    " HumanMessage(content=\"Where was it played?\")\n",
    "]"
   ]
  },
  {
   "cell_type": "code",
   "execution_count": null,
   "metadata": {},
   "outputs": [],
   "source": [
    "messages"
   ]
  },
  {
   "cell_type": "code",
   "execution_count": 9,
   "metadata": {},
   "outputs": [],
   "source": [
    "response = chat_model.invoke(messages)"
   ]
  },
  {
   "cell_type": "code",
   "execution_count": null,
   "metadata": {},
   "outputs": [],
   "source": [
    "response"
   ]
  },
  {
   "cell_type": "code",
   "execution_count": null,
   "metadata": {},
   "outputs": [],
   "source": [
    "type(response)"
   ]
  }
 ],
 "metadata": {
  "kernelspec": {
   "display_name": "Python 3",
   "language": "python",
   "name": "python3"
  },
  "language_info": {
   "codemirror_mode": {
    "name": "ipython",
    "version": 3
   },
   "file_extension": ".py",
   "mimetype": "text/x-python",
   "name": "python",
   "nbconvert_exporter": "python",
   "pygments_lexer": "ipython3",
   "version": "3.10.14"
  }
 },
 "nbformat": 4,
 "nbformat_minor": 2
}
