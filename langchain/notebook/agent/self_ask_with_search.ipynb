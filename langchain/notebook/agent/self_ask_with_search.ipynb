{
 "cells": [
  {
   "cell_type": "code",
   "execution_count": 1,
   "metadata": {},
   "outputs": [],
   "source": [
    "import os\n",
    "\n"
   ]
  },
  {
   "cell_type": "code",
   "execution_count": 43,
   "metadata": {},
   "outputs": [],
   "source": [
    "from langchain_openai import OpenAI,ChatOpenAI\n",
    "from langchain.utilities import SerpAPIWrapper\n",
    "from langchain.agents import initialize_agent, AgentType, Tool\n",
    "import langchain\n",
    "MODEL_NAME = \"gpt-3.5-turbo\"\n",
    "llm = ChatOpenAI(model=MODEL_NAME,temperature=0)\n",
    "\n",
    "# llm = OpenAI(temperature=0)"
   ]
  },
  {
   "cell_type": "code",
   "execution_count": 21,
   "metadata": {},
   "outputs": [
    {
     "data": {
      "text/plain": [
       "AIMessage(content='2023年大运会将在巴西的里约热内卢举办。', response_metadata={'token_usage': {'completion_tokens': 25, 'prompt_tokens': 23, 'total_tokens': 48}, 'model_name': 'gpt-3.5-turbo', 'system_fingerprint': 'fp_b28b39ffa8', 'finish_reason': 'stop', 'logprobs': None}, id='run-d50d3e17-9929-4a84-85e9-00b936594a66-0')"
      ]
     },
     "execution_count": 21,
     "metadata": {},
     "output_type": "execute_result"
    }
   ],
   "source": [
    "llm.invoke(\"2023年大运会举办地在哪里？\")"
   ]
  },
  {
   "cell_type": "code",
   "execution_count": 3,
   "metadata": {},
   "outputs": [],
   "source": [
    "# 实例化查询工具\n",
    "search = SerpAPIWrapper()\n",
    "tools = [\n",
    "    Tool(\n",
    "        name=\"Intermediate Answer\",\n",
    "        func=search.run,\n",
    "        description=\"useful for when you need to ask with search\",\n",
    "    )\n",
    "]"
   ]
  },
  {
   "cell_type": "code",
   "execution_count": 4,
   "metadata": {},
   "outputs": [
    {
     "name": "stderr",
     "output_type": "stream",
     "text": [
      "d:\\python_env\\py310\\lib\\site-packages\\langchain_core\\_api\\deprecation.py:117: LangChainDeprecationWarning: The function `initialize_agent` was deprecated in LangChain 0.1.0 and will be removed in 0.2.0. Use Use new agent constructor methods like create_react_agent, create_json_agent, create_structured_chat_agent, etc. instead.\n",
      "  warn_deprecated(\n"
     ]
    }
   ],
   "source": [
    "# 实例化 SELF_ASK_WITH_SEARCH Agent\n",
    "self_ask_with_search = initialize_agent(\n",
    "    tools, llm, agent=AgentType.SELF_ASK_WITH_SEARCH, verbose=True,handle_parsing_errors=True\n",
    ")"
   ]
  },
  {
   "cell_type": "code",
   "execution_count": 5,
   "metadata": {},
   "outputs": [
    {
     "name": "stdout",
     "output_type": "stream",
     "text": [
      "\n",
      "\n",
      "\u001b[1m> Entering new AgentExecutor chain...\u001b[0m\n",
      "\u001b[32;1m\u001b[1;3mCould not parse output: No.\u001b[0m\n",
      "Intermediate answer: Invalid or incomplete response\n",
      "\u001b[32;1m\u001b[1;3mFollow up: When will the Universiade be held in Chengdu?\u001b[0m\n",
      "Intermediate answer: \u001b[36;1m\u001b[1;3m2023\u001b[0m\n",
      "\u001b[32;1m\u001b[1;3mSo the final answer is: 2023\u001b[0m\n",
      "\n",
      "\u001b[1m> Finished chain.\u001b[0m\n"
     ]
    },
    {
     "data": {
      "text/plain": [
       "{'input': 'Which Universiade will be held in Chengdu?', 'output': '2023'}"
      ]
     },
     "execution_count": 5,
     "metadata": {},
     "output_type": "execute_result"
    }
   ],
   "source": [
    "# 实际运行 Agent，查询问题（正确）\n",
    "self_ask_with_search.invoke(\n",
    "    \"Which Universiade will be held in Chengdu?\"\n",
    ")"
   ]
  },
  {
   "cell_type": "code",
   "execution_count": 8,
   "metadata": {},
   "outputs": [
    {
     "name": "stdout",
     "output_type": "stream",
     "text": [
      "\n",
      "\n",
      "\u001b[1m> Entering new AgentExecutor chain...\u001b[0m\n",
      "\u001b[32;1m\u001b[1;3mCould not parse output: No.\u001b[0m\n",
      "Intermediate answer: Invalid or incomplete response\n",
      "\u001b[32;1m\u001b[1;3mFollow up: 2023年大运会是在哪个国家举办的？\u001b[0m\n",
      "Intermediate answer: \u001b[36;1m\u001b[1;3m2018年3月5日正式宣布普莱西德湖成为2023年冬季大运会的主办城市，国际大体联官员称这是大运会申办历史上最强有力的一次。 由于2021年冬季世界大学生运动会因2019冠状病毒病疫情而取消，将大运会会旗正式移交给普莱西德湖的仪式改在2022年1月于都灵举行。\u001b[0m\n",
      "\u001b[32;1m\u001b[1;3mSo the final answer is: 普莱西德湖 (Lake Placid)\u001b[0m\n",
      "\n",
      "\u001b[1m> Finished chain.\u001b[0m\n"
     ]
    },
    {
     "data": {
      "text/plain": [
       "{'input': '2023年大运会举办地在哪里？', 'output': '普莱西德湖 (Lake Placid)'}"
      ]
     },
     "execution_count": 8,
     "metadata": {},
     "output_type": "execute_result"
    }
   ],
   "source": [
    "\n",
    "self_ask_with_search.invoke(\n",
    "    \"2023年大运会举办地在哪里？\"\n",
    ")"
   ]
  },
  {
   "cell_type": "code",
   "execution_count": 9,
   "metadata": {},
   "outputs": [],
   "source": []
  },
  {
   "cell_type": "code",
   "execution_count": 10,
   "metadata": {},
   "outputs": [],
   "source": [
    "from langchain_community.utilities import SearchApiAPIWrapper"
   ]
  },
  {
   "cell_type": "code",
   "execution_count": 11,
   "metadata": {},
   "outputs": [],
   "source": [
    "search = SearchApiAPIWrapper()"
   ]
  },
  {
   "cell_type": "code",
   "execution_count": 12,
   "metadata": {},
   "outputs": [
    {
     "data": {
      "text/plain": [
       "'Barack Hussein Obama II'"
      ]
     },
     "execution_count": 12,
     "metadata": {},
     "output_type": "execute_result"
    }
   ],
   "source": [
    "search.run(\"Obama's first name?\")"
   ]
  },
  {
   "cell_type": "code",
   "execution_count": 14,
   "metadata": {},
   "outputs": [],
   "source": [
    "tools=[\n",
    " Tool(\n",
    "        name=\"Intermediate Answer\",\n",
    "        func=search.run,\n",
    "        description=\"useful for when you need to ask with search\",\n",
    "    )\n",
    "]"
   ]
  },
  {
   "cell_type": "code",
   "execution_count": 18,
   "metadata": {},
   "outputs": [],
   "source": [
    "self_ask_with_search = initialize_agent(\n",
    "    tools, llm, agent=AgentType.SELF_ASK_WITH_SEARCH, verbose=True,handle_parsing_errors=True\n",
    ")\n"
   ]
  },
  {
   "cell_type": "code",
   "execution_count": null,
   "metadata": {},
   "outputs": [],
   "source": []
  },
  {
   "cell_type": "code",
   "execution_count": 19,
   "metadata": {},
   "outputs": [
    {
     "name": "stdout",
     "output_type": "stream",
     "text": [
      "\n",
      "\n",
      "\u001b[1m> Entering new AgentExecutor chain...\u001b[0m\n",
      "\u001b[32;1m\u001b[1;3mYes. \n",
      "Follow up: How old was Plato when he died?\u001b[0m\n",
      "Intermediate answer: \u001b[36;1m\u001b[1;3meighty or eighty-one\u001b[0m\n",
      "\u001b[32;1m\u001b[1;3mFollow up: How old was Socrates when he died?\u001b[0m\n",
      "Intermediate answer: \u001b[36;1m\u001b[1;3m| Socrates | \n",
      "| -------- | \n",
      "| Born | c. 470 BC Deme Alopece, Athens | \n",
      "| Died | 399 BC (aged approximately 71) Athens | \n",
      "| Cause of death | Forced suicide by poisoning | \n",
      "| Spouse(s) | Xanthippe, Myrto (disputed) | \n",
      "\u001b[0m\n",
      "\u001b[32;1m\u001b[1;3mFollow up: How old was Aristotle when he died?\u001b[0m\n",
      "Intermediate answer: \u001b[36;1m\u001b[1;3m62 years\u001b[0m\n",
      "\u001b[32;1m\u001b[1;3mSo the final answer is: Plato\u001b[0m\n",
      "\n",
      "\u001b[1m> Finished chain.\u001b[0m\n"
     ]
    },
    {
     "data": {
      "text/plain": [
       "{'input': 'Who lived longer: Plato, Socrates, or Aristotle?',\n",
       " 'output': 'Plato'}"
      ]
     },
     "execution_count": 19,
     "metadata": {},
     "output_type": "execute_result"
    }
   ],
   "source": [
    "self_ask_with_search.invoke(\"Who lived longer: Plato, Socrates, or Aristotle?\")"
   ]
  },
  {
   "cell_type": "code",
   "execution_count": 21,
   "metadata": {},
   "outputs": [
    {
     "name": "stdout",
     "output_type": "stream",
     "text": [
      "\n",
      "\n",
      "\u001b[1m> Entering new AgentExecutor chain...\u001b[0m\n",
      "\u001b[32;1m\u001b[1;3mCould not parse output: No.\u001b[0m\n",
      "Intermediate answer: Invalid or incomplete response\n",
      "\u001b[32;1m\u001b[1;3mFollow up: 2023年大运会是在哪个国家举办的？\u001b[0m\n",
      "Intermediate answer: \u001b[36;1m\u001b[1;3m普莱西德湖\u001b[0m\n",
      "\u001b[32;1m\u001b[1;3mSo the final answer is: 普莱西德湖\u001b[0m\n",
      "\n",
      "\u001b[1m> Finished chain.\u001b[0m\n"
     ]
    },
    {
     "data": {
      "text/plain": [
       "{'input': '2023年大运会举办地在哪里？', 'output': '普莱西德湖'}"
      ]
     },
     "execution_count": 21,
     "metadata": {},
     "output_type": "execute_result"
    }
   ],
   "source": [
    "self_ask_with_search.invoke('2023年大运会举办地在哪里？')"
   ]
  },
  {
   "cell_type": "code",
   "execution_count": 22,
   "metadata": {},
   "outputs": [],
   "source": [
    "from langchain.tools import WikipediaQueryRun\n",
    "from langchain_community.utilities import WikipediaAPIWrapper"
   ]
  },
  {
   "cell_type": "code",
   "execution_count": 23,
   "metadata": {},
   "outputs": [],
   "source": [
    "wikipedia = WikipediaQueryRun(api_wrapper=WikipediaAPIWrapper())"
   ]
  },
  {
   "cell_type": "code",
   "execution_count": 25,
   "metadata": {},
   "outputs": [
    {
     "data": {
      "text/plain": [
       "'Page: Hunter × Hunter\\nSummary: Hunter × Hunter (stylized as HUNTER×HUNTER and pronounced \"hunter hunter\") is a Japanese manga series written and illustrated by Yoshihiro Togashi. It has been serialized in Shueisha\\'s shōnen manga magazine Weekly Shōnen Jump since March 1998, although the manga has frequently gone on extended hiatuses since 2006. Its chapters have been collected in 37 tankōbon volumes as of November 2022. The story focuses on a young boy named Gon Freecss who discovers that his father, who left him at a young age, is actually a world-renowned Hunter, a licensed professional who specializes in fantastical pursuits such as locating rare or unidentified animal species, treasure hunting, surveying unexplored enclaves, or hunting down lawless individuals. Gon departs on a journey to become a Hunter and eventually find his father. Along the way, Gon meets various other Hunters and encounters the paranormal.\\nHunter × Hunter was adapted into a 62-episode anime television series by Nippon Animation and directed by Kazuhiro Furuhashi, which ran on Fuji Television from October 1999 to March 2001. Three separate original video animations (OVAs) totaling 30 episodes were subsequently produced by Nippon Animation and released in Japan from 2002 to 2004. A second anime television series by Madhouse aired on Nippon Television from October 2011 to September 2014, totaling 148 episodes, with two animated theatrical films released in 2013. There are also numerous audio albums, video games, musicals, and other media based on Hunter × Hunter.\\nThe manga has been licensed for English release in North America by Viz Media since April 2005. Both television series have been also licensed by Viz Media, with the first series having aired on the Funimation Channel in 2009 and the second series broadcast on Adult Swim\\'s Toonami programming block from April 2016 to June 2019.\\nHunter × Hunter has been a huge critical and financial success and has become one of the best-selling manga series of all time, having over 84 million copies in circulation by July 2022.\\n\\n\\n\\nPage: Hunter × Hunter (2011 TV series)\\nSummary: Hunter × Hunter is an anime television series that aired from 2011 to 2014 based on Yoshihiro Togashi\\'s manga series Hunter × Hunter. The story begins with a young boy named Gon Freecss, who one day discovers that the father who he thought was dead, is in fact alive and well. He learns that his father, Ging, is a legendary \"Hunter\", an individual who has proven themselves an elite member of humanity. Despite the fact that Ging left his son with his relatives in order to pursue his own dreams, Gon becomes determined to follow in his father\\'s footsteps, pass the rigorous \"Hunter Examination\", and eventually find his father to become a Hunter in his own right.\\nThis new Hunter × Hunter anime was announced on July 24, 2011. It is a complete reboot starting from the beginning of the original manga, with no connection to the first anime television series from 1999. Produced by Nippon TV, VAP, Shueisha and Madhouse, the series is directed by Hiroshi Kōjina, with Atsushi Maekawa and Tsutomu Kamishiro handling series composition, Takahiro Yoshimatsu designing the characters and Yoshihisa Hirano composing the music. Instead of having the old cast reprise their roles for the new adaptation, the series features an entirely new cast to voice the characters. The new series premiered airing weekly on Nippon TV and the nationwide Nippon News Network from October 2, 2011.  The series started to be collected in both DVD and Blu-ray format on January 25, 2012. Viz Media has licensed the anime for a DVD/Blu-ray release in North America with an English dub. On television, the series began airing on Adult Swim\\'s Toonami programming block on April 17, 2016, and ended on June 23, 2019.The anime series\\' opening theme is alternated between the song \"Departure!\" and an alternate version titled \"Departure! -Second Version-\" both sung by Galneryus\\' vocalist Masatoshi'"
      ]
     },
     "execution_count": 25,
     "metadata": {},
     "output_type": "execute_result"
    }
   ],
   "source": [
    "wikipedia.run(\"HUNTER X HUNTER\")"
   ]
  },
  {
   "cell_type": "code",
   "execution_count": 27,
   "metadata": {},
   "outputs": [],
   "source": [
    "from langchain.python import PythonREPL\n",
    "from langchain.agents import load_tools, initialize_agent"
   ]
  },
  {
   "cell_type": "code",
   "execution_count": 28,
   "metadata": {},
   "outputs": [],
   "source": [
    "#加载工具包\n",
    "tools = load_tools(tool_names=[\"llm-math\",\"wikipedia\"],llm=llm)"
   ]
  },
  {
   "cell_type": "code",
   "execution_count": 35,
   "metadata": {},
   "outputs": [],
   "source": [
    "zeroAgent = initialize_agent(tools, llm, agent=AgentType.ZERO_SHOT_REACT_DESCRIPTION, verbose=True,handle_parsing_errors=True)"
   ]
  },
  {
   "cell_type": "code",
   "execution_count": 30,
   "metadata": {},
   "outputs": [
    {
     "name": "stdout",
     "output_type": "stream",
     "text": [
      "\n",
      "\n",
      "\u001b[1m> Entering new AgentExecutor chain...\u001b[0m\n",
      "\u001b[32;1m\u001b[1;3m我需要计算300的25%，这是一个数学问题。\n",
      "Action: Calculator\n",
      "Action Input: 300 * 0.25\u001b[0m\n",
      "Observation: \u001b[36;1m\u001b[1;3mAnswer: 75.0\u001b[0m\n",
      "Thought:\u001b[32;1m\u001b[1;3m我现在知道25%的300是75。\n",
      "Final Answer: 25% of 300 is 75.\u001b[0m\n",
      "\n",
      "\u001b[1m> Finished chain.\u001b[0m\n"
     ]
    },
    {
     "data": {
      "text/plain": [
       "{'input': '计算300的25%，思考过程请使用中文。', 'output': '25% of 300 is 75.'}"
      ]
     },
     "execution_count": 30,
     "metadata": {},
     "output_type": "execute_result"
    }
   ],
   "source": [
    "zeroAgent.invoke(\"计算300的25%，思考过程请使用中文。\") "
   ]
  },
  {
   "cell_type": "code",
   "execution_count": 36,
   "metadata": {},
   "outputs": [
    {
     "name": "stdout",
     "output_type": "stream",
     "text": [
      "\n",
      "\n",
      "\u001b[1m> Entering new AgentExecutor chain...\u001b[0m\n",
      "\u001b[32;1m\u001b[1;3mI need to calculate 25% of 300.\n",
      "Action: Calculator\n",
      "Action Input: 300 * 0.25\u001b[0m\n",
      "Observation: \u001b[36;1m\u001b[1;3mAnswer: 75.0\u001b[0m\n",
      "Thought:\u001b[32;1m\u001b[1;3mI now know the final answer\n",
      "Final Answer: 75.0\u001b[0m\n",
      "\n",
      "\u001b[1m> Finished chain.\u001b[0m\n"
     ]
    },
    {
     "data": {
      "text/plain": [
       "{'input': '计算300的25%', 'output': '75.0'}"
      ]
     },
     "execution_count": 36,
     "metadata": {},
     "output_type": "execute_result"
    }
   ],
   "source": [
    "zeroAgent.invoke(\"计算300的25%\") "
   ]
  },
  {
   "cell_type": "code",
   "execution_count": 37,
   "metadata": {},
   "outputs": [],
   "source": [
    "question = \"Tom M. Mitchell is an American computer scientist \\\n",
    "and the Founders University Professor at Carnegie Mellon University (CMU)\\\n",
    "what book did he write?\""
   ]
  },
  {
   "cell_type": "code",
   "execution_count": 38,
   "metadata": {},
   "outputs": [
    {
     "name": "stdout",
     "output_type": "stream",
     "text": [
      "\n",
      "\n",
      "\u001b[1m> Entering new AgentExecutor chain...\u001b[0m\n",
      "\u001b[32;1m\u001b[1;3mI should use Wikipedia to find out what book Tom M. Mitchell wrote.\n",
      "Action: wikipedia\n",
      "Action Input: Tom M. Mitchell\u001b[0m"
     ]
    },
    {
     "name": "stderr",
     "output_type": "stream",
     "text": [
      "d:\\python_env\\py310\\lib\\site-packages\\wikipedia\\wikipedia.py:389: GuessedAtParserWarning: No parser was explicitly specified, so I'm using the best available HTML parser for this system (\"lxml\"). This usually isn't a problem, but if you run this code on another system, or in a different virtual environment, it may use a different parser and behave differently.\n",
      "\n",
      "The code that caused this warning is on line 389 of the file d:\\python_env\\py310\\lib\\site-packages\\wikipedia\\wikipedia.py. To get rid of this warning, pass the additional argument 'features=\"lxml\"' to the BeautifulSoup constructor.\n",
      "\n",
      "  lis = BeautifulSoup(html).find_all('li')\n"
     ]
    },
    {
     "name": "stdout",
     "output_type": "stream",
     "text": [
      "\n",
      "Observation: \u001b[33;1m\u001b[1;3mPage: Tom M. Mitchell\n",
      "Summary: Tom Michael Mitchell (born August 9, 1951) is an American computer scientist and the Founders University Professor at Carnegie Mellon University (CMU). He is a founder and former Chair of the Machine Learning Department at CMU. Mitchell is known for his contributions to the advancement of machine learning, artificial intelligence, and cognitive neuroscience and is the author of the textbook Machine Learning. He is a member of the United States National Academy of Engineering since 2010. He is also a Fellow of the American Academy of Arts and Sciences, the American Association for the Advancement of Science and a Fellow and past President of the Association for the Advancement of Artificial Intelligence. In October 2018, Mitchell was appointed as the Interim Dean of the School of Computer Science at Carnegie Mellon.\n",
      "\n",
      "Page: Tom Mitchell (Australian footballer)\n",
      "Summary: Thomas Mitchell (born 31 May 1993) is a professional Australian rules footballer playing for the Collingwood Football Club in the Australian Football League (AFL). He previously played for the Sydney Swans from 2012 to 2016, and the Hawthorn Football Club between 2017 and 2022. Mitchell won the Brownlow Medal as the league's best and fairest player in 2018 and set the record for the most disposals in a VFL/AFL match, accruing 54 in a game against Collingwood during that season. Whom he would later join in 2023, en route to winning the 2023 AFL Grand Final and his first AFL premiership.\u001b[0m\n",
      "Thought:\u001b[32;1m\u001b[1;3mI need to find out what book Tom M. Mitchell wrote.\n",
      "Action: wikipedia\n",
      "Action Input: Machine Learning (book)\u001b[0m\n",
      "Observation: \u001b[33;1m\u001b[1;3mPage: Machine learning\n",
      "Summary: Machine learning (ML) is a field of study in artificial intelligence concerned with the development and study of statistical algorithms that can learn from data and generalize to unseen data, and thus perform tasks without explicit instructions. Recently, artificial neural networks have been able to surpass many previous approaches in performance.Machine learning approaches have been applied to many fields including natural language processing, computer vision, speech recognition, email filtering, agriculture, and medicine. ML is known in its application across business problems under the name predictive analytics. Although not all machine learning is statistically based, computational statistics is an important source of the field's methods.\n",
      "The mathematical foundations of ML are provided by mathematical optimization (mathematical programming) methods. Data mining is a related (parallel) field of study, focusing on exploratory data analysis (EDA) through unsupervised learning.From a theoretical viewpoint, probably approximately correct (PAC) learning provides a framework for describing machine learning.\n",
      "\n",
      "Page: Outline of machine learning\n",
      "Summary: The following outline is provided as an overview of and topical guide to machine learning:\n",
      "Machine learning – subfield of soft computing within computer science that evolved from the study of pattern recognition and computational learning theory in artificial intelligence. In 1959, Arthur Samuel defined machine learning as a \"field of study that gives computers the ability to learn without being explicitly programmed\". Machine learning explores the study and construction of algorithms that can learn from and make predictions on data. Such algorithms operate by building a model from an example training set of input observations in order to make data-driven predictions or decisions expressed as outputs, rather than following strictly static program instructions.\n",
      "\n",
      "\n",
      "\n",
      "Page: Active learning (machine learning)\n",
      "Summary: Active learning is a special case of machine learning in which a learning algorithm can interactively query a human user (or some other information source), to label new data points with the desired outputs. The human user must possess knowledge/expertise in the problem domain, including the ability to consult/research authoritative sources when necessary.  In statistics literature, it is sometimes also called optimal experimental design. The information source is also called teacher or oracle.\n",
      "There are situations in which unlabeled data is abundant but manual labeling is expensive. In such a scenario, learning algorithms can actively query the user/teacher for labels. This type of iterative supervised learning is called active learning. Since the learner chooses the examples, the number of examples to learn a concept can often be much lower than the number required in normal supervised learning. With this approach, there is a risk that the algorithm is overwhelmed by uninformative examples.  Recent developments are dedicated to multi-label active learning, hybrid active learning and active learning in a single-pass (on-line) context, combining concepts from the field of machine learning (e.g. conflict and ignorance) with adaptive, incremental learning policies in the field of online machine learning. Using active learning allows for faster development of a machine learning algorithm, when comparative updates would require a quantum or super computer.Large-scale active learning projects may benefit from crowdsourcing frameworks such as Amazon Mechanical Turk that include many humans in the active learning loop.\n",
      "\n",
      "\u001b[0m\n",
      "Thought:\u001b[32;1m\u001b[1;3mI now know the final answer\n",
      "Final Answer: Tom M. Mitchell wrote the book \"Machine Learning.\"\u001b[0m\n",
      "\n",
      "\u001b[1m> Finished chain.\u001b[0m\n"
     ]
    },
    {
     "data": {
      "text/plain": [
       "{'input': 'Tom M. Mitchell is an American computer scientist and the Founders University Professor at Carnegie Mellon University (CMU)what book did he write?',\n",
       " 'output': 'Tom M. Mitchell wrote the book \"Machine Learning.\"'}"
      ]
     },
     "execution_count": 38,
     "metadata": {},
     "output_type": "execute_result"
    }
   ],
   "source": [
    "zeroAgent.invoke(question) "
   ]
  },
  {
   "cell_type": "code",
   "execution_count": 39,
   "metadata": {},
   "outputs": [
    {
     "name": "stdout",
     "output_type": "stream",
     "text": [
      "\n",
      "\n",
      "\u001b[1m> Entering new AgentExecutor chain...\u001b[0m\n",
      "\u001b[32;1m\u001b[1;3mI need to find out the current average price of roses in the market and then calculate a 15% markup.\n",
      "Action: Search\n",
      "Action Input: \"current average price of roses market\"\u001b[0m\n",
      "Observation: \u001b[36;1m\u001b[1;3mFinanceBuzz, a financial information resource, recently analyzed the data to find average prices by state. Nationally, the average cost for a dozen roses is $88.61.\u001b[0m\n",
      "Thought:\u001b[32;1m\u001b[1;3mI now have the current average price of roses in the market.\n",
      "Action: Calculator\n",
      "Action Input: $88.61 * 1.15\u001b[0m\n",
      "Observation: \u001b[33;1m\u001b[1;3mAnswer: 101.90149999999998\u001b[0m\n",
      "Thought:\u001b[32;1m\u001b[1;3mI now know the final answer.\n",
      "Final Answer: The current average price of roses in the market is $88.61. If you add a 15% markup, the selling price should be $101.90.\u001b[0m\n",
      "\n",
      "\u001b[1m> Finished chain.\u001b[0m\n"
     ]
    },
    {
     "data": {
      "text/plain": [
       "{'input': '目前市场上玫瑰花的平均价格是多少？如果我在此基础上加价15%卖出，应该如何定价？',\n",
       " 'output': 'The current average price of roses in the market is $88.61. If you add a 15% markup, the selling price should be $101.90.'}"
      ]
     },
     "execution_count": 39,
     "metadata": {},
     "output_type": "execute_result"
    }
   ],
   "source": [
    "# 设置工具\n",
    "tools = load_tools([\"serpapi\", \"llm-math\"], llm=llm)\n",
    "\n",
    "# 初始化Agent\n",
    "agent = initialize_agent(tools, llm, agent=AgentType.ZERO_SHOT_REACT_DESCRIPTION, verbose=True,handle_parsing_errors=True)\n",
    "\n"
   ]
  },
  {
   "cell_type": "code",
   "execution_count": 40,
   "metadata": {},
   "outputs": [
    {
     "name": "stdout",
     "output_type": "stream",
     "text": [
      "\n",
      "\n",
      "\u001b[1m> Entering new AgentExecutor chain...\u001b[0m\n",
      "\u001b[32;1m\u001b[1;3m我需要使用搜索引擎来查找目前市场上玫瑰花的平均价格，然后使用计算器来计算加价15%后的价格。\n",
      "Action: Search\n",
      "Action Input: 目前市场上玫瑰花的平均价格\u001b[0m\n",
      "Observation: \u001b[36;1m\u001b[1;3m['据广州岭南花卉市场的部分摊主分析，今年昆明阴雨天气较多，鲜花种植地玫瑰产量下降，再加上临近节假日，鲜花需求量变化快导致供需失衡，玫瑰的价格也随之 ...', '位于西部地区的成都市鲜花批发市场里，玫瑰批发价相比去年也已经翻倍，1扎20支红玫瑰平均每天涨10-15元。在北方的郑州花卉市场，去年最低40元一扎（20 ...', '以上海南京西路附近的一家花店为例，11支红花玫瑰花束价格为258元，平均一支高达23元。 ... 叮咚买菜鲜花项目负责人俞水介绍，根据目前的 ... 上预售比去年 ...', '成都市场上的国产玫瑰，主要原产地在昆明。以往出现过“捂盘缺货”的问题，导致情人节当天玫瑰花价格高得离谱，甚至一天一价。 ... 价是2000元，因为现在已经 ...', '这几天如果你经过花店，就会发现鲜花价格又上涨了。2月14日是西方情人节，作为美好爱情的象征，玫瑰往往是情人节前几天的畅销商品。', '... 玫瑰花的需求逐年扩大，批发平均价格大都在0.5-0.6元/枝。 尤其是进入2022年玫瑰花价暴涨。有相关数据显示，11支玫瑰就能卖到将近300元的情人节，而 ...', '几天前叫价2元一支的红色、粉色玫瑰花，目前的零售价已渐行上涨。在一些街道的花店，同类玫瑰花的价格已卖到3元一支，更高的甚至还要4元。一经销商表示，“现在还算便宜，过 ...', '据昆明国际花卉拍卖交易中心数据，2月5日是情人节高峰期备货第一天，拍卖交易总量约411万枝左右，单头玫瑰A级最高价10.41元/枝，多头玫瑰最高价12.76元/枝；9日，拍卖交易总量约483万枝左右，单头玫瑰A级最高价15.56元/枝，多头玫瑰最高价12.65元/枝。 这几乎是往年花店 ...', '以玫瑰为例，云南昆明国际花卉拍卖交易中心统计数据显示，玫瑰的市场价格指数已突破800点，相较2023年1月，已上涨约500点，各品种玫瑰平均价格上涨超过50% ...', '目前我国玫瑰花市场需求主要集中在2月14日 ... 近两年来，随着人民生活水平的提高，“她经济”的崛起，玫瑰花的需求逐年扩大，批发平均价格大都在0.5-0.6元/枝 ...']\u001b[0m\n",
      "Thought:\u001b[32;1m\u001b[1;3m我需要计算器来计算加价15%后的价格。\n",
      "Action: Calculator\n",
      "Action Input: 258 * 1.15\u001b[0m\n",
      "Observation: \u001b[33;1m\u001b[1;3mAnswer: 296.7\u001b[0m\n",
      "Thought:\u001b[32;1m\u001b[1;3m我现在知道了最终答案\n",
      "Final Answer: 296.7\u001b[0m\n",
      "\n",
      "\u001b[1m> Finished chain.\u001b[0m\n"
     ]
    },
    {
     "data": {
      "text/plain": [
       "{'input': '目前市场上玫瑰花的平均价格是多少？如果我在此基础上加价15%卖出，应该如何定价？请用中文给出处理过程',\n",
       " 'output': '296.7'}"
      ]
     },
     "execution_count": 40,
     "metadata": {},
     "output_type": "execute_result"
    }
   ],
   "source": [
    "# 跑起来\n",
    "agent.invoke(\"目前市场上玫瑰花的平均价格是多少？如果我在此基础上加价15%卖出，应该如何定价？请用中文给出处理过程\")"
   ]
  },
  {
   "cell_type": "code",
   "execution_count": 44,
   "metadata": {},
   "outputs": [],
   "source": [
    "langchain.debug = True"
   ]
  },
  {
   "cell_type": "code",
   "execution_count": 45,
   "metadata": {},
   "outputs": [
    {
     "name": "stdout",
     "output_type": "stream",
     "text": [
      "\u001b[32;1m\u001b[1;3m[chain/start]\u001b[0m \u001b[1m[1:chain:AgentExecutor] Entering Chain run with input:\n",
      "\u001b[0m{\n",
      "  \"input\": \"目前市场上玫瑰花的平均价格是多少？如果我在此基础上加价15%卖出，应该如何定价？请用中文给出处理过程\"\n",
      "}\n",
      "\u001b[32;1m\u001b[1;3m[chain/start]\u001b[0m \u001b[1m[1:chain:AgentExecutor > 2:chain:LLMChain] Entering Chain run with input:\n",
      "\u001b[0m{\n",
      "  \"input\": \"目前市场上玫瑰花的平均价格是多少？如果我在此基础上加价15%卖出，应该如何定价？请用中文给出处理过程\",\n",
      "  \"agent_scratchpad\": \"\",\n",
      "  \"stop\": [\n",
      "    \"\\nObservation:\",\n",
      "    \"\\n\\tObservation:\"\n",
      "  ]\n",
      "}\n",
      "\u001b[32;1m\u001b[1;3m[llm/start]\u001b[0m \u001b[1m[1:chain:AgentExecutor > 2:chain:LLMChain > 3:llm:ChatOpenAI] Entering LLM run with input:\n",
      "\u001b[0m{\n",
      "  \"prompts\": [\n",
      "    \"Human: Answer the following questions as best you can. You have access to the following tools:\\n\\nSearch: A search engine. Useful for when you need to answer questions about current events. Input should be a search query.\\nCalculator: Useful for when you need to answer questions about math.\\n\\nUse the following format:\\n\\nQuestion: the input question you must answer\\nThought: you should always think about what to do\\nAction: the action to take, should be one of [Search, Calculator]\\nAction Input: the input to the action\\nObservation: the result of the action\\n... (this Thought/Action/Action Input/Observation can repeat N times)\\nThought: I now know the final answer\\nFinal Answer: the final answer to the original input question\\n\\nBegin!\\n\\nQuestion: 目前市场上玫瑰花的平均价格是多少？如果我在此基础上加价15%卖出，应该如何定价？请用中文给出处理过程\\nThought:\"\n",
      "  ]\n",
      "}\n",
      "\u001b[36;1m\u001b[1;3m[llm/end]\u001b[0m \u001b[1m[1:chain:AgentExecutor > 2:chain:LLMChain > 3:llm:ChatOpenAI] [3.15s] Exiting LLM run with output:\n",
      "\u001b[0m{\n",
      "  \"generations\": [\n",
      "    [\n",
      "      {\n",
      "        \"text\": \"我需要使用搜索引擎来查找目前市场上玫瑰花的平均价格，然后使用计算器来计算加价15%后的价格。\\nAction: Search\\nAction Input: \\\"目前市场上玫瑰花的平均价格\\\"\",\n",
      "        \"generation_info\": {\n",
      "          \"finish_reason\": \"stop\",\n",
      "          \"logprobs\": null\n",
      "        },\n",
      "        \"type\": \"ChatGeneration\",\n",
      "        \"message\": {\n",
      "          \"lc\": 1,\n",
      "          \"type\": \"constructor\",\n",
      "          \"id\": [\n",
      "            \"langchain\",\n",
      "            \"schema\",\n",
      "            \"messages\",\n",
      "            \"AIMessage\"\n",
      "          ],\n",
      "          \"kwargs\": {\n",
      "            \"content\": \"我需要使用搜索引擎来查找目前市场上玫瑰花的平均价格，然后使用计算器来计算加价15%后的价格。\\nAction: Search\\nAction Input: \\\"目前市场上玫瑰花的平均价格\\\"\",\n",
      "            \"additional_kwargs\": {},\n",
      "            \"name\": null,\n",
      "            \"id\": \"run-8a2c78c9-52ef-47da-aacd-38b7225bc49e-0\"\n",
      "          }\n",
      "        }\n",
      "      }\n",
      "    ]\n",
      "  ],\n",
      "  \"llm_output\": {\n",
      "    \"token_usage\": {\n",
      "      \"completion_tokens\": 72,\n",
      "      \"prompt_tokens\": 220,\n",
      "      \"total_tokens\": 292\n",
      "    },\n",
      "    \"model_name\": \"gpt-3.5-turbo\",\n",
      "    \"system_fingerprint\": \"fp_b28b39ffa8\"\n",
      "  },\n",
      "  \"run\": null\n",
      "}\n",
      "\u001b[36;1m\u001b[1;3m[chain/end]\u001b[0m \u001b[1m[1:chain:AgentExecutor > 2:chain:LLMChain] [3.15s] Exiting Chain run with output:\n",
      "\u001b[0m{\n",
      "  \"text\": \"我需要使用搜索引擎来查找目前市场上玫瑰花的平均价格，然后使用计算器来计算加价15%后的价格。\\nAction: Search\\nAction Input: \\\"目前市场上玫瑰花的平均价格\\\"\"\n",
      "}\n",
      "\u001b[32;1m\u001b[1;3m[tool/start]\u001b[0m \u001b[1m[1:chain:AgentExecutor > 4:tool:Search] Entering Tool run with input:\n",
      "\u001b[0m\"目前市场上玫瑰花的平均价格\"\n",
      "\u001b[36;1m\u001b[1;3m[tool/end]\u001b[0m \u001b[1m[1:chain:AgentExecutor > 4:tool:Search] [2.60s] Exiting Tool run with output:\n",
      "\u001b[0m\"['据广州岭南花卉市场的部分摊主分析，今年昆明阴雨天气较多，鲜花种植地玫瑰产量下降，再加上临近节假日，鲜花需求量变化快导致供需失衡，玫瑰的价格也随之 ...', '位于西部地区的成都市鲜花批发市场里，玫瑰批发价相比去年也已经翻倍，1扎20支红玫瑰平均每天涨10-15元。在北方的郑州花卉市场，去年最低40元一扎（20 ...', '以上海南京西路附近的一家花店为例，11支红花玫瑰花束价格为258元，平均一支高达23元。 ... 叮咚买菜鲜花项目负责人俞水介绍，根据目前的 ... 上预售比去年 ...', '成都市场上的国产玫瑰，主要原产地在昆明。以往出现过“捂盘缺货”的问题，导致情人节当天玫瑰花价格高得离谱，甚至一天一价。 ... 价是2000元，因为现在已经 ...', '这几天如果你经过花店，就会发现鲜花价格又上涨了。2月14日是西方情人节，作为美好爱情的象征，玫瑰往往是情人节前几天的畅销商品。', '... 玫瑰花的需求逐年扩大，批发平均价格大都在0.5-0.6元/枝。 尤其是进入2022年玫瑰花价暴涨。有相关数据显示，11支玫瑰就能卖到将近300元的情人节，而 ...', '几天前叫价2元一支的红色、粉色玫瑰花，目前的零售价已渐行上涨。在一些街道的花店，同类玫瑰花的价格已卖到3元一支，更高的甚至还要4元。一经销商表示，“现在还算便宜，过 ...', '据昆明国际花卉拍卖交易中心数据，2月5日是情人节高峰期备货第一天，拍卖交易总量约411万枝左右，单头玫瑰A级最高价10.41元/枝，多头玫瑰最高价12.76元/枝；9日，拍卖交易总量约483万枝左右，单头玫瑰A级最高价15.56元/枝，多头玫瑰最高价12.65元/枝。 这几乎是往年花店 ...', '以玫瑰为例，云南昆明国际花卉拍卖交易中心统计数据显示，玫瑰的市场价格指数已突破800点，相较2023年1月，已上涨约500点，各品种玫瑰平均价格上涨超过50% ...', '目前我国玫瑰花市场需求主要集中在2月14日 ... 近两年来，随着人民生活水平的提高，“她经济”的崛起，玫瑰花的需求逐年扩大，批发平均价格大都在0.5-0.6元/枝 ...']\"\n",
      "\u001b[32;1m\u001b[1;3m[chain/start]\u001b[0m \u001b[1m[1:chain:AgentExecutor > 5:chain:LLMChain] Entering Chain run with input:\n",
      "\u001b[0m{\n",
      "  \"input\": \"目前市场上玫瑰花的平均价格是多少？如果我在此基础上加价15%卖出，应该如何定价？请用中文给出处理过程\",\n",
      "  \"agent_scratchpad\": \"我需要使用搜索引擎来查找目前市场上玫瑰花的平均价格，然后使用计算器来计算加价15%后的价格。\\nAction: Search\\nAction Input: \\\"目前市场上玫瑰花的平均价格\\\"\\nObservation: ['据广州岭南花卉市场的部分摊主分析，今年昆明阴雨天气较多，鲜花种植地玫瑰产量下降，再加上临近节假日，鲜花需求量变化快导致供需失衡，玫瑰的价格也随之 ...', '位于西部地区的成都市鲜花批发市场里，玫瑰批发价相比去年也已经翻倍，1扎20支红玫瑰平均每天涨10-15元。在北方的郑州花卉市场，去年最低40元一扎（20 ...', '以上海南京西路附近的一家花店为例，11支红花玫瑰花束价格为258元，平均一支高达23元。 ... 叮咚买菜鲜花项目负责人俞水介绍，根据目前的 ... 上预售比去年 ...', '成都市场上的国产玫瑰，主要原产地在昆明。以往出现过“捂盘缺货”的问题，导致情人节当天玫瑰花价格高得离谱，甚至一天一价。 ... 价是2000元，因为现在已经 ...', '这几天如果你经过花店，就会发现鲜花价格又上涨了。2月14日是西方情人节，作为美好爱情的象征，玫瑰往往是情人节前几天的畅销商品。', '... 玫瑰花的需求逐年扩大，批发平均价格大都在0.5-0.6元/枝。 尤其是进入2022年玫瑰花价暴涨。有相关数据显示，11支玫瑰就能卖到将近300元的情人节，而 ...', '几天前叫价2元一支的红色、粉色玫瑰花，目前的零售价已渐行上涨。在一些街道的花店，同类玫瑰花的价格已卖到3元一支，更高的甚至还要4元。一经销商表示，“现在还算便宜，过 ...', '据昆明国际花卉拍卖交易中心数据，2月5日是情人节高峰期备货第一天，拍卖交易总量约411万枝左右，单头玫瑰A级最高价10.41元/枝，多头玫瑰最高价12.76元/枝；9日，拍卖交易总量约483万枝左右，单头玫瑰A级最高价15.56元/枝，多头玫瑰最高价12.65元/枝。 这几乎是往年花店 ...', '以玫瑰为例，云南昆明国际花卉拍卖交易中心统计数据显示，玫瑰的市场价格指数已突破800点，相较2023年1月，已上涨约500点，各品种玫瑰平均价格上涨超过50% ...', '目前我国玫瑰花市场需求主要集中在2月14日 ... 近两年来，随着人民生活水平的提高，“她经济”的崛起，玫瑰花的需求逐年扩大，批发平均价格大都在0.5-0.6元/枝 ...']\\nThought:\",\n",
      "  \"stop\": [\n",
      "    \"\\nObservation:\",\n",
      "    \"\\n\\tObservation:\"\n",
      "  ]\n",
      "}\n",
      "\u001b[32;1m\u001b[1;3m[llm/start]\u001b[0m \u001b[1m[1:chain:AgentExecutor > 5:chain:LLMChain > 6:llm:ChatOpenAI] Entering LLM run with input:\n",
      "\u001b[0m{\n",
      "  \"prompts\": [\n",
      "    \"Human: Answer the following questions as best you can. You have access to the following tools:\\n\\nSearch: A search engine. Useful for when you need to answer questions about current events. Input should be a search query.\\nCalculator: Useful for when you need to answer questions about math.\\n\\nUse the following format:\\n\\nQuestion: the input question you must answer\\nThought: you should always think about what to do\\nAction: the action to take, should be one of [Search, Calculator]\\nAction Input: the input to the action\\nObservation: the result of the action\\n... (this Thought/Action/Action Input/Observation can repeat N times)\\nThought: I now know the final answer\\nFinal Answer: the final answer to the original input question\\n\\nBegin!\\n\\nQuestion: 目前市场上玫瑰花的平均价格是多少？如果我在此基础上加价15%卖出，应该如何定价？请用中文给出处理过程\\nThought:我需要使用搜索引擎来查找目前市场上玫瑰花的平均价格，然后使用计算器来计算加价15%后的价格。\\nAction: Search\\nAction Input: \\\"目前市场上玫瑰花的平均价格\\\"\\nObservation: ['据广州岭南花卉市场的部分摊主分析，今年昆明阴雨天气较多，鲜花种植地玫瑰产量下降，再加上临近节假日，鲜花需求量变化快导致供需失衡，玫瑰的价格也随之 ...', '位于西部地区的成都市鲜花批发市场里，玫瑰批发价相比去年也已经翻倍，1扎20支红玫瑰平均每天涨10-15元。在北方的郑州花卉市场，去年最低40元一扎（20 ...', '以上海南京西路附近的一家花店为例，11支红花玫瑰花束价格为258元，平均一支高达23元。 ... 叮咚买菜鲜花项目负责人俞水介绍，根据目前的 ... 上预售比去年 ...', '成都市场上的国产玫瑰，主要原产地在昆明。以往出现过“捂盘缺货”的问题，导致情人节当天玫瑰花价格高得离谱，甚至一天一价。 ... 价是2000元，因为现在已经 ...', '这几天如果你经过花店，就会发现鲜花价格又上涨了。2月14日是西方情人节，作为美好爱情的象征，玫瑰往往是情人节前几天的畅销商品。', '... 玫瑰花的需求逐年扩大，批发平均价格大都在0.5-0.6元/枝。 尤其是进入2022年玫瑰花价暴涨。有相关数据显示，11支玫瑰就能卖到将近300元的情人节，而 ...', '几天前叫价2元一支的红色、粉色玫瑰花，目前的零售价已渐行上涨。在一些街道的花店，同类玫瑰花的价格已卖到3元一支，更高的甚至还要4元。一经销商表示，“现在还算便宜，过 ...', '据昆明国际花卉拍卖交易中心数据，2月5日是情人节高峰期备货第一天，拍卖交易总量约411万枝左右，单头玫瑰A级最高价10.41元/枝，多头玫瑰最高价12.76元/枝；9日，拍卖交易总量约483万枝左右，单头玫瑰A级最高价15.56元/枝，多头玫瑰最高价12.65元/枝。 这几乎是往年花店 ...', '以玫瑰为例，云南昆明国际花卉拍卖交易中心统计数据显示，玫瑰的市场价格指数已突破800点，相较2023年1月，已上涨约500点，各品种玫瑰平均价格上涨超过50% ...', '目前我国玫瑰花市场需求主要集中在2月14日 ... 近两年来，随着人民生活水平的提高，“她经济”的崛起，玫瑰花的需求逐年扩大，批发平均价格大都在0.5-0.6元/枝 ...']\\nThought:\"\n",
      "  ]\n",
      "}\n",
      "\u001b[36;1m\u001b[1;3m[llm/end]\u001b[0m \u001b[1m[1:chain:AgentExecutor > 5:chain:LLMChain > 6:llm:ChatOpenAI] [2.14s] Exiting LLM run with output:\n",
      "\u001b[0m{\n",
      "  \"generations\": [\n",
      "    [\n",
      "      {\n",
      "        \"text\": \"现在我需要使用计算器来计算加价15%后的价格。\\nAction: Calculator\\nAction Input: 258 * 1.15\",\n",
      "        \"generation_info\": {\n",
      "          \"finish_reason\": \"stop\",\n",
      "          \"logprobs\": null\n",
      "        },\n",
      "        \"type\": \"ChatGeneration\",\n",
      "        \"message\": {\n",
      "          \"lc\": 1,\n",
      "          \"type\": \"constructor\",\n",
      "          \"id\": [\n",
      "            \"langchain\",\n",
      "            \"schema\",\n",
      "            \"messages\",\n",
      "            \"AIMessage\"\n",
      "          ],\n",
      "          \"kwargs\": {\n",
      "            \"content\": \"现在我需要使用计算器来计算加价15%后的价格。\\nAction: Calculator\\nAction Input: 258 * 1.15\",\n",
      "            \"additional_kwargs\": {},\n",
      "            \"name\": null,\n",
      "            \"id\": \"run-359db3d0-e395-4878-a834-901b562e5b95-0\"\n",
      "          }\n",
      "        }\n",
      "      }\n",
      "    ]\n",
      "  ],\n",
      "  \"llm_output\": {\n",
      "    \"token_usage\": {\n",
      "      \"completion_tokens\": 33,\n",
      "      \"prompt_tokens\": 1309,\n",
      "      \"total_tokens\": 1342\n",
      "    },\n",
      "    \"model_name\": \"gpt-3.5-turbo\",\n",
      "    \"system_fingerprint\": \"fp_b28b39ffa8\"\n",
      "  },\n",
      "  \"run\": null\n",
      "}\n",
      "\u001b[36;1m\u001b[1;3m[chain/end]\u001b[0m \u001b[1m[1:chain:AgentExecutor > 5:chain:LLMChain] [2.15s] Exiting Chain run with output:\n",
      "\u001b[0m{\n",
      "  \"text\": \"现在我需要使用计算器来计算加价15%后的价格。\\nAction: Calculator\\nAction Input: 258 * 1.15\"\n",
      "}\n",
      "\u001b[32;1m\u001b[1;3m[tool/start]\u001b[0m \u001b[1m[1:chain:AgentExecutor > 7:tool:Calculator] Entering Tool run with input:\n",
      "\u001b[0m\"258 * 1.15\"\n",
      "\u001b[32;1m\u001b[1;3m[chain/start]\u001b[0m \u001b[1m[1:chain:AgentExecutor > 7:tool:Calculator > 8:chain:LLMMathChain] Entering Chain run with input:\n",
      "\u001b[0m{\n",
      "  \"question\": \"258 * 1.15\"\n",
      "}\n",
      "\u001b[32;1m\u001b[1;3m[chain/start]\u001b[0m \u001b[1m[1:chain:AgentExecutor > 7:tool:Calculator > 8:chain:LLMMathChain > 9:chain:LLMChain] Entering Chain run with input:\n",
      "\u001b[0m{\n",
      "  \"question\": \"258 * 1.15\",\n",
      "  \"stop\": [\n",
      "    \"```output\"\n",
      "  ]\n",
      "}\n",
      "\u001b[32;1m\u001b[1;3m[llm/start]\u001b[0m \u001b[1m[1:chain:AgentExecutor > 7:tool:Calculator > 8:chain:LLMMathChain > 9:chain:LLMChain > 10:llm:ChatOpenAI] Entering LLM run with input:\n",
      "\u001b[0m{\n",
      "  \"prompts\": [\n",
      "    \"Human: Translate a math problem into a expression that can be executed using Python's numexpr library. Use the output of running this code to answer the question.\\n\\nQuestion: ${Question with math problem.}\\n```text\\n${single line mathematical expression that solves the problem}\\n```\\n...numexpr.evaluate(text)...\\n```output\\n${Output of running the code}\\n```\\nAnswer: ${Answer}\\n\\nBegin.\\n\\nQuestion: What is 37593 * 67?\\n```text\\n37593 * 67\\n```\\n...numexpr.evaluate(\\\"37593 * 67\\\")...\\n```output\\n2518731\\n```\\nAnswer: 2518731\\n\\nQuestion: 37593^(1/5)\\n```text\\n37593**(1/5)\\n```\\n...numexpr.evaluate(\\\"37593**(1/5)\\\")...\\n```output\\n8.222831614237718\\n```\\nAnswer: 8.222831614237718\\n\\nQuestion: 258 * 1.15\"\n",
      "  ]\n",
      "}\n",
      "\u001b[36;1m\u001b[1;3m[llm/end]\u001b[0m \u001b[1m[1:chain:AgentExecutor > 7:tool:Calculator > 8:chain:LLMMathChain > 9:chain:LLMChain > 10:llm:ChatOpenAI] [1.33s] Exiting LLM run with output:\n",
      "\u001b[0m{\n",
      "  \"generations\": [\n",
      "    [\n",
      "      {\n",
      "        \"text\": \"```text\\n258 * 1.15\\n```\\n...numexpr.evaluate(\\\"258 * 1.15\\\")...\\n\",\n",
      "        \"generation_info\": {\n",
      "          \"finish_reason\": \"stop\",\n",
      "          \"logprobs\": null\n",
      "        },\n",
      "        \"type\": \"ChatGeneration\",\n",
      "        \"message\": {\n",
      "          \"lc\": 1,\n",
      "          \"type\": \"constructor\",\n",
      "          \"id\": [\n",
      "            \"langchain\",\n",
      "            \"schema\",\n",
      "            \"messages\",\n",
      "            \"AIMessage\"\n",
      "          ],\n",
      "          \"kwargs\": {\n",
      "            \"content\": \"```text\\n258 * 1.15\\n```\\n...numexpr.evaluate(\\\"258 * 1.15\\\")...\\n\",\n",
      "            \"additional_kwargs\": {},\n",
      "            \"name\": null,\n",
      "            \"id\": \"run-3a0a6d94-47bc-46f9-920e-bc83d5c84097-0\"\n",
      "          }\n",
      "        }\n",
      "      }\n",
      "    ]\n",
      "  ],\n",
      "  \"llm_output\": {\n",
      "    \"token_usage\": {\n",
      "      \"completion_tokens\": 25,\n",
      "      \"prompt_tokens\": 206,\n",
      "      \"total_tokens\": 231\n",
      "    },\n",
      "    \"model_name\": \"gpt-3.5-turbo\",\n",
      "    \"system_fingerprint\": \"fp_b28b39ffa8\"\n",
      "  },\n",
      "  \"run\": null\n",
      "}\n",
      "\u001b[36;1m\u001b[1;3m[chain/end]\u001b[0m \u001b[1m[1:chain:AgentExecutor > 7:tool:Calculator > 8:chain:LLMMathChain > 9:chain:LLMChain] [1.33s] Exiting Chain run with output:\n",
      "\u001b[0m{\n",
      "  \"text\": \"```text\\n258 * 1.15\\n```\\n...numexpr.evaluate(\\\"258 * 1.15\\\")...\\n\"\n",
      "}\n",
      "\u001b[36;1m\u001b[1;3m[chain/end]\u001b[0m \u001b[1m[1:chain:AgentExecutor > 7:tool:Calculator > 8:chain:LLMMathChain] [1.33s] Exiting Chain run with output:\n",
      "\u001b[0m{\n",
      "  \"answer\": \"Answer: 296.7\"\n",
      "}\n",
      "\u001b[36;1m\u001b[1;3m[tool/end]\u001b[0m \u001b[1m[1:chain:AgentExecutor > 7:tool:Calculator] [1.33s] Exiting Tool run with output:\n",
      "\u001b[0m\"Answer: 296.7\"\n",
      "\u001b[32;1m\u001b[1;3m[chain/start]\u001b[0m \u001b[1m[1:chain:AgentExecutor > 11:chain:LLMChain] Entering Chain run with input:\n",
      "\u001b[0m{\n",
      "  \"input\": \"目前市场上玫瑰花的平均价格是多少？如果我在此基础上加价15%卖出，应该如何定价？请用中文给出处理过程\",\n",
      "  \"agent_scratchpad\": \"我需要使用搜索引擎来查找目前市场上玫瑰花的平均价格，然后使用计算器来计算加价15%后的价格。\\nAction: Search\\nAction Input: \\\"目前市场上玫瑰花的平均价格\\\"\\nObservation: ['据广州岭南花卉市场的部分摊主分析，今年昆明阴雨天气较多，鲜花种植地玫瑰产量下降，再加上临近节假日，鲜花需求量变化快导致供需失衡，玫瑰的价格也随之 ...', '位于西部地区的成都市鲜花批发市场里，玫瑰批发价相比去年也已经翻倍，1扎20支红玫瑰平均每天涨10-15元。在北方的郑州花卉市场，去年最低40元一扎（20 ...', '以上海南京西路附近的一家花店为例，11支红花玫瑰花束价格为258元，平均一支高达23元。 ... 叮咚买菜鲜花项目负责人俞水介绍，根据目前的 ... 上预售比去年 ...', '成都市场上的国产玫瑰，主要原产地在昆明。以往出现过“捂盘缺货”的问题，导致情人节当天玫瑰花价格高得离谱，甚至一天一价。 ... 价是2000元，因为现在已经 ...', '这几天如果你经过花店，就会发现鲜花价格又上涨了。2月14日是西方情人节，作为美好爱情的象征，玫瑰往往是情人节前几天的畅销商品。', '... 玫瑰花的需求逐年扩大，批发平均价格大都在0.5-0.6元/枝。 尤其是进入2022年玫瑰花价暴涨。有相关数据显示，11支玫瑰就能卖到将近300元的情人节，而 ...', '几天前叫价2元一支的红色、粉色玫瑰花，目前的零售价已渐行上涨。在一些街道的花店，同类玫瑰花的价格已卖到3元一支，更高的甚至还要4元。一经销商表示，“现在还算便宜，过 ...', '据昆明国际花卉拍卖交易中心数据，2月5日是情人节高峰期备货第一天，拍卖交易总量约411万枝左右，单头玫瑰A级最高价10.41元/枝，多头玫瑰最高价12.76元/枝；9日，拍卖交易总量约483万枝左右，单头玫瑰A级最高价15.56元/枝，多头玫瑰最高价12.65元/枝。 这几乎是往年花店 ...', '以玫瑰为例，云南昆明国际花卉拍卖交易中心统计数据显示，玫瑰的市场价格指数已突破800点，相较2023年1月，已上涨约500点，各品种玫瑰平均价格上涨超过50% ...', '目前我国玫瑰花市场需求主要集中在2月14日 ... 近两年来，随着人民生活水平的提高，“她经济”的崛起，玫瑰花的需求逐年扩大，批发平均价格大都在0.5-0.6元/枝 ...']\\nThought:现在我需要使用计算器来计算加价15%后的价格。\\nAction: Calculator\\nAction Input: 258 * 1.15\\nObservation: Answer: 296.7\\nThought:\",\n",
      "  \"stop\": [\n",
      "    \"\\nObservation:\",\n",
      "    \"\\n\\tObservation:\"\n",
      "  ]\n",
      "}\n",
      "\u001b[32;1m\u001b[1;3m[llm/start]\u001b[0m \u001b[1m[1:chain:AgentExecutor > 11:chain:LLMChain > 12:llm:ChatOpenAI] Entering LLM run with input:\n",
      "\u001b[0m{\n",
      "  \"prompts\": [\n",
      "    \"Human: Answer the following questions as best you can. You have access to the following tools:\\n\\nSearch: A search engine. Useful for when you need to answer questions about current events. Input should be a search query.\\nCalculator: Useful for when you need to answer questions about math.\\n\\nUse the following format:\\n\\nQuestion: the input question you must answer\\nThought: you should always think about what to do\\nAction: the action to take, should be one of [Search, Calculator]\\nAction Input: the input to the action\\nObservation: the result of the action\\n... (this Thought/Action/Action Input/Observation can repeat N times)\\nThought: I now know the final answer\\nFinal Answer: the final answer to the original input question\\n\\nBegin!\\n\\nQuestion: 目前市场上玫瑰花的平均价格是多少？如果我在此基础上加价15%卖出，应该如何定价？请用中文给出处理过程\\nThought:我需要使用搜索引擎来查找目前市场上玫瑰花的平均价格，然后使用计算器来计算加价15%后的价格。\\nAction: Search\\nAction Input: \\\"目前市场上玫瑰花的平均价格\\\"\\nObservation: ['据广州岭南花卉市场的部分摊主分析，今年昆明阴雨天气较多，鲜花种植地玫瑰产量下降，再加上临近节假日，鲜花需求量变化快导致供需失衡，玫瑰的价格也随之 ...', '位于西部地区的成都市鲜花批发市场里，玫瑰批发价相比去年也已经翻倍，1扎20支红玫瑰平均每天涨10-15元。在北方的郑州花卉市场，去年最低40元一扎（20 ...', '以上海南京西路附近的一家花店为例，11支红花玫瑰花束价格为258元，平均一支高达23元。 ... 叮咚买菜鲜花项目负责人俞水介绍，根据目前的 ... 上预售比去年 ...', '成都市场上的国产玫瑰，主要原产地在昆明。以往出现过“捂盘缺货”的问题，导致情人节当天玫瑰花价格高得离谱，甚至一天一价。 ... 价是2000元，因为现在已经 ...', '这几天如果你经过花店，就会发现鲜花价格又上涨了。2月14日是西方情人节，作为美好爱情的象征，玫瑰往往是情人节前几天的畅销商品。', '... 玫瑰花的需求逐年扩大，批发平均价格大都在0.5-0.6元/枝。 尤其是进入2022年玫瑰花价暴涨。有相关数据显示，11支玫瑰就能卖到将近300元的情人节，而 ...', '几天前叫价2元一支的红色、粉色玫瑰花，目前的零售价已渐行上涨。在一些街道的花店，同类玫瑰花的价格已卖到3元一支，更高的甚至还要4元。一经销商表示，“现在还算便宜，过 ...', '据昆明国际花卉拍卖交易中心数据，2月5日是情人节高峰期备货第一天，拍卖交易总量约411万枝左右，单头玫瑰A级最高价10.41元/枝，多头玫瑰最高价12.76元/枝；9日，拍卖交易总量约483万枝左右，单头玫瑰A级最高价15.56元/枝，多头玫瑰最高价12.65元/枝。 这几乎是往年花店 ...', '以玫瑰为例，云南昆明国际花卉拍卖交易中心统计数据显示，玫瑰的市场价格指数已突破800点，相较2023年1月，已上涨约500点，各品种玫瑰平均价格上涨超过50% ...', '目前我国玫瑰花市场需求主要集中在2月14日 ... 近两年来，随着人民生活水平的提高，“她经济”的崛起，玫瑰花的需求逐年扩大，批发平均价格大都在0.5-0.6元/枝 ...']\\nThought:现在我需要使用计算器来计算加价15%后的价格。\\nAction: Calculator\\nAction Input: 258 * 1.15\\nObservation: Answer: 296.7\\nThought:\"\n",
      "  ]\n",
      "}\n",
      "\u001b[36;1m\u001b[1;3m[llm/end]\u001b[0m \u001b[1m[1:chain:AgentExecutor > 11:chain:LLMChain > 12:llm:ChatOpenAI] [1.10s] Exiting LLM run with output:\n",
      "\u001b[0m{\n",
      "  \"generations\": [\n",
      "    [\n",
      "      {\n",
      "        \"text\": \"我现在知道了最终答案\\nFinal Answer: 296.7\",\n",
      "        \"generation_info\": {\n",
      "          \"finish_reason\": \"stop\",\n",
      "          \"logprobs\": null\n",
      "        },\n",
      "        \"type\": \"ChatGeneration\",\n",
      "        \"message\": {\n",
      "          \"lc\": 1,\n",
      "          \"type\": \"constructor\",\n",
      "          \"id\": [\n",
      "            \"langchain\",\n",
      "            \"schema\",\n",
      "            \"messages\",\n",
      "            \"AIMessage\"\n",
      "          ],\n",
      "          \"kwargs\": {\n",
      "            \"content\": \"我现在知道了最终答案\\nFinal Answer: 296.7\",\n",
      "            \"additional_kwargs\": {},\n",
      "            \"name\": null,\n",
      "            \"id\": \"run-051b3037-04d8-4275-9232-df34a0a7c8da-0\"\n",
      "          }\n",
      "        }\n",
      "      }\n",
      "    ]\n",
      "  ],\n",
      "  \"llm_output\": {\n",
      "    \"token_usage\": {\n",
      "      \"completion_tokens\": 20,\n",
      "      \"prompt_tokens\": 1355,\n",
      "      \"total_tokens\": 1375\n",
      "    },\n",
      "    \"model_name\": \"gpt-3.5-turbo\",\n",
      "    \"system_fingerprint\": \"fp_c2295e73ad\"\n",
      "  },\n",
      "  \"run\": null\n",
      "}\n",
      "\u001b[36;1m\u001b[1;3m[chain/end]\u001b[0m \u001b[1m[1:chain:AgentExecutor > 11:chain:LLMChain] [1.10s] Exiting Chain run with output:\n",
      "\u001b[0m{\n",
      "  \"text\": \"我现在知道了最终答案\\nFinal Answer: 296.7\"\n",
      "}\n",
      "\u001b[36;1m\u001b[1;3m[chain/end]\u001b[0m \u001b[1m[1:chain:AgentExecutor] [10.33s] Exiting Chain run with output:\n",
      "\u001b[0m{\n",
      "  \"output\": \"296.7\"\n",
      "}\n"
     ]
    },
    {
     "data": {
      "text/plain": [
       "{'input': '目前市场上玫瑰花的平均价格是多少？如果我在此基础上加价15%卖出，应该如何定价？请用中文给出处理过程',\n",
       " 'output': '296.7'}"
      ]
     },
     "execution_count": 45,
     "metadata": {},
     "output_type": "execute_result"
    }
   ],
   "source": [
    "agent.invoke(\"目前市场上玫瑰花的平均价格是多少？如果我在此基础上加价15%卖出，应该如何定价？请用中文给出处理过程\")"
   ]
  },
  {
   "cell_type": "code",
   "execution_count": 61,
   "metadata": {},
   "outputs": [],
   "source": [
    "from langchain_community.utilities import ArxivAPIWrapper"
   ]
  },
  {
   "cell_type": "code",
   "execution_count": 63,
   "metadata": {},
   "outputs": [
    {
     "data": {
      "text/plain": [
       "'Published: 2011-02-18\\nTitle: Quantum Anticipation Explorer\\nAuthors: Hans-Rudolf Thomann\\nSummary: Quantum anticipation explorer is a computer program allowing the numerical\\nexploration of quantum anticipation which has been analyzed in arXiv:0810.183v1\\nand arXiv:1003.1090v1 for H-Atom, equidistant, random and custom spectra. This\\ntool determines the anticipation strength at those times orthogonal evolution\\nis possible. This paper is the user\\'s guide explaining its capabilities,\\ninstallation and usage, and documenting the mathematics and algorithms\\nimplemented in the software. A zip file containing the setup and documentation\\ncan be downloaded from\\nhttp://www.thomannconsulting.ch/public/aboutus/aboutus-en.htm free of cost.\\n\\nPublished: 2024-01-16\\nTitle: AboutMe: Using Self-Descriptions in Webpages to Document the Effects of English Pretraining Data Filters\\nAuthors: Li Lucy, Suchin Gururangan, Luca Soldaini, Emma Strubell, David Bamman, Lauren Klein, Jesse Dodge\\nSummary: Large language models\\' (LLMs) abilities are drawn from their pretraining\\ndata, and model development begins with data curation. However, decisions\\naround what data is retained or removed during this initial stage is\\nunder-scrutinized. In our work, we ground web text, which is a popular\\npretraining data source, to its social and geographic contexts. We create a new\\ndataset of 10.3 million self-descriptions of website creators, and extract\\ninformation about who they are and where they are from: their topical\\ninterests, social roles, and geographic affiliations. Then, we conduct the\\nfirst study investigating how ten \"quality\" and English language identification\\n(langID) filters affect webpages that vary along these social dimensions. Our\\nexperiments illuminate a range of implicit preferences in data curation: we\\nshow that some quality classifiers act like topical domain filters, and langID\\ncan overlook English content from some regions of the world. Overall, we hope\\nthat our work will encourage a new line of research on pretraining data\\ncuration practices and its social implications.\\n\\nPublished: 2023-12-13\\nTitle: High-accuracy Vision-Based Attitude Estimation System for Air-Bearing Spacecraft Simulators\\nAuthors: Fabio Ornati, Gianfranco Di Domenico, Paolo Panicucci, Francesco Topputo\\nSummary: Air-bearing platforms for simulating the rotational dynamics of satellites\\nrequire highly precise ground truth systems. Unfortunately, commercial motion\\ncapture systems used for this scope are complex and expensive. This paper shows\\na novel and versatile method to compute the attitude of rotational air-bearing\\nplatforms using a monocular camera and sets of fiducial markers. The work\\nproposes a geometry-based iterative algorithm that is significantly more\\naccurate than other literature methods that involve the solution of the\\nPerspective-n-Point problem. Additionally, auto-calibration procedures to\\nperform a preliminary estimation of the system parameters are shown. The\\ndeveloped methodology is deployed onto a Raspberry Pi 4 micro-computer and\\ntested with a set of LED markers. Data obtained with this setup are compared\\nagainst computer simulations of the same system to understand and validate the\\nattitude estimation performances. Simulation results show expected 1-sigma\\naccuracies in the order of $\\\\sim$ 12 arcsec and $\\\\sim$ 37 arcsec for about- and\\ncross-boresight rotations of the platform, and average latency times of 6 ms.'"
      ]
     },
     "execution_count": 63,
     "metadata": {},
     "output_type": "execute_result"
    }
   ],
   "source": [
    "arxiv = ArxivAPIWrapper()\n",
    "docs = arxiv.run(\"What's the paper 1605.08386 about?\")\n",
    "docs"
   ]
  },
  {
   "cell_type": "code",
   "execution_count": 70,
   "metadata": {},
   "outputs": [],
   "source": [
    "tools = [\n",
    "    Tool(\n",
    "        name=\"arxiv\",\n",
    "        func=arxiv.run,\n",
    "        description=\"useful for when you need to answer arxiv\",\n",
    "    ),\n",
    "]"
   ]
  },
  {
   "cell_type": "code",
   "execution_count": 72,
   "metadata": {},
   "outputs": [
    {
     "ename": "ValueError",
     "evalue": "Tool name should be Intermediate Answer, got {'arxiv'}",
     "output_type": "error",
     "traceback": [
      "\u001b[1;31m---------------------------------------------------------------------------\u001b[0m",
      "\u001b[1;31mValueError\u001b[0m                                Traceback (most recent call last)",
      "Cell \u001b[1;32mIn[72], line 1\u001b[0m\n\u001b[1;32m----> 1\u001b[0m agent \u001b[38;5;241m=\u001b[39m \u001b[43minitialize_agent\u001b[49m\u001b[43m(\u001b[49m\u001b[43mtools\u001b[49m\u001b[43m,\u001b[49m\u001b[43m \u001b[49m\u001b[43mllm\u001b[49m\u001b[43m,\u001b[49m\u001b[43m \u001b[49m\u001b[43magent\u001b[49m\u001b[38;5;241;43m=\u001b[39;49m\u001b[43mAgentType\u001b[49m\u001b[38;5;241;43m.\u001b[39;49m\u001b[43mSELF_ASK_WITH_SEARCH\u001b[49m\u001b[43m,\u001b[49m\u001b[43m \u001b[49m\u001b[43mverbose\u001b[49m\u001b[38;5;241;43m=\u001b[39;49m\u001b[38;5;28;43;01mTrue\u001b[39;49;00m\u001b[43m)\u001b[49m\n",
      "File \u001b[1;32md:\\python_env\\py310\\lib\\site-packages\\langchain_core\\_api\\deprecation.py:145\u001b[0m, in \u001b[0;36mdeprecated.<locals>.deprecate.<locals>.warning_emitting_wrapper\u001b[1;34m(*args, **kwargs)\u001b[0m\n\u001b[0;32m    143\u001b[0m     warned \u001b[38;5;241m=\u001b[39m \u001b[38;5;28;01mTrue\u001b[39;00m\n\u001b[0;32m    144\u001b[0m     emit_warning()\n\u001b[1;32m--> 145\u001b[0m \u001b[38;5;28;01mreturn\u001b[39;00m wrapped(\u001b[38;5;241m*\u001b[39margs, \u001b[38;5;241m*\u001b[39m\u001b[38;5;241m*\u001b[39mkwargs)\n",
      "File \u001b[1;32md:\\python_env\\py310\\lib\\site-packages\\langchain\\agents\\initialize.py:67\u001b[0m, in \u001b[0;36minitialize_agent\u001b[1;34m(tools, llm, agent, callback_manager, agent_path, agent_kwargs, tags, **kwargs)\u001b[0m\n\u001b[0;32m     65\u001b[0m     agent_cls \u001b[38;5;241m=\u001b[39m AGENT_TO_CLASS[agent]\n\u001b[0;32m     66\u001b[0m     agent_kwargs \u001b[38;5;241m=\u001b[39m agent_kwargs \u001b[38;5;129;01mor\u001b[39;00m {}\n\u001b[1;32m---> 67\u001b[0m     agent_obj \u001b[38;5;241m=\u001b[39m agent_cls\u001b[38;5;241m.\u001b[39mfrom_llm_and_tools(\n\u001b[0;32m     68\u001b[0m         llm, tools, callback_manager\u001b[38;5;241m=\u001b[39mcallback_manager, \u001b[38;5;241m*\u001b[39m\u001b[38;5;241m*\u001b[39magent_kwargs\n\u001b[0;32m     69\u001b[0m     )\n\u001b[0;32m     70\u001b[0m \u001b[38;5;28;01melif\u001b[39;00m agent_path \u001b[38;5;129;01mis\u001b[39;00m \u001b[38;5;129;01mnot\u001b[39;00m \u001b[38;5;28;01mNone\u001b[39;00m:\n\u001b[0;32m     71\u001b[0m     agent_obj \u001b[38;5;241m=\u001b[39m load_agent(\n\u001b[0;32m     72\u001b[0m         agent_path, llm\u001b[38;5;241m=\u001b[39mllm, tools\u001b[38;5;241m=\u001b[39mtools, callback_manager\u001b[38;5;241m=\u001b[39mcallback_manager\n\u001b[0;32m     73\u001b[0m     )\n",
      "File \u001b[1;32md:\\python_env\\py310\\lib\\site-packages\\langchain\\agents\\agent.py:825\u001b[0m, in \u001b[0;36mAgent.from_llm_and_tools\u001b[1;34m(cls, llm, tools, callback_manager, output_parser, **kwargs)\u001b[0m\n\u001b[0;32m    815\u001b[0m \u001b[38;5;129m@classmethod\u001b[39m\n\u001b[0;32m    816\u001b[0m \u001b[38;5;28;01mdef\u001b[39;00m \u001b[38;5;21mfrom_llm_and_tools\u001b[39m(\n\u001b[0;32m    817\u001b[0m     \u001b[38;5;28mcls\u001b[39m,\n\u001b[1;32m   (...)\u001b[0m\n\u001b[0;32m    822\u001b[0m     \u001b[38;5;241m*\u001b[39m\u001b[38;5;241m*\u001b[39mkwargs: Any,\n\u001b[0;32m    823\u001b[0m ) \u001b[38;5;241m-\u001b[39m\u001b[38;5;241m>\u001b[39m Agent:\n\u001b[0;32m    824\u001b[0m \u001b[38;5;250m    \u001b[39m\u001b[38;5;124;03m\"\"\"Construct an agent from an LLM and tools.\"\"\"\u001b[39;00m\n\u001b[1;32m--> 825\u001b[0m     \u001b[38;5;28;43mcls\u001b[39;49m\u001b[38;5;241;43m.\u001b[39;49m\u001b[43m_validate_tools\u001b[49m\u001b[43m(\u001b[49m\u001b[43mtools\u001b[49m\u001b[43m)\u001b[49m\n\u001b[0;32m    826\u001b[0m     llm_chain \u001b[38;5;241m=\u001b[39m LLMChain(\n\u001b[0;32m    827\u001b[0m         llm\u001b[38;5;241m=\u001b[39mllm,\n\u001b[0;32m    828\u001b[0m         prompt\u001b[38;5;241m=\u001b[39m\u001b[38;5;28mcls\u001b[39m\u001b[38;5;241m.\u001b[39mcreate_prompt(tools),\n\u001b[0;32m    829\u001b[0m         callback_manager\u001b[38;5;241m=\u001b[39mcallback_manager,\n\u001b[0;32m    830\u001b[0m     )\n\u001b[0;32m    831\u001b[0m     tool_names \u001b[38;5;241m=\u001b[39m [tool\u001b[38;5;241m.\u001b[39mname \u001b[38;5;28;01mfor\u001b[39;00m tool \u001b[38;5;129;01min\u001b[39;00m tools]\n",
      "File \u001b[1;32md:\\python_env\\py310\\lib\\site-packages\\langchain\\agents\\self_ask_with_search\\base.py:50\u001b[0m, in \u001b[0;36mSelfAskWithSearchAgent._validate_tools\u001b[1;34m(cls, tools)\u001b[0m\n\u001b[0;32m     48\u001b[0m tool_names \u001b[38;5;241m=\u001b[39m {tool\u001b[38;5;241m.\u001b[39mname \u001b[38;5;28;01mfor\u001b[39;00m tool \u001b[38;5;129;01min\u001b[39;00m tools}\n\u001b[0;32m     49\u001b[0m \u001b[38;5;28;01mif\u001b[39;00m tool_names \u001b[38;5;241m!=\u001b[39m {\u001b[38;5;124m\"\u001b[39m\u001b[38;5;124mIntermediate Answer\u001b[39m\u001b[38;5;124m\"\u001b[39m}:\n\u001b[1;32m---> 50\u001b[0m     \u001b[38;5;28;01mraise\u001b[39;00m \u001b[38;5;167;01mValueError\u001b[39;00m(\n\u001b[0;32m     51\u001b[0m         \u001b[38;5;124mf\u001b[39m\u001b[38;5;124m\"\u001b[39m\u001b[38;5;124mTool name should be Intermediate Answer, got \u001b[39m\u001b[38;5;132;01m{\u001b[39;00mtool_names\u001b[38;5;132;01m}\u001b[39;00m\u001b[38;5;124m\"\u001b[39m\n\u001b[0;32m     52\u001b[0m     )\n",
      "\u001b[1;31mValueError\u001b[0m: Tool name should be Intermediate Answer, got {'arxiv'}"
     ]
    }
   ],
   "source": [
    "agent = initialize_agent(tools, llm, agent=AgentType.SELF_ASK_WITH_SEARCH, verbose=True)"
   ]
  }
 ],
 "metadata": {
  "kernelspec": {
   "display_name": "Python 3",
   "language": "python",
   "name": "python3"
  },
  "language_info": {
   "codemirror_mode": {
    "name": "ipython",
    "version": 3
   },
   "file_extension": ".py",
   "mimetype": "text/x-python",
   "name": "python",
   "nbconvert_exporter": "python",
   "pygments_lexer": "ipython3",
   "version": "3.10.14"
  }
 },
 "nbformat": 4,
 "nbformat_minor": 2
}
