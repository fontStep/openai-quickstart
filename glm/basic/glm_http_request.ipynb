{
 "cells": [
  {
   "cell_type": "markdown",
   "id": "446bb790af782d79",
   "metadata": {
    "collapsed": false
   },
   "source": [
    "# HTTP request to ZhipuAI GLM API\n",
    "\n",
    "**This tutorial is available in English and is attached below the Chinese explanation**\n",
    "\n",
    "首先，从最简单的 http 请求开始访问 ZhipuAI 的 GLM 模型的API。 填写完API_KEY后，按照[官方文档](https://open.bigmodel.cn/dev/api#nosdk)的步骤，设计一个简单的http鉴权请求。\n",
    "\n",
    "First, start with the simplest http request to access the API of the ZhipuAI's GLM model. After filling in the API_KEY, follow the steps of [Official Document](https://open.bigmodel.cn/dev/api#nosdk) to design a simple http authentication request."
   ]
  },
  {
   "cell_type": "code",
   "execution_count": 1,
   "id": "d6e5c89306e3ea8a",
   "metadata": {
    "ExecuteTime": {
     "end_time": "2024-01-22T14:30:09.689535Z",
     "start_time": "2024-01-22T14:30:09.685928Z"
    },
    "collapsed": false
   },
   "outputs": [],
   "source": [
    "import os\n",
    "# os.environ[\"ZHIPUAI_API_KEY\"] = \"your api key\""
   ]
  },
  {
   "cell_type": "code",
   "execution_count": 2,
   "id": "d4795ec08b8ac562",
   "metadata": {
    "ExecuteTime": {
     "end_time": "2024-01-22T14:30:09.739551Z",
     "start_time": "2024-01-22T14:30:09.691001Z"
    },
    "collapsed": false
   },
   "outputs": [],
   "source": [
    "import requests\n",
    "import jwt\n",
    "import time\n",
    "\n",
    "def generate_token(apikey: str, exp_seconds: int):\n",
    "    try:\n",
    "        id, secret = apikey.split(\".\")\n",
    "    except Exception as e:\n",
    "        raise Exception(\"invalid apikey\", e)\n",
    "\n",
    "    payload = {\n",
    "        \"api_key\": id,\n",
    "        \"exp\": int(round(time.time() * 1000)) + exp_seconds * 1000,\n",
    "        \"timestamp\": int(round(time.time() * 1000)),\n",
    "    }\n",
    "\n",
    "    return jwt.encode(\n",
    "        payload,\n",
    "        secret,\n",
    "        algorithm=\"HS256\",\n",
    "        headers={\"alg\": \"HS256\", \"sign_type\": \"SIGN\"},\n",
    "    )"
   ]
  },
  {
   "cell_type": "markdown",
   "id": "646612397562e5e8",
   "metadata": {
    "collapsed": false
   },
   "source": [
    "接着，我们将函数应用到请求中，并直接执行请求\n",
    "\n",
    "Next, we apply the function to the request and execute the request directly"
   ]
  },
  {
   "cell_type": "code",
   "execution_count": 3,
   "id": "a11657617389fa01",
   "metadata": {
    "ExecuteTime": {
     "end_time": "2024-01-22T14:30:10.812800Z",
     "start_time": "2024-01-22T14:30:09.740661Z"
    },
    "collapsed": false
   },
   "outputs": [],
   "source": [
    "api_key = os.environ[\"ZHIPUAI_API_KEY\"]\n",
    "token = generate_token(api_key, 60)\n",
    "url = \"https://open.bigmodel.cn/api/paas/v4/chat/completions\"\n",
    "headers = {\n",
    "    \"Content-Type\": \"application/json\",\n",
    "    \"Authorization\": f\"Bearer {token}\"\n",
    "}\n",
    "\n",
    "data = {\n",
    "    \"model\": \"glm-4\",\n",
    "    \"messages\": [\n",
    "        {\n",
    "            \"role\": \"system\",\n",
    "            \"content\": \"your are a helpful assistant\"\n",
    "        },\n",
    "        {\n",
    "            \"role\": \"user\",\n",
    "            \"content\": \"can you tell me a joke?\"\n",
    "        }\n",
    "    ],\n",
    "    \"max_tokens\": 8192,\n",
    "    \"temperature\": 0.8,\n",
    "    \"stream\": False\n",
    "}\n",
    "\n",
    "response = requests.post(url, headers=headers, json=data)\n",
    "ans = response.json()"
   ]
  },
  {
   "cell_type": "markdown",
   "id": "efec38ed395b7e4b",
   "metadata": {
    "collapsed": false
   },
   "source": [
    "接着，我们就得到模型的返回\n",
    "\n",
    "Then, we get the return of the model"
   ]
  },
  {
   "cell_type": "code",
   "execution_count": 4,
   "id": "867835319ab4ebd5",
   "metadata": {
    "ExecuteTime": {
     "end_time": "2024-01-22T14:30:10.817649Z",
     "start_time": "2024-01-22T14:30:10.814539Z"
    },
    "collapsed": false
   },
   "outputs": [
    {
     "data": {
      "text/plain": [
       "{'choices': [{'finish_reason': 'stop',\n",
       "   'index': 0,\n",
       "   'message': {'content': \"Sure! Here's a joke for you:\\n\\nWhy don't scientists trust atoms?\\n\\nBecause they make up everything!\\n\\nI hope that put a smile on your face! If you want to hear another one, just let me know.\",\n",
       "    'role': 'assistant'}}],\n",
       " 'created': 1714102257,\n",
       " 'id': '8602225517204587526',\n",
       " 'model': 'glm-4',\n",
       " 'request_id': '8602225517204587526',\n",
       " 'usage': {'completion_tokens': 47, 'prompt_tokens': 19, 'total_tokens': 66}}"
      ]
     },
     "execution_count": 4,
     "metadata": {},
     "output_type": "execute_result"
    }
   ],
   "source": [
    "ans"
   ]
  },
  {
   "cell_type": "markdown",
   "id": "1fe9e3db041ff45b",
   "metadata": {
    "collapsed": false
   },
   "source": [
    "我们可以这样获取返回的内容和ID\n",
    "\n",
    "We can get the returned content and ID like this"
   ]
  },
  {
   "cell_type": "code",
   "execution_count": 5,
   "id": "55cd72019020c03e",
   "metadata": {
    "ExecuteTime": {
     "end_time": "2024-01-22T14:30:10.821886Z",
     "start_time": "2024-01-22T14:30:10.818917Z"
    },
    "collapsed": false
   },
   "outputs": [
    {
     "name": "stdout",
     "output_type": "stream",
     "text": [
      "content: Sure! Here's a joke for you:\n",
      "\n",
      "Why don't scientists trust atoms?\n",
      "\n",
      "Because they make up everything!\n",
      "\n",
      "I hope that put a smile on your face! If you want to hear another one, just let me know.\n",
      "===============\n",
      "id: 8602225517204587526\n"
     ]
    }
   ],
   "source": [
    "print(\"content:\", ans[\"choices\"][0][\"message\"][\"content\"])\n",
    "print(\"===============\")\n",
    "print(\"id:\", ans[\"id\"])"
   ]
  },
  {
   "cell_type": "code",
   "execution_count": 7,
   "id": "74b5c22d",
   "metadata": {},
   "outputs": [
    {
     "data": {
      "text/plain": [
       "{'choices': [{'finish_reason': 'stop',\n",
       "   'index': 0,\n",
       "   'message': {'content': \"Sure! Here's a joke for you:\\n\\nWhy don't scientists trust atoms?\\n\\nBecause they make up everything!\\n\\nI hope that put a smile on your face! If you want to hear another one, just let me know.\",\n",
       "    'role': 'assistant'}}],\n",
       " 'created': 1714102257,\n",
       " 'id': '8602225517204587526',\n",
       " 'model': 'glm-4',\n",
       " 'request_id': '8602225517204587526',\n",
       " 'usage': {'completion_tokens': 47, 'prompt_tokens': 19, 'total_tokens': 66}}"
      ]
     },
     "execution_count": 7,
     "metadata": {},
     "output_type": "execute_result"
    }
   ],
   "source": [
    "response.json()"
   ]
  },
  {
   "cell_type": "markdown",
   "id": "6712fd32970c3200",
   "metadata": {
    "collapsed": false
   },
   "source": [
    "如果我想用流式输出，该怎么办呢？我们只需要将`data`中的 `stream`设置为`True`即可！\n",
    "\n",
    "What should I do if I want to use streaming output? We just need to set `stream` in `data` to `True`!"
   ]
  },
  {
   "cell_type": "code",
   "execution_count": 9,
   "id": "a988a90a62532de",
   "metadata": {
    "ExecuteTime": {
     "end_time": "2024-01-22T14:30:11.768911Z",
     "start_time": "2024-01-22T14:30:10.821131Z"
    },
    "collapsed": false
   },
   "outputs": [
    {
     "name": "stdout",
     "output_type": "stream",
     "text": [
      "chunk_str:data: {\"id\":\"8602219710408670127\",\"created\":1714102379,\"model\":\"glm-4\",\"choices\":[{\"index\":0,\"delta\":{\"role\":\"assistant\",\"content\":\"Sure\"}}]}\n",
      "Sure|chunk_str:data: {\"id\":\"8602219710408670127\",\"created\":1714102379,\"model\":\"glm-4\",\"choices\":[{\"index\":0,\"delta\":{\"role\":\"assistant\",\"content\":\",\"}}]}\n",
      ",|chunk_str:data: {\"id\":\"8602219710408670127\",\"created\":1714102379,\"model\":\"glm-4\",\"choices\":[{\"index\":0,\"delta\":{\"role\":\"assistant\",\"content\":\" here\"}}]}\n",
      " here|chunk_str:data: {\"id\":\"8602219710408670127\",\"created\":1714102379,\"model\":\"glm-4\",\"choices\":[{\"index\":0,\"delta\":{\"role\":\"assistant\",\"content\":\"'s\"}}]}\n",
      "'s|chunk_str:data: {\"id\":\"8602219710408670127\",\"created\":1714102379,\"model\":\"glm-4\",\"choices\":[{\"index\":0,\"delta\":{\"role\":\"assistant\",\"content\":\" a\"}}]}\n",
      " a|chunk_str:data: {\"id\":\"8602219710408670127\",\"created\":1714102379,\"model\":\"glm-4\",\"choices\":[{\"index\":0,\"delta\":{\"role\":\"assistant\",\"content\":\" joke\"}}]}\n",
      " joke|chunk_str:data: {\"id\":\"8602219710408670127\",\"created\":1714102379,\"model\":\"glm-4\",\"choices\":[{\"index\":0,\"delta\":{\"role\":\"assistant\",\"content\":\" for\"}}]}\n",
      " for|chunk_str:data: {\"id\":\"8602219710408670127\",\"created\":1714102379,\"model\":\"glm-4\",\"choices\":[{\"index\":0,\"delta\":{\"role\":\"assistant\",\"content\":\" you\"}}]}\n",
      " you|chunk_str:data: {\"id\":\"8602219710408670127\",\"created\":1714102379,\"model\":\"glm-4\",\"choices\":[{\"index\":0,\"delta\":{\"role\":\"assistant\",\"content\":\":\"}}]}\n",
      ":|chunk_str:data: {\"id\":\"8602219710408670127\",\"created\":1714102379,\"model\":\"glm-4\",\"choices\":[{\"index\":0,\"delta\":{\"role\":\"assistant\",\"content\":\" \\n\\nWhy\"}}]}\n",
      " \n",
      "\n",
      "Why|chunk_str:data: {\"id\":\"8602219710408670127\",\"created\":1714102379,\"model\":\"glm-4\",\"choices\":[{\"index\":0,\"delta\":{\"role\":\"assistant\",\"content\":\" did\"}}]}\n",
      " did|chunk_str:data: {\"id\":\"8602219710408670127\",\"created\":1714102379,\"model\":\"glm-4\",\"choices\":[{\"index\":0,\"delta\":{\"role\":\"assistant\",\"content\":\" the\"}}]}\n",
      " the|chunk_str:data: {\"id\":\"8602219710408670127\",\"created\":1714102379,\"model\":\"glm-4\",\"choices\":[{\"index\":0,\"delta\":{\"role\":\"assistant\",\"content\":\" tomato\"}}]}\n",
      " tomato|chunk_str:data: {\"id\":\"8602219710408670127\",\"created\":1714102379,\"model\":\"glm-4\",\"choices\":[{\"index\":0,\"delta\":{\"role\":\"assistant\",\"content\":\" turn\"}}]}\n",
      " turn|chunk_str:data: {\"id\":\"8602219710408670127\",\"created\":1714102379,\"model\":\"glm-4\",\"choices\":[{\"index\":0,\"delta\":{\"role\":\"assistant\",\"content\":\" red\"}}]}\n",
      " red|chunk_str:data: {\"id\":\"8602219710408670127\",\"created\":1714102379,\"model\":\"glm-4\",\"choices\":[{\"index\":0,\"delta\":{\"role\":\"assistant\",\"content\":\"?\"}}]}\n",
      "?|chunk_str:data: {\"id\":\"8602219710408670127\",\"created\":1714102379,\"model\":\"glm-4\",\"choices\":[{\"index\":0,\"delta\":{\"role\":\"assistant\",\"content\":\" \\n\\nBecause\"}}]}\n",
      " \n",
      "\n",
      "Because|chunk_str:data: {\"id\":\"8602219710408670127\",\"created\":1714102379,\"model\":\"glm-4\",\"choices\":[{\"index\":0,\"delta\":{\"role\":\"assistant\",\"content\":\" it\"}}]}\n",
      " it|chunk_str:data: {\"id\":\"8602219710408670127\",\"created\":1714102379,\"model\":\"glm-4\",\"choices\":[{\"index\":0,\"delta\":{\"role\":\"assistant\",\"content\":\" saw\"}}]}\n",
      " saw|chunk_str:data: {\"id\":\"8602219710408670127\",\"created\":1714102379,\"model\":\"glm-4\",\"choices\":[{\"index\":0,\"delta\":{\"role\":\"assistant\",\"content\":\" the\"}}]}\n",
      " the|chunk_str:data: {\"id\":\"8602219710408670127\",\"created\":1714102379,\"model\":\"glm-4\",\"choices\":[{\"index\":0,\"delta\":{\"role\":\"assistant\",\"content\":\" salad\"}}]}\n",
      " salad|chunk_str:data: {\"id\":\"8602219710408670127\",\"created\":1714102379,\"model\":\"glm-4\",\"choices\":[{\"index\":0,\"delta\":{\"role\":\"assistant\",\"content\":\" dressing\"}}]}\n",
      " dressing|chunk_str:data: {\"id\":\"8602219710408670127\",\"created\":1714102379,\"model\":\"glm-4\",\"choices\":[{\"index\":0,\"delta\":{\"role\":\"assistant\",\"content\":\"!\"}}]}\n",
      "!|chunk_str:data: {\"id\":\"8602219710408670127\",\"created\":1714102379,\"model\":\"glm-4\",\"choices\":[{\"index\":0,\"finish_reason\":\"stop\",\"delta\":{\"role\":\"assistant\",\"content\":\"\"}}],\"usage\":{\"prompt_tokens\":19,\"completion_tokens\":27,\"total_tokens\":46}}\n",
      "|chunk_str:data: [DONE]\n"
     ]
    }
   ],
   "source": [
    "import json\n",
    "\n",
    "api_key = os.environ[\"ZHIPUAI_API_KEY\"]\n",
    "token = generate_token(api_key, 60)\n",
    "url = \"https://open.bigmodel.cn/api/paas/v4/chat/completions\"\n",
    "headers = {\n",
    "    \"Content-Type\": \"application/json\",\n",
    "    \"Authorization\": f\"Bearer {token}\"\n",
    "}\n",
    "\n",
    "data[\"stream\"] = True\n",
    "response = requests.post(url, headers=headers, json=data)\n",
    "for chunk in response.iter_lines():\n",
    "    if chunk:\n",
    "        chunk_str = chunk.decode('utf-8')\n",
    "        print(f\"chunk_str:{chunk_str}\")\n",
    "        json_start_pos = chunk_str.find('{\"id\"')\n",
    "        if json_start_pos != -1:\n",
    "            json_str = chunk_str[json_start_pos:]\n",
    "            json_data = json.loads(json_str)\n",
    "            for choice in json_data.get('choices', []):\n",
    "                delta = choice.get('delta', {})\n",
    "                content = delta.get('content', '')\n",
    "                print(content, end='|') # I use | to separate the content"
   ]
  }
 ],
 "metadata": {
  "kernelspec": {
   "display_name": "Python 3",
   "language": "python",
   "name": "python3"
  },
  "language_info": {
   "codemirror_mode": {
    "name": "ipython",
    "version": 3
   },
   "file_extension": ".py",
   "mimetype": "text/x-python",
   "name": "python",
   "nbconvert_exporter": "python",
   "pygments_lexer": "ipython3",
   "version": "3.10.14"
  }
 },
 "nbformat": 4,
 "nbformat_minor": 5
}
