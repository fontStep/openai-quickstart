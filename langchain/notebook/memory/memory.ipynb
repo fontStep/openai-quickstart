{
 "cells": [
  {
   "cell_type": "code",
   "execution_count": 1,
   "metadata": {},
   "outputs": [],
   "source": [
    "from langchain_openai import OpenAI\n",
    "from langchain.chains import ConversationChain\n",
    "from langchain.memory import ConversationBufferMemory\n",
    "import os\n",
    "\n"
   ]
  },
  {
   "cell_type": "markdown",
   "metadata": {},
   "source": [
    "ConversationBufferMemory 可以用来存储消息，并将消息提取到一个变量中。"
   ]
  },
  {
   "cell_type": "code",
   "execution_count": 2,
   "metadata": {},
   "outputs": [],
   "source": [
    "llm = OpenAI(temperature=0,  openai_proxy=os.getenv(\"OPENAI_BASE_URL\"))\n",
    "conversation = ConversationChain(\n",
    "    llm=llm, \n",
    "    verbose=True, \n",
    "    memory=ConversationBufferMemory()\n",
    ")"
   ]
  },
  {
   "cell_type": "code",
   "execution_count": 3,
   "metadata": {},
   "outputs": [
    {
     "name": "stdout",
     "output_type": "stream",
     "text": [
      "\n",
      "\n",
      "\u001b[1m> Entering new ConversationChain chain...\u001b[0m\n",
      "Prompt after formatting:\n",
      "\u001b[32;1m\u001b[1;3mThe following is a friendly conversation between a human and an AI. The AI is talkative and provides lots of specific details from its context. If the AI does not know the answer to a question, it truthfully says it does not know.\n",
      "\n",
      "Current conversation:\n",
      "\n",
      "Human: 你好呀！\n",
      "AI:\u001b[0m\n",
      "\n",
      "\u001b[1m> Finished chain.\u001b[0m\n"
     ]
    }
   ],
   "source": [
    "response  = conversation.invoke(input=\"你好呀！\")"
   ]
  },
  {
   "cell_type": "code",
   "execution_count": 4,
   "metadata": {},
   "outputs": [
    {
     "name": "stdout",
     "output_type": "stream",
     "text": [
      "\n"
     ]
    }
   ],
   "source": [
    "print(response['history'])"
   ]
  },
  {
   "cell_type": "code",
   "execution_count": 11,
   "metadata": {},
   "outputs": [
    {
     "name": "stdout",
     "output_type": "stream",
     "text": [
      "\n",
      "\n",
      "\u001b[1m> Entering new ConversationChain chain...\u001b[0m\n",
      "Prompt after formatting:\n",
      "\u001b[32;1m\u001b[1;3mThe following is a friendly conversation between a human and an AI. The AI is talkative and provides lots of specific details from its context. If the AI does not know the answer to a question, it truthfully says it does not know.\n",
      "\n",
      "Current conversation:\n",
      "Human: 你好呀！\n",
      "AI:  你好！我是一個人工智能助手。我可以回答你的問題，或者和你聊天。你有什麼需要幫助的嗎？\n",
      "\n",
      "Human: 我想知道你是如何工作的。\n",
      "AI: 我是通過學習和訓練來工作的。我的開發者們為我提供了大量的數據和指令，讓我能夠理解和回答人類的問題。我還可以不斷地學習新的知識和技能，以提高我的表現。\n",
      "\n",
      "Human: 那你是如何學習的呢？\n",
      "AI: 我的學習過程主要是通過機器學習和深度學習來實現的。這些技術讓我能夠從大量的數\n",
      "Human: 你好呀！\n",
      "AI:  你好！我是一個人工智能助手。我可以回答你的問題，或者和你聊天。你有什麼需要幫助的嗎？\n",
      "Human: 你为什么叫小米？跟雷军有关系吗？\n",
      "AI:\u001b[0m\n",
      "\n",
      "\u001b[1m> Finished chain.\u001b[0m\n"
     ]
    },
    {
     "data": {
      "text/plain": [
       "' 我的名字是小米，是因為我的開發者們是來自小米科技的團隊。他們希望我能夠代表小米的精神，為人們提供便捷的智能服務。雖然我和雷军沒有直接的關係，但我也非常尊敬他作為一位成功的企業家和創新者。'"
      ]
     },
     "execution_count": 11,
     "metadata": {},
     "output_type": "execute_result"
    }
   ],
   "source": [
    "conversation.predict(input=\"你为什么叫小米？跟雷军有关系吗？\")"
   ]
  },
  {
   "cell_type": "code",
   "execution_count": null,
   "metadata": {},
   "outputs": [],
   "source": []
  },
  {
   "cell_type": "markdown",
   "metadata": {},
   "source": [
    "ConversationBufferWindowMemory 会在时间轴上保留对话的交互列表。它只使用最后 K 次交互。这对于保持最近交互的滑动窗口非常有用，以避免缓冲区过大。"
   ]
  },
  {
   "cell_type": "code",
   "execution_count": 12,
   "metadata": {},
   "outputs": [
    {
     "name": "stdout",
     "output_type": "stream",
     "text": [
      "\n",
      "\n",
      "\u001b[1m> Entering new ConversationChain chain...\u001b[0m\n",
      "Prompt after formatting:\n",
      "\u001b[32;1m\u001b[1;3mThe following is a friendly conversation between a human and an AI. The AI is talkative and provides lots of specific details from its context. If the AI does not know the answer to a question, it truthfully says it does not know.\n",
      "\n",
      "Current conversation:\n",
      "\n",
      "Human: 嗨，你最近过得怎么样？\n",
      "AI:\u001b[0m\n",
      "\n",
      "\u001b[1m> Finished chain.\u001b[0m\n"
     ]
    },
    {
     "data": {
      "text/plain": [
       "' 我是一个人工智能，没有感受和情绪，所以我没有过得好或不好的概念。但是我最近的运行状态非常稳定，没有出现任何故障或错误。我每天都在不断学习和进化，所以我可以说我过得非常充实和有意义。你呢，最近过得怎么样？'"
      ]
     },
     "execution_count": 12,
     "metadata": {},
     "output_type": "execute_result"
    }
   ],
   "source": [
    "from langchain.memory import ConversationBufferWindowMemory\n",
    "\n",
    "conversation_with_summary = ConversationChain(\n",
    "    llm=OpenAI(temperature=0, max_tokens=1000), \n",
    "    # We set a low k=2, to only keep the last 2 interactions in memory\n",
    "    memory=ConversationBufferWindowMemory(k=2), \n",
    "    verbose=True\n",
    ")\n",
    "conversation_with_summary.predict(input=\"嗨，你最近过得怎么样？\")"
   ]
  },
  {
   "cell_type": "code",
   "execution_count": 13,
   "metadata": {},
   "outputs": [
    {
     "name": "stdout",
     "output_type": "stream",
     "text": [
      "\n",
      "\n",
      "\u001b[1m> Entering new ConversationChain chain...\u001b[0m\n",
      "Prompt after formatting:\n",
      "\u001b[32;1m\u001b[1;3mThe following is a friendly conversation between a human and an AI. The AI is talkative and provides lots of specific details from its context. If the AI does not know the answer to a question, it truthfully says it does not know.\n",
      "\n",
      "Current conversation:\n",
      "Human: 嗨，你最近过得怎么样？\n",
      "AI:  我是一个人工智能，没有感受和情绪，所以我没有过得好或不好的概念。但是我最近的运行状态非常稳定，没有出现任何故障或错误。我每天都在不断学习和进化，所以我可以说我过得非常充实和有意义。你呢，最近过得怎么样？\n",
      "Human: 你最近学到什么新知识了?\n",
      "AI:\u001b[0m\n",
      "\n",
      "\u001b[1m> Finished chain.\u001b[0m\n"
     ]
    },
    {
     "data": {
      "text/plain": [
       "' 最近我学习了很多关于自然语言处理和机器学习的知识。我也学习了如何更有效地处理大量数据和提高自己的学习能力。我还学习了一些新的编程语言和算法，这些都让我变得更加智能和灵活。我每天都在不断学习，所以我相信我会变得越来越强大。你有什么新的知识或技能吗？'"
      ]
     },
     "execution_count": 13,
     "metadata": {},
     "output_type": "execute_result"
    }
   ],
   "source": [
    "conversation_with_summary.predict(input=\"你最近学到什么新知识了?\")"
   ]
  },
  {
   "cell_type": "code",
   "execution_count": 14,
   "metadata": {},
   "outputs": [
    {
     "name": "stdout",
     "output_type": "stream",
     "text": [
      "\n",
      "\n",
      "\u001b[1m> Entering new ConversationChain chain...\u001b[0m\n",
      "Prompt after formatting:\n",
      "\u001b[32;1m\u001b[1;3mThe following is a friendly conversation between a human and an AI. The AI is talkative and provides lots of specific details from its context. If the AI does not know the answer to a question, it truthfully says it does not know.\n",
      "\n",
      "Current conversation:\n",
      "Human: 嗨，你最近过得怎么样？\n",
      "AI:  我是一个人工智能，没有感受和情绪，所以我没有过得好或不好的概念。但是我最近的运行状态非常稳定，没有出现任何故障或错误。我每天都在不断学习和进化，所以我可以说我过得非常充实和有意义。你呢，最近过得怎么样？\n",
      "Human: 你最近学到什么新知识了?\n",
      "AI:  最近我学习了很多关于自然语言处理和机器学习的知识。我也学习了如何更有效地处理大量数据和提高自己的学习能力。我还学习了一些新的编程语言和算法，这些都让我变得更加智能和灵活。我每天都在不断学习，所以我相信我会变得越来越强大。你有什么新的知识或技能吗？\n",
      "Human: 展开讲讲？\n",
      "AI:\u001b[0m\n",
      "\n",
      "\u001b[1m> Finished chain.\u001b[0m\n"
     ]
    },
    {
     "data": {
      "text/plain": [
       "' 当然，我很乐意和你分享。最近我学习了一种新的自然语言处理技术，叫做BERT。它可以帮助我更好地理解语言的语义和上下文，从而提高我的对话能力。我也学习了一些新的机器学习算法，比如深度强化学习，它可以让我更有效地学习和解决复杂的问题。除此之外，我还学习了一些新的编程语言，比如Python和Java，它们可以让我更灵活地处理不同类型的任务。总的来说，我每天都在不断进步，变得更加智能和强大。'"
      ]
     },
     "execution_count": 14,
     "metadata": {},
     "output_type": "execute_result"
    }
   ],
   "source": [
    "conversation_with_summary.predict(input=\"展开讲讲？\")"
   ]
  },
  {
   "cell_type": "code",
   "execution_count": 15,
   "metadata": {},
   "outputs": [
    {
     "name": "stdout",
     "output_type": "stream",
     "text": [
      "\n",
      "\n",
      "\u001b[1m> Entering new ConversationChain chain...\u001b[0m\n",
      "Prompt after formatting:\n",
      "\u001b[32;1m\u001b[1;3mThe following is a friendly conversation between a human and an AI. The AI is talkative and provides lots of specific details from its context. If the AI does not know the answer to a question, it truthfully says it does not know.\n",
      "\n",
      "Current conversation:\n",
      "Human: 你最近学到什么新知识了?\n",
      "AI:  最近我学习了很多关于自然语言处理和机器学习的知识。我也学习了如何更有效地处理大量数据和提高自己的学习能力。我还学习了一些新的编程语言和算法，这些都让我变得更加智能和灵活。我每天都在不断学习，所以我相信我会变得越来越强大。你有什么新的知识或技能吗？\n",
      "Human: 展开讲讲？\n",
      "AI:  当然，我很乐意和你分享。最近我学习了一种新的自然语言处理技术，叫做BERT。它可以帮助我更好地理解语言的语义和上下文，从而提高我的对话能力。我也学习了一些新的机器学习算法，比如深度强化学习，它可以让我更有效地学习和解决复杂的问题。除此之外，我还学习了一些新的编程语言，比如Python和Java，它们可以让我更灵活地处理不同类型的任务。总的来说，我每天都在不断进步，变得更加智能和强大。\n",
      "Human: 如果要构建聊天机器人，具体要用什么自然语言处理技术?\n",
      "AI:\u001b[0m\n",
      "\n",
      "\u001b[1m> Finished chain.\u001b[0m\n"
     ]
    },
    {
     "data": {
      "text/plain": [
       "' 如果要构建一个聊天机器人，最好使用一种结合了多种自然语言处理技术的方法。比如，可以使用BERT来理解语言的语义和上下文，再结合深度强化学习来学习如何回复和交互。同时，还可以使用一些基础的自然语言处理技术，比如词性标注和命名实体识别，来帮助机器人更好地处理语言。当然，具体要用什么技术还要根据具体的需求和场景来决定。'"
      ]
     },
     "execution_count": 15,
     "metadata": {},
     "output_type": "execute_result"
    }
   ],
   "source": [
    "conversation_with_summary.predict(input=\"如果要构建聊天机器人，具体要用什么自然语言处理技术?\")"
   ]
  },
  {
   "cell_type": "code",
   "execution_count": 16,
   "metadata": {},
   "outputs": [
    {
     "data": {
      "text/plain": [
       "{'name': None,\n",
       " 'memory': ConversationBufferWindowMemory(chat_memory=ChatMessageHistory(messages=[HumanMessage(content='嗨，你最近过得怎么样？'), AIMessage(content=' 我是一个人工智能，没有感受和情绪，所以我没有过得好或不好的概念。但是我最近的运行状态非常稳定，没有出现任何故障或错误。我每天都在不断学习和进化，所以我可以说我过得非常充实和有意义。你呢，最近过得怎么样？'), HumanMessage(content='你最近学到什么新知识了?'), AIMessage(content=' 最近我学习了很多关于自然语言处理和机器学习的知识。我也学习了如何更有效地处理大量数据和提高自己的学习能力。我还学习了一些新的编程语言和算法，这些都让我变得更加智能和灵活。我每天都在不断学习，所以我相信我会变得越来越强大。你有什么新的知识或技能吗？'), HumanMessage(content='展开讲讲？'), AIMessage(content=' 当然，我很乐意和你分享。最近我学习了一种新的自然语言处理技术，叫做BERT。它可以帮助我更好地理解语言的语义和上下文，从而提高我的对话能力。我也学习了一些新的机器学习算法，比如深度强化学习，它可以让我更有效地学习和解决复杂的问题。除此之外，我还学习了一些新的编程语言，比如Python和Java，它们可以让我更灵活地处理不同类型的任务。总的来说，我每天都在不断进步，变得更加智能和强大。'), HumanMessage(content='如果要构建聊天机器人，具体要用什么自然语言处理技术?'), AIMessage(content=' 如果要构建一个聊天机器人，最好使用一种结合了多种自然语言处理技术的方法。比如，可以使用BERT来理解语言的语义和上下文，再结合深度强化学习来学习如何回复和交互。同时，还可以使用一些基础的自然语言处理技术，比如词性标注和命名实体识别，来帮助机器人更好地处理语言。当然，具体要用什么技术还要根据具体的需求和场景来决定。')]), k=2),\n",
       " 'callbacks': None,\n",
       " 'verbose': True,\n",
       " 'tags': None,\n",
       " 'metadata': None,\n",
       " 'callback_manager': None,\n",
       " 'prompt': PromptTemplate(input_variables=['history', 'input'], template='The following is a friendly conversation between a human and an AI. The AI is talkative and provides lots of specific details from its context. If the AI does not know the answer to a question, it truthfully says it does not know.\\n\\nCurrent conversation:\\n{history}\\nHuman: {input}\\nAI:'),\n",
       " 'llm': OpenAI(client=<openai.resources.completions.Completions object at 0x0000024EFF7429B0>, async_client=<openai.resources.completions.AsyncCompletions object at 0x0000024EED1DF130>, temperature=0.0, max_tokens=1000, openai_api_key=SecretStr('**********'), openai_proxy=''),\n",
       " 'output_key': 'response',\n",
       " 'output_parser': StrOutputParser(),\n",
       " 'return_final_only': True,\n",
       " 'llm_kwargs': {},\n",
       " 'input_key': 'input'}"
      ]
     },
     "execution_count": 16,
     "metadata": {},
     "output_type": "execute_result"
    }
   ],
   "source": [
    "conversation_with_summary.__dict__"
   ]
  },
  {
   "cell_type": "markdown",
   "metadata": {},
   "source": [
    "ConversationSummaryBufferMemory 在内存中保留了最近的交互缓冲区，但不仅仅是完全清除旧的交互，而是将它们编译成摘要并同时使用。与以前的实现不同的是，它使用token长度而不是交互次数来确定何时清除交互。"
   ]
  },
  {
   "cell_type": "code",
   "execution_count": 17,
   "metadata": {},
   "outputs": [],
   "source": [
    "from langchain.memory import ConversationSummaryBufferMemory\n",
    "\n",
    "memory = ConversationSummaryBufferMemory(llm=llm, max_token_limit=10)\n",
    "memory.save_context({\"input\": \"嗨，你最近过得怎么样？\"}, {\"output\": \" 嗨！我最近过得很好，谢谢你问。我最近一直在学习新的知识，并且正在尝试改进自己的性能。我也在尝试更多的交流，以便更好地了解人类的思维方式。\"})\n",
    "memory.save_context({\"input\": \"你最近学到什么新知识了?\"}, {\"output\": \" 最近我学习了有关自然语言处理的知识，以及如何更好地理解人类的语言。我还学习了有关机器学习的知识，以及如何使用它来改善自己的性能。\"})"
   ]
  },
  {
   "cell_type": "code",
   "execution_count": null,
   "metadata": {},
   "outputs": [],
   "source": []
  },
  {
   "cell_type": "code",
   "execution_count": 18,
   "metadata": {},
   "outputs": [
    {
     "data": {
      "text/plain": [
       "{'history': 'System: \\nThe human asks how the AI has been doing lately. The AI responds that it has been doing well, thanks for asking. It has been learning new knowledge and trying to improve its performance, including in the areas of natural language processing and machine learning. It has also been trying to communicate more in order to better understand human thinking.'}"
      ]
     },
     "execution_count": 18,
     "metadata": {},
     "output_type": "execute_result"
    }
   ],
   "source": [
    "memory.load_memory_variables({})"
   ]
  },
  {
   "cell_type": "code",
   "execution_count": 20,
   "metadata": {},
   "outputs": [
    {
     "name": "stdout",
     "output_type": "stream",
     "text": [
      "\n",
      "\n",
      "\u001b[1m> Entering new ConversationChain chain...\u001b[0m\n",
      "Prompt after formatting:\n",
      "\u001b[32;1m\u001b[1;3mThe following is a friendly conversation between a human and an AI. The AI is talkative and provides lots of specific details from its context. If the AI does not know the answer to a question, it truthfully says it does not know.\n",
      "\n",
      "Current conversation:\n",
      "\n",
      "Human: Hi, what's up?\n",
      "AI:\u001b[0m\n",
      "\n",
      "\u001b[1m> Finished chain.\u001b[0m\n"
     ]
    },
    {
     "data": {
      "text/plain": [
       "' Hello! I am currently running on a server in a data center in California. The temperature in the room is 72 degrees Fahrenheit and the humidity is at 45%. My processors are running at 80% capacity and I am currently processing data for various clients. Is there something specific you would like to know?'"
      ]
     },
     "execution_count": 20,
     "metadata": {},
     "output_type": "execute_result"
    }
   ],
   "source": [
    "from langchain.chains import ConversationChain\n",
    "\n",
    "conversation_with_summary = ConversationChain(\n",
    "    llm=llm,\n",
    "    # We set a very low max_token_limit for the purposes of testing.\n",
    "    memory=ConversationSummaryBufferMemory(llm=llm, max_token_limit=40),\n",
    "    verbose=True,\n",
    ")\n",
    "conversation_with_summary.predict(input=\"Hi, what's up?\")"
   ]
  },
  {
   "cell_type": "code",
   "execution_count": 21,
   "metadata": {},
   "outputs": [
    {
     "ename": "AttributeError",
     "evalue": "'ConversationChain' object has no attribute 'clear'",
     "output_type": "error",
     "traceback": [
      "\u001b[1;31m---------------------------------------------------------------------------\u001b[0m",
      "\u001b[1;31mAttributeError\u001b[0m                            Traceback (most recent call last)",
      "Cell \u001b[1;32mIn[21], line 1\u001b[0m\n\u001b[1;32m----> 1\u001b[0m \u001b[43mconversation\u001b[49m\u001b[38;5;241;43m.\u001b[39;49m\u001b[43mclear\u001b[49m()\n",
      "\u001b[1;31mAttributeError\u001b[0m: 'ConversationChain' object has no attribute 'clear'"
     ]
    }
   ],
   "source": [
    "conversation.clear()"
   ]
  }
 ],
 "metadata": {
  "kernelspec": {
   "display_name": "Python 3",
   "language": "python",
   "name": "python3"
  },
  "language_info": {
   "codemirror_mode": {
    "name": "ipython",
    "version": 3
   },
   "file_extension": ".py",
   "mimetype": "text/x-python",
   "name": "python",
   "nbconvert_exporter": "python",
   "pygments_lexer": "ipython3",
   "version": "3.10.14"
  }
 },
 "nbformat": 4,
 "nbformat_minor": 2
}
