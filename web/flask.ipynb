{
 "cells": [
  {
   "cell_type": "code",
   "execution_count": 2,
   "metadata": {},
   "outputs": [
    {
     "name": "stdout",
     "output_type": "stream",
     "text": [
      " * Serving Flask app '__main__'\n",
      " * Debug mode: off\n"
     ]
    },
    {
     "name": "stderr",
     "output_type": "stream",
     "text": [
      "WARNING: This is a development server. Do not use it in a production deployment. Use a production WSGI server instead.\n",
      " * Running on http://127.0.0.1:5000\n",
      "Press CTRL+C to quit\n"
     ]
    }
   ],
   "source": [
    "from flask import Flask\n",
    "\n",
    "# 创建一个 Flask 应用实例\n",
    "app = Flask(__name__)\n",
    "\n",
    "# 定义一个路由，指定 URL 路径和对应的处理函数\n",
    "@app.route('/')\n",
    "def hello_world():\n",
    "    return '欢迎访问我的网站！'\n",
    "\n",
    "# 运行应用\n",
    "if __name__ == '__main__':\n",
    "    app.run()\n"
   ]
  },
  {
   "cell_type": "code",
   "execution_count": 1,
   "metadata": {},
   "outputs": [
    {
     "name": "stdout",
     "output_type": "stream",
     "text": [
      " * Serving Flask app '__main__'\n",
      " * Debug mode: on\n"
     ]
    },
    {
     "name": "stderr",
     "output_type": "stream",
     "text": [
      "WARNING: This is a development server. Do not use it in a production deployment. Use a production WSGI server instead.\n",
      " * Running on http://127.0.0.1:5000\n",
      "Press CTRL+C to quit\n",
      " * Restarting with stat\n"
     ]
    },
    {
     "ename": "SystemExit",
     "evalue": "1",
     "output_type": "error",
     "traceback": [
      "An exception has occurred, use %tb to see the full traceback.\n",
      "\u001b[1;31mSystemExit\u001b[0m\u001b[1;31m:\u001b[0m 1\n"
     ]
    },
    {
     "name": "stderr",
     "output_type": "stream",
     "text": [
      "d:\\python_env\\py310\\lib\\site-packages\\IPython\\core\\interactiveshell.py:3561: UserWarning: To exit: use 'exit', 'quit', or Ctrl-D.\n",
      "  warn(\"To exit: use 'exit', 'quit', or Ctrl-D.\", stacklevel=1)\n"
     ]
    }
   ],
   "source": [
    "from flask import Flask, request, render_template, send_file\n",
    "import os\n",
    "\n",
    "app = Flask(__name__)\n",
    "\n",
    "# 设置文件上传目录\n",
    "UPLOAD_FOLDER = 'uploads'\n",
    "app.config['UPLOAD_FOLDER'] = UPLOAD_FOLDER\n",
    "\n",
    "@app.route('/')\n",
    "def index():\n",
    "    return render_template('index.html')\n",
    "\n",
    "@app.route('/upload', methods=['POST'])\n",
    "def upload_file():\n",
    "    # 检查请求中是否包含文件\n",
    "    if 'file' not in request.files:\n",
    "        return render_template('index.html', message='未找到文件！')\n",
    "\n",
    "    file = request.files['file']\n",
    "\n",
    "    # 如果用户未选择文件，也返回提示信息\n",
    "    if file.filename == '':\n",
    "        return render_template('index.html', message='未选择文件！')\n",
    "\n",
    "    # 将文件保存到服务器\n",
    "    file.save(os.path.join(app.config['UPLOAD_FOLDER'], file.filename))\n",
    "\n",
    "    return render_template('index.html', message='文件上传成功！')\n",
    "\n",
    "@app.route('/download/<filename>', methods=['GET'])\n",
    "def download_file(filename):\n",
    "    # 检查文件是否存在\n",
    "    filepath = os.path.join(app.config['UPLOAD_FOLDER'], filename)\n",
    "    if not os.path.exists(filepath):\n",
    "        return '文件不存在！'\n",
    "\n",
    "    # 发送文件给客户端进行下载\n",
    "    return send_file(filepath, as_attachment=True)\n",
    "\n",
    "if __name__ == '__main__':\n",
    "    # 确保上传目录存在\n",
    "    os.makedirs(UPLOAD_FOLDER, exist_ok=True)\n",
    "    # 启动应用\n",
    "    app.run(debug=True)\n"
   ]
  }
 ],
 "metadata": {
  "kernelspec": {
   "display_name": "Python 3",
   "language": "python",
   "name": "python3"
  },
  "language_info": {
   "codemirror_mode": {
    "name": "ipython",
    "version": 3
   },
   "file_extension": ".py",
   "mimetype": "text/x-python",
   "name": "python",
   "nbconvert_exporter": "python",
   "pygments_lexer": "ipython3",
   "version": "3.10.14"
  }
 },
 "nbformat": 4,
 "nbformat_minor": 2
}
