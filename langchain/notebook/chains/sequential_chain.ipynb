{
 "cells": [
  {
   "cell_type": "code",
   "execution_count": 189,
   "metadata": {},
   "outputs": [],
   "source": [
    "from langchain.chains import LLMChain\n",
    "from langchain_openai import (OpenAI,ChatOpenAI)\n",
    "from langchain.prompts import (PromptTemplate,ChatPromptTemplate,HumanMessagePromptTemplate,SystemMessagePromptTemplate)\n",
    "from langchain.output_parsers import  CommaSeparatedListOutputParser\n",
    "import os\n"
   ]
  },
  {
   "cell_type": "code",
   "execution_count": 28,
   "metadata": {},
   "outputs": [],
   "source": [
    "MODEL_NAME = \"gpt-3.5-turbo\"\n",
    "\n",
    "chat_model = ChatOpenAI(model=MODEL_NAME, openai_proxy=os.getenv(\"OPENAI_BASE_URL\"),max_tokens=1000,api_key=os.getenv(\"OPENAI_API_KEY\"))"
   ]
  },
  {
   "cell_type": "code",
   "execution_count": 33,
   "metadata": {},
   "outputs": [
    {
     "name": "stdout",
     "output_type": "stream",
     "text": [
      "{'flower': '玫瑰', 'text': '爱情、热情、美丽、浪漫、真挚、忠诚。'}\n"
     ]
    }
   ],
   "source": [
    "# 原始字符串模板\n",
    "template = \"{flower}的花语是?\"\n",
    "\n",
    "prompt =  ChatPromptTemplate.from_template(template)\n",
    "\n",
    "chain  = LLMChain(llm = chat_model,prompt=prompt)\n",
    "\n",
    "print(chain.invoke({\n",
    "    'flower': \"玫瑰\"\n",
    "    }))"
   ]
  },
  {
   "cell_type": "code",
   "execution_count": 34,
   "metadata": {},
   "outputs": [
    {
     "name": "stdout",
     "output_type": "stream",
     "text": [
      "{'product': '性能卓越的GPU', 'text': '1. PeakTech Graphics Inc.\\n2. EliteGPU Systems Ltd.\\n3. Superior Performance Technologies LLC\\n4. Pinnacle Graphics Solutions Corp.\\n5. Prodigy GPUs International\\n6. Apex Performance Graphics Co.\\n7. Stellar GPU Innovations Ltd.\\n8. MasterMind Graphics Technologies Inc.\\n9. Ultra Performance Graphics Corporation\\n10. HighOctane Graphics Solutions Ltd.'}\n"
     ]
    }
   ],
   "source": [
    "product_template = ChatPromptTemplate.from_template(\n",
    "    \"给制造{product}的有限公司取10个好名字，并给出完整的公司名称\"\n",
    ")\n",
    "\n",
    "# product_template\n",
    "\n",
    "chain  = LLMChain(llm = chat_model,prompt=product_template)\n",
    "\n",
    "print(chain.invoke({\n",
    "    \"product\":\"性能卓越的GPU\"\n",
    "}))"
   ]
  },
  {
   "cell_type": "code",
   "execution_count": 35,
   "metadata": {},
   "outputs": [],
   "source": [
    "chain.verbose = True"
   ]
  },
  {
   "cell_type": "code",
   "execution_count": 37,
   "metadata": {},
   "outputs": [
    {
     "name": "stdout",
     "output_type": "stream",
     "text": [
      "\n",
      "\n",
      "\u001b[1m> Entering new LLMChain chain...\u001b[0m\n",
      "Prompt after formatting:\n",
      "\u001b[32;1m\u001b[1;3mHuman: 给制造性能卓越的GPU的有限公司取10个好名字，并给出完整的公司名称\u001b[0m\n",
      "\n",
      "\u001b[1m> Finished chain.\u001b[0m\n",
      "{'product': '性能卓越的GPU', 'text': '1. Apex Graphics Solutions Corporation\\n2. Elite Performance GPU Technologies Inc.\\n3. Powerhouse Graphics Innovations Ltd.\\n4. Supreme Performance GPU Solutions Co.\\n5. Prodigy Graphics Performance Corporation\\n6. Titan Graphics Technologies Ltd.\\n7. Stellar Performance GPU Systems Inc.\\n8. Prime Performance Graphics Solutions Co.\\n9. Quantum Graphics Technology Corporation\\n10. Optimal Performance GPU Solutions Ltd.'}\n"
     ]
    }
   ],
   "source": [
    "print(chain.invoke({\n",
    "    \"product\":\"性能卓越的GPU\"\n",
    "}))"
   ]
  },
  {
   "cell_type": "code",
   "execution_count": 61,
   "metadata": {},
   "outputs": [],
   "source": [
    "from langchain.chains import SimpleSequentialChain\n",
    "import replicate\n",
    "\n"
   ]
  },
  {
   "cell_type": "code",
   "execution_count": 64,
   "metadata": {},
   "outputs": [],
   "source": [
    "\n",
    "template = \"\"\"你是一位剧作家。根据戏剧的标题，你的任务是为该标题写一个简介。\n",
    "\n",
    "标题：{title}\n",
    "剧作家：以下是对上述戏剧的简介：\"\"\"\n",
    "\n",
    "prompt_template = PromptTemplate(input_variables=[\"title\"], template=template)\n",
    "synopsis_chain = LLMChain(llm=chat_model, prompt=prompt_template)"
   ]
  },
  {
   "cell_type": "code",
   "execution_count": null,
   "metadata": {},
   "outputs": [],
   "source": []
  },
  {
   "cell_type": "code",
   "execution_count": 65,
   "metadata": {},
   "outputs": [],
   "source": [
    "# 这是一个LLMChain，用于根据剧情简介撰写一篇戏剧评论。\n",
    "\n",
    "template = \"\"\"你是《纽约时报》的戏剧评论家。根据剧情简介，你的工作是为该剧撰写一篇评论。\n",
    "\n",
    "剧情简介：\n",
    "{synopsis}\n",
    "\n",
    "以下是来自《纽约时报》戏剧评论家对上述剧目的评论：\"\"\"\n",
    "\n",
    "prompt_template = PromptTemplate(input_variables=[\"synopsis\"], template=template)\n",
    "review_chain = LLMChain(llm=chat_model, prompt=prompt_template)"
   ]
  },
  {
   "cell_type": "code",
   "execution_count": 66,
   "metadata": {},
   "outputs": [],
   "source": [
    "from langchain.chains import SimpleSequentialChain\n",
    "\n",
    "overall_chain = SimpleSequentialChain(chains=[synopsis_chain, review_chain], verbose=True)"
   ]
  },
  {
   "cell_type": "code",
   "execution_count": 69,
   "metadata": {},
   "outputs": [
    {
     "name": "stdout",
     "output_type": "stream",
     "text": [
      "\n",
      "\n",
      "\u001b[1m> Entering new SimpleSequentialChain chain...\u001b[0m\n",
      "\u001b[36;1m\u001b[1;3m在这个充满未知的宇宙中，三体人是一种强大而神秘的外星种族。他们拥有超乎人类想象的科技和力量，被认为是无法战胜的存在。然而，当地球面临灭绝的危机时，一群勇敢的人类决定挑战三体人的统治，展开了一场惊心动魄的抗争。他们发现，三体人并非无敌，他们也有自己的弱点和矛盾。通过智慧、勇气和团结，人类最终赢得了战斗的胜利，揭示了三体人背后隐藏的真相。这部戏剧探讨了权力、信仰和人性的复杂关系，引人深思。\u001b[0m\n",
      "\u001b[33;1m\u001b[1;3m《三体》是一部充满想象力和深度的戏剧作品。通过描绘人类与外星种族三体人之间的对抗，剧作探讨了权力、信仰和人性的复杂关系。观众在观看中不仅被带入了一个充满未知和挑战的宇宙，同时也被引发了对自身和人类的思考。剧中的角色展现出了勇气、智慧和团结的重要性，同时也揭示了三体人自身的弱点和矛盾。这种对立和对抗的情节让整个剧目充满了紧张和悬念，观众不禁被吸引和深思。总的来说，《三体》是一部引人入胜的戏剧作品，值得一看。\u001b[0m\n",
      "\n",
      "\u001b[1m> Finished chain.\u001b[0m\n",
      "{'input': '三体人不是无法战胜的', 'output': '《三体》是一部充满想象力和深度的戏剧作品。通过描绘人类与外星种族三体人之间的对抗，剧作探讨了权力、信仰和人性的复杂关系。观众在观看中不仅被带入了一个充满未知和挑战的宇宙，同时也被引发了对自身和人类的思考。剧中的角色展现出了勇气、智慧和团结的重要性，同时也揭示了三体人自身的弱点和矛盾。这种对立和对抗的情节让整个剧目充满了紧张和悬念，观众不禁被吸引和深思。总的来说，《三体》是一部引人入胜的戏剧作品，值得一看。'}\n"
     ]
    }
   ],
   "source": [
    "review = overall_chain.invoke(\"三体人不是无法战胜的\")\n",
    "\n",
    "print(review)"
   ]
  },
  {
   "cell_type": "code",
   "execution_count": 70,
   "metadata": {},
   "outputs": [
    {
     "name": "stdout",
     "output_type": "stream",
     "text": [
      "\n",
      "\n",
      "\u001b[1m> Entering new SimpleSequentialChain chain...\u001b[0m\n",
      "\u001b[36;1m\u001b[1;3m在《星球大战第九季》中，银河系再次陷入混乱和战争之中。继前八季的故事后，新的反抗军和第一秩序之间的冲突愈演愈烈，而且一些新的势力也开始崭露头角。主要角色们将面临更大的考验和抉择，他们的命运将决定整个宇宙的未来。在这场星际大战中，谁将会成为胜利者？谁将会成为失败者？《星球大战第九季》将带来更多的惊喜、动作和情感，让观众们沉浸在一个充满未知和刺激的宇宙之中。\u001b[0m\n",
      "\u001b[33;1m\u001b[1;3m《星球大战第九季》是一部令人兴奋的终章，将观众们带入一个充满未知和刺激的宇宙之中。在这部戏剧中，观众将见证主要角色们面临更大的考验和抉择，他们的命运将决定整个宇宙的未来。剧情紧凑，动作场面精彩，情感充沛，让人们沉浸在这场星际大战中。新的反抗军和第一秩序之间的冲突愈演愈烈，同时新的势力也开始崭露头角，为整个故事增添了更多的戏剧性和惊喜。无论是对《星球大战》系列的忠实粉丝还是新观众，都会被这部戏剧所吸引，展现了导演对于宇宙题材的深刻理解和想象力。总的来说，《星球大战第九季》是一部值得一看的戏剧，让观众们尽情享受这场星际冒险之旅。\u001b[0m\n",
      "\n",
      "\u001b[1m> Finished chain.\u001b[0m\n"
     ]
    }
   ],
   "source": [
    "review = overall_chain.run(\"星球大战第九季\")"
   ]
  },
  {
   "cell_type": "code",
   "execution_count": 71,
   "metadata": {},
   "outputs": [],
   "source": [
    "# 提示模板 1 ：这个提示将接受产品并返回最佳名称来描述该公司\n",
    "first_prompt = ChatPromptTemplate.from_template(\n",
    "    \"What is the best name to describe \\\n",
    "    a company that makes {product}?\"\n",
    ")\n",
    "\n",
    "# Chain 1\n",
    "chain_one = LLMChain(llm=chat_model, prompt=first_prompt)"
   ]
  },
  {
   "cell_type": "code",
   "execution_count": 73,
   "metadata": {},
   "outputs": [],
   "source": [
    "# 提示模板 2 ：接受公司名称，然后输出该公司的长为20个单词的描述\n",
    "second_prompt = ChatPromptTemplate.from_template(\n",
    "    \"Write a 20 words description for the following \\\n",
    "    company:{company_name}\"\n",
    ")\n",
    "# chain 2\n",
    "chain_two = LLMChain(llm=chat_model, prompt=second_prompt)"
   ]
  },
  {
   "cell_type": "code",
   "execution_count": 76,
   "metadata": {},
   "outputs": [],
   "source": [
    "overall_simple_chain  =SimpleSequentialChain(\n",
    "    chains=[chain_one, chain_two],\n",
    "    verbose=True\n",
    ")"
   ]
  },
  {
   "cell_type": "code",
   "execution_count": 77,
   "metadata": {},
   "outputs": [
    {
     "name": "stdout",
     "output_type": "stream",
     "text": [
      "\n",
      "\n",
      "\u001b[1m> Entering new SimpleSequentialChain chain...\u001b[0m\n",
      "\u001b[36;1m\u001b[1;3m\"Royal Bedding Co.\"\u001b[0m\n",
      "\u001b[33;1m\u001b[1;3m\"Royal Bedding Co. provides luxurious and comfortable bedding products fit for royalty, offering a good night's sleep every time.\"\u001b[0m\n",
      "\n",
      "\u001b[1m> Finished chain.\u001b[0m\n"
     ]
    },
    {
     "data": {
      "text/plain": [
       "'\"Royal Bedding Co. provides luxurious and comfortable bedding products fit for royalty, offering a good night\\'s sleep every time.\"'"
      ]
     },
     "execution_count": 77,
     "metadata": {},
     "output_type": "execute_result"
    }
   ],
   "source": [
    "product = \"Queen Size Sheet Set\"\n",
    "overall_simple_chain.run(product)"
   ]
  },
  {
   "cell_type": "code",
   "execution_count": 103,
   "metadata": {},
   "outputs": [],
   "source": [
    "#子链1\n",
    "\n",
    "# prompt模板 1: 翻译成英语（把下面的review翻译成英语）\n",
    "first_prompt = ChatPromptTemplate.from_template(\n",
    "    \"Translate the following review to english:\"\n",
    "    \"\\n\\n{Review}\"\n",
    ")\n",
    "# chain 1: 输入：Review 输出： 英文的 Review\n",
    "chain_one = LLMChain(llm=chat_model, prompt=first_prompt,output_key=\"English_Review\")"
   ]
  },
  {
   "cell_type": "code",
   "execution_count": null,
   "metadata": {},
   "outputs": [],
   "source": []
  },
  {
   "cell_type": "code",
   "execution_count": 104,
   "metadata": {},
   "outputs": [],
   "source": [
    "#子链2\n",
    "\n",
    "# prompt模板 2: 用一句话总结下面的 review\n",
    "second_prompt = ChatPromptTemplate.from_template(\n",
    "    \"Can you summarize the following review in 1 sentence:\"\n",
    "    \"\\n\\n{English_Review}\"\n",
    ")\n",
    "# chain 2: 输入：英文的Review   输出：总结\n",
    "chain_two = LLMChain(llm=chat_model, prompt=second_prompt,output_key=\"summary\")"
   ]
  },
  {
   "cell_type": "code",
   "execution_count": 105,
   "metadata": {},
   "outputs": [],
   "source": [
    "#子链3\n",
    "\n",
    "# prompt模板 3: 下面review使用的什么语言\n",
    "third_prompt = ChatPromptTemplate.from_template(\n",
    "    \"What language is the following review:\\n\\n{Review}\"\n",
    ")\n",
    "# chain 3: 输入：Review  输出：语言\n",
    "chain_three = LLMChain(llm=chat_model, prompt=third_prompt,output_key=\"language\")"
   ]
  },
  {
   "cell_type": "code",
   "execution_count": 145,
   "metadata": {},
   "outputs": [],
   "source": [
    "from langchain.output_parsers import StructuredOutputParser, ResponseSchema\n",
    "response_schemas = [\n",
    "    ResponseSchema(name='summary',description='summary')\n",
    "]\n",
    "# 创建输出解析器\n",
    "output_parser = StructuredOutputParser.from_response_schemas(response_schemas)"
   ]
  },
  {
   "cell_type": "code",
   "execution_count": 191,
   "metadata": {},
   "outputs": [],
   "source": [
    "#子链4\n",
    "\n",
    "# prompt模板 4: 使用特定的语言对下面的总结写一个后续回复\n",
    "fourth_prompt = ChatPromptTemplate.from_template(\n",
    "    \"Write a follow up response to the following \"\n",
    "    \"summary in the specified language:\"\n",
    "    \"\\n\\nSummary: {summary}\\n\\nLanguage: {language}\"\n",
    ")\n",
    "# chain 4: 输入： 总结, 语言    输出： 后续回复\n",
    "chain_four = LLMChain(llm=chat_model, prompt=fourth_prompt,output_key=\"followup_message\")"
   ]
  },
  {
   "cell_type": "code",
   "execution_count": 190,
   "metadata": {},
   "outputs": [],
   "source": []
  },
  {
   "cell_type": "code",
   "execution_count": 147,
   "metadata": {},
   "outputs": [],
   "source": [
    "from langchain.chains import SequentialChain"
   ]
  },
  {
   "cell_type": "code",
   "execution_count": 193,
   "metadata": {},
   "outputs": [],
   "source": [
    "#输入：review    \n",
    "#输出：英文review，总结，后续回复 \n",
    "overall_chain = SequentialChain(\n",
    "    chains=[chain_one, chain_two, chain_three, chain_four],\n",
    "    input_variables=[\"Review\"],\n",
    "    output_variables=[\"English_Review\", \"summary\",\"followup_message\"],\n",
    "    verbose=True\n",
    ")\n",
    "\n"
   ]
  },
  {
   "cell_type": "code",
   "execution_count": null,
   "metadata": {},
   "outputs": [],
   "source": []
  },
  {
   "cell_type": "code",
   "execution_count": 194,
   "metadata": {},
   "outputs": [
    {
     "name": "stdout",
     "output_type": "stream",
     "text": [
      "\n",
      "\n",
      "\u001b[1m> Entering new SequentialChain chain...\u001b[0m\n",
      "\n",
      "\u001b[1m> Finished chain.\u001b[0m\n"
     ]
    }
   ],
   "source": [
    "response = overall_chain.invoke('Está lu bonita calienta muy rápido, es muy funcional, solo falta ver cuánto dura, solo llevo 3 días en funcionamiento.')"
   ]
  },
  {
   "cell_type": "code",
   "execution_count": 197,
   "metadata": {},
   "outputs": [
    {
     "name": "stdout",
     "output_type": "stream",
     "text": [
      "{'Review': 'Está lu bonita calienta muy rápido, es muy funcional, solo falta ver cuánto dura, solo llevo 3 días en funcionamiento.', 'English_Review': 'It is a very pretty heater that heats up very quickly, it is very functional, just need to see how long it lasts, I have only been using it for 3 days.', 'summary': 'The reviewer finds the heater aesthetically pleasing and efficient, but is unsure about its longevity after only 3 days of use.', 'followup_message': 'Gracias por tu reseña. Nos alegra saber que encuentras el calentador estéticamente agradable y eficiente. Entendemos tus preocupaciones sobre su durabilidad después de solo 3 días de uso. Queremos asegurarte que nuestros productos están diseñados para ser duraderos y confiables. Si tienes alguna otra inquietud, no dudes en contactarnos. ¡Gracias por elegir nuestro calentador!'}\n"
     ]
    }
   ],
   "source": [
    "print(response)\n",
    "\n"
   ]
  },
  {
   "cell_type": "code",
   "execution_count": 201,
   "metadata": {},
   "outputs": [],
   "source": [
    "\n",
    "#子链1\n",
    "\n",
    "template = \"\"\"\n",
    "\n",
    "\"Translate the following review to english:\"\n",
    "    \"\\n\\n{Review}\"\n",
    "\n",
    "\"\"\"\n",
    "\n",
    "# prompt模板 1: 翻译成英语（把下面的review翻译成英语）\n",
    "first_prompt = PromptTemplate(\n",
    "    template=template,\n",
    "    input_variables=[\"Review\"]\n",
    "    \n",
    ")\n",
    "# chain 1: 输入：Review 输出： 英文的 Review\n",
    "chain_one = LLMChain(llm=chat_model, prompt=first_prompt,output_key=\"English_Review\")\n"
   ]
  },
  {
   "cell_type": "code",
   "execution_count": 205,
   "metadata": {},
   "outputs": [],
   "source": [
    "#子链2\n",
    "\n",
    "template =\"\"\"\n",
    " \"Can you summarize the following review in 1 sentence:\"\n",
    "    \"\\n\\n{English_Review} ,{output_parser}\"\n",
    "\"\"\"\n",
    "\n",
    "output_parser = CommaSeparatedListOutputParser()\n",
    "\n",
    "# prompt模板 2: 用一句话总结下面的 review\n",
    "second_prompt = PromptTemplate(\n",
    "    template = template,\n",
    "    input_variables=[\"English_Review\"],\n",
    "    partial_variables={\"output_parser\": output_parser.get_format_instructions()}\n",
    ")\n",
    "# chain 2: 输入：英文的Review   输出：总结\n",
    "chain_two = LLMChain(llm=chat_model, prompt=second_prompt,output_key=\"summary\")"
   ]
  },
  {
   "cell_type": "code",
   "execution_count": 206,
   "metadata": {},
   "outputs": [],
   "source": [
    "overall_chain = SequentialChain(\n",
    "    chains=[chain_one, chain_two],\n",
    "    input_variables=[\"Review\"],\n",
    "    output_variables=[\"English_Review\", \"summary\"],\n",
    "    verbose=True\n",
    ")"
   ]
  },
  {
   "cell_type": "code",
   "execution_count": 207,
   "metadata": {},
   "outputs": [
    {
     "name": "stdout",
     "output_type": "stream",
     "text": [
      "\n",
      "\n",
      "\u001b[1m> Entering new SequentialChain chain...\u001b[0m\n",
      "\n",
      "\u001b[1m> Finished chain.\u001b[0m\n"
     ]
    }
   ],
   "source": [
    "response = overall_chain.invoke('Está lu bonita calienta muy rápido, es muy funcional, solo falta ver cuánto dura, solo llevo 3 días en funcionamiento.')"
   ]
  },
  {
   "cell_type": "markdown",
   "metadata": {},
   "source": [
    "Homework 使用 OutputParser 优化 overall_chain 输出格式，区分 synopsis_chain 和 review_chain 的结果"
   ]
  },
  {
   "cell_type": "code",
   "execution_count": 257,
   "metadata": {},
   "outputs": [],
   "source": [
    "template = \"\"\"你是一位剧作家。根据戏剧的标题和设定的时代，你的任务是为该标题写一个简介。\n",
    "\n",
    "标题：{title}\n",
    "时代：{era}\n",
    "{output_parser}\n",
    "剧作家：以下是对上述戏剧的简介：\n",
    "\"\"\"\n",
    "\n",
    "response_schemas = [\n",
    "    ResponseSchema(name='synopsis',description='synopsis')\n",
    "]\n",
    "# 创建输出解析器\n",
    "synopsis_output_parser = StructuredOutputParser.from_response_schemas(response_schemas)\n",
    "\n",
    "prompt_template = PromptTemplate(input_variables=[\"title\", \"era\"], template=template, partial_variables={\"output_parser\": synopsis_output_parser.get_format_instructions()})\n",
    "# output_key\n",
    "synopsis_chain = LLMChain(llm=chat_model, prompt=prompt_template, output_key=\"synopsis\", verbose=True)"
   ]
  },
  {
   "cell_type": "code",
   "execution_count": 258,
   "metadata": {},
   "outputs": [],
   "source": [
    "template = \"\"\"你是《纽约时报》的戏剧评论家。根据该剧的剧情简介，你需要撰写一篇关于该剧的评论。\n",
    "\n",
    "剧情简介：\n",
    "{synopsis}\n",
    "{output_parser}\n",
    "来自《纽约时报》戏剧评论家对上述剧目的评价：\"\"\"\n",
    "\n",
    "\n",
    "response_schemas = [\n",
    "    ResponseSchema(name='review',description='review')\n",
    "]\n",
    "# 创建输出解析器\n",
    "review_output_parser = StructuredOutputParser.from_response_schemas(response_schemas)\n",
    "\n",
    "prompt_template = PromptTemplate(input_variables=[\"synopsis\"], template=template, partial_variables={\"output_parser\": review_output_parser.get_format_instructions()})\n",
    "\n",
    "# prompt_template = PromptTemplate(input_variables=[\"synopsis\"], template=template, partial_variables={\"output_parser\": output_parser.get_format_instructions()})\n",
    "\n",
    "review_chain = LLMChain(llm=chat_model, prompt=prompt_template, output_key=\"review\", verbose=True)"
   ]
  },
  {
   "cell_type": "code",
   "execution_count": 259,
   "metadata": {},
   "outputs": [],
   "source": [
    "m_overall_chain = SequentialChain(\n",
    "    chains=[synopsis_chain, review_chain],\n",
    "    input_variables=[\"era\", \"title\"],\n",
    "    # Here we return multiple variables\n",
    "    output_variables=[\"synopsis\", \"review\"],\n",
    "    verbose=True)"
   ]
  },
  {
   "cell_type": "code",
   "execution_count": 260,
   "metadata": {},
   "outputs": [
    {
     "name": "stdout",
     "output_type": "stream",
     "text": [
      "\n",
      "\n",
      "\u001b[1m> Entering new SequentialChain chain...\u001b[0m\n",
      "\n",
      "\n",
      "\u001b[1m> Entering new LLMChain chain...\u001b[0m\n",
      "Prompt after formatting:\n",
      "\u001b[32;1m\u001b[1;3m你是一位剧作家。根据戏剧的标题和设定的时代，你的任务是为该标题写一个简介。\n",
      "\n",
      "标题：三体人不是无法战胜的\n",
      "时代：二十一世纪的新中国\n",
      "The output should be a markdown code snippet formatted in the following schema, including the leading and trailing \"```json\" and \"```\":\n",
      "\n",
      "```json\n",
      "{\n",
      "\t\"synopsis\": string  // synopsis\n",
      "}\n",
      "```\n",
      "剧作家：以下是对上述戏剧的简介：\n",
      "\u001b[0m\n",
      "\n",
      "\u001b[1m> Finished chain.\u001b[0m\n",
      "\n",
      "\n",
      "\u001b[1m> Entering new LLMChain chain...\u001b[0m\n",
      "Prompt after formatting:\n",
      "\u001b[32;1m\u001b[1;3m你是《纽约时报》的戏剧评论家。根据该剧的剧情简介，你需要撰写一篇关于该剧的评论。\n",
      "\n",
      "剧情简介：\n",
      "```json\n",
      "{\n",
      "\t\"synopsis\": \"在二十一世纪的新中国，人类与三体人之间的战争一触即发。一群勇敢的年轻人组成了抵抗军，他们决定不再被三体人压迫。通过智慧和勇气，他们展开了一场激烈的斗争，证明了三体人并非无法战胜。这部戏剧探讨了对抗压迫和迎接挑战的勇气，以及人类的坚韧和团结。\"\n",
      "}\n",
      "```\n",
      "The output should be a markdown code snippet formatted in the following schema, including the leading and trailing \"```json\" and \"```\":\n",
      "\n",
      "```json\n",
      "{\n",
      "\t\"review\": string  // review\n",
      "}\n",
      "```\n",
      "来自《纽约时报》戏剧评论家对上述剧目的评价：\u001b[0m\n",
      "\n",
      "\u001b[1m> Finished chain.\u001b[0m\n",
      "\n",
      "\u001b[1m> Finished chain.\u001b[0m\n"
     ]
    }
   ],
   "source": [
    "response = m_overall_chain({\"title\":\"三体人不是无法战胜的\", \"era\": \"二十一世纪的新中国\"})"
   ]
  },
  {
   "cell_type": "code",
   "execution_count": 261,
   "metadata": {},
   "outputs": [
    {
     "data": {
      "text/plain": [
       "{'title': '三体人不是无法战胜的',\n",
       " 'era': '二十一世纪的新中国',\n",
       " 'synopsis': '```json\\n{\\n\\t\"synopsis\": \"在二十一世纪的新中国，人类与三体人之间的战争一触即发。一群勇敢的年轻人组成了抵抗军，他们决定不再被三体人压迫。通过智慧和勇气，他们展开了一场激烈的斗争，证明了三体人并非无法战胜。这部戏剧探讨了对抗压迫和迎接挑战的勇气，以及人类的坚韧和团结。\"\\n}\\n```',\n",
       " 'review': '```json\\n{\\n\\t\"review\": \"《三体》这部戏剧充满了惊险和刺激，将观众带入了一个充满未知和挑战的世界。通过展现年轻人们的勇气和智慧，剧中呈现了对抗压迫和战胜困难的精神。观众在剧中能感受到人类的团结和坚韧，以及对未来充满希望的信念。《三体》是一部充满启发和感动的剧目，值得一看。\"\\n}\\n```'}"
      ]
     },
     "execution_count": 261,
     "metadata": {},
     "output_type": "execute_result"
    }
   ],
   "source": [
    "response"
   ]
  },
  {
   "cell_type": "code",
   "execution_count": 262,
   "metadata": {},
   "outputs": [
    {
     "data": {
      "text/plain": [
       "{'review': '《三体》这部戏剧充满了惊险和刺激，将观众带入了一个充满未知和挑战的世界。通过展现年轻人们的勇气和智慧，剧中呈现了对抗压迫和战胜困难的精神。观众在剧中能感受到人类的团结和坚韧，以及对未来充满希望的信念。《三体》是一部充满启发和感动的剧目，值得一看。'}"
      ]
     },
     "execution_count": 262,
     "metadata": {},
     "output_type": "execute_result"
    }
   ],
   "source": [
    "review_output_parser.parse(response.get('review'))"
   ]
  },
  {
   "cell_type": "code",
   "execution_count": 225,
   "metadata": {},
   "outputs": [],
   "source": [
    "template = \"\"\"你是《纽约时报》的戏剧评论家。根据该剧的剧情简介，你需要撰写一篇关于该剧的评论。\n",
    "\n",
    "剧情简介：\n",
    "{synopsis}\n",
    "\n",
    "来自《纽约时报》戏剧评论家对上述剧目的评价：\"\"\"\n",
    "\n",
    "prompt_template = PromptTemplate(input_variables=[\"synopsis\"], template=template)\n",
    "review_chain = LLMChain(llm=chat_model, prompt=prompt_template, output_key=\"review\", verbose=True)"
   ]
  },
  {
   "cell_type": "code",
   "execution_count": 217,
   "metadata": {},
   "outputs": [],
   "source": [
    "from langchain_core.prompts import ChatPromptTemplate\n",
    "\n",
    "chat_template = ChatPromptTemplate.from_messages(\n",
    "    [\n",
    "        (\"system\", \"You are a helpful AI bot. Your name is {name}.\"),\n",
    "        (\"human\", \"Hello, how are you doing?\"),\n",
    "        (\"ai\", \"I'm doing well, thanks!\"),\n",
    "        (\"human\", \"{user_input}\"),\n",
    "    ]\n",
    ")\n",
    "\n",
    "messages = chat_template.format_messages(name=\"Bob\", user_input=\"What is your name?\")"
   ]
  }
 ],
 "metadata": {
  "kernelspec": {
   "display_name": "Python 3",
   "language": "python",
   "name": "python3"
  },
  "language_info": {
   "codemirror_mode": {
    "name": "ipython",
    "version": 3
   },
   "file_extension": ".py",
   "mimetype": "text/x-python",
   "name": "python",
   "nbconvert_exporter": "python",
   "pygments_lexer": "ipython3",
   "version": "3.10.14"
  }
 },
 "nbformat": 4,
 "nbformat_minor": 2
}
