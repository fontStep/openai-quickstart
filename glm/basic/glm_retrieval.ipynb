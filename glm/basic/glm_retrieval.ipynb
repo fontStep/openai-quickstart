{
 "cells": [
  {
   "cell_type": "markdown",
   "id": "390920eee68ee290",
   "metadata": {
    "collapsed": false
   },
   "source": [
    "## Use the GLM-4 model combined with the knowledge base function of Zhipu AI to answer questions\n",
    "\n",
    "**This tutorial is available in English and is attached below the Chinese explanation**\n",
    "\n",
    "本代码中，我将使用在 [智谱大模型开放平台](https://open.bigmodel.cn/knowledge) 可视化构建的知识库作为参考，使用智谱自带的知识库调用插件，结合我上传的知识库回答问题。\n",
    "本代码仅包含使用代码进行调用，关于如何创建知识库，你可以访问这里：[智谱知识库创建方法](https://open.bigmodel.cn/appcenter/myapp)。\n",
    "\n",
    "In this cookbook, I will use the knowledge base visually constructed on [ZhipuAI LLM Open Platform](https://open.bigmodel.cn/knowledge) as a reference, use the knowledge base call plug-in that comes with Zhipu, and combine it with my Upload the knowledge base to answer questions.\n",
    "This code only includes calls using code. For information on how to create a knowledge base, you can visit here: [How to create a knowledge base](https://open.bigmodel.cn/appcenter/myapp).\n"
   ]
  },
  {
   "cell_type": "markdown",
   "id": "67d1dcfa723f2b58",
   "metadata": {
    "collapsed": false
   },
   "source": [
    "## 1. Import the ZhipuAI package and set the API key\n",
    "\n",
    "首先，需要安装智谱AI 的 Python SDK，然后设置 API key。\n",
    "\n",
    "First, you need to install the ZhipuAI Python SDK, and then set the API key."
   ]
  },
  {
   "cell_type": "code",
   "execution_count": 1,
   "id": "4920299b115b2638",
   "metadata": {
    "ExecuteTime": {
     "end_time": "2024-02-05T06:24:36.721272Z",
     "start_time": "2024-02-05T06:24:36.485892Z"
    },
    "collapsed": false
   },
   "outputs": [],
   "source": [
    "import os\n",
    "from zhipuai import ZhipuAI\n",
    "\n",
    "# os.environ[\"ZHIPUAI_API_KEY\"] = \"your api key here\"\n",
    "client = ZhipuAI()\n"
   ]
  },
  {
   "cell_type": "markdown",
   "id": "369d15cd60ffe7fe",
   "metadata": {
    "collapsed": false
   },
   "source": [
    "## 2. Use the GLM-4 model combined with the knowledge base function of Zhipu AI to answer questions\n",
    "\n",
    "接着，设置知识库的 ID，这个 ID 是在创建知识库时生成的。\n",
    "同时，你应该设置 prompt_template，这是一个模板，用于告诉模型如何使用知识库来回答问题。\n",
    "这样，我们就能请求模型根据知识库回答我们的问题了\n",
    "\n",
    "Next, set the ID of the knowledge base, which is generated when the knowledge base is created.\n",
    "At the same time, you should set prompt_template, which is a template that tells the model how to use the knowledge base to answer questions.\n",
    "In this way, we can request the model to answer our questions based on the knowledge base."
   ]
  },
  {
   "cell_type": "code",
   "execution_count": 2,
   "id": "initial_id",
   "metadata": {
    "ExecuteTime": {
     "end_time": "2024-02-05T06:32:06.360962Z",
     "start_time": "2024-02-05T06:32:01.283105Z"
    },
    "collapsed": true
   },
   "outputs": [],
   "source": [
    "prompt_template = \"\"\"\n",
    "从文档\n",
    "{{knowledge}}\n",
    "中找问题\n",
    "{{question}}\n",
    "的答案，\n",
    "找到答案就仅使用文档语句回答，找不到答案就用自身知识回答并告诉用户该信息不是来自文档。\n",
    "不要复述问题，直接开始回答。\n",
    "\"\"\"\n",
    "knowledge_id = 1748261416734965760 ## my knowledge base id\n",
    "response = client.chat.completions.create(\n",
    "    model=\"glm-4\", \n",
    "    messages=[\n",
    "        {\"role\": \"user\", \"content\": \"大数据专业未来的升学情况\"},\n",
    "    ],\n",
    "    tools=[\n",
    "        {\n",
    "            \"type\": \"retrieval\",\n",
    "            \"retrieval\": {\n",
    "                \"knowledge_id\": knowledge_id,\n",
    "                \"prompt_template\": prompt_template,\n",
    "            }\n",
    "        }\n",
    "    ],\n",
    "    stream=False,\n",
    ")"
   ]
  },
  {
   "cell_type": "markdown",
   "id": "ed50fa0606ec8157",
   "metadata": {
    "collapsed": false
   },
   "source": [
    "## 3. Print the response\n",
    "\n",
    "通过打印的回答，我们看到，模型使用了知识库中的信息回答了我们的问题。而不是使用模型自带的知识，这种调用方式比自己创建和管理知识库更加方便。大大降低了学习成本。\n",
    "\n",
    "By printing the answer, we see that the model used the information in the knowledge base to answer our question. Instead of using the knowledge base built into the model, this method of calling is more convenient than creating and managing the knowledge base by yourself. Greatly reduces the learning cost."
   ]
  },
  {
   "cell_type": "code",
   "execution_count": 3,
   "id": "8001646eb7ca6bfd",
   "metadata": {
    "ExecuteTime": {
     "end_time": "2024-02-05T06:32:06.366878Z",
     "start_time": "2024-02-05T06:32:06.362606Z"
    },
    "collapsed": false
   },
   "outputs": [
    {
     "data": {
      "text/plain": [
       "Completion(model='glm-4', created=1714103180, choices=[CompletionChoice(index=0, finish_reason='stop', message=CompletionMessage(content='大数据专业是当前和未来一段很长时间内都极为热门的专业。随着数据科学、人工智能、云计算等技术的迅速发展，大数据专业的学生未来的升学和就业前景都非常广阔。以下是一些关于大数据专业未来升学的情况：\\n\\n1. **研究生深造**：很多大数据专业的学生会选择继续深造，攻读硕士或博士学位。可以选择的方向包括但不限于数据科学、机器学习、统计学、计算机科学等。\\n\\n2. **国内外高校**：学生可以选择国内顶尖的高校，如清华大学、北京大学、中国科学技术大学等，也可以选择海外知名高校，如斯坦福大学、麻省理工学院、剑桥大学等。\\n\\n3. **专业方向**：\\n   - **数据分析和商业智能**：这一方向的学生可以进入企业，从事数据挖掘、市场分析等工作。\\n   - **机器学习与人工智能**：随着AI的火热，这一方向的学生有大量研究和应用的机会。\\n   - **大数据技术**：包括大数据存储、处理、分析等，技术性较强。\\n   - **统计学与数据科学**：这一方向的学生可以进入政府、金融、医疗等多个领域。\\n\\n4. **跨学科学习**：由于大数据的应用广泛，很多学生会选择跨学科学习，如结合金融、生物信息、社会计算等。\\n\\n5. **就业前景**：\\n   - 升学不仅仅是为了学术研究，更是为了就业。大数据专业的学生毕业后，可以在互联网公司、金融机构、政府机构、医疗健康等多个领域找到高薪工作。\\n\\n6. **国际机会**：随着“一带一路”等国际合作的发展，大数据专业的学生也有越来越多的国际交流和工作机会。\\n\\n7. **创业机会**：在大数据、AI等领域的创业机会也越来越多，学生可以结合自己的研究成果和市场需求，进行创新创业。\\n\\n8. **持续学习**：这一领域技术更新迅速，持续学习和技能更新是必须的。\\n\\n总之，大数据专业的学生未来的升学和就业前景都非常广阔，关键在于学生自身的兴趣、技能和不断学习的能力。', role='assistant', tool_calls=None))], request_id='8602219401170975739', id='8602219401170975739', usage=CompletionUsage(prompt_tokens=10, completion_tokens=398, total_tokens=408))"
      ]
     },
     "execution_count": 3,
     "metadata": {},
     "output_type": "execute_result"
    }
   ],
   "source": [
    "response"
   ]
  }
 ],
 "metadata": {
  "kernelspec": {
   "display_name": "Python 3",
   "language": "python",
   "name": "python3"
  },
  "language_info": {
   "codemirror_mode": {
    "name": "ipython",
    "version": 3
   },
   "file_extension": ".py",
   "mimetype": "text/x-python",
   "name": "python",
   "nbconvert_exporter": "python",
   "pygments_lexer": "ipython3",
   "version": "3.10.14"
  }
 },
 "nbformat": 4,
 "nbformat_minor": 5
}
