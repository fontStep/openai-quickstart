{
 "cells": [
  {
   "cell_type": "code",
   "execution_count": 1,
   "metadata": {},
   "outputs": [],
   "source": [
    "from langchain_openai import OpenAIEmbeddings \n",
    "import os\n",
    "from langchain.document_loaders import TextLoader\n",
    "from langchain.text_splitter import CharacterTextSplitter\n",
    "from langchain.vectorstores import FAISS"
   ]
  },
  {
   "cell_type": "code",
   "execution_count": 2,
   "metadata": {},
   "outputs": [],
   "source": [
    "def data_process(data_path:str,data_index_path:str):\n",
    "    with open(data_path, 'r', encoding='utf-8') as f:\n",
    "        data = f.read()\n",
    "        \n",
    "    text_splitter = CharacterTextSplitter(separator=\"\\n\\n\",chunk_size=200,chunk_overlap=0,length_function=len)\n",
    "    \n",
    "    docs = text_splitter.create_documents([data])\n",
    "    \n",
    "    db = FAISS.from_documents(docs, OpenAIEmbeddings())\n",
    "    \n",
    "    db.save_local(data_index_path)\n",
    "    \n",
    "    "
   ]
  },
  {
   "cell_type": "code",
   "execution_count": 3,
   "metadata": {},
   "outputs": [],
   "source": [
    "data_process('refrigerator_sales_data.txt','refrigerator_sales')"
   ]
  },
  {
   "cell_type": "code",
   "execution_count": 24,
   "metadata": {},
   "outputs": [],
   "source": [
    "newdb = FAISS.load_local('math_sales',OpenAIEmbeddings(),allow_dangerous_deserialization=True)"
   ]
  },
  {
   "cell_type": "code",
   "execution_count": 26,
   "metadata": {},
   "outputs": [],
   "source": [
    "docs = newdb.similarity_search(\"数学培训课程的教学方法是怎样的？\")"
   ]
  },
  {
   "cell_type": "code",
   "execution_count": 30,
   "metadata": {},
   "outputs": [],
   "source": [
    "page_content = [ doc.page_content.split('[销售回答]')[-1] for doc in docs]"
   ]
  },
  {
   "cell_type": "code",
   "execution_count": 31,
   "metadata": {},
   "outputs": [
    {
     "data": {
      "text/plain": [
       "[' 是的，我们根据学生的实际水平和需求，提供个性化的辅导方案，帮助学生针对性地提高数学成绩。',\n",
       " ' 是的，学生在成功完成培训课程后，我们会为其颁发相应的结业证书，证明其学习成绩和能力。',\n",
       " ' 是的，我们提供个性化学习辅导，根据学生的特点和需求，量身定制教学方案。',\n",
       " ' 经过我们的培训，大部分学生都能够取得明显的数学成绩提升，有些甚至能够突破原有的学习瓶颈。']"
      ]
     },
     "execution_count": 31,
     "metadata": {},
     "output_type": "execute_result"
    }
   ],
   "source": [
    "page_content"
   ]
  }
 ],
 "metadata": {
  "kernelspec": {
   "display_name": "Python 3",
   "language": "python",
   "name": "python3"
  },
  "language_info": {
   "codemirror_mode": {
    "name": "ipython",
    "version": 3
   },
   "file_extension": ".py",
   "mimetype": "text/x-python",
   "name": "python",
   "nbconvert_exporter": "python",
   "pygments_lexer": "ipython3",
   "version": "3.10.14"
  }
 },
 "nbformat": 4,
 "nbformat_minor": 2
}
