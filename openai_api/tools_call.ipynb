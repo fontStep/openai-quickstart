{
 "cells": [
  {
   "cell_type": "code",
   "execution_count": 30,
   "metadata": {},
   "outputs": [],
   "source": [
    "import requests\n",
    "import json\n",
    "import gradio as gr\n",
    "import json\n",
    "import requests\n",
    "import os\n",
    "from tenacity import retry, wait_random_exponential, stop_after_attempt\n",
    "from termcolor import colored\n",
    "from openai import OpenAI\n",
    "GPT_MODEL = \"gpt-3.5-turbo\"\n",
    "\n",
    "client = OpenAI(\n",
    "    base_url=os.getenv(\"OPENAI_BASE_URL\"),\n",
    "    api_key=os.getenv(\"OPENAI_API_KEY\"),\n",
    ")"
   ]
  },
  {
   "cell_type": "markdown",
   "metadata": {},
   "source": [
    "{\n",
    "  \"results\": [{\n",
    "    \"location\": {\n",
    "      \"id\": \"WX4FBXXFKE4F\",\n",
    "      \"name\": \"北京\",\n",
    "      \"country\": \"CN\",\n",
    "      \"path\": \"北京,北京,中国\",\n",
    "      \"timezone\": \"Asia/Shanghai\",\n",
    "      \"timezone_offset\": \"+08:00\"\n",
    "    },\n",
    "    \"daily\": [{                          //返回指定days天数的结果\n",
    "      \"date\": \"2015-09-20\",              //日期（该城市的本地时间）\n",
    "      \"text_day\": \"多云\",                //白天天气现象文字\n",
    "      \"code_day\": \"4\",                  //白天天气现象代码\n",
    "      \"text_night\": \"晴\",               //晚间天气现象文字\n",
    "      \"code_night\": \"0\",                //晚间天气现象代码\n",
    "      \"high\": \"26\",                     //当天最高温度\n",
    "      \"low\": \"17\",                      //当天最低温度\n",
    "      \"precip\": \"0\",                    //降水概率，范围0~1，单位百分比（目前仅支持国外城市）\n",
    "      \"wind_direction\": \"\",             //风向文字\n",
    "      \"wind_direction_degree\": \"255\",   //风向角度，范围0~360\n",
    "      \"wind_speed\": \"9.66\",             //风速，单位km/h（当unit=c时）、mph（当unit=f时）\n",
    "      \"wind_scale\": \"\",                 //风力等级\n",
    "      \"rainfall\": \"0.0\",                //降水量，单位mm\n",
    "      \"humidity\": \"76\"                  //相对湿度，0~100，单位为百分比\n",
    "    }, {\n",
    "      \"date\": \"2015-09-21\",\n",
    "      \"text_day\": \"晴\",\n",
    "      \"code_day\": \"0\",\n",
    "      \"text_night\": \"晴\",\n",
    "      \"code_night\": \"0\",\n",
    "      \"high\": \"27\",\n",
    "      \"low\": \"17\",\n",
    "      \"precip\": \"0\",\n",
    "      \"wind_direction\": \"\",\n",
    "      \"wind_direction_degree\": \"157\",\n",
    "      \"wind_speed\": \"17.7\",\n",
    "      \"wind_scale\": \"3\",\n",
    "      \"rainfall\": \"0.0\",\n",
    "      \"humidity\": \"76\"\n",
    "    }, {\n",
    "      ...                               //更多返回结果\n",
    "    }],\n",
    "    \"last_update\": \"2015-09-20T18:00:00+08:00\" //数据更新时间（该城市的本地时间）\n",
    "  }]\n",
    "}"
   ]
  },
  {
   "cell_type": "code",
   "execution_count": 31,
   "metadata": {},
   "outputs": [],
   "source": [
    "#调用心知天气预报API weatherResponse.json()['results'][0]['now']['temperature']\n",
    "def get_current_weather(location:str) -> str:\n",
    "    requestsUrl = f\"https://api.seniverse.com/v3/weather/now.json?key=SUaEVEcUHIhRwQROw&location={location}&language=zh-Hans&unit=c\"\n",
    "    print('requestsUrl:',requestsUrl)\n",
    "    weatherResponse = requests.get(requestsUrl).json()['results'][0]\n",
    "    print(weatherResponse,weatherResponse[\"location\"][\"name\"])\n",
    "    weather_info = {\n",
    "        \"location\": weatherResponse[\"location\"][\"name\"],\n",
    "        \"temperature\":weatherResponse[\"now\"][\"temperature\"],\n",
    "        \"forecast\": weatherResponse[\"now\"][\"text\"],\n",
    "    }\n",
    "    return json.dumps(weather_info, ensure_ascii=False)\n"
   ]
  },
  {
   "cell_type": "code",
   "execution_count": 32,
   "metadata": {},
   "outputs": [
    {
     "name": "stdout",
     "output_type": "stream",
     "text": [
      "requestsUrl: https://api.seniverse.com/v3/weather/now.json?key=SUaEVEcUHIhRwQROw&location=beijing&language=zh-Hans&unit=c\n",
      "{'location': {'id': 'WX4FBXXFKE4F', 'name': '北京', 'country': 'CN', 'path': '北京,北京,中国', 'timezone': 'Asia/Shanghai', 'timezone_offset': '+08:00'}, 'now': {'text': '晴', 'code': '0', 'temperature': '17'}, 'last_update': '2024-03-29T11:34:19+08:00'} 北京\n"
     ]
    },
    {
     "data": {
      "text/plain": [
       "'{\"location\": \"北京\", \"temperature\": \"17\", \"forecast\": \"晴\"}'"
      ]
     },
     "execution_count": 32,
     "metadata": {},
     "output_type": "execute_result"
    }
   ],
   "source": [
    "get_current_weather('beijing')"
   ]
  },
  {
   "cell_type": "code",
   "execution_count": 33,
   "metadata": {},
   "outputs": [],
   "source": [
    "#调用心知天气预报API\n",
    "def get_n_day_weather_forecast(location:str='beijing',start:int=0,num_days:int=5):\n",
    "     print(f'{location}的天气预报：{num_days}')\n",
    "     requestsUrl = f\"https://api.seniverse.com/v3/weather/daily.json?key=SUaEVEcUHIhRwQROw&location={location}&language=zh-Hans&unit=c&start={start}&days={num_days}\"\n",
    "     print(requestsUrl)\n",
    "     weatherResponse = requests.get(requestsUrl).json()['results'][0]\n",
    "\n",
    "     location = weatherResponse[\"location\"][\"name\"]\n",
    "    \n",
    "     date = [ daily[\"date\"] for  daily in weatherResponse[\"daily\"]]\n",
    "     print(\"date\",date)\n",
    "     forecast_day = [ daily[\"text_day\"] for  daily in weatherResponse[\"daily\"]]\n",
    "     forecast_night = [ daily[\"text_night\"] for  daily in weatherResponse[\"daily\"]]\n",
    "     maximum_temperature = [ daily[\"high\"] for  daily in weatherResponse[\"daily\"]]\n",
    "     lowest_temperature = [ daily[\"low\"] for  daily in weatherResponse[\"daily\"]]\n",
    "     weather_info ={\n",
    "         \"date\":date, \n",
    "         \"forecast_day\":forecast_day, \n",
    "         \"forecast_night\":forecast_night, \n",
    "         \"maximum_temperature\":maximum_temperature, \n",
    "         \"lowest_temperature\":lowest_temperature, \n",
    "     }\n",
    "     print(\"weather_info\",weather_info)\n",
    "     return json.dumps(weather_info, ensure_ascii=False)"
   ]
  },
  {
   "cell_type": "code",
   "execution_count": 34,
   "metadata": {},
   "outputs": [
    {
     "name": "stdout",
     "output_type": "stream",
     "text": [
      "beijing的天气预报：5\n",
      "https://api.seniverse.com/v3/weather/daily.json?key=SUaEVEcUHIhRwQROw&location=beijing&language=zh-Hans&unit=c&start=0&days=5\n",
      "date ['2024-03-29', '2024-03-30', '2024-03-31']\n",
      "weather_info {'date': ['2024-03-29', '2024-03-30', '2024-03-31'], 'forecast_day': ['晴', '晴', '晴'], 'forecast_night': ['晴', '晴', '晴'], 'maximum_temperature': ['20', '21', '23'], 'lowest_temperature': ['6', '6', '7']}\n"
     ]
    },
    {
     "data": {
      "text/plain": [
       "'{\"date\": [\"2024-03-29\", \"2024-03-30\", \"2024-03-31\"], \"forecast_day\": [\"晴\", \"晴\", \"晴\"], \"forecast_night\": [\"晴\", \"晴\", \"晴\"], \"maximum_temperature\": [\"20\", \"21\", \"23\"], \"lowest_temperature\": [\"6\", \"6\", \"7\"]}'"
      ]
     },
     "execution_count": 34,
     "metadata": {},
     "output_type": "execute_result"
    }
   ],
   "source": [
    "get_n_day_weather_forecast('beijing')"
   ]
  },
  {
   "cell_type": "code",
   "execution_count": 35,
   "metadata": {},
   "outputs": [],
   "source": [
    "# 定义一个名为tools的列表，其中包含两个字典，这两个字典分别定义了两个功能的相关参数\n",
    "\n",
    "# 第一个字典定义了一个名为\"get_current_weather\"的功能\n",
    "tools  = [\n",
    "    {\n",
    "        \"type\": \"function\",\n",
    "        \"function\": {\n",
    "            \"name\": \"get_current_weather\",  # 功能的名称\n",
    "        \"description\": \"Get the current weather\",  # 功能的描述\n",
    "        \"parameters\": {  # 定义该功能需要的参数\n",
    "            \"type\": \"object\",\n",
    "                \"properties\": {  # 参数的属性\n",
    "                \"location\": {  # 地点参数\n",
    "                    \"type\": \"string\",  # 参数类型为字符串\n",
    "                    \"description\": \"The city and state, e.g. San Francisco, CA\",  # 参数的描述\n",
    "                    },\n",
    "                },\n",
    "                \"required\": [\n",
    "                    \"location\"\n",
    "                ],  # 该功能需要的必要参数\n",
    "            },\n",
    "        }\n",
    "    },\n",
    "    # 第二个字典定义了一个名为\"get_n_day_weather_forecast\"的功能\n",
    "    {\n",
    "        \"type\": \"function\",\n",
    "        \"function\": {\n",
    "            \"name\": \"get_n_day_weather_forecast\",  # 功能的名称\n",
    "        \"description\": \"Get an N-day weather forecast\",  # 功能的描述\n",
    "        \"parameters\": {  # 定义该功能需要的参数\n",
    "            \"type\": \"object\",\n",
    "                \"properties\": {  # 参数的属性\n",
    "                \"location\": {  # 地点参数\n",
    "                    \"type\": \"string\",  # 参数类型为字符串\n",
    "                    \"description\": \"The city and state, e.g. San Francisco, CA\",  # 参数的描述\n",
    "                    },\n",
    "                    \"num_days\": {  # 预测天数参数\n",
    "                    \"type\": \"integer\",  # 参数类型为整数\n",
    "                    \"description\": \"The number of days to forecast\",  # 参数的描述\n",
    "                    }\n",
    "                },\n",
    "                \"required\": [\n",
    "                    \"location\",\n",
    "                    \"num_days\"\n",
    "                ]  # 该功能需要的必要参数\n",
    "            }\n",
    "        },\n",
    "    },\n",
    "]"
   ]
  },
  {
   "cell_type": "markdown",
   "metadata": {},
   "source": []
  },
  {
   "cell_type": "code",
   "execution_count": 36,
   "metadata": {},
   "outputs": [],
   "source": [
    "@retry(wait=wait_random_exponential(multiplier=1, max=60), stop=stop_after_attempt(5))\n",
    "def chat_completion_request(messagelist:list,model:str=GPT_MODEL,tool_choice=None,tools=None):\n",
    "    response = client.chat.completions.create(\n",
    "        model=model,\n",
    "        messages=messagelist,\n",
    "        tools=tools,\n",
    "        tool_choice=tool_choice\n",
    "    )\n",
    "    return response.choices[0].message    "
   ]
  },
  {
   "cell_type": "code",
   "execution_count": 65,
   "metadata": {},
   "outputs": [],
   "source": [
    "messages = [\n",
    "    {\n",
    "        \"role\": \"system\",\n",
    "        \"content\": \"You are a helpful assistant that can answer questions.\",\n",
    "    },\n",
    "]\n",
    "\n"
   ]
  },
  {
   "cell_type": "code",
   "execution_count": 38,
   "metadata": {},
   "outputs": [],
   "source": [
    "def add_message(content):\n",
    "    messages.append(content)\n",
    "    return messages\n",
    "    # return [messages[0]] + messages[-4:]"
   ]
  },
  {
   "cell_type": "code",
   "execution_count": 67,
   "metadata": {},
   "outputs": [
    {
     "data": {
      "text/plain": [
       "[{'role': 'system',\n",
       "  'content': 'You are a helpful assistant that can answer questions.'},\n",
       " {'role': 'user', 'content': '我在北京，最近一周的天气怎么样'},\n",
       " ChatCompletionMessage(content=None, role='assistant', function_call=None, tool_calls=[ChatCompletionMessageToolCall(id='call_yX2hShGJ2AtNanxp8jNLYmeP', function=Function(arguments='{\"location\":\"Beijing\",\"num_days\":7}', name='get_n_day_weather_forecast'), type='function')]),\n",
       " {'tool_call_id': 'call_yX2hShGJ2AtNanxp8jNLYmeP',\n",
       "  'role': 'tool',\n",
       "  'name': 'get_n_day_weather_forecast',\n",
       "  'content': '{\"date\": [\"2024-03-29\", \"2024-03-30\", \"2024-03-31\"], \"forecast_day\": [\"晴\", \"晴\", \"晴\"], \"forecast_night\": [\"晴\", \"晴\", \"晴\"], \"maximum_temperature\": [\"20\", \"21\", \"23\"], \"lowest_temperature\": [\"6\", \"6\", \"7\"]}'}]"
      ]
     },
     "execution_count": 67,
     "metadata": {},
     "output_type": "execute_result"
    }
   ],
   "source": [
    "\n",
    "\n",
    "messages"
   ]
  },
  {
   "cell_type": "code",
   "execution_count": 66,
   "metadata": {},
   "outputs": [
    {
     "name": "stdout",
     "output_type": "stream",
     "text": [
      "ChatCompletionMessage(content=None, role='assistant', function_call=None, tool_calls=[ChatCompletionMessageToolCall(id='call_yX2hShGJ2AtNanxp8jNLYmeP', function=Function(arguments='{\"location\":\"Beijing\",\"num_days\":7}', name='get_n_day_weather_forecast'), type='function')])\n",
      "Beijing的天气预报：7\n",
      "https://api.seniverse.com/v3/weather/daily.json?key=SUaEVEcUHIhRwQROw&location=Beijing&language=zh-Hans&unit=c&start=0&days=7\n",
      "date ['2024-03-29', '2024-03-30', '2024-03-31']\n",
      "weather_info {'date': ['2024-03-29', '2024-03-30', '2024-03-31'], 'forecast_day': ['晴', '晴', '晴'], 'forecast_night': ['晴', '晴', '晴'], 'maximum_temperature': ['20', '21', '23'], 'lowest_temperature': ['6', '6', '7']}\n"
     ]
    },
    {
     "data": {
      "text/plain": [
       "'北京最近一周的天气情况如下：\\n- 3月29日白天晴，最高温度20°C，夜间最低温度6°C。\\n- 3月30日白天晴，最高温度21°C，夜间最低温度6°C。\\n- 3月31日白天晴，最高温度23°C，夜间最低温度7°C。'"
      ]
     },
     "execution_count": 66,
     "metadata": {},
     "output_type": "execute_result"
    }
   ],
   "source": [
    "add_message({\n",
    "         \"role\": \"user\",\n",
    "         \"content\": \"我在北京，最近一周的天气怎么样\"\n",
    "    })\n",
    "response = chat_completion_request(messages,tools=tools)\n",
    "print(response)\n",
    "deal_conversation(response)"
   ]
  },
  {
   "cell_type": "code",
   "execution_count": 47,
   "metadata": {},
   "outputs": [
    {
     "data": {
      "text/plain": [
       "[{'role': 'system',\n",
       "  'content': 'You are a helpful assistant that can answer questions.'},\n",
       " {'role': 'user', 'content': '我在北京，最近一周的天气怎么样'}]"
      ]
     },
     "execution_count": 47,
     "metadata": {},
     "output_type": "execute_result"
    }
   ],
   "source": [
    "messages"
   ]
  },
  {
   "cell_type": "markdown",
   "metadata": {},
   "source": [
    "ChatCompletionMessage(content=None, role='assistant', function_call=None, tool_calls=[ChatCompletionMessageToolCall(id='call_c7IhNraOZGgWl62DD1q3aUPs', function=Function(arguments='{\"location\":\"Beijing\",\"num_days\":7}', name='get_n_day_weather_forecast'), type='function')])\n"
   ]
  },
  {
   "cell_type": "code",
   "execution_count": 49,
   "metadata": {},
   "outputs": [],
   "source": [
    "#执行tool_calls\n",
    "def execute_tool_calls(message) -> str:\n",
    "    if message.tool_calls:\n",
    "                        \n",
    "            available_tools = {\n",
    "                    \"get_n_day_weather_forecast\": get_n_day_weather_forecast,\n",
    "                    \"get_current_weather\": get_current_weather,\n",
    "            }  # only one function in this example, but you can have multiple\n",
    "            \n",
    "            for tool_call in message.tool_calls:\n",
    "                \n",
    "                function_name = tool_call.function.name\n",
    "                \n",
    "                function_args = json.loads(tool_call.function.arguments)\n",
    "                \n",
    "                if function_args.get('location'):\n",
    "                    function_args['location'] = function_args['location'].split(',')[0]\n",
    "                \n",
    "                fuction_to_call = available_tools[function_name]\n",
    "                \n",
    "                function_response = fuction_to_call(\n",
    "                    **function_args\n",
    "                )\n",
    "                \n",
    "                add_message(\n",
    "                    {\n",
    "                        \"tool_call_id\":tool_call.id,\n",
    "                        \"role\": \"tool\",\n",
    "                        \"name\": function_name,\n",
    "                        \"content\": function_response,\n",
    "                    }\n",
    "                )\n",
    "            second_response = client.chat.completions.create(\n",
    "                model=GPT_MODEL,\n",
    "                messages=messages,\n",
    "            )\n",
    "            return second_response.choices[0].message.content            \n",
    "    else:    \n",
    "        print(\"No function call in message\") \n",
    "            \n",
    "            "
   ]
  },
  {
   "cell_type": "code",
   "execution_count": null,
   "metadata": {},
   "outputs": [],
   "source": []
  },
  {
   "cell_type": "code",
   "execution_count": 64,
   "metadata": {},
   "outputs": [],
   "source": [
    "\n",
    "def deal_conversation(message):\n",
    "    messages.append(message)\n",
    "    if message.role == \"assistant\" and message.tool_calls is not None:\n",
    "        return execute_tool_calls(message)\n",
    "    else:\n",
    "        return message.content\n",
    "            \n",
    "    "
   ]
  },
  {
   "cell_type": "code",
   "execution_count": null,
   "metadata": {},
   "outputs": [],
   "source": []
  },
  {
   "cell_type": "code",
   "execution_count": 42,
   "metadata": {},
   "outputs": [],
   "source": [
    "#定义聊天函数\n",
    "def chat(content,history):\n",
    "    add_message({\n",
    "         \"role\": \"user\",\n",
    "         \"content\": content\n",
    "    })\n",
    "    repsonseMsg = deal_conversation(chat_completion_request(messagelist=messages,tools=tools))\n",
    "    response = str(repsonseMsg)\n",
    "    return response\n",
    "     "
   ]
  },
  {
   "cell_type": "code",
   "execution_count": 43,
   "metadata": {},
   "outputs": [
    {
     "ename": "AttributeError",
     "evalue": "'ChatCompletionMessageToolCall' object has no attribute 'name'",
     "output_type": "error",
     "traceback": [
      "\u001b[1;31m---------------------------------------------------------------------------\u001b[0m",
      "\u001b[1;31mKeyError\u001b[0m                                  Traceback (most recent call last)",
      "File \u001b[1;32md:\\python_env\\py310\\lib\\site-packages\\pydantic\\main.py:759\u001b[0m, in \u001b[0;36mBaseModel.__getattr__\u001b[1;34m(self, item)\u001b[0m\n\u001b[0;32m    758\u001b[0m \u001b[38;5;28;01mtry\u001b[39;00m:\n\u001b[1;32m--> 759\u001b[0m     \u001b[38;5;28;01mreturn\u001b[39;00m \u001b[43mpydantic_extra\u001b[49m\u001b[43m[\u001b[49m\u001b[43mitem\u001b[49m\u001b[43m]\u001b[49m\n\u001b[0;32m    760\u001b[0m \u001b[38;5;28;01mexcept\u001b[39;00m \u001b[38;5;167;01mKeyError\u001b[39;00m \u001b[38;5;28;01mas\u001b[39;00m exc:\n",
      "\u001b[1;31mKeyError\u001b[0m: 'name'",
      "\nThe above exception was the direct cause of the following exception:\n",
      "\u001b[1;31mAttributeError\u001b[0m                            Traceback (most recent call last)",
      "Cell \u001b[1;32mIn[43], line 1\u001b[0m\n\u001b[1;32m----> 1\u001b[0m \u001b[43mchat\u001b[49m\u001b[43m(\u001b[49m\u001b[43mcontent\u001b[49m\u001b[43m \u001b[49m\u001b[38;5;241;43m=\u001b[39;49m\u001b[38;5;124;43m'\u001b[39;49m\u001b[38;5;124;43m我在北京，最近一周的天气怎么样\u001b[39;49m\u001b[38;5;124;43m'\u001b[39;49m\u001b[43m,\u001b[49m\u001b[43mhistory\u001b[49m\u001b[38;5;241;43m=\u001b[39;49m\u001b[38;5;124;43m'\u001b[39;49m\u001b[38;5;124;43m'\u001b[39;49m\u001b[43m)\u001b[49m\n",
      "Cell \u001b[1;32mIn[42], line 7\u001b[0m, in \u001b[0;36mchat\u001b[1;34m(content, history)\u001b[0m\n\u001b[0;32m      2\u001b[0m \u001b[38;5;28;01mdef\u001b[39;00m \u001b[38;5;21mchat\u001b[39m(content,history):\n\u001b[0;32m      3\u001b[0m     add_message({\n\u001b[0;32m      4\u001b[0m          \u001b[38;5;124m\"\u001b[39m\u001b[38;5;124mrole\u001b[39m\u001b[38;5;124m\"\u001b[39m: \u001b[38;5;124m\"\u001b[39m\u001b[38;5;124muser\u001b[39m\u001b[38;5;124m\"\u001b[39m,\n\u001b[0;32m      5\u001b[0m          \u001b[38;5;124m\"\u001b[39m\u001b[38;5;124mcontent\u001b[39m\u001b[38;5;124m\"\u001b[39m: content\n\u001b[0;32m      6\u001b[0m     })\n\u001b[1;32m----> 7\u001b[0m     repsonseMsg \u001b[38;5;241m=\u001b[39m \u001b[43mdeal_conversation\u001b[49m\u001b[43m(\u001b[49m\u001b[43mchat_completion_request\u001b[49m\u001b[43m(\u001b[49m\u001b[43mmessagelist\u001b[49m\u001b[38;5;241;43m=\u001b[39;49m\u001b[43mmessages\u001b[49m\u001b[43m,\u001b[49m\u001b[43mtools\u001b[49m\u001b[38;5;241;43m=\u001b[39;49m\u001b[43mtools\u001b[49m\u001b[43m)\u001b[49m\u001b[43m)\u001b[49m\n\u001b[0;32m      8\u001b[0m     response \u001b[38;5;241m=\u001b[39m \u001b[38;5;28mstr\u001b[39m(repsonseMsg)\n\u001b[0;32m      9\u001b[0m     \u001b[38;5;28;01mreturn\u001b[39;00m response\n",
      "Cell \u001b[1;32mIn[41], line 4\u001b[0m, in \u001b[0;36mdeal_conversation\u001b[1;34m(message)\u001b[0m\n\u001b[0;32m      2\u001b[0m add_message(message)\n\u001b[0;32m      3\u001b[0m \u001b[38;5;28;01mif\u001b[39;00m message\u001b[38;5;241m.\u001b[39mrole \u001b[38;5;241m==\u001b[39m \u001b[38;5;124m\"\u001b[39m\u001b[38;5;124massistant\u001b[39m\u001b[38;5;124m\"\u001b[39m \u001b[38;5;129;01mand\u001b[39;00m message\u001b[38;5;241m.\u001b[39mtool_calls \u001b[38;5;129;01mis\u001b[39;00m \u001b[38;5;129;01mnot\u001b[39;00m \u001b[38;5;28;01mNone\u001b[39;00m:\n\u001b[1;32m----> 4\u001b[0m     \u001b[38;5;28;01mreturn\u001b[39;00m \u001b[43mexecute_tool_calls\u001b[49m\u001b[43m(\u001b[49m\u001b[43mmessage\u001b[49m\u001b[43m)\u001b[49m\n\u001b[0;32m      5\u001b[0m \u001b[38;5;28;01melse\u001b[39;00m:\n\u001b[0;32m      6\u001b[0m     \u001b[38;5;28;01mreturn\u001b[39;00m message\u001b[38;5;241m.\u001b[39mcontent\n",
      "Cell \u001b[1;32mIn[40], line 12\u001b[0m, in \u001b[0;36mexecute_tool_calls\u001b[1;34m(message)\u001b[0m\n\u001b[0;32m      5\u001b[0m available_tools \u001b[38;5;241m=\u001b[39m {\n\u001b[0;32m      6\u001b[0m         \u001b[38;5;124m\"\u001b[39m\u001b[38;5;124mget_n_day_weather_forecast\u001b[39m\u001b[38;5;124m\"\u001b[39m: get_n_day_weather_forecast,\n\u001b[0;32m      7\u001b[0m         \u001b[38;5;124m\"\u001b[39m\u001b[38;5;124mget_current_weather\u001b[39m\u001b[38;5;124m\"\u001b[39m: get_current_weather,\n\u001b[0;32m      8\u001b[0m }  \u001b[38;5;66;03m# only one function in this example, but you can have multiple\u001b[39;00m\n\u001b[0;32m     10\u001b[0m \u001b[38;5;28;01mfor\u001b[39;00m tool_call \u001b[38;5;129;01min\u001b[39;00m message\u001b[38;5;241m.\u001b[39mtool_calls:\n\u001b[1;32m---> 12\u001b[0m     function_name \u001b[38;5;241m=\u001b[39m \u001b[43mtool_call\u001b[49m\u001b[38;5;241;43m.\u001b[39;49m\u001b[43mname\u001b[49m\n\u001b[0;32m     14\u001b[0m     function_args \u001b[38;5;241m=\u001b[39m json\u001b[38;5;241m.\u001b[39mloads(tool_call\u001b[38;5;241m.\u001b[39marguments)\n\u001b[0;32m     16\u001b[0m     \u001b[38;5;28;01mif\u001b[39;00m function_args\u001b[38;5;241m.\u001b[39mget(\u001b[38;5;124m'\u001b[39m\u001b[38;5;124mlocation\u001b[39m\u001b[38;5;124m'\u001b[39m):\n",
      "File \u001b[1;32md:\\python_env\\py310\\lib\\site-packages\\pydantic\\main.py:761\u001b[0m, in \u001b[0;36mBaseModel.__getattr__\u001b[1;34m(self, item)\u001b[0m\n\u001b[0;32m    759\u001b[0m         \u001b[38;5;28;01mreturn\u001b[39;00m pydantic_extra[item]\n\u001b[0;32m    760\u001b[0m     \u001b[38;5;28;01mexcept\u001b[39;00m \u001b[38;5;167;01mKeyError\u001b[39;00m \u001b[38;5;28;01mas\u001b[39;00m exc:\n\u001b[1;32m--> 761\u001b[0m         \u001b[38;5;28;01mraise\u001b[39;00m \u001b[38;5;167;01mAttributeError\u001b[39;00m(\u001b[38;5;124mf\u001b[39m\u001b[38;5;124m'\u001b[39m\u001b[38;5;132;01m{\u001b[39;00m\u001b[38;5;28mtype\u001b[39m(\u001b[38;5;28mself\u001b[39m)\u001b[38;5;241m.\u001b[39m\u001b[38;5;18m__name__\u001b[39m\u001b[38;5;132;01m!r}\u001b[39;00m\u001b[38;5;124m object has no attribute \u001b[39m\u001b[38;5;132;01m{\u001b[39;00mitem\u001b[38;5;132;01m!r}\u001b[39;00m\u001b[38;5;124m'\u001b[39m) \u001b[38;5;28;01mfrom\u001b[39;00m \u001b[38;5;21;01mexc\u001b[39;00m\n\u001b[0;32m    762\u001b[0m \u001b[38;5;28;01melse\u001b[39;00m:\n\u001b[0;32m    763\u001b[0m     \u001b[38;5;28;01mif\u001b[39;00m \u001b[38;5;28mhasattr\u001b[39m(\u001b[38;5;28mself\u001b[39m\u001b[38;5;241m.\u001b[39m\u001b[38;5;18m__class__\u001b[39m, item):\n",
      "\u001b[1;31mAttributeError\u001b[0m: 'ChatCompletionMessageToolCall' object has no attribute 'name'"
     ]
    }
   ],
   "source": [
    "\n",
    "chat(content ='我在北京，最近一周的天气怎么样',history='')"
   ]
  },
  {
   "cell_type": "code",
   "execution_count": null,
   "metadata": {},
   "outputs": [
    {
     "name": "stdout",
     "output_type": "stream",
     "text": [
      "Running on local URL:  http://127.0.0.1:7860\n",
      "\n",
      "To create a public link, set `share=True` in `launch()`.\n"
     ]
    },
    {
     "data": {
      "text/html": [
       "<div><iframe src=\"http://127.0.0.1:7860/\" width=\"100%\" height=\"500\" allow=\"autoplay; camera; microphone; clipboard-read; clipboard-write;\" frameborder=\"0\" allowfullscreen></iframe></div>"
      ],
      "text/plain": [
       "<IPython.core.display.HTML object>"
      ]
     },
     "metadata": {},
     "output_type": "display_data"
    },
    {
     "data": {
      "text/plain": []
     },
     "execution_count": 17,
     "metadata": {},
     "output_type": "execute_result"
    }
   ],
   "source": [
    "\n",
    "\n",
    "demo = gr.ChatInterface(fn=chat, \n",
    "                        # examples=[\"hello\", \"hola\", \"merhaba\"],\n",
    "                        title=\"聊天机器人\",\n",
    "                        retry_btn=None,\n",
    "                        undo_btn=None,\n",
    "                        clear_btn=None,\n",
    "                        )\n",
    "demo.launch()"
   ]
  },
  {
   "cell_type": "code",
   "execution_count": 68,
   "metadata": {},
   "outputs": [
    {
     "name": "stdout",
     "output_type": "stream",
     "text": [
      "Beijing的天气预报：7\n",
      "https://api.seniverse.com/v3/weather/daily.json?key=SUaEVEcUHIhRwQROw&location=Beijing&language=zh-Hans&unit=c&start=0&days=7\n",
      "date ['2024-03-29', '2024-03-30', '2024-03-31']\n",
      "weather_info {'date': ['2024-03-29', '2024-03-30', '2024-03-31'], 'forecast_day': ['晴', '晴', '晴'], 'forecast_night': ['晴', '晴', '晴'], 'maximum_temperature': ['20', '21', '23'], 'lowest_temperature': ['6', '6', '7']}\n"
     ]
    },
    {
     "data": {
      "text/plain": [
       "'根据最新的天气预报，接下来一周北京的天气以晴为主，白天最高气温分别为20℃、21℃、23℃，夜晚最低气温分别为6℃、6℃、7℃。请注意保暖和随时关注天气变化哦。如果您需要更多信息或有其他问题，请随时告诉我。'"
      ]
     },
     "execution_count": 68,
     "metadata": {},
     "output_type": "execute_result"
    }
   ],
   "source": [
    "# messages\n",
    "chat('我在北京，我想知道最近一周的天气','')\n"
   ]
  },
  {
   "cell_type": "code",
   "execution_count": null,
   "metadata": {},
   "outputs": [],
   "source": []
  }
 ],
 "metadata": {
  "kernelspec": {
   "display_name": "Python 3",
   "language": "python",
   "name": "python3"
  },
  "language_info": {
   "codemirror_mode": {
    "name": "ipython",
    "version": 3
   },
   "file_extension": ".py",
   "mimetype": "text/x-python",
   "name": "python",
   "nbconvert_exporter": "python",
   "pygments_lexer": "ipython3",
   "version": "3.10.14"
  }
 },
 "nbformat": 4,
 "nbformat_minor": 2
}
