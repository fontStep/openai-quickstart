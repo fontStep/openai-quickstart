{
 "cells": [
  {
   "cell_type": "code",
   "execution_count": 3,
   "metadata": {},
   "outputs": [],
   "source": [
    "import json\n",
    "import requests\n",
    "import os\n",
    "from tenacity import retry, wait_random_exponential, stop_after_attempt\n",
    "from termcolor import colored\n",
    "import os\n",
    "from openai import OpenAI\n",
    "GPT_MODEL = \"gpt-3.5-turbo\"\n",
    "\n",
    "\n",
    "\n",
    "client = OpenAI(\n",
    "    base_url=os.getenv(\"OPENAI_BASE_URL\"),\n",
    "    api_key=os.getenv(\"OPENAI_API_KEY\"),\n",
    ")\n",
    "\n"
   ]
  },
  {
   "cell_type": "code",
   "execution_count": 5,
   "metadata": {},
   "outputs": [],
   "source": [
    "# 使用了retry库，指定在请求失败时的重试策略。\n",
    "# 这里设定的是指数等待（wait_random_exponential），时间间隔的最大值为40秒，并且最多重试3次（stop_after_attempt(3)）。\n",
    "# 定义一个函数chat_completion_request，主要用于发送 聊天补全 请求到OpenAI服务器\n",
    "@retry(wait=wait_random_exponential(multiplier=1, max=40), stop=stop_after_attempt(3))\n",
    "def chat_completion_request(messages, functions=None, function_call=None, model=GPT_MODEL):\n",
    "\n",
    "    # 设定请求的header信息，包括 API_KEY\n",
    "    headers = {\n",
    "        \"Content-Type\": \"application/json\",\n",
    "        \"Authorization\": \"Bearer \" + os.getenv(\"OPENAI_API_KEY\"),\n",
    "    }\n",
    "\n",
    "    # 设定请求的JSON数据，包括GPT 模型名和要进行补全的消息\n",
    "    json_data = {\"model\": model, \"messages\": messages}\n",
    "\n",
    "    # 如果传入了functions，将其加入到json_data中\n",
    "    if functions is not None:\n",
    "        json_data.update({\"functions\": functions})\n",
    "\n",
    "    # 如果传入了function_call，将其加入到json_data中\n",
    "    if function_call is not None:\n",
    "        json_data.update({\"function_call\": function_call})\n",
    "        \n",
    "  \n",
    "\n",
    "    # 尝试发送POST请求到OpenAI服务器的chat/completions接口\n",
    "    try:\n",
    "        response = requests.post(\n",
    "            \"https://api.openai-proxy.com/v1/chat/completions\",\n",
    "            headers=headers,\n",
    "            json=json_data,\n",
    "        )\n",
    "        # 返回服务器的响应\n",
    "        return response\n",
    "\n",
    "    # 如果发送请求或处理响应时出现异常，打印异常信息并返回\n",
    "    except Exception as e:\n",
    "        print(\"Unable to generate ChatCompletion response\")\n",
    "        print(f\"Exception: {e}\")\n",
    "        return e"
   ]
  },
  {
   "cell_type": "code",
   "execution_count": 6,
   "metadata": {},
   "outputs": [],
   "source": [
    "# 定义一个函数pretty_print_conversation，用于打印消息对话内容\n",
    "def pretty_print_conversation(messages):\n",
    "\n",
    "    # 为不同角色设置不同的颜色\n",
    "    role_to_color = {\n",
    "        \"system\": \"red\",\n",
    "        \"user\": \"green\",\n",
    "        \"assistant\": \"blue\",\n",
    "        \"function\": \"magenta\",\n",
    "    }\n",
    "\n",
    "    # 遍历消息列表\n",
    "    for message in messages:\n",
    "    \n",
    "        print('message:',message)    \n",
    "    \n",
    "        # 如果消息的角色是\"system\"，则用红色打印“content”\n",
    "        if message[\"role\"] == \"system\":\n",
    "            print(colored(f\"system: {message['content']}\\n\", role_to_color[message[\"role\"]]))\n",
    "\n",
    "        # 如果消息的角色是\"user\"，则用绿色打印“content”\n",
    "        elif message[\"role\"] == \"user\":\n",
    "            print(colored(f\"user: {message['content']}\\n\", role_to_color[message[\"role\"]]))\n",
    "\n",
    "        # 如果消息的角色是\"assistant\"，并且消息中包含\"function_call\"，则用蓝色打印\"function_call\"\n",
    "        elif message[\"role\"] == \"assistant\" and message.get(\"function_call\"):\n",
    "            print(colored(f\"assistant[function_call]: {message['function_call']}\\n\", role_to_color[message[\"role\"]]))\n",
    "        # 如果消息的角色是\"assistant\"，但是消息中不包含\"function_call\"，则用蓝色打印“content”\n",
    "        elif message[\"role\"] == \"assistant\" and not message.get(\"function_call\"):\n",
    "            print(colored(f\"assistant[content]: {message['content']}\\n\", role_to_color[message[\"role\"]]))\n",
    "\n",
    "        # 如果消息的角色是\"function\"，则用品红色打印“function”\n",
    "        elif message[\"role\"] == \"function\":\n",
    "            print(colored(f\"function ({message['name']}): {message['content']}\\n\", role_to_color[message[\"role\"]]))\n",
    "            \n",
    "    "
   ]
  },
  {
   "cell_type": "code",
   "execution_count": null,
   "metadata": {},
   "outputs": [],
   "source": []
  },
  {
   "cell_type": "code",
   "execution_count": 7,
   "metadata": {},
   "outputs": [],
   "source": [
    "# 定义一个名为functions的列表，其中包含两个字典，这两个字典分别定义了两个功能的相关参数\n",
    "\n",
    "# 第一个字典定义了一个名为\"get_current_weather\"的功能\n",
    "functions = [\n",
    "    {\n",
    "        \"name\": \"get_current_weather\",  # 功能的名称\n",
    "        \"description\": \"Get the current weather\",  # 功能的描述\n",
    "        \"parameters\": {  # 定义该功能需要的参数\n",
    "            \"type\": \"object\",\n",
    "            \"properties\": {  # 参数的属性\n",
    "                \"location\": {  # 地点参数\n",
    "                    \"type\": \"string\",  # 参数类型为字符串\n",
    "                    \"description\": \"The city and state, e.g. San Francisco, CA\",  # 参数的描述\n",
    "                },\n",
    "                \"format\": {  # 温度单位参数\n",
    "                    \"type\": \"string\",  # 参数类型为字符串\n",
    "                    \"enum\": [\"celsius\", \"fahrenheit\"],  # 参数的取值范围\n",
    "                    \"description\": \"The temperature unit to use. Infer this from the users location.\",  # 参数的描述\n",
    "                },\n",
    "            },\n",
    "            \"required\": [\"location\", \"format\"],  # 该功能需要的必要参数\n",
    "        },\n",
    "    },\n",
    "    # 第二个字典定义了一个名为\"get_n_day_weather_forecast\"的功能\n",
    "    {\n",
    "        \"name\": \"get_n_day_weather_forecast\",  # 功能的名称\n",
    "        \"description\": \"Get an N-day weather forecast\",  # 功能的描述\n",
    "        \"parameters\": {  # 定义该功能需要的参数\n",
    "            \"type\": \"object\",\n",
    "            \"properties\": {  # 参数的属性\n",
    "                \"location\": {  # 地点参数\n",
    "                    \"type\": \"string\",  # 参数类型为字符串\n",
    "                    \"description\": \"The city and state, e.g. San Francisco, CA\",  # 参数的描述\n",
    "                },\n",
    "                \"format\": {  # 温度单位参数\n",
    "                    \"type\": \"string\",  # 参数类型为字符串\n",
    "                    \"enum\": [\"celsius\", \"fahrenheit\"],  # 参数的取值范围\n",
    "                    \"description\": \"The temperature unit to use. Infer this from the users location.\",  # 参数的描述\n",
    "                },\n",
    "                \"num_days\": {  # 预测天数参数\n",
    "                    \"type\": \"integer\",  # 参数类型为整数\n",
    "                    \"description\": \"The number of days to forecast\",  # 参数的描述\n",
    "                }\n",
    "            },\n",
    "            \"required\": [\"location\", \"format\", \"num_days\"]  # 该功能需要的必要参数\n",
    "        },\n",
    "    },\n",
    "]"
   ]
  },
  {
   "cell_type": "code",
   "execution_count": null,
   "metadata": {},
   "outputs": [],
   "source": []
  },
  {
   "cell_type": "code",
   "execution_count": 8,
   "metadata": {},
   "outputs": [
    {
     "name": "stdout",
     "output_type": "stream",
     "text": [
      "message: {'role': 'system', 'content': \"Don't make assumptions about what values to plug into functions. Ask for clarification if a user request is ambiguous.\"}\n",
      "\u001b[31msystem: Don't make assumptions about what values to plug into functions. Ask for clarification if a user request is ambiguous.\n",
      "\u001b[0m\n",
      "message: {'role': 'user', 'content': \"What's the weather like today\"}\n",
      "\u001b[32muser: What's the weather like today\n",
      "\u001b[0m\n",
      "message: {'role': 'assistant', 'content': \"Sure, before I can provide you with the current weather, could you please provide me with the location (city and state) you'd like to know the weather for?\"}\n",
      "\u001b[34massistant[content]: Sure, before I can provide you with the current weather, could you please provide me with the location (city and state) you'd like to know the weather for?\n",
      "\u001b[0m\n"
     ]
    }
   ],
   "source": [
    " #定义一个空列表messages，用于存储聊天的内容\n",
    "messages = []\n",
    "\n",
    "# 使用append方法向messages列表添加一条系统角色的消息\n",
    "messages.append({\n",
    "    \"role\": \"system\",  # 消息的角色是\"system\"\n",
    "    \"content\": \"Don't make assumptions about what values to plug into functions. Ask for clarification if a user request is ambiguous.\"  # 消息的内容\n",
    "})\n",
    "\n",
    "# 向messages列表添加一条用户角色的消息\n",
    "messages.append({\n",
    "    \"role\": \"user\",  # 消息的角色是\"user\"\n",
    "    \"content\": \"What's the weather like today\"  # 用户询问今天的天气情况\n",
    "})\n",
    "\n",
    "# 使用定义的chat_completion_request函数发起一个请求，传入messages和functions作为参数\n",
    "chat_response = chat_completion_request(\n",
    "    messages, functions=functions,function_call=\"auto\"\n",
    ")\n",
    "\n",
    "# 解析返回的JSON数据，获取助手的回复消息\n",
    "assistant_message = chat_response.json()[\"choices\"][0][\"message\"]\n",
    "\n",
    "# 将助手的回复消息添加到messages列表中\n",
    "messages.append(assistant_message)\n",
    "\n",
    "pretty_print_conversation(messages)"
   ]
  },
  {
   "cell_type": "code",
   "execution_count": 6,
   "metadata": {},
   "outputs": [
    {
     "data": {
      "text/plain": [
       "dict"
      ]
     },
     "execution_count": 6,
     "metadata": {},
     "output_type": "execute_result"
    }
   ],
   "source": [
    "type(assistant_message)"
   ]
  },
  {
   "cell_type": "code",
   "execution_count": 9,
   "metadata": {},
   "outputs": [
    {
     "name": "stdout",
     "output_type": "stream",
     "text": [
      "message: {'role': 'system', 'content': \"Don't make assumptions about what values to plug into functions. Ask for clarification if a user request is ambiguous.\"}\n",
      "\u001b[31msystem: Don't make assumptions about what values to plug into functions. Ask for clarification if a user request is ambiguous.\n",
      "\u001b[0m\n",
      "message: {'role': 'user', 'content': \"What's the weather like today\"}\n",
      "\u001b[32muser: What's the weather like today\n",
      "\u001b[0m\n",
      "message: {'role': 'assistant', 'content': \"Sure, before I can provide you with the current weather, could you please provide me with the location (city and state) you'd like to know the weather for?\"}\n",
      "\u001b[34massistant[content]: Sure, before I can provide you with the current weather, could you please provide me with the location (city and state) you'd like to know the weather for?\n",
      "\u001b[0m\n",
      "message: {'role': 'user', 'content': \"I'm in Shanghai, China.\"}\n",
      "\u001b[32muser: I'm in Shanghai, China.\n",
      "\u001b[0m\n",
      "message: {'role': 'assistant', 'content': None, 'function_call': {'name': 'get_current_weather', 'arguments': '{\"location\":\"Shanghai, China\",\"format\":\"celsius\"}'}}\n",
      "\u001b[34massistant[function_call]: {'name': 'get_current_weather', 'arguments': '{\"location\":\"Shanghai, China\",\"format\":\"celsius\"}'}\n",
      "\u001b[0m\n"
     ]
    }
   ],
   "source": [
    "# 向messages列表添加一条用户角色的消息，用户告知他们在苏格兰的格拉斯哥\n",
    "messages.append({\n",
    "    \"role\": \"user\",  # 消息的角色是\"user\"\n",
    "    \"content\": \"I'm in Shanghai, China.\"  # 用户的消息内容\n",
    "})\n",
    "\n",
    "# 再次使用定义的chat_completion_request函数发起一个请求，传入更新后的messages和functions作为参数\n",
    "chat_response = chat_completion_request(\n",
    "    messages, functions=functions,function_call=\"auto\"\n",
    ")\n",
    "\n",
    "# 解析返回的JSON数据，获取助手的新的回复消息\n",
    "assistant_message = chat_response.json()[\"choices\"][0][\"message\"]\n",
    "\n",
    "# 将助手的新的回复消息添加到messages列表中\n",
    "messages.append(assistant_message)\n",
    "\n",
    "pretty_print_conversation(messages)"
   ]
  },
  {
   "cell_type": "code",
   "execution_count": 16,
   "metadata": {},
   "outputs": [
    {
     "data": {
      "text/plain": [
       "{'role': 'user', 'content': \"I'm in Shanghai, China.\"}"
      ]
     },
     "execution_count": 16,
     "metadata": {},
     "output_type": "execute_result"
    }
   ],
   "source": [
    "messages.pop()"
   ]
  },
  {
   "cell_type": "code",
   "execution_count": 59,
   "metadata": {},
   "outputs": [
    {
     "name": "stdout",
     "output_type": "stream",
     "text": [
      "\u001b[31msystem: Don't make assumptions about what values to plug into functions. Ask for clarification if a user request is ambiguous.\n",
      "\u001b[0m\n",
      "\u001b[32muser: what is the weather going to be like in Shanghai, China over the next x days\n",
      "\u001b[0m\n",
      "\u001b[34massistant[content]: Sure, I can help you with that. How many days do you want the weather forecast for?\n",
      "\u001b[0m\n",
      "Executing function call... [{'role': 'system', 'content': \"Don't make assumptions about what values to plug into functions. Ask for clarification if a user request is ambiguous.\"}, {'role': 'user', 'content': 'what is the weather going to be like in Shanghai, China over the next x days'}, {'role': 'assistant', 'content': 'Sure, I can help you with that. How many days do you want the weather forecast for?'}]\n"
     ]
    }
   ],
   "source": [
    "# 初始化一个空的messages列表\n",
    "messages = []\n",
    "\n",
    "# 向messages列表添加一条系统角色的消息，要求不做关于函数参数值的假设，如果用户的请求模糊，应该寻求澄清\n",
    "messages.append({\n",
    "    \"role\": \"system\",  # 消息的角色是\"system\"\n",
    "    \"content\": \"Don't make assumptions about what values to plug into functions. Ask for clarification if a user request is ambiguous.\"\n",
    "})\n",
    "\n",
    "# 向messages列表添加一条用户角色的消息，用户询问在未来x天内苏格兰格拉斯哥的天气情况\n",
    "messages.append({\n",
    "    \"role\": \"user\",  # 消息的角色是\"user\"\n",
    "    \"content\": \"what is the weather going to be like in Shanghai, China over the next x days\"\n",
    "})\n",
    "\n",
    "# 使用定义的chat_completion_request函数发起一个请求，传入messages和functions作为参数\n",
    "chat_response = chat_completion_request(\n",
    "    messages, functions=functions\n",
    ")\n",
    "\n",
    "# 解析返回的JSON数据，获取助手的回复消息\n",
    "assistant_message = chat_response.json()[\"choices\"][0][\"message\"]\n",
    "\n",
    "# 将助手的回复消息添加到messages列表中\n",
    "messages.append(assistant_message)\n",
    "\n",
    "# 打印助手的回复消息\n",
    "pretty_print_conversation(messages)"
   ]
  },
  {
   "cell_type": "code",
   "execution_count": 123,
   "metadata": {},
   "outputs": [
    {
     "name": "stdout",
     "output_type": "stream",
     "text": [
      "\u001b[31msystem: Don't make assumptions about what values to plug into functions. Ask for clarification if a user request is ambiguous.\n",
      "\u001b[0m\n",
      "\u001b[32muser: what is the weather going to be like in Shanghai, China over the next x days\n",
      "\u001b[0m\n",
      "\u001b[34massistant[content]: Sure, I can help you with that. How many days do you want the weather forecast for?\n",
      "\u001b[0m\n",
      "\u001b[32muser: 5 days\n",
      "\u001b[0m\n",
      "\u001b[34massistant[function_call]: {'name': 'get_n_day_weather_forecast', 'arguments': '{\"location\":\"Shanghai, China\",\"format\":\"celsius\",\"num_days\":5}'}\n",
      "\u001b[0m\n",
      "\u001b[32muser: 5 days\n",
      "\u001b[0m\n",
      "\u001b[34massistant[function_call]: {'name': 'get_n_day_weather_forecast', 'arguments': '{\"location\":\"Shanghai, China\",\"format\":\"celsius\",\"num_days\":5}'}\n",
      "\u001b[0m\n",
      "\u001b[32muser: 5 days\n",
      "\u001b[0m\n",
      "\u001b[34massistant[function_call]: {'name': 'get_n_day_weather_forecast', 'arguments': '{\"location\":\"Shanghai, China\",\"format\":\"celsius\",\"num_days\":5}'}\n",
      "\u001b[0m\n",
      "\u001b[32muser: 5 days\n",
      "\u001b[0m\n",
      "\u001b[34massistant[function_call]: {'name': 'get_n_day_weather_forecast', 'arguments': '{\"location\":\"Shanghai, China\",\"format\":\"celsius\",\"num_days\":5}'}\n",
      "\u001b[0m\n",
      "\u001b[32muser: 5 days\n",
      "\u001b[0m\n",
      "\u001b[34massistant[function_call]: {'name': 'get_n_day_weather_forecast', 'arguments': '{\"location\":\"Shanghai, China\",\"format\":\"celsius\",\"num_days\":5}'}\n",
      "\u001b[0m\n",
      "\u001b[32muser: 5 days\n",
      "\u001b[0m\n",
      "\u001b[34massistant[function_call]: {'name': 'get_n_day_weather_forecast', 'arguments': '{\"location\":\"Shanghai, China\",\"format\":\"celsius\",\"num_days\":5}'}\n",
      "\u001b[0m\n",
      "\u001b[32muser: 5 days\n",
      "\u001b[0m\n",
      "\u001b[34massistant[function_call]: {'name': 'get_n_day_weather_forecast', 'arguments': '{\"location\":\"Shanghai, China\",\"format\":\"celsius\",\"num_days\":5}'}\n",
      "\u001b[0m\n",
      "\u001b[32muser: 5 days\n",
      "\u001b[0m\n",
      "\u001b[34massistant[function_call]: {'name': 'get_n_day_weather_forecast', 'arguments': '{\"location\":\"Shanghai, China\",\"format\":\"celsius\",\"num_days\":5}'}\n",
      "\u001b[0m\n",
      "\u001b[32muser: 5 days\n",
      "\u001b[0m\n",
      "\u001b[34massistant[function_call]: {'name': 'get_n_day_weather_forecast', 'arguments': '{\"location\":\"Shanghai, China\",\"format\":\"celsius\",\"num_days\":5}'}\n",
      "\u001b[0m\n",
      "\u001b[32muser: 5 days\n",
      "\u001b[0m\n",
      "\u001b[34massistant[function_call]: {'name': 'get_n_day_weather_forecast', 'arguments': '{\"location\":\"Shanghai, China\",\"format\":\"celsius\",\"num_days\":5}'}\n",
      "\u001b[0m\n"
     ]
    }
   ],
   "source": [
    "# 向messages列表添加一条用户角色的消息，用户指定接下来的天数为5天\n",
    "messages.append({\n",
    "    \"role\": \"user\",  # 消息的角色是\"user\"\n",
    "    \"content\": \"5 days\"\n",
    "})\n",
    "\n",
    "# 使用定义的chat_completion_request函数发起一个请求，传入messages和functions作为参数\n",
    "chat_response = chat_completion_request(\n",
    "    messages, functions=functions\n",
    ")\n",
    "\n",
    "# 解析返回的JSON数据，获取第一个选项\n",
    "assistant_message = chat_response.json()[\"choices\"][0][\"message\"]\n",
    "\n",
    "# 将助手的回复消息添加到messages列表中\n",
    "messages.append(assistant_message)\n",
    "\n",
    "# 打印助手的回复消息\n",
    "pretty_print_conversation(messages)"
   ]
  },
  {
   "cell_type": "code",
   "execution_count": 17,
   "metadata": {},
   "outputs": [],
   "source": [
    "#调用心知天气预报API\n",
    "def get_current_weatherForAPI(location:str,format:str='celsius') -> str:\n",
    "    requestsUrl = f\"https://api.seniverse.com/v3/weather/now.json?key=SUaEVEcUHIhRwQROw&location={location}&language=zh-Hans&unit=c\"\n",
    "    print('requestsUrl:',requestsUrl)\n",
    "    weatherResponse = requests.get(requestsUrl)\n",
    "    return weatherResponse.json()['results'][0]['now']['temperature']"
   ]
  },
  {
   "cell_type": "code",
   "execution_count": 21,
   "metadata": {},
   "outputs": [
    {
     "name": "stdout",
     "output_type": "stream",
     "text": [
      "requestsUrl: https://api.seniverse.com/v3/weather/now.json?key=SUaEVEcUHIhRwQROw&location=北京&language=zh-Hans&unit=c\n"
     ]
    },
    {
     "data": {
      "text/plain": [
       "'14'"
      ]
     },
     "execution_count": 21,
     "metadata": {},
     "output_type": "execute_result"
    }
   ],
   "source": [
    "get_current_weatherForAPI('北京')"
   ]
  },
  {
   "cell_type": "code",
   "execution_count": 13,
   "metadata": {},
   "outputs": [],
   "source": [
    "#调用心知天气预报API\n",
    "def get_n_day_weather_forecast(location:str='beijing',start:int=0,num_days:int=5):\n",
    "     print(f'{location}的天气预报：{num_days}')\n",
    "     requestsUrl = f\"https://api.seniverse.com/v3/weather/daily.json?key=SUaEVEcUHIhRwQROw&location={location}&language=zh-Hans&unit=c&start={start}&days={num_days}\"\n",
    "     print(requestsUrl)\n",
    "     weatherResponse = requests.get(requestsUrl)    \n",
    "     return weatherResponse.json()"
   ]
  },
  {
   "cell_type": "code",
   "execution_count": 51,
   "metadata": {},
   "outputs": [
    {
     "data": {
      "text/plain": [
       "['14', '17', '21']"
      ]
     },
     "execution_count": 51,
     "metadata": {},
     "output_type": "execute_result"
    }
   ],
   "source": [
    "high_list =[daily['high'] for daily in get_n_day_weather_forecast()['results'][0]['daily']]\n",
    "\n",
    "high_list"
   ]
  },
  {
   "cell_type": "code",
   "execution_count": 121,
   "metadata": {},
   "outputs": [],
   "source": [
    "def execute_function_call(messages):\n",
    "    for message in messages:\n",
    "        if 'function_call' in message:\n",
    "            if message['function_call']:\n",
    "                function_name = message['function_call']['name']\n",
    "                function_args = message['function_call']['arguments']\n",
    "            \n",
    "                # Call the appropriate function based on the function name\n",
    "                if function_name == 'get_n_day_weather_forecast':\n",
    "                    print(f\"Executing function: {function_name} with arguments: {function_args}\")\n",
    "                    function_args_object = json.loads(function_args)\n",
    "                    weather_data = get_n_day_weather_forecast(location=function_args_object['location'].split(',')[0],num_days=function_args_object['num_days'])\n",
    "                    \n",
    "                    return weather_data\n",
    "                elif function_name == 'get_current_weather':\n",
    "                    print(f\"Executing function: {function_name} with arguments: {function_args}\")\n",
    "                    function_args_object = json.loads(function_args)\n",
    "                    weather_data = get_current_weather(function_args_object['location'])\n",
    "                    return weather_data"
   ]
  },
  {
   "cell_type": "code",
   "execution_count": 122,
   "metadata": {},
   "outputs": [
    {
     "name": "stdout",
     "output_type": "stream",
     "text": [
      "Executing function: get_n_day_weather_forecast with arguments: {\"location\":\"Shanghai, China\",\"format\":\"celsius\",\"num_days\":5}\n",
      "Shanghai的天气预报：5\n",
      "https://api.seniverse.com/v3/weather/daily.json?key=SUaEVEcUHIhRwQROw&location=Shanghai&language=zh-Hans&unit=c&start=0&days=5\n"
     ]
    },
    {
     "data": {
      "text/plain": [
       "{'results': [{'location': {'id': 'WTW3SJ5ZBJUY',\n",
       "    'name': '上海',\n",
       "    'country': 'CN',\n",
       "    'path': '上海,上海,中国',\n",
       "    'timezone': 'Asia/Shanghai',\n",
       "    'timezone_offset': '+08:00'},\n",
       "   'daily': [{'date': '2024-03-27',\n",
       "     'text_day': '小雨',\n",
       "     'code_day': '13',\n",
       "     'text_night': '小雨',\n",
       "     'code_night': '13',\n",
       "     'high': '15',\n",
       "     'low': '8',\n",
       "     'rainfall': '12.81',\n",
       "     'precip': '0.99',\n",
       "     'wind_direction': '无持续风向',\n",
       "     'wind_direction_degree': '',\n",
       "     'wind_speed': '8.4',\n",
       "     'wind_scale': '2',\n",
       "     'humidity': '79'},\n",
       "    {'date': '2024-03-28',\n",
       "     'text_day': '小雨',\n",
       "     'code_day': '13',\n",
       "     'text_night': '晴',\n",
       "     'code_night': '1',\n",
       "     'high': '16',\n",
       "     'low': '11',\n",
       "     'rainfall': '1.46',\n",
       "     'precip': '0.50',\n",
       "     'wind_direction': '无持续风向',\n",
       "     'wind_direction_degree': '',\n",
       "     'wind_speed': '8.4',\n",
       "     'wind_scale': '2',\n",
       "     'humidity': '93'},\n",
       "    {'date': '2024-03-29',\n",
       "     'text_day': '多云',\n",
       "     'code_day': '4',\n",
       "     'text_night': '阴',\n",
       "     'code_night': '9',\n",
       "     'high': '24',\n",
       "     'low': '14',\n",
       "     'rainfall': '0.00',\n",
       "     'precip': '0.00',\n",
       "     'wind_direction': '无持续风向',\n",
       "     'wind_direction_degree': '',\n",
       "     'wind_speed': '3.0',\n",
       "     'wind_scale': '1',\n",
       "     'humidity': '82'}],\n",
       "   'last_update': '2024-03-27T08:00:00+08:00'}]}"
      ]
     },
     "execution_count": 122,
     "metadata": {},
     "output_type": "execute_result"
    }
   ],
   "source": [
    "execute_function_call(messages=messages)"
   ]
  },
  {
   "cell_type": "code",
   "execution_count": 15,
   "metadata": {},
   "outputs": [
    {
     "name": "stdout",
     "output_type": "stream",
     "text": [
      "ChatCompletionMessage(content=None, role='assistant', function_call=FunctionCall(arguments='{\\n  \"location\": \"Boston, MA\"\\n}', name='get_current_weather'), tool_calls=None)\n",
      "<class 'openai.types.chat.chat_completion_message.ChatCompletionMessage'>\n",
      "function_response {\"location\": \"Boston, MA\", \"temperature\": \"72\", \"unit\": null, \"forecast\": [\"sunny\", \"windy\"]}\n",
      "messages [{'role': 'user', 'content': \"What's the weather like in Boston?\"}, ChatCompletionMessage(content=None, role='assistant', function_call=FunctionCall(arguments='{\\n  \"location\": \"Boston, MA\"\\n}', name='get_current_weather'), tool_calls=None), {'role': 'function', 'name': 'get_current_weather', 'content': '{\"location\": \"Boston, MA\", \"temperature\": \"72\", \"unit\": null, \"forecast\": [\"sunny\", \"windy\"]}'}]\n",
      "ChatCompletion(id='chatcmpl-97ciotmyzP5xQsPEeh07iYP8Fsnoh', choices=[Choice(finish_reason='stop', index=0, logprobs=None, message=ChatCompletionMessage(content='The current weather in Boston is sunny and windy, with a temperature of 72 degrees.', role='assistant', function_call=None, tool_calls=None))], created=1711604170, model='gpt-3.5-turbo-0613', object='chat.completion', system_fingerprint=None, usage=CompletionUsage(completion_tokens=18, prompt_tokens=72, total_tokens=90))\n"
     ]
    }
   ],
   "source": [
    "\n",
    "\n",
    "\n",
    "# Example dummy function hard coded to return the same weather\n",
    "# In production, this could be your backend API or an external API\n",
    "def get_current_weather(location, unit=\"fahrenheit\",format=\"\"):\n",
    "    \"\"\"Get the current weather in a given location\"\"\"\n",
    "    weather_info = {\n",
    "        \"location\": location,\n",
    "        \"temperature\": \"72\",\n",
    "        \"unit\": unit,\n",
    "        \"forecast\": [\"sunny\", \"windy\"],\n",
    "    }\n",
    "    return json.dumps(weather_info)\n",
    "\n",
    "\n",
    "def run_conversation():\n",
    "    # Step 1: send the conversation and available functions to GPT\n",
    "    messages = [{\"role\": \"user\", \"content\": \"What's the weather like in Boston?\"}]\n",
    "    functions = [\n",
    "        {\n",
    "            \"name\": \"get_current_weather\",\n",
    "            \"description\": \"Get the current weather in a given location\",\n",
    "            \"parameters\": {\n",
    "                \"type\": \"object\",\n",
    "                \"properties\": {\n",
    "                    \"location\": {\n",
    "                        \"type\": \"string\",\n",
    "                        \"description\": \"The city and state, e.g. San Francisco, CA\",\n",
    "                    },\n",
    "                    \"unit\": {\"type\": \"string\", \"enum\": [\"celsius\", \"fahrenheit\"]},\n",
    "                },\n",
    "                \"required\": [\"location\"],\n",
    "            },\n",
    "        }\n",
    "    ]\n",
    "    response = client.chat.completions.create(\n",
    "        model=\"gpt-3.5-turbo-0613\",\n",
    "        messages=messages,\n",
    "        functions=functions,\n",
    "        function_call=\"auto\",  # auto is default, but we'll be explicit\n",
    "    )\n",
    "    \n",
    "    response_message = response.choices[0].message\n",
    "    print(response_message)\n",
    "    print(type(response_message))\n",
    "    # Step 2: check if GPT wanted to call a function\n",
    "    if response_message.function_call:\n",
    "        # Step 3: call the function\n",
    "        # Note: the JSON response may not always be valid; be sure to handle errors\n",
    "        available_functions = {\n",
    "            \"get_current_weather\": get_current_weather,\n",
    "        }  # only one function in this example, but you can have multiple\n",
    "        function_name = response_message.function_call.name\n",
    "        fuction_to_call = available_functions[function_name]\n",
    "        function_args = json.loads(response_message.function_call.arguments)\n",
    "        function_response = fuction_to_call(\n",
    "            location=function_args.get(\"location\"),\n",
    "            unit=function_args.get(\"unit\"),\n",
    "            \n",
    "        )\n",
    "        \n",
    "        print('function_response',function_response)\n",
    "\n",
    "        # Step 4: send the info on the function call and function response to GPT\n",
    "        messages.append(response_message)  # extend conversation with assistant's reply\n",
    "        messages.append(\n",
    "            {\n",
    "                \"role\": \"function\",\n",
    "                \"name\": function_name,\n",
    "                \"content\": function_response,\n",
    "            }\n",
    "        )  \n",
    "        # extend conversation with function response\n",
    "        print('messages',messages)\n",
    "        second_response = client.chat.completions.create(\n",
    "            model=\"gpt-3.5-turbo-0613\",\n",
    "            messages=messages,\n",
    "        )  # get a new response from GPT where it can see the function response\n",
    "        return second_response\n",
    "    # return response\n",
    "\n",
    "\n",
    "print(run_conversation())"
   ]
  },
  {
   "cell_type": "code",
   "execution_count": null,
   "metadata": {},
   "outputs": [],
   "source": [
    "def execute_function_callV2(messages):\n",
    "    for message in messages:\n",
    "        if 'function_call' in message:\n",
    "            if message['function_call']:\n",
    "                \n",
    "                available_functions = {\n",
    "                    \"get_n_day_weather_forecast\": get_n_day_weather_forecast,\n",
    "                    \"get_current_weather\": get_current_weatherForAPI,\n",
    "            }  # only one function in this example, but you can have multiple\n",
    "                \n",
    "                function_name = message['function_call']['name']\n",
    "                function_args = json.loads(message['function_call']['arguments'])\n",
    "                if function_args.get('location'):\n",
    "                    function_args['location'] = function_args['location'].split(',')[0]\n",
    "                    \n",
    "                fuction_to_call = available_functions[function_name]\n",
    "                \n",
    "                print(f\"Calling function {function_name} with arguments {function_args}\")\n",
    "\n",
    "                function_response = fuction_to_call(    \n",
    "                    **function_args\n",
    "                )    \n",
    "                print(function_response)    \n",
    "            \n",
    "            "
   ]
  },
  {
   "cell_type": "code",
   "execution_count": 25,
   "metadata": {},
   "outputs": [
    {
     "name": "stdout",
     "output_type": "stream",
     "text": [
      "Calling function get_current_weather with arguments {'location': 'Shanghai', 'format': 'celsius'}\n",
      "<class 'dict'>\n",
      "requestsUrl: https://api.seniverse.com/v3/weather/now.json?key=SUaEVEcUHIhRwQROw&location=Shanghai&language=zh-Hans&unit=c\n",
      "13\n"
     ]
    }
   ],
   "source": [
    "execute_function_callV2(messages=messages)"
   ]
  }
 ],
 "metadata": {
  "kernelspec": {
   "display_name": "Python 3",
   "language": "python",
   "name": "python3"
  },
  "language_info": {
   "codemirror_mode": {
    "name": "ipython",
    "version": 3
   },
   "file_extension": ".py",
   "mimetype": "text/x-python",
   "name": "python",
   "nbconvert_exporter": "python",
   "pygments_lexer": "ipython3",
   "version": "3.10.14"
  }
 },
 "nbformat": 4,
 "nbformat_minor": 2
}
