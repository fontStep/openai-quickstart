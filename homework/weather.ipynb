{
 "cells": [
  {
   "cell_type": "code",
   "execution_count": 211,
   "metadata": {},
   "outputs": [],
   "source": [
    "import requests\n",
    "import json\n",
    "import gradio as gr\n",
    "import json\n",
    "import requests\n",
    "import os\n",
    "from tenacity import retry, wait_random_exponential, stop_after_attempt\n",
    "from termcolor import colored\n",
    "from openai import OpenAI\n",
    "GPT_MODEL = \"gpt-3.5-turbo\"\n",
    "\n",
    "client = OpenAI(\n",
    "    base_url=os.getenv(\"OPENAI_BASE_URL\"),\n",
    "    api_key=os.getenv(\"OPENAI_API_KEY\"),\n",
    ")"
   ]
  },
  {
   "cell_type": "markdown",
   "metadata": {},
   "source": [
    "{\n",
    "  \"results\": [{\n",
    "    \"location\": {\n",
    "      \"id\": \"WX4FBXXFKE4F\",\n",
    "      \"name\": \"北京\",\n",
    "      \"country\": \"CN\",\n",
    "      \"path\": \"北京,北京,中国\",\n",
    "      \"timezone\": \"Asia/Shanghai\",\n",
    "      \"timezone_offset\": \"+08:00\"\n",
    "    },\n",
    "    \"daily\": [{                          //返回指定days天数的结果\n",
    "      \"date\": \"2015-09-20\",              //日期（该城市的本地时间）\n",
    "      \"text_day\": \"多云\",                //白天天气现象文字\n",
    "      \"code_day\": \"4\",                  //白天天气现象代码\n",
    "      \"text_night\": \"晴\",               //晚间天气现象文字\n",
    "      \"code_night\": \"0\",                //晚间天气现象代码\n",
    "      \"high\": \"26\",                     //当天最高温度\n",
    "      \"low\": \"17\",                      //当天最低温度\n",
    "      \"precip\": \"0\",                    //降水概率，范围0~1，单位百分比（目前仅支持国外城市）\n",
    "      \"wind_direction\": \"\",             //风向文字\n",
    "      \"wind_direction_degree\": \"255\",   //风向角度，范围0~360\n",
    "      \"wind_speed\": \"9.66\",             //风速，单位km/h（当unit=c时）、mph（当unit=f时）\n",
    "      \"wind_scale\": \"\",                 //风力等级\n",
    "      \"rainfall\": \"0.0\",                //降水量，单位mm\n",
    "      \"humidity\": \"76\"                  //相对湿度，0~100，单位为百分比\n",
    "    }, {\n",
    "      \"date\": \"2015-09-21\",\n",
    "      \"text_day\": \"晴\",\n",
    "      \"code_day\": \"0\",\n",
    "      \"text_night\": \"晴\",\n",
    "      \"code_night\": \"0\",\n",
    "      \"high\": \"27\",\n",
    "      \"low\": \"17\",\n",
    "      \"precip\": \"0\",\n",
    "      \"wind_direction\": \"\",\n",
    "      \"wind_direction_degree\": \"157\",\n",
    "      \"wind_speed\": \"17.7\",\n",
    "      \"wind_scale\": \"3\",\n",
    "      \"rainfall\": \"0.0\",\n",
    "      \"humidity\": \"76\"\n",
    "    }, {\n",
    "      ...                               //更多返回结果\n",
    "    }],\n",
    "    \"last_update\": \"2015-09-20T18:00:00+08:00\" //数据更新时间（该城市的本地时间）\n",
    "  }]\n",
    "}"
   ]
  },
  {
   "cell_type": "code",
   "execution_count": 212,
   "metadata": {},
   "outputs": [],
   "source": [
    "#调用心知天气预报API weatherResponse.json()['results'][0]['now']['temperature']\n",
    "def get_current_weather(location:str) -> str:\n",
    "    requestsUrl = f\"https://api.seniverse.com/v3/weather/now.json?key=SUaEVEcUHIhRwQROw&location={location}&language=zh-Hans&unit=c\"\n",
    "    print('requestsUrl:',requestsUrl)\n",
    "    weatherResponse = requests.get(requestsUrl).json()['results'][0]\n",
    "    print(weatherResponse,weatherResponse[\"location\"][\"name\"])\n",
    "    weather_info = {\n",
    "        \"location\": weatherResponse[\"location\"][\"name\"],\n",
    "        \"temperature\":weatherResponse[\"now\"][\"temperature\"],\n",
    "        \"forecast\": weatherResponse[\"now\"][\"text\"],\n",
    "    }\n",
    "    return json.dumps(weather_info, ensure_ascii=False)\n"
   ]
  },
  {
   "cell_type": "code",
   "execution_count": 213,
   "metadata": {},
   "outputs": [
    {
     "name": "stdout",
     "output_type": "stream",
     "text": [
      "requestsUrl: https://api.seniverse.com/v3/weather/now.json?key=SUaEVEcUHIhRwQROw&location=beijing&language=zh-Hans&unit=c\n",
      "{'location': {'id': 'WX4FBXXFKE4F', 'name': '北京', 'country': 'CN', 'path': '北京,北京,中国', 'timezone': 'Asia/Shanghai', 'timezone_offset': '+08:00'}, 'now': {'text': '阴', 'code': '9', 'temperature': '14'}, 'last_update': '2024-03-28T18:24:34+08:00'} 北京\n"
     ]
    },
    {
     "data": {
      "text/plain": [
       "'{\"location\": \"北京\", \"temperature\": \"14\", \"forecast\": \"阴\"}'"
      ]
     },
     "execution_count": 213,
     "metadata": {},
     "output_type": "execute_result"
    }
   ],
   "source": [
    "get_current_weather('beijing')"
   ]
  },
  {
   "cell_type": "code",
   "execution_count": 214,
   "metadata": {},
   "outputs": [],
   "source": [
    "#调用心知天气预报API\n",
    "def get_n_day_weather_forecast(location:str='beijing',start:int=0,num_days:int=5):\n",
    "     print(f'{location}的天气预报：{num_days}')\n",
    "     requestsUrl = f\"https://api.seniverse.com/v3/weather/daily.json?key=SUaEVEcUHIhRwQROw&location={location}&language=zh-Hans&unit=c&start={start}&days={num_days}\"\n",
    "     print(requestsUrl)\n",
    "     weatherResponse = requests.get(requestsUrl).json()['results'][0]\n",
    "\n",
    "     location = weatherResponse[\"location\"][\"name\"]\n",
    "    \n",
    "     date = [ daily[\"date\"] for  daily in weatherResponse[\"daily\"]]\n",
    "     print(\"date\",date)\n",
    "     forecast_day = [ daily[\"text_day\"] for  daily in weatherResponse[\"daily\"]]\n",
    "     forecast_night = [ daily[\"text_night\"] for  daily in weatherResponse[\"daily\"]]\n",
    "     maximum_temperature = [ daily[\"high\"] for  daily in weatherResponse[\"daily\"]]\n",
    "     lowest_temperature = [ daily[\"low\"] for  daily in weatherResponse[\"daily\"]]\n",
    "     weather_info ={\n",
    "         \"date\":date, \n",
    "         \"forecast_day\":forecast_day, \n",
    "         \"forecast_night\":forecast_night, \n",
    "         \"maximum_temperature\":maximum_temperature, \n",
    "         \"lowest_temperature\":lowest_temperature, \n",
    "     }\n",
    "     print(\"weather_info\",weather_info)\n",
    "     return json.dumps(weather_info, ensure_ascii=False)"
   ]
  },
  {
   "cell_type": "code",
   "execution_count": 215,
   "metadata": {},
   "outputs": [
    {
     "name": "stdout",
     "output_type": "stream",
     "text": [
      "beijing的天气预报：5\n",
      "https://api.seniverse.com/v3/weather/daily.json?key=SUaEVEcUHIhRwQROw&location=beijing&language=zh-Hans&unit=c&start=0&days=5\n",
      "date ['2024-03-28', '2024-03-29', '2024-03-30']\n",
      "weather_info {'date': ['2024-03-28', '2024-03-29', '2024-03-30'], 'forecast_day': ['扬沙', '多云', '晴'], 'forecast_night': ['多云', '晴', '晴'], 'maximum_temperature': ['16', '20', '21'], 'lowest_temperature': ['6', '6', '8']}\n"
     ]
    },
    {
     "data": {
      "text/plain": [
       "'{\"date\": [\"2024-03-28\", \"2024-03-29\", \"2024-03-30\"], \"forecast_day\": [\"扬沙\", \"多云\", \"晴\"], \"forecast_night\": [\"多云\", \"晴\", \"晴\"], \"maximum_temperature\": [\"16\", \"20\", \"21\"], \"lowest_temperature\": [\"6\", \"6\", \"8\"]}'"
      ]
     },
     "execution_count": 215,
     "metadata": {},
     "output_type": "execute_result"
    }
   ],
   "source": [
    "get_n_day_weather_forecast('beijing')"
   ]
  },
  {
   "cell_type": "code",
   "execution_count": 216,
   "metadata": {},
   "outputs": [],
   "source": [
    "# 定义一个名为functions的列表，其中包含两个字典，这两个字典分别定义了两个功能的相关参数\n",
    "\n",
    "# 第一个字典定义了一个名为\"get_current_weather\"的功能\n",
    "functions = [\n",
    "    {\n",
    "        \"name\": \"get_current_weather\",  # 功能的名称\n",
    "        \"description\": \"Get the current weather\",  # 功能的描述\n",
    "        \"parameters\": {  # 定义该功能需要的参数\n",
    "            \"type\": \"object\",\n",
    "            \"properties\": {  # 参数的属性\n",
    "                \"location\": {  # 地点参数\n",
    "                    \"type\": \"string\",  # 参数类型为字符串\n",
    "                    \"description\": \"The city and state, e.g. San Francisco, CA\",  # 参数的描述\n",
    "                },\n",
    "            },\n",
    "            \"required\": [\"location\"],  # 该功能需要的必要参数\n",
    "        },\n",
    "    },\n",
    "    # 第二个字典定义了一个名为\"get_n_day_weather_forecast\"的功能\n",
    "    {\n",
    "        \"name\": \"get_n_day_weather_forecast\",  # 功能的名称\n",
    "        \"description\": \"Get an N-day weather forecast\",  # 功能的描述\n",
    "        \"parameters\": {  # 定义该功能需要的参数\n",
    "            \"type\": \"object\",\n",
    "            \"properties\": {  # 参数的属性\n",
    "                \"location\": {  # 地点参数\n",
    "                    \"type\": \"string\",  # 参数类型为字符串\n",
    "                    \"description\": \"The city and state, e.g. San Francisco, CA\",  # 参数的描述\n",
    "                },\n",
    "                \"num_days\": {  # 预测天数参数\n",
    "                    \"type\": \"integer\",  # 参数类型为整数\n",
    "                    \"description\": \"The number of days to forecast\",  # 参数的描述\n",
    "                }\n",
    "            },\n",
    "            \"required\": [\"location\", \"num_days\"]  # 该功能需要的必要参数\n",
    "        },\n",
    "    },\n",
    "]"
   ]
  },
  {
   "cell_type": "code",
   "execution_count": 217,
   "metadata": {},
   "outputs": [],
   "source": [
    "@retry(wait=wait_random_exponential(multiplier=1, max=60), stop=stop_after_attempt(5))\n",
    "def chat_completion_request(messagelist:list,model:str=GPT_MODEL,function_call=None,functions=None):\n",
    "    response = client.chat.completions.create(\n",
    "        model=model,\n",
    "        messages=messagelist,\n",
    "        function_call=function_call,\n",
    "        functions=functions\n",
    "    )\n",
    "    return response.choices[0].message    "
   ]
  },
  {
   "cell_type": "code",
   "execution_count": 218,
   "metadata": {},
   "outputs": [],
   "source": [
    "messages = [\n",
    "    {\n",
    "        \"role\": \"system\",\n",
    "        \"content\": \"You are a helpful assistant that can answer questions.\",\n",
    "    },\n",
    "]\n",
    "\n"
   ]
  },
  {
   "cell_type": "code",
   "execution_count": 219,
   "metadata": {},
   "outputs": [],
   "source": [
    "def add_message(content):\n",
    "    messages.append(content)\n",
    "    return messages\n",
    "    # return [messages[0]] + messages[-4:]"
   ]
  },
  {
   "cell_type": "code",
   "execution_count": 220,
   "metadata": {},
   "outputs": [
    {
     "data": {
      "text/plain": [
       "ChatCompletionMessage(content='Hello! How can I assist you today?', role='assistant', function_call=None, tool_calls=None)"
      ]
     },
     "execution_count": 220,
     "metadata": {},
     "output_type": "execute_result"
    }
   ],
   "source": [
    "chat_completion_request(messages)"
   ]
  },
  {
   "cell_type": "code",
   "execution_count": 221,
   "metadata": {},
   "outputs": [],
   "source": [
    "#执行function_call\n",
    "def execute_function_call(message) -> str:\n",
    "    print('message',message)\n",
    "\n",
    "    if message.function_call:                \n",
    "            available_functions = {\n",
    "                    \"get_n_day_weather_forecast\": get_n_day_weather_forecast,\n",
    "                    \"get_current_weather\": get_current_weather,\n",
    "            }  # only one function in this example, but you can have multiple\n",
    "                \n",
    "            function_name = message.function_call.name\n",
    "            function_args = json.loads(message.function_call.arguments)\n",
    "            if function_args.get('location'):\n",
    "                function_args['location'] = function_args['location'].split(',')[0]\n",
    "                    \n",
    "            fuction_to_call = available_functions[function_name]\n",
    "                \n",
    "        #     print(f\"Calling function {function_name} with arguments {function_args}\")\n",
    "\n",
    "            function_response = fuction_to_call(    \n",
    "                    **function_args\n",
    "            )    \n",
    "            return function_response\n",
    "    else:    \n",
    "        print(\"No function call in message\") \n",
    "            \n",
    "            "
   ]
  },
  {
   "cell_type": "code",
   "execution_count": 222,
   "metadata": {},
   "outputs": [],
   "source": [
    "\n",
    "def deal_conversation(message):\n",
    "    \n",
    "    if message.role == \"assistant\" and message.function_call is not None:\n",
    "        function_response = execute_function_call(message)\n",
    "        print('function call')\n",
    "        function_name = message.function_call.name\n",
    "        add_message(\n",
    "            {\n",
    "                \"role\": \"function\",\n",
    "                \"name\": function_name,\n",
    "                \"content\": function_response,\n",
    "            }\n",
    "        )\n",
    "        second_response = client.chat.completions.create(\n",
    "            model=GPT_MODEL,\n",
    "            messages=messages,\n",
    "        )  # get a new response from GPT where it can see the function response\n",
    "        return second_response.choices[0].message.content\n",
    "        # return function_response\n",
    "    else:\n",
    "        return message.content\n",
    "            \n",
    "    "
   ]
  },
  {
   "cell_type": "code",
   "execution_count": 223,
   "metadata": {},
   "outputs": [],
   "source": [
    "#定义聊天函数\n",
    "def chat(content,history):\n",
    "    add_message({\n",
    "         \"role\": \"user\",\n",
    "         \"content\": content\n",
    "    })\n",
    "    repsonseMsg = deal_conversation(chat_completion_request(messagelist=messages,functions=functions))\n",
    "    response = str(repsonseMsg)\n",
    "    return response\n",
    "     "
   ]
  },
  {
   "cell_type": "code",
   "execution_count": null,
   "metadata": {},
   "outputs": [],
   "source": [
    "\n",
    "    "
   ]
  },
  {
   "cell_type": "code",
   "execution_count": 224,
   "metadata": {},
   "outputs": [
    {
     "name": "stdout",
     "output_type": "stream",
     "text": [
      "Running on local URL:  http://127.0.0.1:7874\n",
      "\n",
      "To create a public link, set `share=True` in `launch()`.\n"
     ]
    },
    {
     "data": {
      "text/html": [
       "<div><iframe src=\"http://127.0.0.1:7874/\" width=\"100%\" height=\"500\" allow=\"autoplay; camera; microphone; clipboard-read; clipboard-write;\" frameborder=\"0\" allowfullscreen></iframe></div>"
      ],
      "text/plain": [
       "<IPython.core.display.HTML object>"
      ]
     },
     "metadata": {},
     "output_type": "display_data"
    },
    {
     "data": {
      "text/plain": []
     },
     "execution_count": 224,
     "metadata": {},
     "output_type": "execute_result"
    }
   ],
   "source": [
    "\n",
    "\n",
    "demo = gr.ChatInterface(fn=chat, \n",
    "                        # examples=[\"hello\", \"hola\", \"merhaba\"],\n",
    "                        title=\"聊天机器人\",\n",
    "                        retry_btn=None,\n",
    "                        undo_btn=None,\n",
    "                        clear_btn=None,\n",
    "                        )\n",
    "demo.launch()"
   ]
  },
  {
   "cell_type": "code",
   "execution_count": 225,
   "metadata": {},
   "outputs": [],
   "source": [
    "# messages\n",
    "# chat('我在北京，我想知道最近一周的天气','')\n"
   ]
  },
  {
   "cell_type": "code",
   "execution_count": null,
   "metadata": {},
   "outputs": [],
   "source": []
  }
 ],
 "metadata": {
  "kernelspec": {
   "display_name": "Python 3",
   "language": "python",
   "name": "python3"
  },
  "language_info": {
   "codemirror_mode": {
    "name": "ipython",
    "version": 3
   },
   "file_extension": ".py",
   "mimetype": "text/x-python",
   "name": "python",
   "nbconvert_exporter": "python",
   "pygments_lexer": "ipython3",
   "version": "3.10.14"
  }
 },
 "nbformat": 4,
 "nbformat_minor": 2
}
