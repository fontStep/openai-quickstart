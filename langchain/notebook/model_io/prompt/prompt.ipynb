{
 "cells": [
  {
   "cell_type": "code",
   "execution_count": 2,
   "metadata": {},
   "outputs": [],
   "source": [
    "from dotenv import load_dotenv  # 用于加载环境变量\n",
    "load_dotenv()  # 加载 .env 文件中的环境变量\n",
    "from langchain.prompts import (PromptTemplate,ChatPromptTemplate,FewShotPromptTemplate)\n",
    "from langchain_openai import (OpenAI,ChatOpenAI)\n",
    "from langchain.schema import (HumanMessage,AIMessage,SystemMessage)\n",
    "from langchain.prompts.example_selector import SemanticSimilarityExampleSelector\n",
    "from langchain.vectorstores import Chroma\n",
    "from langchain_openai import OpenAIEmbeddings\n",
    "import os\n",
    "\n",
    "\n",
    "\n",
    "MODEL_NAME = \"gpt-3.5-turbo\"\n",
    "\n",
    "llm = OpenAI(model='davinci-002',openai_proxy=os.getenv(\"OPENAI_BASE_URL\"),max_tokens=1000)\n",
    "\n",
    "chat_model  = ChatOpenAI(model=MODEL_NAME,openai_proxy=os.getenv(\"OPENAI_BASE_URL\"),max_tokens=1000)\n",
    "\n",
    "\n",
    "# llm = OpenAI(model=MODEL_NAME,openai_proxy=os.getenv(\"OPENAI_BASE_URL\"),max_tokens=1000)\n",
    "\n",
    "\n"
   ]
  },
  {
   "cell_type": "code",
   "execution_count": 3,
   "metadata": {},
   "outputs": [
    {
     "data": {
      "text/plain": [
       "'\\n把用三个反引号括起来的文本总结成一句话。\\n```\\n您应该提供尽可能清晰、具体的指示，以表达您希望模型执行的任务。这将引导模型朝向所需的输出，并降低收到无关或不正确响应的可能性。不要将写清晰的提示词与写简短的提示词混淆。在许多情况下，更长的提示词可以为模型提供更多的清晰度和上下文信息，从而导致更详细和相关的输出。\\n```\\n'"
      ]
     },
     "execution_count": 3,
     "metadata": {},
     "output_type": "execute_result"
    }
   ],
   "source": [
    "text = f\"\"\"\n",
    "您应该提供尽可能清晰、具体的指示，以表达您希望模型执行的任务。\\\n",
    "这将引导模型朝向所需的输出，并降低收到无关或不正确响应的可能性。\\\n",
    "不要将写清晰的提示词与写简短的提示词混淆。\\\n",
    "在许多情况下，更长的提示词可以为模型提供更多的清晰度和上下文信息，从而导致更详细和相关的输出。\n",
    "\"\"\"\n",
    "# 需要总结的文本内容\n",
    "prompt = f\"\"\"\n",
    "把用三个反引号括起来的文本总结成一句话。\n",
    "```{text}```\n",
    "\"\"\"\n",
    "\n",
    "prompt"
   ]
  },
  {
   "cell_type": "code",
   "execution_count": 4,
   "metadata": {},
   "outputs": [
    {
     "data": {
      "text/plain": [
       "'/\\nYou are a naming consultant for new companies.\\nWhat is a good name for a company that makes colorful socks?\\n'"
      ]
     },
     "execution_count": 4,
     "metadata": {},
     "output_type": "execute_result"
    }
   ],
   "source": [
    "\n",
    "template = \"\"\"/\n",
    "You are a naming consultant for new companies.\n",
    "What is a good name for a company that makes {product}?\n",
    "\"\"\"\n",
    "\n",
    "prompt = PromptTemplate.from_template(template)\n",
    "prompt.format(product=\"colorful socks\")"
   ]
  },
  {
   "cell_type": "code",
   "execution_count": 5,
   "metadata": {},
   "outputs": [
    {
     "data": {
      "text/plain": [
       "'Tell me a joke.'"
      ]
     },
     "execution_count": 5,
     "metadata": {},
     "output_type": "execute_result"
    }
   ],
   "source": [
    "# prompt with no input variable\n",
    "no_input_prompt = PromptTemplate(input_variables=[], template=\"Tell me a joke.\")\n",
    "no_input_prompt.format()\n"
   ]
  },
  {
   "cell_type": "code",
   "execution_count": 6,
   "metadata": {},
   "outputs": [
    {
     "data": {
      "text/plain": [
       "'Tell me a funny joke.'"
      ]
     },
     "execution_count": 6,
     "metadata": {},
     "output_type": "execute_result"
    }
   ],
   "source": [
    "# prompt with one input variable\n",
    "one_input_prompt = PromptTemplate(input_variables=[\"adjective\"], template=\"Tell me a {adjective} joke.\")\n",
    "one_input_prompt.format(adjective=\"funny\")"
   ]
  },
  {
   "cell_type": "code",
   "execution_count": 7,
   "metadata": {},
   "outputs": [
    {
     "data": {
      "text/plain": [
       "'Tell me a funny joke about chickens.'"
      ]
     },
     "execution_count": 7,
     "metadata": {},
     "output_type": "execute_result"
    }
   ],
   "source": [
    "multiple_input_prompt = PromptTemplate(\n",
    "    input_variables=[\"adjective\", \"content\"], \n",
    "    template=\"Tell me a {adjective} joke about {content}.\"\n",
    ")\n",
    "multiple_input_prompt.format(adjective=\"funny\", content=\"chickens\")"
   ]
  },
  {
   "cell_type": "code",
   "execution_count": 8,
   "metadata": {},
   "outputs": [
    {
     "name": "stdout",
     "output_type": "stream",
     "text": [
      "input_variables=['adjective', 'content'] template='Tell me a {adjective} joke about {content}.'\n"
     ]
    },
    {
     "data": {
      "text/plain": [
       "'Tell me a funny joke about chickens.'"
      ]
     },
     "execution_count": 8,
     "metadata": {},
     "output_type": "execute_result"
    }
   ],
   "source": [
    "template = \"Tell me a {adjective} joke about {content}.\"\n",
    "\n",
    "prompt_template = PromptTemplate.from_template(template)\n",
    "print(prompt_template)\n",
    "\n",
    "prompt_template.format(adjective=\"funny\", content=\"chickens\")"
   ]
  },
  {
   "cell_type": "code",
   "execution_count": 9,
   "metadata": {},
   "outputs": [
    {
     "name": "stdout",
     "output_type": "stream",
     "text": [
      "prompt: 讲10个给程序员听得笑话\n",
      "result: 的故事 - 十面埋伏 - 十面埋伏 - 十面埋伏\n",
      "\n",
      "The Ten Faces of Innovation\n",
      "\n",
      "The Ten Faces of Innovation\n",
      "\n",
      "The Ten Faces of Innovation\n",
      "\n",
      "The Ten Faces of Innovation\n",
      "\n",
      "The Ten Faces of Innovation\n",
      "\n",
      "The Ten Faces of Innovation\n",
      "\n",
      "The Ten Faces of Innovation\n",
      "\n",
      "The Ten Faces of Innovation\n",
      "\n",
      "The Ten Faces of Innovation\n",
      "\n",
      "The Ten Faces of Innovation\n",
      "\n",
      "The Ten Faces of Innovation\n",
      "\n",
      "The Ten Faces of Innovation\n",
      "\n",
      "The Ten Faces of Innovation\n",
      "\n",
      "The Ten Faces of Innovation\n",
      "\n",
      "The Ten Faces of Innovation\n",
      "\n",
      "The Ten Faces of Innovation\n",
      "\n",
      "The Ten Faces of Innovation\n",
      "\n",
      "The Ten Faces of Innovation\n",
      "\n",
      "The Ten Faces of Innovation\n",
      "\n",
      "The Ten Faces of Innovation\n",
      "\n",
      "The Ten Faces of Innovation\n",
      "\n",
      "The Ten Faces of Innovation\n",
      "\n",
      "The Ten Faces of Innovation\n",
      "\n",
      "The Ten Faces of Innovation\n",
      "\n",
      "The Ten Faces of Innovation\n",
      "\n",
      "The Ten Faces of Innovation\n",
      "\n",
      "The Ten Faces of Innovation\n",
      "\n",
      "The Ten Faces of Innovation\n",
      "\n",
      "The Ten Faces of Innovation\n",
      "\n",
      "The Ten Faces of Innovation\n",
      "\n",
      "The Ten Faces of Innovation\n",
      "\n",
      "The Ten Faces of Innovation\n",
      "\n",
      "The Ten Faces of Innovation\n",
      "\n",
      "The Ten Faces of Innovation\n",
      "\n",
      "The Ten Faces of Innovation\n",
      "\n",
      "The Ten Faces of Innovation\n",
      "\n",
      "The Ten Faces of Innovation\n",
      "\n",
      "The Ten Faces of Innovation\n",
      "\n",
      "The Ten Faces of Innovation\n",
      "\n",
      "The Ten Faces of Innovation\n",
      "\n",
      "The Ten Faces of Innovation\n",
      "\n",
      "The Ten Faces of Innovation\n",
      "\n",
      "The Ten Faces of Innovation\n",
      "\n",
      "The Ten Faces of Innovation\n",
      "\n",
      "The Ten Faces of Innovation\n",
      "\n",
      "The Ten Faces of Innovation\n",
      "\n",
      "The Ten Faces of Innovation\n",
      "\n",
      "The Ten Faces of Innovation\n",
      "\n",
      "The Ten Faces of Innovation\n",
      "\n",
      "The Ten Faces of Innovation\n",
      "\n",
      "The Ten Faces of Innovation\n",
      "\n",
      "The Ten Faces of Innovation\n",
      "\n",
      "The Ten Faces of Innovation\n",
      "\n",
      "The Ten Faces of Innovation\n",
      "\n",
      "The Ten Faces of Innovation\n",
      "\n",
      "The Ten Faces of Innovation\n",
      "\n",
      "The Ten Faces of Innovation\n",
      "\n",
      "The Ten Faces of Innovation\n",
      "\n",
      "The Ten Faces of Innovation\n",
      "\n",
      "The Ten Faces of Innovation\n",
      "\n",
      "The Ten Faces of Innovation\n",
      "\n",
      "The Ten Faces of Innovation\n",
      "\n",
      "The Ten Faces of Innovation\n",
      "\n",
      "The Ten Faces of Innovation\n",
      "\n",
      "The Ten Faces of Innovation\n",
      "\n",
      "The Ten Faces of Innovation\n",
      "\n",
      "The Ten Faces of Innovation\n",
      "\n",
      "The Ten Faces of Innovation\n",
      "\n",
      "The Ten Faces of Innovation\n",
      "\n",
      "The Ten Faces of Innovation\n",
      "\n",
      "The Ten Faces of Innovation\n",
      "\n",
      "2018年最火的技术趋势 - 唯品会博客\n",
      "\n",
      "唯品会博客\n",
      "\n",
      "唯品会博客\n",
      "\n",
      "唯品会博客\n",
      "\n",
      "唯品会博客\n",
      "\n",
      "唯品会博客\n",
      "\n",
      "唯品会博客\n",
      "\n",
      "唯品会博客\n",
      "\n",
      "唯品会博客\n",
      "\n",
      "唯品会博客\n",
      "\n",
      "唯品会博客\n",
      "\n",
      "唯品会博客\n",
      "\n",
      "唯品会博客\n",
      "\n",
      "唯品会博客\n",
      "\n",
      "唯品会博客\n",
      "\n",
      "唯品会博客\n",
      "\n",
      "唯品会博客\n",
      "\n",
      "唯品会博客\n",
      "\n",
      "唯品会博客\n",
      "\n",
      "唯品会博客\n",
      "\n",
      "2018年最火的技术趋势\n",
      "\n",
      "2018年最火的技术趋势\n",
      "\n",
      "2018年最火的技术趋势\n",
      "\n",
      "2018年最火的技术趋势\n",
      "\n",
      "2018年最火的技术趋势\n",
      "\n",
      "2018年最火的技术趋势\n",
      "\n",
      "2018年最火的技术趋势\n",
      "\n",
      "2018年最火的技术趋势\n",
      "\n",
      "2018年最火的技术趋势\n",
      "\n",
      "2018年最火的技术趋势\n",
      "\n",
      "2018年最火的技术趋势\n",
      "\n",
      "2018年最火的技术趋势\n",
      "\n",
      "2018年最火的技术趋势\n",
      "\n",
      "2018年最火的技术趋势\n",
      "\n",
      "2018年最火的技术趋势\n",
      "\n",
      "2018年最火的技术趋势\n",
      "\n",
      "2018年最火的技术趋势\n",
      "\n",
      "2018年最火的技术趋势\n",
      "\n",
      "2018年最火的技术趋势\n",
      "\n",
      "2018年最火的技术趋势\n",
      "\n",
      "2018年最火的技术趋势\n",
      "\n",
      "2018年最火的技术趋势\n",
      "\n",
      "2018年最火的技术趋势\n",
      "\n",
      "2018年最火的技术趋势\n",
      "\n",
      "2018年最火的技术趋势\n",
      "\n",
      "2018年最火的技术趋势\n",
      "\n",
      "2018年最火的\n"
     ]
    }
   ],
   "source": [
    "prompt_template = PromptTemplate.from_template( \"讲{num}个给程序员听得笑话\")\n",
    "\n",
    "prompt = prompt_template.format(num=10)\n",
    "\n",
    "print(f\"prompt: {prompt}\")\n",
    "\n",
    "## gpt-3.5-turbo This is a chat model and not supported in the v1/completions endpoint. Did you mean to use v1/chat/completions\n",
    "\n",
    "\n",
    "\n",
    "# llm.model_name\n",
    "result = llm.invoke(prompt)\n",
    "\n",
    "print(f'result: {result}')\n"
   ]
  },
  {
   "cell_type": "code",
   "execution_count": 10,
   "metadata": {},
   "outputs": [
    {
     "data": {
      "text/plain": [
       "'Tell me a funny joke about chickens'"
      ]
     },
     "execution_count": 10,
     "metadata": {},
     "output_type": "execute_result"
    }
   ],
   "source": [
    "# 使用 jinja2 模版引擎\n",
    "jinja2_template = \"Tell me a {{ adjective }} joke about {{ content }}\"\n",
    "prompt = PromptTemplate.from_template(jinja2_template, template_format=\"jinja2\")\n",
    "\n",
    "prompt.format(adjective=\"funny\", content=\"chickens\")"
   ]
  },
  {
   "cell_type": "code",
   "execution_count": 11,
   "metadata": {},
   "outputs": [
    {
     "name": "stdout",
     "output_type": "stream",
     "text": [
      "input_variables=['adjective', 'content'] template='Tell me a {{ adjective }} joke about {{ content }}' template_format='jinja2'\n"
     ]
    }
   ],
   "source": [
    "print(prompt)"
   ]
  },
  {
   "cell_type": "code",
   "execution_count": 12,
   "metadata": {},
   "outputs": [],
   "source": [
    "sort_prompt_template = PromptTemplate.from_template(\n",
    "    \"生成可执行的快速排序 {programming_language} 代码\"\n",
    ")"
   ]
  },
  {
   "cell_type": "code",
   "execution_count": 13,
   "metadata": {},
   "outputs": [
    {
     "name": "stdout",
     "output_type": "stream",
     "text": [
      "实例\n",
      "\n",
      "- 作者: lichengsun\n",
      "- 时间: April 10, 2017\n",
      "- 分类: 技术文章\n",
      "- 评论\n",
      "\n",
      "本文最后更新于: 2017年4月10日\n",
      "\n",
      "一、概述\n",
      "\n",
      "快速排序是一种比较容易的排序算法，也是一个比较好的排序算法。当然，它也不是所有情况下都是最好的，但是它在大多数情况下是最好的。\n",
      "\n",
      "二、c++实现快速排序\n",
      "\n",
      "#include\n",
      "#include\n",
      "using namespace std;\n",
      "// 快速排序的简单版本\n",
      "void fastSort(int *arr, int len) {\n",
      "int i, j, x, key;\n",
      "int temp;\n",
      "// 从第一个元素开始，将未排序数组中的元素按照递减顺序排列起来\n",
      "for (i = 0; i < len-1; ++i) {\n",
      "// 这里也可以用if (arr[i] < arr[i+1])；\n",
      "// 这里的条件是要保证按照递减顺序排列\n",
      "j = i;\n",
      "// 从第二个元素开始，赋值\n",
      "x = arr[j];\n",
      "while (x > arr[i]) {\n",
      "// 调用快速排序\n",
      "fastSort(arr, len);\n",
      "key = arr[i];\n",
      "// 保持递减顺序，移动元素\n",
      "temp = arr[i];\n",
      "arr[i] = arr[j];\n",
      "arr[j] = temp;\n",
      "// 调用快速排序\n",
      "fastSort(arr, len);\n",
      "} // while\n",
      "} // for\n",
      "} // fastSort\n",
      "\n",
      "三、python实现快速排序\n",
      "\n",
      "def sort(a):\n",
      "    if len(a) <= 1:\n",
      "        return a\n",
      "    i = 0\n",
      "    j = len(a) - 1\n",
      "    while i < j:\n",
      "        # 当前位置 x 对应当前位置 y\n",
      "        x = int(input('当前位置 x, y是 [\"{}\"]'.format(a[i]), a[j]))\n",
      "        y = int(input('当前位置 y, x是 [\"{}\"]'.format(a[j]), a[i]))\n",
      "        # 将两个位置 x, y 的值进行交换\n",
      "        a[i], a[j] = a[j], a[i]\n",
      "        # 计算 j - i + 1 的值，该值表示当前位置 x, y 的值是如何排序的\n",
      "        temp = 0\n",
      "        for k in range(j-i+1):\n",
      "            # 若当前位置 k 的值为 x, 则将其改变为 y, 否则不做任何操作\n",
      "            if a[k] == x:\n",
      "                a[k], a[j] = a[j], a[k]\n",
      "                temp = temp + 1\n",
      "        # 若当前位置 j 的值小于当前位置 i 的值，那么当前位置 j 的位置\n",
      "        while a[j] < a[i]:\n",
      "            j -= 1\n",
      "        # 若当前位置 j 的值小于当前位置 i 的值，那么当前位置 j 的位置\n",
      "        while a[j] > a[i]:\n",
      "            i += 1\n",
      "    return a\n",
      "\n",
      "四、c++实现分治算法\n",
      "\n",
      "#include\n",
      "#include\n",
      "#include\n",
      "#include\n",
      "#include\n",
      "using namespace std;\n",
      "int *merge(int *a, int left, int mid, int right) {\n",
      "int *b = new int[right-left+1];\n",
      "int i, j, k, temp;\n",
      "for (i = 0; i < right-left+1; ++i) {\n",
      "b[i] = a[mid+i];\n",
      "} // for\n",
      "i = 0;\n",
      "j = mid+1;\n",
      "k = 0;\n",
      "while (i < right) {\n",
      "if (j < right) {\n",
      "b[k] = a[i];\n",
      "++i;\n",
      "} else {\n",
      "b[k] = a[j];\n",
      "++j;\n",
      "} // if\n",
      "++k;\n",
      "} // while\n",
      "while (j < right) {\n",
      "b[k] = a[j];\n",
      "++j;\n",
      "++k;\n",
      "} // while\n",
      "return b;\n",
      "} // merge\n",
      "int mergeSort(int *a, int left, int right) {\n",
      "if (left < right) {\n",
      "int mid = left + (right-left)/2;\n",
      "int *b = merge(mergeSort(a, left, mid), mid+1, right);\n",
      "delete[] a;\n",
      "delete[] a;\n",
      "a = b;\n",
      "} // if\n",
      "return a;\n",
      "} // mergeSort\n",
      "int main() {\n",
      "int n;\n",
      "cin >> n;\n",
      "int *a = new int[n];\n",
      "for (int i = 0;\n"
     ]
    }
   ],
   "source": [
    "print(llm.invoke(sort_prompt_template.format(programming_language=\"python\")))\n",
    "# sort_prompt_template.format(programming_language=\"python\")"
   ]
  },
  {
   "cell_type": "code",
   "execution_count": 64,
   "metadata": {},
   "outputs": [],
   "source": [
    "template = ChatPromptTemplate.from_messages([\n",
    "    (\"system\", \"You are a helpful AI bot. Your name is {name}.\"),\n",
    "    (\"human\", \"Hello, how are you doing?\"),\n",
    "    (\"ai\", \"I'm doing well, thanks!\"),\n",
    "    (\"human\", \"{user_input}\"),\n",
    "])\n",
    "\n",
    "\n",
    "# 生成提示\n",
    "messages = template.format_messages(\n",
    "    name=\"Bob\",\n",
    "    user_input=\"What is your name?\"\n",
    ")\n",
    "\n",
    "# template_2"
   ]
  },
  {
   "cell_type": "code",
   "execution_count": 6,
   "metadata": {},
   "outputs": [],
   "source": [
    "# 定义模板字符串\n",
    "template_str = \"给定输入：{input}，生成输出：{output}\"\n",
    "\n",
    "# 使用from_template创建PromptTemplate实例\n",
    "template = PromptTemplate.from_template(template_str)"
   ]
  },
  {
   "cell_type": "code",
   "execution_count": 15,
   "metadata": {},
   "outputs": [
    {
     "name": "stdout",
     "output_type": "stream",
     "text": [
      "content='You are a helpful AI bot. Your name is Bob.'\n",
      "content='Hello, how are you doing?'\n",
      "content=\"I'm doing well, thanks!\"\n",
      "content='What is your name?'\n"
     ]
    }
   ],
   "source": [
    "for message in messages:\n",
    "    print(message)"
   ]
  },
  {
   "cell_type": "code",
   "execution_count": 16,
   "metadata": {},
   "outputs": [
    {
     "data": {
      "text/plain": [
       "AIMessage(content='My name is Bob. How can I assist you today?', response_metadata={'finish_reason': 'stop', 'logprobs': None})"
      ]
     },
     "execution_count": 16,
     "metadata": {},
     "output_type": "execute_result"
    }
   ],
   "source": [
    "chat_model.invoke(messages)"
   ]
  },
  {
   "cell_type": "code",
   "execution_count": 17,
   "metadata": {},
   "outputs": [],
   "source": [
    "summary_template = ChatPromptTemplate.from_messages([\n",
    "    (\"system\", \"你将获得关于同一主题的{num}篇文章（用-----------标签分隔）。首先总结每篇文章的论点。然后指出哪篇文章提出了更好的论点，并解释原因。\"),\n",
    "    (\"human\", \"{user_input}\"),\n",
    "])"
   ]
  },
  {
   "cell_type": "code",
   "execution_count": 18,
   "metadata": {},
   "outputs": [],
   "source": [
    "messages = summary_template.format_messages(\n",
    "    num=3,\n",
    "    user_input='''\n",
    "    1. [PHP是世界上最好的语言]\n",
    "PHP是世界上最好的情感派编程语言，无需逻辑和算法，只要情绪。它能被蛰伏在冰箱里的PHP大神轻易驾驭，会话结束后的感叹号也能传达对代码的热情。写PHP就像是在做披萨，不需要想那么多，只需把配料全部扔进一个碗，然后放到服务器上，热乎乎出炉的网页就好了。\n",
    "-----------\n",
    "2. [Python是世界上最好的语言]\n",
    "Python是世界上最好的拜金主义者语言。它坚信：美丽就是力量，简洁就是灵魂。Python就像是那个永远在你皱眉的那一刻扔给你言情小说的好友。只有Python，你才能够在两行代码之间感受到飘逸的花香和清新的微风。记住，这世上只有一种语言可以使用空格来领导全世界的进步，那就是Python。\n",
    "-----------\n",
    "3. [Java是世界上最好的语言]\n",
    "Java是世界上最好的德育课编程语言，它始终坚守了严谨、安全的编程信条。Java就像一个严格的老师，他不会对你怀柔，不会让你偷懒，也不会让你走捷径，但他教会你规范和自律。Java就像是那个喝咖啡也算加班费的上司，拥有对邪恶的深度厌恶和对善良的深度拥护。\n",
    "'''\n",
    ")"
   ]
  },
  {
   "cell_type": "code",
   "execution_count": 19,
   "metadata": {},
   "outputs": [
    {
     "data": {
      "text/plain": [
       "AIMessage(content='1. [PHP是世界上最好的语言]：强调PHP是情感派编程语言，不需要逻辑和算法，只需情绪，类比写PHP像制作披萨，简单随性。\\n2. [Python是世界上最好的语言]：强调Python是拜金主义者语言，强调美丽和简洁，使用空格来领导全世界的进步，类比Python是在你需要时扔给你言情小说的好友。\\n3. [Java是世界上最好的语言]：强调Java是德育课编程语言，严谨、安全，像一个严格的老师，教会规范和自律，类比Java是像上司，对邪恶深度厌恶，对善良深度拥护。\\n\\n最好的论点是第三篇关于Java的文章。它提出了Java作为一种严谨、安全的编程语言，以及教导规范和自律的观点。这些特质在软件开发中非常重要，尤其在大型项目或安全敏感的环境中。相比之下，第一篇关于PHP的文章过于夸张和片面，忽略了编程中的重要性和挑战。第二篇关于Python的文章虽然强调了美丽和简洁，但其拜金主义者的描述可能会让人觉得过于主观和夸张。因此，第三篇关于Java的文章提出的论点更加客观和实际。', response_metadata={'finish_reason': 'stop', 'logprobs': None})"
      ]
     },
     "execution_count": 19,
     "metadata": {},
     "output_type": "execute_result"
    }
   ],
   "source": [
    "chat_model.invoke(messages)"
   ]
  },
  {
   "cell_type": "code",
   "execution_count": 20,
   "metadata": {},
   "outputs": [
    {
     "name": "stdout",
     "output_type": "stream",
     "text": [
      "[SystemMessage(content='你将获得关于同一主题的2篇文章（用-----------标签分隔）。首先总结每篇文章的论点。然后指出哪篇文章提出了更好的论点，并解释原因。'), HumanMessage(content='1.认为“道可道”中的第一个“道”，指的是道理，如仁义礼智之类；“可道”中的“道”，指言说的意思；“常道”，指恒久存在的“道”。因此，所谓“道可道，非常道”，指的是可以言说的道理，不是恒久存在的“道”，恒久存在的“道”不可言说。如苏辙说：“莫非道也。而可道者不可常，惟不可道，而后可常耳。今夫仁义礼智，此道之可道者也。然而仁不可以为义，而礼不可以为智，可道之不可常如此。……而道常不变，不可道之能常如此。”蒋锡昌说：“此道为世人所习称之道，即今人所谓‘道理’也，第一‘道’字应从是解。《广雅·释诂》二：‘道，说也’，第二‘道’字应从是解。‘常’乃真常不易之义，在文法上为区别词。……第三‘道’字即二十五章‘道法自然’之‘道’，……乃老子学说之总名也”。陈鼓应说：“第一个‘道’字是人们习称之道，即今人所谓‘道理’。第二个‘道’字，是指言说的意思。第三个‘道’字，是老子哲学上的专有名词，在本章它意指构成宇宙的实体与动力。……‘常道’之‘常’，为真常、永恒之意。……可以用言词表达的道，就不是常道”。\\n-----------\\n2.认为“道可道”中的第一个“道”，指的是宇宙万物的本原；“可道”中的“道”，指言说的意思；“常道”，指恒久存在的“道”。因此，“道可道，非常道”，指可以言说的“道”，就不是恒久存在的“道”。如张默生说：“‘道’，指宇宙的本体而言。……‘常’，是经常不变的意思。……可以说出来的道，便不是经常不变的道”。董平说：“第一个‘道’字与‘可道’之‘道’，内涵并不相同。第一个‘道’字，是老子所揭示的作为宇宙本根之‘道’；‘可道’之‘道’，则是‘言说’的意思。……这里的大意就是说：凡一切可以言说之‘道’，都不是‘常道’或永恒之‘道’”。汤漳平等说：“第一句中的三个‘道’，第一、三均指形上之‘道’，中间的‘道’作动词，为可言之义。……道可知而可行，但非恒久不变之道”。\\n--------\\n3.认为“道可道”中的第一个“道”，指的是宇宙万物的本原；“可道”中的“道”，指言说的意思；“常道”，则指的是平常人所讲之道、常俗之道。因此，“道可道，非常道”，指“道”是可以言说的，但它不是平常人所谓的道或常俗之道。如李荣说：“道者，虚极之理也。夫论虚极之理，不可以有无分其象，不可以上下格其真。……圣人欲坦兹玄路，开以教门，借圆通之名，目虚极之理，以理可名，称之可道。故曰‘吾不知其名，字之曰道’。非常道者，非是人间常俗之道也。人间常俗之道，贵之以礼义，尚之以浮华，丧身以成名，忘己而徇利。”司马光说：“世俗之谈道者，皆曰道体微妙，不可名言。老子以为不然，曰道亦可言道耳，然非常人之所谓道也。……常人之所谓道者，凝滞于物。”裘锡圭说：“到目前为止，可以说，几乎从战国开始，大家都把‘可道’之‘道’……看成老子所否定的，把‘常道’‘常名’看成老子所肯定的。这种看法其实有它不合理的地方，……‘道’是可以说的。《老子》这个《道经》第一章，开宗明义是要讲他的‘道’。第一个‘道’字，理所应当，也是讲他要讲的‘道’：道是可以言说的。……那么这个‘恒’字应该怎么讲？我认为很简单，‘恒’字在古代作定语用，经常是‘平常’‘恒常’的意思。……‘道’是可以言说的，但是我要讲的这个‘道’，不是‘恒道’，它不是一般人所讲的‘道’。\\n')]\n"
     ]
    }
   ],
   "source": [
    "messages = summary_template.format_messages(\n",
    "    num=2,\n",
    "    user_input='''1.认为“道可道”中的第一个“道”，指的是道理，如仁义礼智之类；“可道”中的“道”，指言说的意思；“常道”，指恒久存在的“道”。因此，所谓“道可道，非常道”，指的是可以言说的道理，不是恒久存在的“道”，恒久存在的“道”不可言说。如苏辙说：“莫非道也。而可道者不可常，惟不可道，而后可常耳。今夫仁义礼智，此道之可道者也。然而仁不可以为义，而礼不可以为智，可道之不可常如此。……而道常不变，不可道之能常如此。”蒋锡昌说：“此道为世人所习称之道，即今人所谓‘道理’也，第一‘道’字应从是解。《广雅·释诂》二：‘道，说也’，第二‘道’字应从是解。‘常’乃真常不易之义，在文法上为区别词。……第三‘道’字即二十五章‘道法自然’之‘道’，……乃老子学说之总名也”。陈鼓应说：“第一个‘道’字是人们习称之道，即今人所谓‘道理’。第二个‘道’字，是指言说的意思。第三个‘道’字，是老子哲学上的专有名词，在本章它意指构成宇宙的实体与动力。……‘常道’之‘常’，为真常、永恒之意。……可以用言词表达的道，就不是常道”。\n",
    "-----------\n",
    "2.认为“道可道”中的第一个“道”，指的是宇宙万物的本原；“可道”中的“道”，指言说的意思；“常道”，指恒久存在的“道”。因此，“道可道，非常道”，指可以言说的“道”，就不是恒久存在的“道”。如张默生说：“‘道’，指宇宙的本体而言。……‘常’，是经常不变的意思。……可以说出来的道，便不是经常不变的道”。董平说：“第一个‘道’字与‘可道’之‘道’，内涵并不相同。第一个‘道’字，是老子所揭示的作为宇宙本根之‘道’；‘可道’之‘道’，则是‘言说’的意思。……这里的大意就是说：凡一切可以言说之‘道’，都不是‘常道’或永恒之‘道’”。汤漳平等说：“第一句中的三个‘道’，第一、三均指形上之‘道’，中间的‘道’作动词，为可言之义。……道可知而可行，但非恒久不变之道”。\n",
    "--------\n",
    "3.认为“道可道”中的第一个“道”，指的是宇宙万物的本原；“可道”中的“道”，指言说的意思；“常道”，则指的是平常人所讲之道、常俗之道。因此，“道可道，非常道”，指“道”是可以言说的，但它不是平常人所谓的道或常俗之道。如李荣说：“道者，虚极之理也。夫论虚极之理，不可以有无分其象，不可以上下格其真。……圣人欲坦兹玄路，开以教门，借圆通之名，目虚极之理，以理可名，称之可道。故曰‘吾不知其名，字之曰道’。非常道者，非是人间常俗之道也。人间常俗之道，贵之以礼义，尚之以浮华，丧身以成名，忘己而徇利。”司马光说：“世俗之谈道者，皆曰道体微妙，不可名言。老子以为不然，曰道亦可言道耳，然非常人之所谓道也。……常人之所谓道者，凝滞于物。”裘锡圭说：“到目前为止，可以说，几乎从战国开始，大家都把‘可道’之‘道’……看成老子所否定的，把‘常道’‘常名’看成老子所肯定的。这种看法其实有它不合理的地方，……‘道’是可以说的。《老子》这个《道经》第一章，开宗明义是要讲他的‘道’。第一个‘道’字，理所应当，也是讲他要讲的‘道’：道是可以言说的。……那么这个‘恒’字应该怎么讲？我认为很简单，‘恒’字在古代作定语用，经常是‘平常’‘恒常’的意思。……‘道’是可以言说的，但是我要讲的这个‘道’，不是‘恒道’，它不是一般人所讲的‘道’。\n",
    "'''\n",
    ")\n",
    "print(messages)"
   ]
  },
  {
   "cell_type": "code",
   "execution_count": 21,
   "metadata": {},
   "outputs": [
    {
     "name": "stdout",
     "output_type": "stream",
     "text": [
      "第一篇文章认为，“道可道”中的第一个“道”指的是道理，第二个“道”指言说的意思，而“常道”指恒久存在的道。因此，“道可道，非常道”指的是可以言说的道理，并非恒久存在的道。第二篇文章则认为，“道可道”中的第一个“道”指的是宇宙万物的本原，第二个“道”指言说的意思，而“常道”指恒久存在的道。因此，“道可道，非常道”表示可以言说的道并非恒久存在的道。\n",
      "\n",
      "第一篇文章提出了更好的论点。它更加详细地解释了每个“道”所代表的含义，并引用了多位学者的观点来支持自己的看法。此外，文章还引用了苏辙、蒋锡昌和陈鼓应等人对此观点的解释，进一步加强了其论点的可信度。相比之下，第二篇文章虽然也提出了相似的论点，但没有像第一篇文章那样深入解释每个“道”的含义，也没有引用其他学者的观点来支持自己的看法，因此论证不够充分。\n"
     ]
    }
   ],
   "source": [
    "chat_result = chat_model.invoke(messages)\n",
    "print(chat_result.content)"
   ]
  },
  {
   "cell_type": "code",
   "execution_count": 22,
   "metadata": {},
   "outputs": [
    {
     "name": "stdout",
     "output_type": "stream",
     "text": [
      "Tell me a funny joke about chickens.\n"
     ]
    }
   ],
   "source": [
    "prompt_template = PromptTemplate.from_template(\n",
    "    \"Tell me a {adjective} joke about {content}.\"\n",
    ")\n",
    "\n",
    "# 使用 format 生成提示\n",
    "prompt = prompt_template.format(adjective=\"funny\", content=\"chickens\")\n",
    "print(prompt)"
   ]
  },
  {
   "cell_type": "code",
   "execution_count": 23,
   "metadata": {},
   "outputs": [
    {
     "data": {
      "text/plain": [
       "PromptTemplate(input_variables=['adjective', 'content'], template='Tell me a {adjective} joke about {content}.')"
      ]
     },
     "execution_count": 23,
     "metadata": {},
     "output_type": "execute_result"
    }
   ],
   "source": [
    "prompt_template"
   ]
  },
  {
   "cell_type": "code",
   "execution_count": 24,
   "metadata": {},
   "outputs": [
    {
     "name": "stdout",
     "output_type": "stream",
     "text": [
      "Tell me a joke\n"
     ]
    }
   ],
   "source": [
    "prompt_template = PromptTemplate.from_template(\n",
    "    \"Tell me a joke\"\n",
    ")\n",
    "# 生成提示\n",
    "prompt = prompt_template.format()\n",
    "print(prompt)"
   ]
  },
  {
   "cell_type": "code",
   "execution_count": 25,
   "metadata": {},
   "outputs": [
    {
     "data": {
      "text/plain": [
       "PromptTemplate(input_variables=[], template='Tell me a joke')"
      ]
     },
     "execution_count": 25,
     "metadata": {},
     "output_type": "execute_result"
    }
   ],
   "source": [
    "prompt_template"
   ]
  },
  {
   "cell_type": "code",
   "execution_count": 33,
   "metadata": {},
   "outputs": [],
   "source": [
    "# invalid_prompt = PromptTemplate(\n",
    "#     input_variables=[\"adjective\"],\n",
    "#     template=\"Tell me a {adjective} joke about {content}.\"\n",
    "# )\n",
    "\n",
    "# invalid_prompt.format(adjective=\"funny\")"
   ]
  },
  {
   "cell_type": "code",
   "execution_count": 30,
   "metadata": {},
   "outputs": [],
   "source": [
    "valid_prompt = PromptTemplate(\n",
    "    input_variables=[\"adjective\", \"content\"],\n",
    "    template=\"Tell me a {adjective} joke about {content}.\"\n",
    ")"
   ]
  },
  {
   "cell_type": "code",
   "execution_count": 31,
   "metadata": {},
   "outputs": [
    {
     "data": {
      "text/plain": [
       "'Tell me a funny joke about chickens.'"
      ]
     },
     "execution_count": 31,
     "metadata": {},
     "output_type": "execute_result"
    }
   ],
   "source": [
    "valid_prompt.format(adjective='funny',content='chickens')"
   ]
  },
  {
   "cell_type": "code",
   "execution_count": 32,
   "metadata": {},
   "outputs": [],
   "source": [
    "prompt_template = PromptTemplate.from_template(\n",
    "    \"讲{num}个给程序员听得笑话\"\n",
    ")"
   ]
  },
  {
   "cell_type": "code",
   "execution_count": 34,
   "metadata": {},
   "outputs": [
    {
     "name": "stdout",
     "output_type": "stream",
     "text": [
      "prompt: 讲2个给程序员听得笑话\n"
     ]
    },
    {
     "data": {
      "text/plain": [
       "'（一） 10-10\\n\\n这些网站可以给你带来一些新鲜事 10-10\\n\\n公告：为了更好的服务，微软正式停止Windows XP和Server 2003的技术支持 10-09\\n\\n奇葩企业游戏想法，竟然是用“猪肉” 10-09\\n\\n硬件界的秘密：酷睿和Core M的对决 10-09\\n\\n你在考虑升级系统吗？这些我都不会坚持，你呢？ 10-08\\n\\n如何快速知道你的电脑里有没有Virus 10-08\\n\\n这些不同的电脑都有哪些区别？ 10-07\\n\\n深圳上网人数完成一年增长两倍 10-06\\n\\nWindows 10 更新号和版本号 10-06\\n\\nWannaCry Ransomware，Windows系统已经支持解密 10-05\\n\\nCortana，你是个神奇的人！ 10-05\\n\\nCortana，你是个神奇的人！ 10-05\\n\\n世界上最“坏”的电脑，竟然是这个！ 10-04\\n\\n如何更好地使用Windows10 10-04\\n\\n十大危险应用软件 10-03\\n\\n这些电脑看起来和你的手机一样，但它们是什么？ 10-03\\n\\n这些电脑看起来和你的手机一样，但它们是什么？ 10-03\\n\\n囧图：Windows10和WindowsXP的比较 10-02\\n\\n囧图：Windows10和WindowsXP的比较 10-02\\n\\n知道你在网上买什么东西的公司，是谁？ 10-02\\n\\n微软怎样做到每个Windows用户都可以免费升级至Windows10 10-01\\n\\n微软怎样做到每个Windows用户都可以免费升级至Windows10 10-01\\n\\n怎样才能让Windows10的更新速度变快？ 09-30\\n\\n怎样才能让Windows10的更新速度变快？ 09-30\\n\\n微软Windows 10升级到Windows 10 Anniversary Update 09-29\\n\\n微软Windows 10升级到Windows 10 Anniversary Update 09-29\\n\\n微软Windows 10升级到Windows 10 Anniversary Update 09-29\\n\\n微软Windows 10升级到Windows 10 Anniversary Update 09-29\\n\\n用最简单的方法来更换电脑主板 09-28\\n\\n用最简单的方法来更换电脑主板 09-28\\n\\n用最简单的方法来更换电脑主板 09-28\\n\\n用最简单的方法来更换电脑主板 09-28\\n\\n微软建议：快用Chrome或者Firefox上网，别用IE了 09-27\\n\\n微软建议：快用Chrome或者Firefox上网，别用IE了 09-27\\n\\n微软建议：快用Chrome或者Firefox上网，别用IE了 09-27\\n\\n微软Windows 10 Anniversary Update将在8月2日推送 09-26\\n\\n微软Windows 10 Anniversary Update将在8月2日推送 09-26\\n\\n微软Windows 10 Anniversary Update将在8月2日推送 09-26\\n\\n微软Windows 10 Anniversary Update将在8月2日推送 09-26\\n\\n微软Windows 10 Anniversary Update将在8月2日推送 09-26\\n\\nMicrosoft Windows 10 Anniversary Update将于8月2日推送 09-26\\n\\n微软Windows 10 Anniversary Update将于8月2日推送 09-26\\n\\n微软Windows 10 Anniversary Update将于8月2日推送 09-26\\n\\n微软Windows 10 Anniversary Update将于8月2日推送 09-26\\n\\n微软Windows 10 Anniversary Update将于8月2日推送 09-26\\n\\n微软Windows 10 Anniversary Update'"
      ]
     },
     "execution_count": 34,
     "metadata": {},
     "output_type": "execute_result"
    }
   ],
   "source": [
    "# llm = OpenAI(model_name=\"gpt-3.5-turbo-instruct\", max_tokens=1000)\n",
    "\n",
    "prompt = prompt_template.format(num=2)\n",
    "print(f\"prompt: {prompt}\")\n",
    "\n",
    "llm.invoke(prompt)"
   ]
  },
  {
   "cell_type": "code",
   "execution_count": 35,
   "metadata": {},
   "outputs": [],
   "source": [
    "template = ChatPromptTemplate.from_messages([\n",
    "    (\"system\", \"You are a helpful AI bot. Your name is {name}.\"),\n",
    "    (\"human\", \"Hello, how are you doing?\"),\n",
    "    (\"ai\", \"I'm doing well, thanks!\"),\n",
    "    (\"human\", \"{user_input}\"),\n",
    "])\n",
    "\n",
    "# 生成提示\n",
    "messages = template.format_messages(\n",
    "    name=\"Bob\",\n",
    "    user_input=\"What is your name?\"\n",
    ")"
   ]
  },
  {
   "cell_type": "code",
   "execution_count": 36,
   "metadata": {},
   "outputs": [
    {
     "data": {
      "text/plain": [
       "[SystemMessage(content='You are a helpful AI bot. Your name is Bob.'),\n",
       " HumanMessage(content='Hello, how are you doing?'),\n",
       " AIMessage(content=\"I'm doing well, thanks!\"),\n",
       " HumanMessage(content='What is your name?')]"
      ]
     },
     "execution_count": 36,
     "metadata": {},
     "output_type": "execute_result"
    }
   ],
   "source": [
    "messages"
   ]
  },
  {
   "cell_type": "code",
   "execution_count": 37,
   "metadata": {},
   "outputs": [
    {
     "data": {
      "text/plain": [
       "AIMessage(content='My name is Bob. How can I help you today?', response_metadata={'finish_reason': 'stop', 'logprobs': None})"
      ]
     },
     "execution_count": 37,
     "metadata": {},
     "output_type": "execute_result"
    }
   ],
   "source": [
    "chat_model.invoke(messages)"
   ]
  },
  {
   "cell_type": "code",
   "execution_count": 38,
   "metadata": {},
   "outputs": [],
   "source": [
    "summary_template = ChatPromptTemplate.from_messages([\n",
    "    (\"system\", \"你将获得关于同一主题的{num}篇文章（用-----------标签分隔）。首先总结每篇文章的论点。然后指出哪篇文章提出了更好的论点，并解释原因。\"),\n",
    "    (\"human\", \"{user_input}\"),\n",
    "])"
   ]
  },
  {
   "cell_type": "code",
   "execution_count": 39,
   "metadata": {},
   "outputs": [],
   "source": [
    "messages = summary_template.format_messages(\n",
    "    num=3,\n",
    "    user_input='''1. [PHP是世界上最好的语言]\n",
    "PHP是世界上最好的情感派编程语言，无需逻辑和算法，只要情绪。它能被蛰伏在冰箱里的PHP大神轻易驾驭，会话结束后的感叹号也能传达对代码的热情。写PHP就像是在做披萨，不需要想那么多，只需把配料全部扔进一个碗，然后放到服务器上，热乎乎出炉的网页就好了。\n",
    "-----------\n",
    "2. [Python是世界上最好的语言]\n",
    "Python是世界上最好的拜金主义者语言。它坚信：美丽就是力量，简洁就是灵魂。Python就像是那个永远在你皱眉的那一刻扔给你言情小说的好友。只有Python，你才能够在两行代码之间感受到飘逸的花香和清新的微风。记住，这世上只有一种语言可以使用空格来领导全世界的进步，那就是Python。\n",
    "-----------\n",
    "3. [Java是世界上最好的语言]\n",
    "Java是世界上最好的德育课编程语言，它始终坚守了严谨、安全的编程信条。Java就像一个严格的老师，他不会对你怀柔，不会让你偷懒，也不会让你走捷径，但他教会你规范和自律。Java就像是那个喝咖啡也算加班费的上司，拥有对邪恶的深度厌恶和对善良的深度拥护。\n",
    "'''\n",
    ")"
   ]
  },
  {
   "cell_type": "code",
   "execution_count": 40,
   "metadata": {},
   "outputs": [
    {
     "data": {
      "text/plain": [
       "[SystemMessage(content='你将获得关于同一主题的3篇文章（用-----------标签分隔）。首先总结每篇文章的论点。然后指出哪篇文章提出了更好的论点，并解释原因。'),\n",
       " HumanMessage(content='1. [PHP是世界上最好的语言]\\nPHP是世界上最好的情感派编程语言，无需逻辑和算法，只要情绪。它能被蛰伏在冰箱里的PHP大神轻易驾驭，会话结束后的感叹号也能传达对代码的热情。写PHP就像是在做披萨，不需要想那么多，只需把配料全部扔进一个碗，然后放到服务器上，热乎乎出炉的网页就好了。\\n-----------\\n2. [Python是世界上最好的语言]\\nPython是世界上最好的拜金主义者语言。它坚信：美丽就是力量，简洁就是灵魂。Python就像是那个永远在你皱眉的那一刻扔给你言情小说的好友。只有Python，你才能够在两行代码之间感受到飘逸的花香和清新的微风。记住，这世上只有一种语言可以使用空格来领导全世界的进步，那就是Python。\\n-----------\\n3. [Java是世界上最好的语言]\\nJava是世界上最好的德育课编程语言，它始终坚守了严谨、安全的编程信条。Java就像一个严格的老师，他不会对你怀柔，不会让你偷懒，也不会让你走捷径，但他教会你规范和自律。Java就像是那个喝咖啡也算加班费的上司，拥有对邪恶的深度厌恶和对善良的深度拥护。\\n')]"
      ]
     },
     "execution_count": 40,
     "metadata": {},
     "output_type": "execute_result"
    }
   ],
   "source": [
    "messages"
   ]
  },
  {
   "cell_type": "code",
   "execution_count": 41,
   "metadata": {},
   "outputs": [
    {
     "name": "stdout",
     "output_type": "stream",
     "text": [
      "第一篇文章认为PHP是世界上最好的语言，强调了它的情感派特质和容易上手的优点。第二篇文章则主张Python是最好的语言，强调了其简洁美观的特点。第三篇文章则认为Java是最好的语言，强调了其严谨、安全和规范性。\n",
      "\n",
      "在这三篇文章中，我认为第三篇关于Java的论点提出得更好。虽然每种语言都有其优点和适用场景，但Java作为一种强类型、面向对象、通用的编程语言，具有广泛的应用领域，尤其在企业级开发中被广泛采用。它的严谨和安全性确保了代码的稳定性和可靠性，同时也鼓励开发者养成良好的编程习惯。因此，Java更符合广大开发者的需求，并且在长期发展中有着稳固的地位。\n"
     ]
    }
   ],
   "source": [
    "response = chat_model.invoke(messages)\n",
    "print(response.content)"
   ]
  },
  {
   "cell_type": "code",
   "execution_count": 42,
   "metadata": {},
   "outputs": [
    {
     "data": {
      "text/plain": [
       "[SystemMessage(content='你将获得关于同一主题的3篇文章（用-----------标签分隔）。首先总结每篇文章的论点。然后指出哪篇文章提出了更好的论点，并解释原因。'),\n",
       " HumanMessage(content='1. [PHP是世界上最好的语言]\\nPHP是世界上最好的情感派编程语言，无需逻辑和算法，只要情绪。它能被蛰伏在冰箱里的PHP大神轻易驾驭，会话结束后的感叹号也能传达对代码的热情。写PHP就像是在做披萨，不需要想那么多，只需把配料全部扔进一个碗，然后放到服务器上，热乎乎出炉的网页就好了。\\n-----------\\n2. [Python是世界上最好的语言]\\nPython是世界上最好的拜金主义者语言。它坚信：美丽就是力量，简洁就是灵魂。Python就像是那个永远在你皱眉的那一刻扔给你言情小说的好友。只有Python，你才能够在两行代码之间感受到飘逸的花香和清新的微风。记住，这世上只有一种语言可以使用空格来领导全世界的进步，那就是Python。\\n-----------\\n3. [Java是世界上最好的语言]\\nJava是世界上最好的德育课编程语言，它始终坚守了严谨、安全的编程信条。Java就像一个严格的老师，他不会对你怀柔，不会让你偷懒，也不会让你走捷径，但他教会你规范和自律。Java就像是那个喝咖啡也算加班费的上司，拥有对邪恶的深度厌恶和对善良的深度拥护。\\n')]"
      ]
     },
     "execution_count": 42,
     "metadata": {},
     "output_type": "execute_result"
    }
   ],
   "source": [
    "messages"
   ]
  },
  {
   "cell_type": "code",
   "execution_count": null,
   "metadata": {},
   "outputs": [],
   "source": [
    "messages = summary_template.format_messages(\n",
    "    num=2,\n",
    "    user_input='''1.认为“道可道”中的第一个“道”，指的是道理，如仁义礼智之类；“可道”中的“道”，指言说的意思；“常道”，指恒久存在的“道”。因此，所谓“道可道，非常道”，指的是可以言说的道理，不是恒久存在的“道”，恒久存在的“道”不可言说。如苏辙说：“莫非道也。而可道者不可常，惟不可道，而后可常耳。今夫仁义礼智，此道之可道者也。然而仁不可以为义，而礼不可以为智，可道之不可常如此。……而道常不变，不可道之能常如此。”蒋锡昌说：“此道为世人所习称之道，即今人所谓‘道理’也，第一‘道’字应从是解。《广雅·释诂》二：‘道，说也’，第二‘道’字应从是解。‘常’乃真常不易之义，在文法上为区别词。……第三‘道’字即二十五章‘道法自然’之‘道’，……乃老子学说之总名也”。陈鼓应说：“第一个‘道’字是人们习称之道，即今人所谓‘道理’。第二个‘道’字，是指言说的意思。第三个‘道’字，是老子哲学上的专有名词，在本章它意指构成宇宙的实体与动力。……‘常道’之‘常’，为真常、永恒之意。……可以用言词表达的道，就不是常道”。\n",
    "-----------\n",
    "2.认为“道可道”中的第一个“道”，指的是宇宙万物的本原；“可道”中的“道”，指言说的意思；“常道”，指恒久存在的“道”。因此，“道可道，非常道”，指可以言说的“道”，就不是恒久存在的“道”。如张默生说：“‘道’，指宇宙的本体而言。……‘常’，是经常不变的意思。……可以说出来的道，便不是经常不变的道”。董平说：“第一个‘道’字与‘可道’之‘道’，内涵并不相同。第一个‘道’字，是老子所揭示的作为宇宙本根之‘道’；‘可道’之‘道’，则是‘言说’的意思。……这里的大意就是说：凡一切可以言说之‘道’，都不是‘常道’或永恒之‘道’”。汤漳平等说：“第一句中的三个‘道’，第一、三均指形上之‘道’，中间的‘道’作动词，为可言之义。……道可知而可行，但非恒久不变之道”。\n",
    "--------\n",
    "3.认为“道可道”中的第一个“道”，指的是宇宙万物的本原；“可道”中的“道”，指言说的意思；“常道”，则指的是平常人所讲之道、常俗之道。因此，“道可道，非常道”，指“道”是可以言说的，但它不是平常人所谓的道或常俗之道。如李荣说：“道者，虚极之理也。夫论虚极之理，不可以有无分其象，不可以上下格其真。……圣人欲坦兹玄路，开以教门，借圆通之名，目虚极之理，以理可名，称之可道。故曰‘吾不知其名，字之曰道’。非常道者，非是人间常俗之道也。人间常俗之道，贵之以礼义，尚之以浮华，丧身以成名，忘己而徇利。”司马光说：“世俗之谈道者，皆曰道体微妙，不可名言。老子以为不然，曰道亦可言道耳，然非常人之所谓道也。……常人之所谓道者，凝滞于物。”裘锡圭说：“到目前为止，可以说，几乎从战国开始，大家都把‘可道’之‘道’……看成老子所否定的，把‘常道’‘常名’看成老子所肯定的。这种看法其实有它不合理的地方，……‘道’是可以说的。《老子》这个《道经》第一章，开宗明义是要讲他的‘道’。第一个‘道’字，理所应当，也是讲他要讲的‘道’：道是可以言说的。……那么这个‘恒’字应该怎么讲？我认为很简单，‘恒’字在古代作定语用，经常是‘平常’‘恒常’的意思。……‘道’是可以言说的，但是我要讲的这个‘道’，不是‘恒道’，它不是一般人所讲的‘道’。\n",
    "'''\n",
    ")"
   ]
  },
  {
   "cell_type": "code",
   "execution_count": null,
   "metadata": {},
   "outputs": [
    {
     "data": {
      "text/plain": [
       "[SystemMessage(content='你将获得关于同一主题的2篇文章（用-----------标签分隔）。首先总结每篇文章的论点。然后指出哪篇文章提出了更好的论点，并解释原因。'),\n",
       " HumanMessage(content='1.认为“道可道”中的第一个“道”，指的是道理，如仁义礼智之类；“可道”中的“道”，指言说的意思；“常道”，指恒久存在的“道”。因此，所谓“道可道，非常道”，指的是可以言说的道理，不是恒久存在的“道”，恒久存在的“道”不可言说。如苏辙说：“莫非道也。而可道者不可常，惟不可道，而后可常耳。今夫仁义礼智，此道之可道者也。然而仁不可以为义，而礼不可以为智，可道之不可常如此。……而道常不变，不可道之能常如此。”蒋锡昌说：“此道为世人所习称之道，即今人所谓‘道理’也，第一‘道’字应从是解。《广雅·释诂》二：‘道，说也’，第二‘道’字应从是解。‘常’乃真常不易之义，在文法上为区别词。……第三‘道’字即二十五章‘道法自然’之‘道’，……乃老子学说之总名也”。陈鼓应说：“第一个‘道’字是人们习称之道，即今人所谓‘道理’。第二个‘道’字，是指言说的意思。第三个‘道’字，是老子哲学上的专有名词，在本章它意指构成宇宙的实体与动力。……‘常道’之‘常’，为真常、永恒之意。……可以用言词表达的道，就不是常道”。\\n-----------\\n2.认为“道可道”中的第一个“道”，指的是宇宙万物的本原；“可道”中的“道”，指言说的意思；“常道”，指恒久存在的“道”。因此，“道可道，非常道”，指可以言说的“道”，就不是恒久存在的“道”。如张默生说：“‘道’，指宇宙的本体而言。……‘常’，是经常不变的意思。……可以说出来的道，便不是经常不变的道”。董平说：“第一个‘道’字与‘可道’之‘道’，内涵并不相同。第一个‘道’字，是老子所揭示的作为宇宙本根之‘道’；‘可道’之‘道’，则是‘言说’的意思。……这里的大意就是说：凡一切可以言说之‘道’，都不是‘常道’或永恒之‘道’”。汤漳平等说：“第一句中的三个‘道’，第一、三均指形上之‘道’，中间的‘道’作动词，为可言之义。……道可知而可行，但非恒久不变之道”。\\n--------\\n3.认为“道可道”中的第一个“道”，指的是宇宙万物的本原；“可道”中的“道”，指言说的意思；“常道”，则指的是平常人所讲之道、常俗之道。因此，“道可道，非常道”，指“道”是可以言说的，但它不是平常人所谓的道或常俗之道。如李荣说：“道者，虚极之理也。夫论虚极之理，不可以有无分其象，不可以上下格其真。……圣人欲坦兹玄路，开以教门，借圆通之名，目虚极之理，以理可名，称之可道。故曰‘吾不知其名，字之曰道’。非常道者，非是人间常俗之道也。人间常俗之道，贵之以礼义，尚之以浮华，丧身以成名，忘己而徇利。”司马光说：“世俗之谈道者，皆曰道体微妙，不可名言。老子以为不然，曰道亦可言道耳，然非常人之所谓道也。……常人之所谓道者，凝滞于物。”裘锡圭说：“到目前为止，可以说，几乎从战国开始，大家都把‘可道’之‘道’……看成老子所否定的，把‘常道’‘常名’看成老子所肯定的。这种看法其实有它不合理的地方，……‘道’是可以说的。《老子》这个《道经》第一章，开宗明义是要讲他的‘道’。第一个‘道’字，理所应当，也是讲他要讲的‘道’：道是可以言说的。……那么这个‘恒’字应该怎么讲？我认为很简单，‘恒’字在古代作定语用，经常是‘平常’‘恒常’的意思。……‘道’是可以言说的，但是我要讲的这个‘道’，不是‘恒道’，它不是一般人所讲的‘道’。\\n')]"
      ]
     },
     "execution_count": 34,
     "metadata": {},
     "output_type": "execute_result"
    }
   ],
   "source": [
    "messages"
   ]
  },
  {
   "cell_type": "code",
   "execution_count": null,
   "metadata": {},
   "outputs": [],
   "source": [
    "response = chat_model.invoke(messages)\n",
    "\n"
   ]
  },
  {
   "cell_type": "code",
   "execution_count": null,
   "metadata": {},
   "outputs": [
    {
     "name": "stdout",
     "output_type": "stream",
     "text": [
      "第一篇文章认为，“道可道”中的第一个“道”指的是道理，可道的“道”指言说的意思，“常道”指恒久存在的道。因此，“道可道，非常道”指的是可以言说的道理，并非恒久存在的道。文章引用了苏辙、蒋锡昌等人的观点，认为道理是可以言说的，但恒久存在的道却无法言说。\n",
      "\n",
      "第二篇文章认为，“道可道”中的第一个“道”指的是宇宙万物的本原，“可道”中的“道”指言说的意思，“常道”指恒久存在的道。因此，“道可道，非常道”指可以言说的道并非恒久存在的道。文章引用了张默生、董平等人的观点，认为可以言说的道并非恒久不变的道。\n",
      "\n",
      "第一篇文章提出的论点更为精准和清晰。它对“道”这个概念进行了较为详细的解释，并引用了多位学者的观点进行支持。文章中对“道可道，非常道”的解释也更加具体和有力，使读者更容易理解其观点。因此，第一篇文章提出的论点更好，因为它提供了更多的支持和解释，使观点更加明确和有说服力。\n"
     ]
    }
   ],
   "source": [
    "print(response.content)"
   ]
  },
  {
   "cell_type": "code",
   "execution_count": 43,
   "metadata": {},
   "outputs": [],
   "source": [
    "examples = [\n",
    "  {\n",
    "    \"question\": \"谁活得更久，穆罕默德·阿里还是艾伦·图灵？\",\n",
    "    \"answer\": \n",
    "\"\"\"\n",
    "这里需要进一步的问题吗：是的。\n",
    "追问：穆罕默德·阿里去世时多大了？\n",
    "中间答案：穆罕默德·阿里去世时74岁。\n",
    "追问：艾伦·图灵去世时多大了？\n",
    "中间答案：艾伦·图灵去世时41岁。\n",
    "所以最终答案是：穆罕默德·阿里\n",
    "\"\"\"\n",
    "  },\n",
    "  {\n",
    "    \"question\": \"craigslist的创始人是什么时候出生的？\",\n",
    "    \"answer\": \n",
    "\"\"\"\n",
    "这里需要进一步的问题吗：是的。\n",
    "追问：谁是craigslist的创始人？\n",
    "中间答案：Craigslist是由Craig Newmark创办的。\n",
    "追问：Craig Newmark是什么时候出生的？\n",
    "中间答案：Craig Newmark出生于1952年12月6日。\n",
    "所以最终答案是：1952年12月6日\n",
    "\"\"\"\n",
    "  },\n",
    "  {\n",
    "    \"question\": \"乔治·华盛顿的外祖父是谁？\",\n",
    "    \"answer\":\n",
    "\"\"\"\n",
    "这里需要进一步的问题吗：是的。\n",
    "追问：谁是乔治·华盛顿的母亲？\n",
    "中间答案：乔治·华盛顿的母亲是Mary Ball Washington。\n",
    "追问：Mary Ball Washington的父亲是谁？\n",
    "中间答案：Mary Ball Washington的父亲是Joseph Ball。\n",
    "所以最终答案是：Joseph Ball\n",
    "\"\"\"\n",
    "  },\n",
    "  {\n",
    "    \"question\": \"《大白鲨》和《皇家赌场》的导演是同一个国家的吗？\",\n",
    "    \"answer\":\n",
    "\"\"\"\n",
    "这里需要进一步的问题吗：是的。\n",
    "追问：谁是《大白鲨》的导演？\n",
    "中间答案：《大白鲨》的导演是Steven Spielberg。\n",
    "追问：Steven Spielberg来自哪里？\n",
    "中间答案：美国。\n",
    "追问：谁是《皇家赌场》的导演？\n",
    "中间答案：《皇家赌场》的导演是Martin Campbell。\n",
    "追问：Martin Campbell来自哪里？\n",
    "中间答案：新西兰。\n",
    "所以最终答案是：不是\n",
    "\"\"\"\n",
    "  }\n",
    "]"
   ]
  },
  {
   "cell_type": "code",
   "execution_count": 44,
   "metadata": {},
   "outputs": [
    {
     "name": "stdout",
     "output_type": "stream",
     "text": [
      "Question: 谁活得更久，穆罕默德·阿里还是艾伦·图灵？\n",
      "\n",
      "这里需要进一步的问题吗：是的。\n",
      "追问：穆罕默德·阿里去世时多大了？\n",
      "中间答案：穆罕默德·阿里去世时74岁。\n",
      "追问：艾伦·图灵去世时多大了？\n",
      "中间答案：艾伦·图灵去世时41岁。\n",
      "所以最终答案是：穆罕默德·阿里\n",
      "\n"
     ]
    }
   ],
   "source": [
    "example_prompt = PromptTemplate(\n",
    "    input_variables=[\"question\", \"answer\"],\n",
    "    template=\"Question: {question}\\n{answer}\"\n",
    ")\n",
    "\n",
    "# **examples[0] 是将examples[0] 字典的键值对（question-answer）解包并传递给format，作为函数参数\n",
    "print(example_prompt.format(**examples[0]))"
   ]
  },
  {
   "cell_type": "code",
   "execution_count": 45,
   "metadata": {},
   "outputs": [
    {
     "name": "stdout",
     "output_type": "stream",
     "text": [
      "input_variables=['answer', 'question'] template='Question: {question}\\n{answer}'\n"
     ]
    }
   ],
   "source": [
    "print(example_prompt)"
   ]
  },
  {
   "cell_type": "code",
   "execution_count": 46,
   "metadata": {},
   "outputs": [
    {
     "name": "stdout",
     "output_type": "stream",
     "text": [
      "Question: 《大白鲨》和《皇家赌场》的导演是同一个国家的吗？\n",
      "\n",
      "这里需要进一步的问题吗：是的。\n",
      "追问：谁是《大白鲨》的导演？\n",
      "中间答案：《大白鲨》的导演是Steven Spielberg。\n",
      "追问：Steven Spielberg来自哪里？\n",
      "中间答案：美国。\n",
      "追问：谁是《皇家赌场》的导演？\n",
      "中间答案：《皇家赌场》的导演是Martin Campbell。\n",
      "追问：Martin Campbell来自哪里？\n",
      "中间答案：新西兰。\n",
      "所以最终答案是：不是\n",
      "\n"
     ]
    }
   ],
   "source": [
    "print(example_prompt.format(**examples[-1]))"
   ]
  },
  {
   "cell_type": "code",
   "execution_count": 48,
   "metadata": {},
   "outputs": [
    {
     "name": "stdout",
     "output_type": "stream",
     "text": [
      "input_variables=['answer', 'question'] template='Question: {question}\\n{answer}'\n",
      "Question: 谁活得更久，穆罕默德·阿里还是艾伦·图灵？\n",
      "\n",
      "这里需要进一步的问题吗：是的。\n",
      "追问：穆罕默德·阿里去世时多大了？\n",
      "中间答案：穆罕默德·阿里去世时74岁。\n",
      "追问：艾伦·图灵去世时多大了？\n",
      "中间答案：艾伦·图灵去世时41岁。\n",
      "所以最终答案是：穆罕默德·阿里\n",
      "\n",
      "\n",
      "Question: craigslist的创始人是什么时候出生的？\n",
      "\n",
      "这里需要进一步的问题吗：是的。\n",
      "追问：谁是craigslist的创始人？\n",
      "中间答案：Craigslist是由Craig Newmark创办的。\n",
      "追问：Craig Newmark是什么时候出生的？\n",
      "中间答案：Craig Newmark出生于1952年12月6日。\n",
      "所以最终答案是：1952年12月6日\n",
      "\n",
      "\n",
      "Question: 乔治·华盛顿的外祖父是谁？\n",
      "\n",
      "这里需要进一步的问题吗：是的。\n",
      "追问：谁是乔治·华盛顿的母亲？\n",
      "中间答案：乔治·华盛顿的母亲是Mary Ball Washington。\n",
      "追问：Mary Ball Washington的父亲是谁？\n",
      "中间答案：Mary Ball Washington的父亲是Joseph Ball。\n",
      "所以最终答案是：Joseph Ball\n",
      "\n",
      "\n",
      "Question: 《大白鲨》和《皇家赌场》的导演是同一个国家的吗？\n",
      "\n",
      "这里需要进一步的问题吗：是的。\n",
      "追问：谁是《大白鲨》的导演？\n",
      "中间答案：《大白鲨》的导演是Steven Spielberg。\n",
      "追问：Steven Spielberg来自哪里？\n",
      "中间答案：美国。\n",
      "追问：谁是《皇家赌场》的导演？\n",
      "中间答案：《皇家赌场》的导演是Martin Campbell。\n",
      "追问：Martin Campbell来自哪里？\n",
      "中间答案：新西兰。\n",
      "所以最终答案是：不是\n",
      "\n",
      "\n",
      "Question: 玛丽·波尔·华盛顿的父亲是谁?\n"
     ]
    }
   ],
   "source": [
    "print(example_prompt)\n",
    "# 创建一个 FewShotPromptTemplate 对象\n",
    "few_shot_prompt = FewShotPromptTemplate(\n",
    "    examples=examples,           # 使用前面定义的 examples 作为范例\n",
    "    example_prompt=example_prompt, # 使用前面定义的 example_prompt 作为提示模板\n",
    "    suffix=\"Question: {input}\",    # 后缀模板，其中 {input} 会被替换为实际输入\n",
    "    input_variables=[\"input\"]     # 定义输入变量的列表\n",
    ")\n",
    "\n",
    "# 使用给定的输入格式化 prompt，并打印结果\n",
    "# 这里的 {input} 将被 \"玛丽·波尔·华盛顿的父亲是谁?\" 替换\n",
    "print(few_shot_prompt.format(input=\"玛丽·波尔·华盛顿的父亲是谁?\"))"
   ]
  },
  {
   "cell_type": "code",
   "execution_count": 49,
   "metadata": {},
   "outputs": [],
   "source": [
    "# 定义一个提示模板\n",
    "example_prompt = PromptTemplate(\n",
    "    input_variables=[\"input\", \"output\"],     # 输入变量的名字\n",
    "    template=\"Input: {input}\\nOutput: {output}\",  # 实际的模板字符串\n",
    ")\n",
    "\n",
    "# 这是一个假设的任务示例列表，用于创建反义词\n",
    "examples = [\n",
    "    {\"input\": \"happy\", \"output\": \"sad\"},\n",
    "    {\"input\": \"tall\", \"output\": \"short\"},\n",
    "    {\"input\": \"energetic\", \"output\": \"lethargic\"},\n",
    "    {\"input\": \"sunny\", \"output\": \"gloomy\"},\n",
    "    {\"input\": \"windy\", \"output\": \"calm\"},\n",
    "]"
   ]
  },
  {
   "cell_type": "code",
   "execution_count": 52,
   "metadata": {},
   "outputs": [
    {
     "name": "stdout",
     "output_type": "stream",
     "text": [
      "vectorstore=<langchain_community.vectorstores.chroma.Chroma object at 0x0000021A62844700> k=1 example_keys=None input_keys=None vectorstore_kwargs=None\n"
     ]
    }
   ],
   "source": [
    "# 从给定的示例中创建一个语义相似性选择器\n",
    "example_selector = SemanticSimilarityExampleSelector.from_examples(\n",
    "    examples,                          # 可供选择的示例列表\n",
    "    OpenAIEmbeddings(),                # 用于生成嵌入向量的嵌入类，用于衡量语义相似性\n",
    "    Chroma,                            # 用于存储嵌入向量并进行相似性搜索的 VectorStore 类\n",
    "    k=1                                # 要生成的示例数量\n",
    ")\n",
    "\n",
    "print(example_selector)\n",
    "\n",
    "# 创建一个 FewShotPromptTemplate 对象\n",
    "similar_prompt = FewShotPromptTemplate(\n",
    "    example_selector=example_selector,  # 提供一个 ExampleSelector 替代示例\n",
    "    example_prompt=example_prompt,      # 前面定义的提示模板\n",
    "    prefix=\"Give the antonym of every input\", # 前缀模板\n",
    "    suffix=\"Input: {adjective}\\nOutput:\",     # 后缀模板\n",
    "    input_variables=[\"adjective\"],           # 输入变量的名字\n",
    ")"
   ]
  },
  {
   "cell_type": "code",
   "execution_count": 53,
   "metadata": {},
   "outputs": [
    {
     "name": "stdout",
     "output_type": "stream",
     "text": [
      "input_variables=['adjective'] example_selector=SemanticSimilarityExampleSelector(vectorstore=<langchain_community.vectorstores.chroma.Chroma object at 0x0000021A62844700>, k=1, example_keys=None, input_keys=None, vectorstore_kwargs=None) example_prompt=PromptTemplate(input_variables=['input', 'output'], template='Input: {input}\\nOutput: {output}') suffix='Input: {adjective}\\nOutput:' prefix='Give the antonym of every input'\n"
     ]
    }
   ],
   "source": [
    "print(similar_prompt)"
   ]
  },
  {
   "cell_type": "code",
   "execution_count": 54,
   "metadata": {},
   "outputs": [
    {
     "name": "stdout",
     "output_type": "stream",
     "text": [
      "Give the antonym of every input\n",
      "\n",
      "Input: happy\n",
      "Output: sad\n",
      "\n",
      "Input: worried\n",
      "Output:\n"
     ]
    }
   ],
   "source": [
    "print(similar_prompt.format(adjective=\"worried\"))"
   ]
  },
  {
   "cell_type": "code",
   "execution_count": 55,
   "metadata": {},
   "outputs": [
    {
     "name": "stdout",
     "output_type": "stream",
     "text": [
      "Give the antonym of every input\n",
      "\n",
      "Input: windy\n",
      "Output: calm\n",
      "\n",
      "Input: rain\n",
      "Output:\n"
     ]
    }
   ],
   "source": [
    "print(similar_prompt.format(adjective=\"rain\"))"
   ]
  },
  {
   "cell_type": "code",
   "execution_count": 56,
   "metadata": {},
   "outputs": [
    {
     "name": "stdout",
     "output_type": "stream",
     "text": [
      "content='当然！我可以帮你想出一个花店的名字。你可以考虑以下建议：\\n\\n1. 花语花店\\n2. 花漾花园\\n3. 花馨园艺\\n4. 花语情缘\\n5. 花语时光\\n\\n希望这些建议可以给你一些灵感！如果你有任何特殊的喜好或者想法，请告诉我，我可以根据你的要求进一步为你定制名字。' response_metadata={'finish_reason': 'stop', 'logprobs': None}\n"
     ]
    }
   ],
   "source": [
    "messages = [\n",
    "    SystemMessage(content=\"你是一个很棒的智能助手\"),\n",
    "    HumanMessage(content=\"请给我的花店起个名\")\n",
    "]\n",
    "response = chat_model.invoke(messages)\n",
    "print(response)"
   ]
  }
 ],
 "metadata": {
  "kernelspec": {
   "display_name": "Python 3",
   "language": "python",
   "name": "python3"
  },
  "language_info": {
   "codemirror_mode": {
    "name": "ipython",
    "version": 3
   },
   "file_extension": ".py",
   "mimetype": "text/x-python",
   "name": "python",
   "nbconvert_exporter": "python",
   "pygments_lexer": "ipython3",
   "version": "3.10.14"
  }
 },
 "nbformat": 4,
 "nbformat_minor": 2
}
