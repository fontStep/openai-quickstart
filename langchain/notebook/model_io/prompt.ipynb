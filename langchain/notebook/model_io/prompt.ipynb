{
 "cells": [
  {
   "cell_type": "code",
   "execution_count": 20,
   "metadata": {},
   "outputs": [],
   "source": [
    "from dotenv import load_dotenv  # 用于加载环境变量\n",
    "load_dotenv()  # 加载 .env 文件中的环境变量\n",
    "from langchain.prompts import (PromptTemplate,ChatPromptTemplate)\n",
    "from langchain_openai import (OpenAI,ChatOpenAI)\n",
    "import os\n",
    "\n",
    "\n",
    "\n",
    "MODEL_NAME = \"gpt-3.5-turbo\"\n",
    "\n",
    "llm = OpenAI(model='davinci-002',openai_proxy=os.getenv(\"OPENAI_BASE_URL\"),max_tokens=1000)\n",
    "\n",
    "chat_model  = ChatOpenAI(model=MODEL_NAME,openai_proxy=os.getenv(\"OPENAI_BASE_URL\"),max_tokens=1000)\n",
    "\n",
    "\n",
    "# llm = OpenAI(model=MODEL_NAME,openai_proxy=os.getenv(\"OPENAI_BASE_URL\"),max_tokens=1000)\n",
    "\n",
    "\n"
   ]
  },
  {
   "cell_type": "code",
   "execution_count": 26,
   "metadata": {},
   "outputs": [
    {
     "data": {
      "text/plain": [
       "'\\n把用三个反引号括起来的文本总结成一句话。\\n```\\n您应该提供尽可能清晰、具体的指示，以表达您希望模型执行的任务。这将引导模型朝向所需的输出，并降低收到无关或不正确响应的可能性。不要将写清晰的提示词与写简短的提示词混淆。在许多情况下，更长的提示词可以为模型提供更多的清晰度和上下文信息，从而导致更详细和相关的输出。\\n```\\n'"
      ]
     },
     "execution_count": 26,
     "metadata": {},
     "output_type": "execute_result"
    }
   ],
   "source": [
    "text = f\"\"\"\n",
    "您应该提供尽可能清晰、具体的指示，以表达您希望模型执行的任务。\\\n",
    "这将引导模型朝向所需的输出，并降低收到无关或不正确响应的可能性。\\\n",
    "不要将写清晰的提示词与写简短的提示词混淆。\\\n",
    "在许多情况下，更长的提示词可以为模型提供更多的清晰度和上下文信息，从而导致更详细和相关的输出。\n",
    "\"\"\"\n",
    "# 需要总结的文本内容\n",
    "prompt = f\"\"\"\n",
    "把用三个反引号括起来的文本总结成一句话。\n",
    "```{text}```\n",
    "\"\"\"\n",
    "\n",
    "prompt"
   ]
  },
  {
   "cell_type": "code",
   "execution_count": 2,
   "metadata": {},
   "outputs": [
    {
     "data": {
      "text/plain": [
       "'/\\nYou are a naming consultant for new companies.\\nWhat is a good name for a company that makes colorful socks?\\n'"
      ]
     },
     "execution_count": 2,
     "metadata": {},
     "output_type": "execute_result"
    }
   ],
   "source": [
    "\n",
    "template = \"\"\"/\n",
    "You are a naming consultant for new companies.\n",
    "What is a good name for a company that makes {product}?\n",
    "\"\"\"\n",
    "\n",
    "prompt = PromptTemplate.from_template(template)\n",
    "prompt.format(product=\"colorful socks\")"
   ]
  },
  {
   "cell_type": "code",
   "execution_count": 3,
   "metadata": {},
   "outputs": [
    {
     "data": {
      "text/plain": [
       "'Tell me a joke.'"
      ]
     },
     "execution_count": 3,
     "metadata": {},
     "output_type": "execute_result"
    }
   ],
   "source": [
    "# prompt with no input variable\n",
    "no_input_prompt = PromptTemplate(input_variables=[], template=\"Tell me a joke.\")\n",
    "no_input_prompt.format()\n"
   ]
  },
  {
   "cell_type": "code",
   "execution_count": 4,
   "metadata": {},
   "outputs": [
    {
     "data": {
      "text/plain": [
       "'Tell me a funny joke.'"
      ]
     },
     "execution_count": 4,
     "metadata": {},
     "output_type": "execute_result"
    }
   ],
   "source": [
    "# prompt with one input variable\n",
    "one_input_prompt = PromptTemplate(input_variables=[\"adjective\"], template=\"Tell me a {adjective} joke.\")\n",
    "one_input_prompt.format(adjective=\"funny\")"
   ]
  },
  {
   "cell_type": "code",
   "execution_count": 5,
   "metadata": {},
   "outputs": [
    {
     "data": {
      "text/plain": [
       "'Tell me a funny joke about chickens.'"
      ]
     },
     "execution_count": 5,
     "metadata": {},
     "output_type": "execute_result"
    }
   ],
   "source": [
    "multiple_input_prompt = PromptTemplate(\n",
    "    input_variables=[\"adjective\", \"content\"], \n",
    "    template=\"Tell me a {adjective} joke about {content}.\"\n",
    ")\n",
    "multiple_input_prompt.format(adjective=\"funny\", content=\"chickens\")"
   ]
  },
  {
   "cell_type": "code",
   "execution_count": 6,
   "metadata": {},
   "outputs": [
    {
     "name": "stdout",
     "output_type": "stream",
     "text": [
      "input_variables=['adjective', 'content'] template='Tell me a {adjective} joke about {content}.'\n"
     ]
    },
    {
     "data": {
      "text/plain": [
       "'Tell me a funny joke about chickens.'"
      ]
     },
     "execution_count": 6,
     "metadata": {},
     "output_type": "execute_result"
    }
   ],
   "source": [
    "template = \"Tell me a {adjective} joke about {content}.\"\n",
    "\n",
    "prompt_template = PromptTemplate.from_template(template)\n",
    "print(prompt_template)\n",
    "\n",
    "prompt_template.format(adjective=\"funny\", content=\"chickens\")"
   ]
  },
  {
   "cell_type": "code",
   "execution_count": 7,
   "metadata": {},
   "outputs": [
    {
     "name": "stdout",
     "output_type": "stream",
     "text": [
      "prompt: 讲10个给程序员听得笑话\n",
      "result: 的故事\n",
      "\n",
      "One of the things programmers are best at is telling stories. Although most of them are not very good stories, they are usually very funny and are good for a laugh. So the next time you need a good laugh, read these ten stories. 单词翻译: 1. 一位程序员的家庭是如何崩溃的? Though he tried to keep his family together, his wife divorced him and he lost custody of his children. 2. 一个程序员的父亲为什么把他的儿子送到当地的大学读? Because his father wanted to give him a better education than he had himself. 3. 一个程序员的父亲为什么把他从家里送到当地的大学读? Because his father wanted to give him a better education than he had himself. 4. 一个程序员的妻子为什么要离开他? Because his wife didn't like him. 5. 一个程序员为什么要离开他的妻子? Because his wife didn't like him. 6. 一个程序员为什么要离开他的妻子? Because his wife didn't like him. 7. 一个程序员为什么要离开他的妻子? Because his wife didn't like him. 8. 一个程序员为什么要离开他的妻子? Because his wife didn't like him. 9. 一个程序员为什么要离开他的妻子? Because his wife didn't like him. 10. 一个程序员为什么要离开他的妻子? Because his wife didn't like him. 11. 一个程序员为什么要离开他的妻子? Because his wife didn't like him. 12. 一个程序员为什么要离开他的妻子? Because his wife didn't like him. 13. 一个程序员为什么要离开他的妻子? Because his wife didn't like him. 14. 一个程序员为什么要离开他的妻子? Because his wife didn't like him. 15. 一个程序员为什么要离开他的妻子? Because his wife didn't like him. 16. 一个程序员为什么要离开他的妻子? Because his wife didn't like him. 17. 一个程序员为什么要离开他的妻子? Because his wife didn't like him. 18. 一个程序员为什么要离开他的妻子? Because his wife didn't like him. 19. 一个程序员为什么要离开他的妻子? Because his wife didn't like him. 20. 一个程序员为什么要离开他的妻子? Because his wife didn't like him. 21. 一个程序员为什么要离开他的妻子? Because his wife didn't like him. 22. 一个程序员为什么要离开他的妻子? Because his wife didn't like him. 23. 一个程序员为什么要离开他的妻子? Because his wife didn't like him. 24. 一个程序员为什么要离开他的妻子? Because his wife didn't like him. 25. 一个程序员为什么要离开他的妻子? Because his wife didn't like him. 26. 一个程序员为什么要离开他的妻子? Because his wife didn't like him. 27. 一个程序员为什么要离开他的妻子? Because his wife didn't like him. 28. 一个程序员为什么要离开他的妻子? Because his wife didn't like him. 29. 一个程序员为什么要离开他的妻子? Because his wife didn't like him. 30. 一个程序员为什么要离开他的\n"
     ]
    }
   ],
   "source": [
    "prompt_template = PromptTemplate.from_template( \"讲{num}个给程序员听得笑话\")\n",
    "\n",
    "prompt = prompt_template.format(num=10)\n",
    "\n",
    "print(f\"prompt: {prompt}\")\n",
    "\n",
    "## gpt-3.5-turbo This is a chat model and not supported in the v1/completions endpoint. Did you mean to use v1/chat/completions\n",
    "\n",
    "\n",
    "\n",
    "# llm.model_name\n",
    "result = llm.invoke(prompt)\n",
    "\n",
    "print(f'result: {result}')\n"
   ]
  },
  {
   "cell_type": "code",
   "execution_count": 8,
   "metadata": {},
   "outputs": [
    {
     "data": {
      "text/plain": [
       "'Tell me a funny joke about chickens'"
      ]
     },
     "execution_count": 8,
     "metadata": {},
     "output_type": "execute_result"
    }
   ],
   "source": [
    "# 使用 jinja2 模版引擎\n",
    "jinja2_template = \"Tell me a {{ adjective }} joke about {{ content }}\"\n",
    "prompt = PromptTemplate.from_template(jinja2_template, template_format=\"jinja2\")\n",
    "\n",
    "prompt.format(adjective=\"funny\", content=\"chickens\")"
   ]
  },
  {
   "cell_type": "code",
   "execution_count": 9,
   "metadata": {},
   "outputs": [
    {
     "name": "stdout",
     "output_type": "stream",
     "text": [
      "input_variables=['adjective', 'content'] template='Tell me a {{ adjective }} joke about {{ content }}' template_format='jinja2'\n"
     ]
    }
   ],
   "source": [
    "print(prompt)"
   ]
  },
  {
   "cell_type": "code",
   "execution_count": 10,
   "metadata": {},
   "outputs": [],
   "source": [
    "sort_prompt_template = PromptTemplate.from_template(\n",
    "    \"生成可执行的快速排序 {programming_language} 代码\"\n",
    ")"
   ]
  },
  {
   "cell_type": "code",
   "execution_count": 11,
   "metadata": {},
   "outputs": [
    {
     "name": "stdout",
     "output_type": "stream",
     "text": [
      " , 比如我想把一个list中的元素排序，通过Python自带的sort函数可以实现，但是我把这个list做成文件，然后使用python读取这个文件，然后写入文件，这样就需要在文本文件中进行快速排序，这个快速排序是不是也可以用python代码实现呢？. This Python tutorial is also helpful to learn Python from scratch, Python programming for beginners and how to program in Python. Python is an interpreted, object-oriented, high-level programming language. The sort() method is the most commonly used method for sorting. Change the parameters to sort the list the way you want to. Your goal is to come up with a function quicksort(a, left, right) that takes as a parameter a list of integers and returns a list of integers. 7 and Python 3. Python Exercises, Practice and Solution: Write a Python program to sort the given list of integers in descending order. Python Number sort() The sort() method sorts the items of a given list in place and returns None. sort() to sort the list in ascending order. Here is an example of how you do it. sort() to sort the list in ascending order. The sort() method is used to sort the items of a list in place. I want to sort the list in descending order. Python Lists - Learn Python in simple and easy steps starting from basic to advanced concepts with examples including Python Syntax Object Oriented Language, Methods, Tuples, Tools/Utilities, Exceptions Handling, Sockets, GUI, Extentions, XML Programming. sort and list. In Python, lists are ordered sequences of items, and they are commonly used to store lists of numbers or strings. Python's sort() function is case sensitive. In this article, we will discuss how to sort a list of lists in Python. Python does not have an actual \"for-each\" loop, but it does have a \"for loop\" that can be used to iterate through a list. I would like to sort this list using the lowest score first, and the highest score last. sort() method, which is another sorting algorithm. In this article, we will discuss how to sort a list of lists in Python. The list data type is a commonly used data structure in Python. py, which is used to sort a list of words by increasing length. Python: Sort a list of lists or tuple of lists Last update on February 26 2020 08:09:08 (UTC/GMT +8 hours) Python List: Exercise-36 with Solution. Let's say I have the following list: x = [1,4,2,5,3,2,4,6]. sort ( ) However, the sort () method sorts the list in place and returns None. Sorting Problem. In this article, we will discuss how to sort a list of lists in Python. In this post, I will show you how to sort a list of dictionaries by values in Python. If you want to sort the list on the basis of second column of the list then you can use sort() function as shown below. In this article, we will discuss how to sort a list of lists in Python. Write a function to sort a given list of integers in descending order. In this example, we will sort the list using the sort() function. Input Format: The first line of input contains an integer T denoting the number of test cases. In Python, a list is a data structure that stores a bunch of python items. sort() function. Python: Sort a list of lists Last update on February 26 2020 08:09:08 (UTC/GMT +8 hours) Python List: Exercise-36 with Solution. sort() function. Python List sort() The sort() method sorts the items of a given list in place and returns None. sort() method, which is another sorting algorithm. Python's sort() function is case sensitive. In this article, we will discuss how to sort a list of lists in Python. sort() method, which is another sorting algorithm. It accepts a list object and sorts the elements of the list in place. sort() function. The sort() method sorts the items of a given list in place and returns None. sort() to sort the list in ascending order. Python List sort() The sort() method sorts the items of a given list in place and returns None. In this example, we will sort the list using the sort() function. 7 and Python 3. sort() method, which is another sorting algorithm. To sort a list of items, you can use the sort () method. Your goal is to come up with a function quicksort(a, left, right) that takes as a parameter a list of integers and returns a list\n"
     ]
    }
   ],
   "source": [
    "print(llm.invoke(sort_prompt_template.format(programming_language=\"python\")))\n",
    "# sort_prompt_template.format(programming_language=\"python\")"
   ]
  },
  {
   "cell_type": "code",
   "execution_count": 12,
   "metadata": {},
   "outputs": [
    {
     "data": {
      "text/plain": [
       "[SystemMessage(content='You are a helpful AI bot. Your name is Bob.'),\n",
       " HumanMessage(content='Hello, how are you doing?'),\n",
       " AIMessage(content=\"I'm doing well, thanks!\"),\n",
       " HumanMessage(content='What is your name?')]"
      ]
     },
     "execution_count": 12,
     "metadata": {},
     "output_type": "execute_result"
    }
   ],
   "source": [
    "template = ChatPromptTemplate.from_messages([\n",
    "    (\"system\", \"You are a helpful AI bot. Your name is {name}.\"),\n",
    "    (\"human\", \"Hello, how are you doing?\"),\n",
    "    (\"ai\", \"I'm doing well, thanks!\"),\n",
    "    (\"human\", \"{user_input}\"),\n",
    "])\n",
    "\n",
    "# 生成提示\n",
    "messages = template.format_messages(\n",
    "    name=\"Bob\",\n",
    "    user_input=\"What is your name?\"\n",
    ")\n",
    "\n",
    "messages"
   ]
  },
  {
   "cell_type": "code",
   "execution_count": 13,
   "metadata": {},
   "outputs": [
    {
     "name": "stdout",
     "output_type": "stream",
     "text": [
      "content='You are a helpful AI bot. Your name is Bob.'\n",
      "content='Hello, how are you doing?'\n",
      "content=\"I'm doing well, thanks!\"\n",
      "content='What is your name?'\n"
     ]
    }
   ],
   "source": [
    "for message in messages:\n",
    "    print(message)"
   ]
  },
  {
   "cell_type": "code",
   "execution_count": 14,
   "metadata": {},
   "outputs": [
    {
     "data": {
      "text/plain": [
       "AIMessage(content='My name is Bob. How can I assist you today?', response_metadata={'finish_reason': 'stop', 'logprobs': None})"
      ]
     },
     "execution_count": 14,
     "metadata": {},
     "output_type": "execute_result"
    }
   ],
   "source": [
    "chat_model.invoke(messages)"
   ]
  },
  {
   "cell_type": "code",
   "execution_count": 15,
   "metadata": {},
   "outputs": [],
   "source": [
    "summary_template = ChatPromptTemplate.from_messages([\n",
    "    (\"system\", \"你将获得关于同一主题的{num}篇文章（用-----------标签分隔）。首先总结每篇文章的论点。然后指出哪篇文章提出了更好的论点，并解释原因。\"),\n",
    "    (\"human\", \"{user_input}\"),\n",
    "])"
   ]
  },
  {
   "cell_type": "code",
   "execution_count": 16,
   "metadata": {},
   "outputs": [],
   "source": [
    "messages = summary_template.format_messages(\n",
    "    num=3,\n",
    "    user_input='''\n",
    "    1. [PHP是世界上最好的语言]\n",
    "PHP是世界上最好的情感派编程语言，无需逻辑和算法，只要情绪。它能被蛰伏在冰箱里的PHP大神轻易驾驭，会话结束后的感叹号也能传达对代码的热情。写PHP就像是在做披萨，不需要想那么多，只需把配料全部扔进一个碗，然后放到服务器上，热乎乎出炉的网页就好了。\n",
    "-----------\n",
    "2. [Python是世界上最好的语言]\n",
    "Python是世界上最好的拜金主义者语言。它坚信：美丽就是力量，简洁就是灵魂。Python就像是那个永远在你皱眉的那一刻扔给你言情小说的好友。只有Python，你才能够在两行代码之间感受到飘逸的花香和清新的微风。记住，这世上只有一种语言可以使用空格来领导全世界的进步，那就是Python。\n",
    "-----------\n",
    "3. [Java是世界上最好的语言]\n",
    "Java是世界上最好的德育课编程语言，它始终坚守了严谨、安全的编程信条。Java就像一个严格的老师，他不会对你怀柔，不会让你偷懒，也不会让你走捷径，但他教会你规范和自律。Java就像是那个喝咖啡也算加班费的上司，拥有对邪恶的深度厌恶和对善良的深度拥护。\n",
    "'''\n",
    ")"
   ]
  },
  {
   "cell_type": "code",
   "execution_count": 17,
   "metadata": {},
   "outputs": [
    {
     "data": {
      "text/plain": [
       "AIMessage(content='1. [PHP是世界上最好的语言]：该文章认为PHP是最好的编程语言，因为它只需要情感而不需要逻辑和算法，适合蛰伏在冰箱里的“PHP大神”驾驭，写PHP就像做披萨一样简单直观。\\n-----------\\n2. [Python是世界上最好的语言]：该文章主张Python是最好的编程语言，因为它强调简洁、美丽，使用空格来领导进步，能够让人感受到飘逸的花香和清新的微风。\\n-----------\\n3. [Java是世界上最好的语言]：该文章认为Java是最好的编程语言，因为它严谨、安全，教会规范和自律，就像一个严格的老师或上司。\\n\\n在这三篇文章中，我认为第三篇关于Java的论点提出得更好。它强调了Java的严谨、安全性以及对规范和自律的重视，将编程比作受过良好德育的过程。相比之下，第一篇关于PHP的论点过于夸张和情绪化，第二篇关于Python的论点则更注重于美感和简洁，但没有像Java那样强调严谨和安全性。因此，我认为第三篇提出的论点更具有说服力和合理性。', response_metadata={'finish_reason': 'stop', 'logprobs': None})"
      ]
     },
     "execution_count": 17,
     "metadata": {},
     "output_type": "execute_result"
    }
   ],
   "source": [
    "chat_model.invoke(messages)"
   ]
  },
  {
   "cell_type": "code",
   "execution_count": 18,
   "metadata": {},
   "outputs": [
    {
     "name": "stdout",
     "output_type": "stream",
     "text": [
      "[SystemMessage(content='你将获得关于同一主题的2篇文章（用-----------标签分隔）。首先总结每篇文章的论点。然后指出哪篇文章提出了更好的论点，并解释原因。'), HumanMessage(content='1.认为“道可道”中的第一个“道”，指的是道理，如仁义礼智之类；“可道”中的“道”，指言说的意思；“常道”，指恒久存在的“道”。因此，所谓“道可道，非常道”，指的是可以言说的道理，不是恒久存在的“道”，恒久存在的“道”不可言说。如苏辙说：“莫非道也。而可道者不可常，惟不可道，而后可常耳。今夫仁义礼智，此道之可道者也。然而仁不可以为义，而礼不可以为智，可道之不可常如此。……而道常不变，不可道之能常如此。”蒋锡昌说：“此道为世人所习称之道，即今人所谓‘道理’也，第一‘道’字应从是解。《广雅·释诂》二：‘道，说也’，第二‘道’字应从是解。‘常’乃真常不易之义，在文法上为区别词。……第三‘道’字即二十五章‘道法自然’之‘道’，……乃老子学说之总名也”。陈鼓应说：“第一个‘道’字是人们习称之道，即今人所谓‘道理’。第二个‘道’字，是指言说的意思。第三个‘道’字，是老子哲学上的专有名词，在本章它意指构成宇宙的实体与动力。……‘常道’之‘常’，为真常、永恒之意。……可以用言词表达的道，就不是常道”。\\n-----------\\n2.认为“道可道”中的第一个“道”，指的是宇宙万物的本原；“可道”中的“道”，指言说的意思；“常道”，指恒久存在的“道”。因此，“道可道，非常道”，指可以言说的“道”，就不是恒久存在的“道”。如张默生说：“‘道’，指宇宙的本体而言。……‘常’，是经常不变的意思。……可以说出来的道，便不是经常不变的道”。董平说：“第一个‘道’字与‘可道’之‘道’，内涵并不相同。第一个‘道’字，是老子所揭示的作为宇宙本根之‘道’；‘可道’之‘道’，则是‘言说’的意思。……这里的大意就是说：凡一切可以言说之‘道’，都不是‘常道’或永恒之‘道’”。汤漳平等说：“第一句中的三个‘道’，第一、三均指形上之‘道’，中间的‘道’作动词，为可言之义。……道可知而可行，但非恒久不变之道”。\\n--------\\n3.认为“道可道”中的第一个“道”，指的是宇宙万物的本原；“可道”中的“道”，指言说的意思；“常道”，则指的是平常人所讲之道、常俗之道。因此，“道可道，非常道”，指“道”是可以言说的，但它不是平常人所谓的道或常俗之道。如李荣说：“道者，虚极之理也。夫论虚极之理，不可以有无分其象，不可以上下格其真。……圣人欲坦兹玄路，开以教门，借圆通之名，目虚极之理，以理可名，称之可道。故曰‘吾不知其名，字之曰道’。非常道者，非是人间常俗之道也。人间常俗之道，贵之以礼义，尚之以浮华，丧身以成名，忘己而徇利。”司马光说：“世俗之谈道者，皆曰道体微妙，不可名言。老子以为不然，曰道亦可言道耳，然非常人之所谓道也。……常人之所谓道者，凝滞于物。”裘锡圭说：“到目前为止，可以说，几乎从战国开始，大家都把‘可道’之‘道’……看成老子所否定的，把‘常道’‘常名’看成老子所肯定的。这种看法其实有它不合理的地方，……‘道’是可以说的。《老子》这个《道经》第一章，开宗明义是要讲他的‘道’。第一个‘道’字，理所应当，也是讲他要讲的‘道’：道是可以言说的。……那么这个‘恒’字应该怎么讲？我认为很简单，‘恒’字在古代作定语用，经常是‘平常’‘恒常’的意思。……‘道’是可以言说的，但是我要讲的这个‘道’，不是‘恒道’，它不是一般人所讲的‘道’。\\n')]\n"
     ]
    }
   ],
   "source": [
    "messages = summary_template.format_messages(\n",
    "    num=2,\n",
    "    user_input='''1.认为“道可道”中的第一个“道”，指的是道理，如仁义礼智之类；“可道”中的“道”，指言说的意思；“常道”，指恒久存在的“道”。因此，所谓“道可道，非常道”，指的是可以言说的道理，不是恒久存在的“道”，恒久存在的“道”不可言说。如苏辙说：“莫非道也。而可道者不可常，惟不可道，而后可常耳。今夫仁义礼智，此道之可道者也。然而仁不可以为义，而礼不可以为智，可道之不可常如此。……而道常不变，不可道之能常如此。”蒋锡昌说：“此道为世人所习称之道，即今人所谓‘道理’也，第一‘道’字应从是解。《广雅·释诂》二：‘道，说也’，第二‘道’字应从是解。‘常’乃真常不易之义，在文法上为区别词。……第三‘道’字即二十五章‘道法自然’之‘道’，……乃老子学说之总名也”。陈鼓应说：“第一个‘道’字是人们习称之道，即今人所谓‘道理’。第二个‘道’字，是指言说的意思。第三个‘道’字，是老子哲学上的专有名词，在本章它意指构成宇宙的实体与动力。……‘常道’之‘常’，为真常、永恒之意。……可以用言词表达的道，就不是常道”。\n",
    "-----------\n",
    "2.认为“道可道”中的第一个“道”，指的是宇宙万物的本原；“可道”中的“道”，指言说的意思；“常道”，指恒久存在的“道”。因此，“道可道，非常道”，指可以言说的“道”，就不是恒久存在的“道”。如张默生说：“‘道’，指宇宙的本体而言。……‘常’，是经常不变的意思。……可以说出来的道，便不是经常不变的道”。董平说：“第一个‘道’字与‘可道’之‘道’，内涵并不相同。第一个‘道’字，是老子所揭示的作为宇宙本根之‘道’；‘可道’之‘道’，则是‘言说’的意思。……这里的大意就是说：凡一切可以言说之‘道’，都不是‘常道’或永恒之‘道’”。汤漳平等说：“第一句中的三个‘道’，第一、三均指形上之‘道’，中间的‘道’作动词，为可言之义。……道可知而可行，但非恒久不变之道”。\n",
    "--------\n",
    "3.认为“道可道”中的第一个“道”，指的是宇宙万物的本原；“可道”中的“道”，指言说的意思；“常道”，则指的是平常人所讲之道、常俗之道。因此，“道可道，非常道”，指“道”是可以言说的，但它不是平常人所谓的道或常俗之道。如李荣说：“道者，虚极之理也。夫论虚极之理，不可以有无分其象，不可以上下格其真。……圣人欲坦兹玄路，开以教门，借圆通之名，目虚极之理，以理可名，称之可道。故曰‘吾不知其名，字之曰道’。非常道者，非是人间常俗之道也。人间常俗之道，贵之以礼义，尚之以浮华，丧身以成名，忘己而徇利。”司马光说：“世俗之谈道者，皆曰道体微妙，不可名言。老子以为不然，曰道亦可言道耳，然非常人之所谓道也。……常人之所谓道者，凝滞于物。”裘锡圭说：“到目前为止，可以说，几乎从战国开始，大家都把‘可道’之‘道’……看成老子所否定的，把‘常道’‘常名’看成老子所肯定的。这种看法其实有它不合理的地方，……‘道’是可以说的。《老子》这个《道经》第一章，开宗明义是要讲他的‘道’。第一个‘道’字，理所应当，也是讲他要讲的‘道’：道是可以言说的。……那么这个‘恒’字应该怎么讲？我认为很简单，‘恒’字在古代作定语用，经常是‘平常’‘恒常’的意思。……‘道’是可以言说的，但是我要讲的这个‘道’，不是‘恒道’，它不是一般人所讲的‘道’。\n",
    "'''\n",
    ")\n",
    "print(messages)"
   ]
  },
  {
   "cell_type": "code",
   "execution_count": 19,
   "metadata": {},
   "outputs": [
    {
     "name": "stdout",
     "output_type": "stream",
     "text": [
      "第一篇文章的论点是，“道可道”中的第一个“道”指的是可以言说的道理，而非恒久存在的道；第二个“道”指言说的意思；“常道”指恒久存在的道，不可言说。而第二篇文章的论点是，“道可道”中的第一个“道”指宇宙万物的本原；“可道”中的“道”指言说的意思；“常道”指恒久存在的道。因此，“道可道，非常道”表示可以言说的道不是恒久存在的道。\n",
      "\n",
      "第二篇文章提出了更好的论点。这是因为第二篇文章对“道”和“常道”的定义更加清晰和一致。它指出第一个“道”指宇宙的本原，而“可道”中的“道”指言说的意思，最后提到“常道”是恒久存在的道。这个观点更加连贯和易于理解，同时也更贴近老子哲学的本意。第一篇文章虽然提出了多种解释，但在逻辑上存在一些不一致之处，导致论点不够清晰。\n"
     ]
    }
   ],
   "source": [
    "chat_result = chat_model.invoke(messages)\n",
    "print(chat_result.content)"
   ]
  }
 ],
 "metadata": {
  "kernelspec": {
   "display_name": "Python 3",
   "language": "python",
   "name": "python3"
  },
  "language_info": {
   "codemirror_mode": {
    "name": "ipython",
    "version": 3
   },
   "file_extension": ".py",
   "mimetype": "text/x-python",
   "name": "python",
   "nbconvert_exporter": "python",
   "pygments_lexer": "ipython3",
   "version": "3.10.14"
  }
 },
 "nbformat": 4,
 "nbformat_minor": 2
}
